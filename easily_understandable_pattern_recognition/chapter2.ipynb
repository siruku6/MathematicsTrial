{
  "nbformat": 4,
  "nbformat_minor": 0,
  "metadata": {
    "colab": {
      "provenance": [],
      "collapsed_sections": [
        "TU0TXjfZD7Sy",
        "Tw5jwyepjTO9",
        "iG7k4SK-jXJ-",
        "g1caIzlJyX4k",
        "FXevtinVEizL"
      ],
      "authorship_tag": "ABX9TyOol5nCWO9VJosjAeTibqbg",
      "include_colab_link": true
    },
    "kernelspec": {
      "name": "python3",
      "display_name": "Python 3"
    },
    "language_info": {
      "name": "python"
    }
  },
  "cells": [
    {
      "cell_type": "markdown",
      "metadata": {
        "id": "view-in-github",
        "colab_type": "text"
      },
      "source": [
        "<a href=\"https://colab.research.google.com/github/siruku6/MethematicsTrial/blob/master/easily_understandable_pattern_recognition/chapter2.ipynb\" target=\"_parent\"><img src=\"https://colab.research.google.com/assets/colab-badge.svg\" alt=\"Open In Colab\"/></a>"
      ]
    },
    {
      "cell_type": "code",
      "source": [
        "import numpy as np\n"
      ],
      "metadata": {
        "id": "KJBhLM-cDVTP"
      },
      "execution_count": 1,
      "outputs": []
    },
    {
      "cell_type": "markdown",
      "source": [
        "# 第2章 事前確率と事後確率"
      ],
      "metadata": {
        "id": "NGgWvplljiOF"
      }
    },
    {
      "cell_type": "markdown",
      "source": [
        "## p.25"
      ],
      "metadata": {
        "id": "jXuDwHV7DQ5o"
      }
    },
    {
      "cell_type": "code",
      "source": [
        "# -------------- 前提条件 --------------\n",
        "# それぞれのコインの含有率\n",
        "pi_s = np.array([0.1, 0.4, 0.5])\n",
        "\n",
        "# それぞれのコインが表になる確率\n",
        "front_probs = np.array([0.8, 0.6, 0.3])\n",
        "\n",
        "# それぞれのコインが裏になる確率\n",
        "back_probs = 1 - front_probs\n",
        "\n",
        "# -------------- Bayesian update --------------\n",
        "def bayesian_update(front_or_back_probs, prior_probs) -> np.ndarray:\n",
        "    \"\"\"\n",
        "    ベイズ更新を1回だけ実行する関数\n",
        "    \"\"\"\n",
        "    posterior_probs = front_or_back_probs * prior_probs / sum(front_or_back_probs * prior_probs)\n",
        "    return posterior_probs\n"
      ],
      "metadata": {
        "id": "l0ur0vwN4nl7"
      },
      "execution_count": 2,
      "outputs": []
    },
    {
      "cell_type": "code",
      "source": [
        "# 1回だけベイズ更新すると\n",
        "posterior_probs = bayesian_update(front_probs, pi_s)\n",
        "posterior_probs"
      ],
      "metadata": {
        "colab": {
          "base_uri": "https://localhost:8080/"
        },
        "id": "o3Zt6Qns_XXi",
        "outputId": "766e60cd-7a4c-4beb-ce30-0e0e084bb0f3"
      },
      "execution_count": 3,
      "outputs": [
        {
          "output_type": "execute_result",
          "data": {
            "text/plain": [
              "array([0.17021277, 0.5106383 , 0.31914894])"
            ]
          },
          "metadata": {},
          "execution_count": 3
        }
      ]
    },
    {
      "cell_type": "markdown",
      "source": [
        "## p.33 10回ベイズ更新する"
      ],
      "metadata": {
        "id": "rowpixw3Damz"
      }
    },
    {
      "cell_type": "code",
      "source": [
        "posterior_probs = bayesian_update(front_probs, pi_s)\n",
        "posterior_probs = bayesian_update(front_probs, posterior_probs)\n",
        "posterior_probs = bayesian_update(front_probs, posterior_probs)\n",
        "posterior_probs = bayesian_update(front_probs, posterior_probs)\n",
        "posterior_probs = bayesian_update(back_probs, posterior_probs)\n",
        "posterior_probs = bayesian_update(front_probs, posterior_probs)\n",
        "posterior_probs = bayesian_update(front_probs, posterior_probs)\n",
        "posterior_probs = bayesian_update(back_probs, posterior_probs)\n",
        "posterior_probs = bayesian_update(front_probs, posterior_probs)\n",
        "posterior_probs = bayesian_update(back_probs, posterior_probs)\n",
        "posterior_probs"
      ],
      "metadata": {
        "colab": {
          "base_uri": "https://localhost:8080/"
        },
        "id": "sTqp7l0X7Jt3",
        "outputId": "aff8dee3-ab62-4cb3-ac80-5016329fc95b"
      },
      "execution_count": 4,
      "outputs": [
        {
          "output_type": "execute_result",
          "data": {
            "text/plain": [
              "array([0.18198217, 0.777334  , 0.04068383])"
            ]
          },
          "metadata": {},
          "execution_count": 4
        }
      ]
    },
    {
      "cell_type": "markdown",
      "source": [
        "## p.34 100回ベイズ更新する"
      ],
      "metadata": {
        "id": "wwG3gmfoDoY4"
      }
    },
    {
      "cell_type": "code",
      "source": [
        "series_coin_toss = [\"front\"] * 88 + [\"back\"] * 12\n",
        "# series_coin_toss = [\"front\"] * 7 + [\"back\"] * 3\n",
        "\n",
        "\n",
        "prior_probs = pi_s\n",
        "\n",
        "def continuous_bayesian_update(\n",
        "    prior_probs: np.ndarray, series_coin_toss: list\n",
        ") -> np.ndarray:\n",
        "\n",
        "    # NOTE: 一切の試行をする前なら、試行から得られる情報が何もないため、\n",
        "    #     事前確率がそのまま事後確率になる\n",
        "    posterior_probs = prior_probs\n",
        "\n",
        "    for cointoss_result in series_coin_toss:\n",
        "        if cointoss_result == \"front\":\n",
        "            probs = front_probs\n",
        "        elif cointoss_result == \"back\":\n",
        "            probs = back_probs\n",
        "\n",
        "        posterior_probs = bayesian_update(probs, prior_probs)\n",
        "        prior_probs = posterior_probs\n",
        "\n",
        "    return posterior_probs\n",
        "\n",
        "\n",
        "continuous_bayesian_update(prior_probs, series_coin_toss)"
      ],
      "metadata": {
        "colab": {
          "base_uri": "https://localhost:8080/"
        },
        "id": "0lWtkV_Pyahu",
        "outputId": "a20c072f-e783-48ce-87e1-9e9b332caaed"
      },
      "execution_count": 5,
      "outputs": [
        {
          "output_type": "execute_result",
          "data": {
            "text/plain": [
              "array([9.99999834e-01, 1.65886501e-07, 5.52761803e-31])"
            ]
          },
          "metadata": {},
          "execution_count": 5
        }
      ]
    },
    {
      "cell_type": "markdown",
      "source": [
        "書籍p.35の値とほぼ同じ結果になった"
      ],
      "metadata": {
        "id": "ronXV_RbYr1U"
      }
    }
  ]
}