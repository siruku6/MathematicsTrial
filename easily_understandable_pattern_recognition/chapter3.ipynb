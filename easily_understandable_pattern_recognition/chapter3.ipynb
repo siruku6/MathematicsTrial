{
  "nbformat": 4,
  "nbformat_minor": 0,
  "metadata": {
    "colab": {
      "provenance": [],
      "authorship_tag": "ABX9TyM24a2CFPCu5gRXIyyrsSDv",
      "include_colab_link": true
    },
    "kernelspec": {
      "name": "python3",
      "display_name": "Python 3"
    },
    "language_info": {
      "name": "python"
    },
    "widgets": {
      "application/vnd.jupyter.widget-state+json": {
        "19d5745da27344f1a0a9344ebe1c0be9": {
          "model_module": "@jupyter-widgets/controls",
          "model_name": "HBoxModel",
          "model_module_version": "1.5.0",
          "state": {
            "_dom_classes": [],
            "_model_module": "@jupyter-widgets/controls",
            "_model_module_version": "1.5.0",
            "_model_name": "HBoxModel",
            "_view_count": null,
            "_view_module": "@jupyter-widgets/controls",
            "_view_module_version": "1.5.0",
            "_view_name": "HBoxView",
            "box_style": "",
            "children": [
              "IPY_MODEL_74d2a439dfd545338010cd057fd08b63",
              "IPY_MODEL_51c70ccb8723430b88f9482a78f00d85",
              "IPY_MODEL_d974d5e1a66946bb8ae8de8e5a354502"
            ],
            "layout": "IPY_MODEL_d59c356d774748ff8c09d08c424c94d7"
          }
        },
        "74d2a439dfd545338010cd057fd08b63": {
          "model_module": "@jupyter-widgets/controls",
          "model_name": "HTMLModel",
          "model_module_version": "1.5.0",
          "state": {
            "_dom_classes": [],
            "_model_module": "@jupyter-widgets/controls",
            "_model_module_version": "1.5.0",
            "_model_name": "HTMLModel",
            "_view_count": null,
            "_view_module": "@jupyter-widgets/controls",
            "_view_module_version": "1.5.0",
            "_view_name": "HTMLView",
            "description": "",
            "description_tooltip": null,
            "layout": "IPY_MODEL_c3623c4167164456aeca375bca2b3dc5",
            "placeholder": "​",
            "style": "IPY_MODEL_b33a965e214d46cb877d8ee035e1a917",
            "value": "100%"
          }
        },
        "51c70ccb8723430b88f9482a78f00d85": {
          "model_module": "@jupyter-widgets/controls",
          "model_name": "FloatProgressModel",
          "model_module_version": "1.5.0",
          "state": {
            "_dom_classes": [],
            "_model_module": "@jupyter-widgets/controls",
            "_model_module_version": "1.5.0",
            "_model_name": "FloatProgressModel",
            "_view_count": null,
            "_view_module": "@jupyter-widgets/controls",
            "_view_module_version": "1.5.0",
            "_view_name": "ProgressView",
            "bar_style": "success",
            "description": "",
            "description_tooltip": null,
            "layout": "IPY_MODEL_6af840664f6b43e7a5b934b3144b52ef",
            "max": 101,
            "min": 0,
            "orientation": "horizontal",
            "style": "IPY_MODEL_e55d01df0fc949ac87464694e54480f4",
            "value": 101
          }
        },
        "d974d5e1a66946bb8ae8de8e5a354502": {
          "model_module": "@jupyter-widgets/controls",
          "model_name": "HTMLModel",
          "model_module_version": "1.5.0",
          "state": {
            "_dom_classes": [],
            "_model_module": "@jupyter-widgets/controls",
            "_model_module_version": "1.5.0",
            "_model_name": "HTMLModel",
            "_view_count": null,
            "_view_module": "@jupyter-widgets/controls",
            "_view_module_version": "1.5.0",
            "_view_name": "HTMLView",
            "description": "",
            "description_tooltip": null,
            "layout": "IPY_MODEL_263d384195464b099cfd46e0adbd3752",
            "placeholder": "​",
            "style": "IPY_MODEL_7a0d61c54d07435193399526851727ad",
            "value": " 101/101 [00:02&lt;00:00, 22.44it/s]"
          }
        },
        "d59c356d774748ff8c09d08c424c94d7": {
          "model_module": "@jupyter-widgets/base",
          "model_name": "LayoutModel",
          "model_module_version": "1.2.0",
          "state": {
            "_model_module": "@jupyter-widgets/base",
            "_model_module_version": "1.2.0",
            "_model_name": "LayoutModel",
            "_view_count": null,
            "_view_module": "@jupyter-widgets/base",
            "_view_module_version": "1.2.0",
            "_view_name": "LayoutView",
            "align_content": null,
            "align_items": null,
            "align_self": null,
            "border": null,
            "bottom": null,
            "display": null,
            "flex": null,
            "flex_flow": null,
            "grid_area": null,
            "grid_auto_columns": null,
            "grid_auto_flow": null,
            "grid_auto_rows": null,
            "grid_column": null,
            "grid_gap": null,
            "grid_row": null,
            "grid_template_areas": null,
            "grid_template_columns": null,
            "grid_template_rows": null,
            "height": null,
            "justify_content": null,
            "justify_items": null,
            "left": null,
            "margin": null,
            "max_height": null,
            "max_width": null,
            "min_height": null,
            "min_width": null,
            "object_fit": null,
            "object_position": null,
            "order": null,
            "overflow": null,
            "overflow_x": null,
            "overflow_y": null,
            "padding": null,
            "right": null,
            "top": null,
            "visibility": null,
            "width": null
          }
        },
        "c3623c4167164456aeca375bca2b3dc5": {
          "model_module": "@jupyter-widgets/base",
          "model_name": "LayoutModel",
          "model_module_version": "1.2.0",
          "state": {
            "_model_module": "@jupyter-widgets/base",
            "_model_module_version": "1.2.0",
            "_model_name": "LayoutModel",
            "_view_count": null,
            "_view_module": "@jupyter-widgets/base",
            "_view_module_version": "1.2.0",
            "_view_name": "LayoutView",
            "align_content": null,
            "align_items": null,
            "align_self": null,
            "border": null,
            "bottom": null,
            "display": null,
            "flex": null,
            "flex_flow": null,
            "grid_area": null,
            "grid_auto_columns": null,
            "grid_auto_flow": null,
            "grid_auto_rows": null,
            "grid_column": null,
            "grid_gap": null,
            "grid_row": null,
            "grid_template_areas": null,
            "grid_template_columns": null,
            "grid_template_rows": null,
            "height": null,
            "justify_content": null,
            "justify_items": null,
            "left": null,
            "margin": null,
            "max_height": null,
            "max_width": null,
            "min_height": null,
            "min_width": null,
            "object_fit": null,
            "object_position": null,
            "order": null,
            "overflow": null,
            "overflow_x": null,
            "overflow_y": null,
            "padding": null,
            "right": null,
            "top": null,
            "visibility": null,
            "width": null
          }
        },
        "b33a965e214d46cb877d8ee035e1a917": {
          "model_module": "@jupyter-widgets/controls",
          "model_name": "DescriptionStyleModel",
          "model_module_version": "1.5.0",
          "state": {
            "_model_module": "@jupyter-widgets/controls",
            "_model_module_version": "1.5.0",
            "_model_name": "DescriptionStyleModel",
            "_view_count": null,
            "_view_module": "@jupyter-widgets/base",
            "_view_module_version": "1.2.0",
            "_view_name": "StyleView",
            "description_width": ""
          }
        },
        "6af840664f6b43e7a5b934b3144b52ef": {
          "model_module": "@jupyter-widgets/base",
          "model_name": "LayoutModel",
          "model_module_version": "1.2.0",
          "state": {
            "_model_module": "@jupyter-widgets/base",
            "_model_module_version": "1.2.0",
            "_model_name": "LayoutModel",
            "_view_count": null,
            "_view_module": "@jupyter-widgets/base",
            "_view_module_version": "1.2.0",
            "_view_name": "LayoutView",
            "align_content": null,
            "align_items": null,
            "align_self": null,
            "border": null,
            "bottom": null,
            "display": null,
            "flex": null,
            "flex_flow": null,
            "grid_area": null,
            "grid_auto_columns": null,
            "grid_auto_flow": null,
            "grid_auto_rows": null,
            "grid_column": null,
            "grid_gap": null,
            "grid_row": null,
            "grid_template_areas": null,
            "grid_template_columns": null,
            "grid_template_rows": null,
            "height": null,
            "justify_content": null,
            "justify_items": null,
            "left": null,
            "margin": null,
            "max_height": null,
            "max_width": null,
            "min_height": null,
            "min_width": null,
            "object_fit": null,
            "object_position": null,
            "order": null,
            "overflow": null,
            "overflow_x": null,
            "overflow_y": null,
            "padding": null,
            "right": null,
            "top": null,
            "visibility": null,
            "width": null
          }
        },
        "e55d01df0fc949ac87464694e54480f4": {
          "model_module": "@jupyter-widgets/controls",
          "model_name": "ProgressStyleModel",
          "model_module_version": "1.5.0",
          "state": {
            "_model_module": "@jupyter-widgets/controls",
            "_model_module_version": "1.5.0",
            "_model_name": "ProgressStyleModel",
            "_view_count": null,
            "_view_module": "@jupyter-widgets/base",
            "_view_module_version": "1.2.0",
            "_view_name": "StyleView",
            "bar_color": null,
            "description_width": ""
          }
        },
        "263d384195464b099cfd46e0adbd3752": {
          "model_module": "@jupyter-widgets/base",
          "model_name": "LayoutModel",
          "model_module_version": "1.2.0",
          "state": {
            "_model_module": "@jupyter-widgets/base",
            "_model_module_version": "1.2.0",
            "_model_name": "LayoutModel",
            "_view_count": null,
            "_view_module": "@jupyter-widgets/base",
            "_view_module_version": "1.2.0",
            "_view_name": "LayoutView",
            "align_content": null,
            "align_items": null,
            "align_self": null,
            "border": null,
            "bottom": null,
            "display": null,
            "flex": null,
            "flex_flow": null,
            "grid_area": null,
            "grid_auto_columns": null,
            "grid_auto_flow": null,
            "grid_auto_rows": null,
            "grid_column": null,
            "grid_gap": null,
            "grid_row": null,
            "grid_template_areas": null,
            "grid_template_columns": null,
            "grid_template_rows": null,
            "height": null,
            "justify_content": null,
            "justify_items": null,
            "left": null,
            "margin": null,
            "max_height": null,
            "max_width": null,
            "min_height": null,
            "min_width": null,
            "object_fit": null,
            "object_position": null,
            "order": null,
            "overflow": null,
            "overflow_x": null,
            "overflow_y": null,
            "padding": null,
            "right": null,
            "top": null,
            "visibility": null,
            "width": null
          }
        },
        "7a0d61c54d07435193399526851727ad": {
          "model_module": "@jupyter-widgets/controls",
          "model_name": "DescriptionStyleModel",
          "model_module_version": "1.5.0",
          "state": {
            "_model_module": "@jupyter-widgets/controls",
            "_model_module_version": "1.5.0",
            "_model_name": "DescriptionStyleModel",
            "_view_count": null,
            "_view_module": "@jupyter-widgets/base",
            "_view_module_version": "1.2.0",
            "_view_name": "StyleView",
            "description_width": ""
          }
        }
      }
    }
  },
  "cells": [
    {
      "cell_type": "markdown",
      "metadata": {
        "id": "view-in-github",
        "colab_type": "text"
      },
      "source": [
        "<a href=\"https://colab.research.google.com/github/siruku6/MethematicsTrial/blob/master/easily_understandable_pattern_recognition/chapter3.ipynb\" target=\"_parent\"><img src=\"https://colab.research.google.com/assets/colab-badge.svg\" alt=\"Open In Colab\"/></a>"
      ]
    },
    {
      "cell_type": "code",
      "source": [
        "import math\n",
        "\n",
        "import matplotlib.pyplot as plt\n",
        "import numpy as np\n",
        "import pandas as pd\n",
        "from tqdm.notebook import tqdm\n"
      ],
      "metadata": {
        "id": "KJBhLM-cDVTP"
      },
      "execution_count": 36,
      "outputs": []
    },
    {
      "cell_type": "markdown",
      "source": [
        "# 第3章 ベイズ決定則"
      ],
      "metadata": {
        "id": "9153X0XwZuY2"
      }
    },
    {
      "cell_type": "markdown",
      "source": [
        "## p.42"
      ],
      "metadata": {
        "id": "p2vzNoUVZu_k"
      }
    },
    {
      "cell_type": "code",
      "source": [
        "# -------------- 前提条件 --------------\n",
        "# それぞれのコインの含有率\n",
        "pi_s = np.array([0.1, 0.4, 0.5])\n",
        "\n",
        "# それぞれのコインが表になる確率\n",
        "front_probs = np.array([0.8, 0.6, 0.3])\n",
        "\n",
        "# それぞれのコインが裏になる確率\n",
        "back_probs = 1 - front_probs"
      ],
      "metadata": {
        "id": "bN8mFvmTZreH"
      },
      "execution_count": 6,
      "outputs": []
    },
    {
      "cell_type": "markdown",
      "source": [
        "## 2章で作った関数"
      ],
      "metadata": {
        "id": "FGPa96z4ahX2"
      }
    },
    {
      "cell_type": "code",
      "source": [
        "# -------------- Bayesian update --------------\n",
        "def bayesian_update(front_or_back_probs, prior_probs) -> np.ndarray:\n",
        "    \"\"\"\n",
        "    ベイズ更新を1回だけ実行する関数\n",
        "    \"\"\"\n",
        "    posterior_probs = front_or_back_probs * prior_probs / sum(front_or_back_probs * prior_probs)\n",
        "    return posterior_probs\n",
        "\n",
        "\n",
        "def continuous_bayesian_update(\n",
        "    prior_probs: np.ndarray, series_coin_toss: list\n",
        ") -> np.ndarray:\n",
        "\n",
        "    # NOTE: 一切の試行をする前なら、試行から得られる情報が何もないため、\n",
        "    #     事前確率がそのまま事後確率になる\n",
        "    posterior_probs = prior_probs\n",
        "\n",
        "    for cointoss_result in series_coin_toss:\n",
        "        if cointoss_result == \"front\":\n",
        "            probs = front_probs\n",
        "        elif cointoss_result == \"back\":\n",
        "            probs = back_probs\n",
        "\n",
        "        posterior_probs = bayesian_update(probs, prior_probs)\n",
        "        prior_probs = posterior_probs\n",
        "\n",
        "    return posterior_probs"
      ],
      "metadata": {
        "id": "tfrEE57dZ3Kx"
      },
      "execution_count": 7,
      "outputs": []
    },
    {
      "cell_type": "markdown",
      "source": [
        "## p.39 ~ 42 3-2 事後確率最大化"
      ],
      "metadata": {
        "id": "FmLyI22Wagmn"
      }
    },
    {
      "cell_type": "code",
      "source": [
        "available_front_counts = np.arange(11)\n",
        "prior_probs = pi_s\n",
        "\n",
        "posterior_probs_dict = {}\n",
        "\n",
        "for front_count in available_front_counts:\n",
        "    back_count = 10 - front_count\n",
        "    series_coin_toss = [\"front\"] * front_count + [\"back\"] * back_count\n",
        "\n",
        "    posterior_probs = continuous_bayesian_update(prior_probs, series_coin_toss)\n",
        "    posterior_probs_dict[front_count] = posterior_probs\n",
        "\n",
        "posterior_probs_dict"
      ],
      "metadata": {
        "id": "l0ur0vwN4nl7",
        "colab": {
          "base_uri": "https://localhost:8080/"
        },
        "outputId": "43417c36-4ed1-4020-db83-8d0129e12a78"
      },
      "execution_count": 8,
      "outputs": [
        {
          "output_type": "execute_result",
          "data": {
            "text/plain": [
              "{0: array([7.22872052e-07, 2.96088393e-03, 9.97038393e-01]),\n",
              " 1: array([6.69719146e-06, 1.02868861e-02, 9.89706417e-01]),\n",
              " 2: array([6.09365998e-05, 3.50994815e-02, 9.64839582e-01]),\n",
              " 3: array([5.22617226e-04, 1.12885321e-01, 8.86592062e-01]),\n",
              " 4: array([0.0037913 , 0.30709491, 0.68911379]),\n",
              " 5: array([0.01966587, 0.59735088, 0.38298325]),\n",
              " 6: array([0.06907423, 0.78679862, 0.14412716]),\n",
              " 7: array([0.18198217, 0.777334  , 0.04068383]),\n",
              " 8: array([0.3808422 , 0.61003556, 0.00912224]),\n",
              " 9: array([0.62373543, 0.37466383, 0.00160074]),\n",
              " 10: array([8.15974145e-01, 1.83801488e-01, 2.24367051e-04])}"
            ]
          },
          "metadata": {},
          "execution_count": 8
        }
      ]
    },
    {
      "cell_type": "code",
      "source": [
        "result_10 = pd.DataFrame.from_dict(posterior_probs_dict, orient=\"index\")\n",
        "plt.plot(result_10[0], label=\"coin 1\")\n",
        "plt.plot(result_10[1], label=\"coin 2\")\n",
        "plt.plot(result_10[2], label=\"coin 3\")\n",
        "plt.xlabel(\"the number of front side appeared\")\n",
        "plt.ylabel(\"posterior probability\")\n",
        "plt.legend()\n",
        "plt.show()"
      ],
      "metadata": {
        "colab": {
          "base_uri": "https://localhost:8080/",
          "height": 279
        },
        "id": "1H8Vs9aYaOG8",
        "outputId": "2a05955e-e1f2-45d7-956e-c94c978eafa3"
      },
      "execution_count": 13,
      "outputs": [
        {
          "output_type": "display_data",
          "data": {
            "text/plain": [
              "<Figure size 432x288 with 1 Axes>"
            ],
            "image/png": "[encoded data removed]"
          },
          "metadata": {
            "needs_background": "light"
          }
        }
      ]
    },
    {
      "cell_type": "markdown",
      "source": [
        "p.42のグラフとほぼ同じ結果になった"
      ],
      "metadata": {
        "id": "v9ESV5R_atrP"
      }
    },
    {
      "cell_type": "markdown",
      "source": [
        "## p.43 ~ 45 事後確率の効果"
      ],
      "metadata": {
        "id": "4PyKQQBka3BP"
      }
    },
    {
      "cell_type": "code",
      "source": [
        "available_front_counts = np.arange(101)\n",
        "prior_probs = pi_s\n",
        "\n",
        "posterior_probs_dict = {}\n",
        "\n",
        "for front_count in available_front_counts:\n",
        "    back_count = 100 - front_count\n",
        "    series_coin_toss = [\"front\"] * front_count + [\"back\"] * back_count\n",
        "\n",
        "    posterior_probs = continuous_bayesian_update(prior_probs, series_coin_toss)\n",
        "    posterior_probs_dict[front_count] = posterior_probs\n",
        "\n",
        "result_100 = pd.DataFrame.from_dict(posterior_probs_dict, orient=\"index\")\n",
        "\n",
        "plt.plot(result_100[0], label=\"coin 1\")\n",
        "plt.plot(result_100[1], label=\"coin 2\")\n",
        "plt.plot(result_100[2], label=\"coin 3\")\n",
        "plt.xlabel(\"the number of front side appeared\")\n",
        "plt.ylabel(\"posterior probability\")\n",
        "plt.legend()\n",
        "plt.show()"
      ],
      "metadata": {
        "colab": {
          "base_uri": "https://localhost:8080/",
          "height": 279
        },
        "id": "VCIYr2Hfa5VP",
        "outputId": "5bdc4853-eaf4-41ae-ca1a-63bfe6c0ca87"
      },
      "execution_count": 14,
      "outputs": [
        {
          "output_type": "display_data",
          "data": {
            "text/plain": [
              "<Figure size 432x288 with 1 Axes>"
            ],
            "image/png": "[encoded data removed]"
          },
          "metadata": {
            "needs_background": "light"
          }
        }
      ]
    },
    {
      "cell_type": "code",
      "source": [
        "probability_of_error = 1 - result_10.max(axis=1)"
      ],
      "metadata": {
        "id": "KWnfHby7a7Pv"
      },
      "execution_count": null,
      "outputs": []
    },
    {
      "cell_type": "markdown",
      "source": [
        "## p.45~ 3-4 ベイズ誤り確率"
      ],
      "metadata": {
        "id": "r_Dnes6wb84m"
      }
    },
    {
      "cell_type": "code",
      "source": [
        "def number_of_combinations(n: int, r: int) -> int:\n",
        "    \"\"\"\n",
        "    組み合わせの数を計算する\n",
        "    ------\n",
        "    n: int ... total_num\n",
        "    r: int ... subset_num\n",
        "    \"\"\"\n",
        "    return math.factorial(n) / (math.factorial(r) * math.factorial(n - r))\n",
        "\n",
        "\n",
        "def bernoulli_probability(n: int, r: int, theta: float):\n",
        "    \"\"\"\n",
        "    ベルヌーイ確率を計算する\n",
        "    \"\"\"\n",
        "    return number_of_combinations(n, r) * ((theta ** r) * ((1 - theta) ** (n - r))) \n"
      ],
      "metadata": {
        "id": "c1mDI5e-a8Ym"
      },
      "execution_count": 22,
      "outputs": []
    },
    {
      "cell_type": "code",
      "source": [
        "# 動作確認\n",
        "number_of_combinations(5, 4)"
      ],
      "metadata": {
        "colab": {
          "base_uri": "https://localhost:8080/"
        },
        "id": "91TJcQwsbuJD",
        "outputId": "7a24554a-17f2-44e4-b79e-64e86cd74a4e"
      },
      "execution_count": 25,
      "outputs": [
        {
          "output_type": "execute_result",
          "data": {
            "text/plain": [
              "5.0"
            ]
          },
          "metadata": {},
          "execution_count": 25
        }
      ]
    },
    {
      "cell_type": "code",
      "source": [
        "# 動作確認\n",
        "bernoulli_probability(10, 7, 0.5)"
      ],
      "metadata": {
        "colab": {
          "base_uri": "https://localhost:8080/"
        },
        "id": "4Ll21U0XbvYr",
        "outputId": "fe732894-8402-4c64-9f6f-a68eb84ccf91"
      },
      "execution_count": 24,
      "outputs": [
        {
          "output_type": "execute_result",
          "data": {
            "text/plain": [
              "0.1171875"
            ]
          },
          "metadata": {},
          "execution_count": 24
        }
      ]
    },
    {
      "cell_type": "code",
      "source": [
        "def probabilities_of_front(n: int, r: int, prior_probs: np.ndarray, front_probs: np.ndarray) -> np.ndarray:\n",
        "    \"\"\"\n",
        "    コインが表がr回出る確率を計算する\n",
        "    ------\n",
        "    n: ベルヌーイ試行の試行回数\n",
        "    r: 試行中の成功回数\n",
        "    prior_probs: 事前確率 - 各コインの含有率（出現確率）\n",
        "    front_probs: 各コインの表が出る確率\n",
        "        example) np.array([0.3, 0.5, 0.2])\n",
        "\n",
        "    Returns\n",
        "    ---------\n",
        "    コインの表がr回出る確率\n",
        "    \"\"\"\n",
        "    assert prior_probs.shape == front_probs.shape\n",
        "\n",
        "    prior_probs * bernoulli_probability(n, r, front_probs)\n",
        "    return sum(prior_probs * bernoulli_probability(n, r, front_probs))\n",
        "\n",
        "\n",
        "def bayes_error(n, pi_s, front_probs) -> pd.DataFrame:\n",
        "    \"\"\"\n",
        "    ベイズ誤り確率を計算\n",
        "    \"\"\"\n",
        "    available_front_counts = np.arange(n + 1)\n",
        "    prior_probs = pi_s\n",
        "\n",
        "    posterior_probs_dict = {}\n",
        "\n",
        "    e_b_r_s = []\n",
        "    for front_count in available_front_counts:\n",
        "        back_count = n - front_count\n",
        "        series_coin_toss = [\"front\"] * front_count + [\"back\"] * back_count\n",
        "\n",
        "        posterior_probs = continuous_bayesian_update(prior_probs, series_coin_toss)\n",
        "        probability_of_error = 1 - posterior_probs.max()\n",
        "        e_b_r = probability_of_error * probabilities_of_front(n, front_count, pi_s, front_probs)\n",
        "        e_b_r_s.append(e_b_r)\n",
        "\n",
        "    return sum(e_b_r_s)\n"
      ],
      "metadata": {
        "id": "RIreiH4kcGpB"
      },
      "execution_count": 29,
      "outputs": []
    },
    {
      "cell_type": "code",
      "source": [
        "# 動作確認\n",
        "probabilities_of_front(10, 10, pi_s, front_probs)"
      ],
      "metadata": {
        "colab": {
          "base_uri": "https://localhost:8080/"
        },
        "id": "651Ug3MMcNy2",
        "outputId": "7cd2a293-8fba-4d18-963c-71bf17434e15"
      },
      "execution_count": 30,
      "outputs": [
        {
          "output_type": "execute_result",
          "data": {
            "text/plain": [
              "0.013159017730000005"
            ]
          },
          "metadata": {},
          "execution_count": 30
        }
      ]
    },
    {
      "cell_type": "code",
      "source": [
        "# 動作確認 (10回コインを投げた場合)\n",
        "bayes_error(10, pi_s, front_probs)"
      ],
      "metadata": {
        "colab": {
          "base_uri": "https://localhost:8080/"
        },
        "id": "Hde5by2acP0c",
        "outputId": "83a1452d-7a6f-43dd-a5cf-c43c77fa66bf"
      },
      "execution_count": 33,
      "outputs": [
        {
          "output_type": "execute_result",
          "data": {
            "text/plain": [
              "0.22259161013999995"
            ]
          },
          "metadata": {},
          "execution_count": 33
        }
      ]
    },
    {
      "cell_type": "code",
      "source": [
        "# 本番 (100回コインを投げた場合)\n",
        "bayes_error(100, pi_s, front_probs)"
      ],
      "metadata": {
        "colab": {
          "base_uri": "https://localhost:8080/"
        },
        "id": "mBbB5HK3chfk",
        "outputId": "3b71bf83-f891-4324-b510-fc7e6c3b55a2"
      },
      "execution_count": 34,
      "outputs": [
        {
          "output_type": "execute_result",
          "data": {
            "text/plain": [
              "0.006150932942506913"
            ]
          },
          "metadata": {},
          "execution_count": 34
        }
      ]
    },
    {
      "cell_type": "code",
      "source": [
        "# コイン投げ回数0回から100回それぞれの場合の、ベイズ誤り確率を計算\n",
        "\n",
        "zero_to_100 = np.arange(0, 101)\n",
        "\n",
        "bayes_errors = []\n",
        "for num_of_trial in tqdm(zero_to_100):\n",
        "    bayes_errors.append(bayes_error(num_of_trial, pi_s, front_probs))\n",
        "\n",
        "plt.plot(bayes_errors, label=\"rate of bayes error\")\n",
        "plt.xlabel(\"number of trial\")\n",
        "plt.ylabel(\"probability\")\n",
        "plt.show()"
      ],
      "metadata": {
        "colab": {
          "base_uri": "https://localhost:8080/",
          "height": 311,
          "referenced_widgets": [
            "19d5745da27344f1a0a9344ebe1c0be9",
            "74d2a439dfd545338010cd057fd08b63",
            "51c70ccb8723430b88f9482a78f00d85",
            "d974d5e1a66946bb8ae8de8e5a354502",
            "d59c356d774748ff8c09d08c424c94d7",
            "c3623c4167164456aeca375bca2b3dc5",
            "b33a965e214d46cb877d8ee035e1a917",
            "6af840664f6b43e7a5b934b3144b52ef",
            "e55d01df0fc949ac87464694e54480f4",
            "263d384195464b099cfd46e0adbd3752",
            "7a0d61c54d07435193399526851727ad"
          ]
        },
        "id": "iHEfXIokcoYG",
        "outputId": "aa9dfaf2-f6fb-4db5-cc0d-0dad6333b2f7"
      },
      "execution_count": 37,
      "outputs": [
        {
          "output_type": "display_data",
          "data": {
            "text/plain": [
              "  0%|          | 0/101 [00:00<?, ?it/s]"
            ],
            "application/vnd.jupyter.widget-view+json": {
              "version_major": 2,
              "version_minor": 0,
              "model_id": "19d5745da27344f1a0a9344ebe1c0be9"
            }
          },
          "metadata": {}
        },
        {
          "output_type": "display_data",
          "data": {
            "text/plain": [
              "<Figure size 432x288 with 1 Axes>"
            ],
            "image/png": "[encoded data removed]"
          },
          "metadata": {
            "needs_background": "light"
          }
        }
      ]
    },
    {
      "cell_type": "markdown",
      "source": [
        "p.48のグラフとほぼ同じ結果になった"
      ],
      "metadata": {
        "id": "NTK-8YRRdCw1"
      }
    }
  ]
}