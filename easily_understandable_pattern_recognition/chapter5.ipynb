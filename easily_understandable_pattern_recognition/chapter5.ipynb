{
  "nbformat": 4,
  "nbformat_minor": 0,
  "metadata": {
    "colab": {
      "provenance": [],
      "collapsed_sections": [
        "Tw5jwyepjTO9",
        "iG7k4SK-jXJ-",
        "g1caIzlJyX4k",
        "x1ZnmZTLiVkH",
        "7fwWsZ-glBcm",
        "0Rmmjg3suuGh",
        "FXevtinVEizL"
      ],
      "authorship_tag": "ABX9TyMy1ClfUTRwIsxCeUMJwEDc",
      "include_colab_link": true
    },
    "kernelspec": {
      "name": "python3",
      "display_name": "Python 3"
    },
    "language_info": {
      "name": "python"
    }
  },
  "cells": [
    {
      "cell_type": "markdown",
      "metadata": {
        "id": "view-in-github",
        "colab_type": "text"
      },
      "source": [
        "<a href=\"https://colab.research.google.com/github/siruku6/MethematicsTrial/blob/master/easily_understandable_pattern_recognition/chapter5.ipynb\" target=\"_parent\"><img src=\"https://colab.research.google.com/assets/colab-badge.svg\" alt=\"Open In Colab\"/></a>"
      ]
    },
    {
      "cell_type": "code",
      "source": [
        "# import math\n",
        "\n",
        "import numpy as np\n",
        "import pandas as pd\n",
        "import matplotlib.pyplot as plt\n",
        "from tqdm.notebook import tqdm"
      ],
      "metadata": {
        "id": "KJBhLM-cDVTP"
      },
      "execution_count": 1,
      "outputs": []
    },
    {
      "cell_type": "markdown",
      "source": [
        "# 第5章 教師付き学習と教師なし学習"
      ],
      "metadata": {
        "id": "0Rmmjg3suuGh"
      }
    },
    {
      "cell_type": "markdown",
      "source": [
        "## 前提条件"
      ],
      "metadata": {
        "id": "Fb64n1H-FUkI"
      }
    },
    {
      "cell_type": "code",
      "source": [
        "pis = [0.1, 0.4, 0.5]\n",
        "thetas = np.array([0.8, 0.6, 0.3])\n",
        "\n",
        "num_of_rounds = 10_000\n"
      ],
      "metadata": {
        "id": "-KkRwTg_u3uR"
      },
      "execution_count": 2,
      "outputs": []
    },
    {
      "cell_type": "markdown",
      "source": [
        "## 実験用データ生成\n",
        "\n",
        "p.95に記載の実験条件と実験結果に従って生成する"
      ],
      "metadata": {
        "id": "4icL27uGA9p1"
      }
    },
    {
      "cell_type": "code",
      "source": [
        "def select_dices(pis: list, num: int = 10) -> np.ndarray:\n",
        "    \"\"\"\n",
        "    pisで指定した確率に基づいて、num回diceを取り出す\n",
        "\n",
        "    Parameters\n",
        "    ------\n",
        "    pis: list\n",
        "        それぞれのdiceの含有率\n",
        "        Example: [0.2, 0.3, 0.5]\n",
        "\n",
        "    num: int\n",
        "        diceを取り出す回数\n",
        "        Example: 100\n",
        "\n",
        "    Return\n",
        "    ------\n",
        "    count_of_selected_dices: np.ndarray\n",
        "        それぞれのdiceが選択された回数\n",
        "        Example: np.array([12, 36, 52])\n",
        "    \"\"\"\n",
        "    available_dices = [0, 1, 2]\n",
        "    selected_dices = np.random.choice(a=available_dices, size=num, p=pis)\n",
        "    count_of_selected_dices = np.bincount(selected_dices)\n",
        "    return count_of_selected_dices\n",
        "\n",
        "\n",
        "def count_face_of_dices(thetas: list, num_of_selected_dices: np.ndarray) -> np.ndarray:\n",
        "    \"\"\"\n",
        "    thetasで指定した確率に基づいて、diceを振った結果を返す\n",
        "\n",
        "    Parameters\n",
        "    ------\n",
        "    thetas: list\n",
        "        それぞれのdiceが奇数の目を出す確率\n",
        "        Example: [0.2, 0.3, 0.5]\n",
        "\n",
        "    num_of_selected_dices: np.ndarray\n",
        "        それぞれのdiceが選択された個数\n",
        "        Example: np.array([12, 36, 52])\n",
        "\n",
        "    Return\n",
        "    ------\n",
        "    count_of_selected_dices: np.ndarray\n",
        "        それぞれのdiceを振った結果を連結したもの\n",
        "        1次元配列になっている\n",
        "        Example: np.array([0, 1, 0, 0 ..., 1])\n",
        "    \"\"\"\n",
        "    num_face_of_dices = np.array([])\n",
        "    for dice_no, count in enumerate(num_of_selected_dices):\n",
        "        # サイコロの奇数の目が出る確率\n",
        "        theta = thetas[dice_no]\n",
        "\n",
        "        # 各サイコロ毎に、まとめて振る\n",
        "        # たとえば、①のサイコロが88回選ばれているなら、①のサイコロだけを一気に88回振る\n",
        "        face_of_dices = np.random.choice([0, 1], size=count , p=[theta, 1 - theta])\n",
        "        num_face_of_dices = np.append(num_face_of_dices, face_of_dices)\n",
        "    return num_face_of_dices\n",
        "\n",
        "\n",
        "num_of_selected_dices = select_dices(pis, num_of_rounds)\n",
        "# 出たサイコロの目の総リスト\n",
        "x = count_face_of_dices(thetas, num_of_selected_dices)\n",
        "\n",
        "# 選ばれたサイコロの総リスト\n",
        "s = (\n",
        "    [0] * num_of_selected_dices[0]\n",
        "     + [1] * num_of_selected_dices[1]\n",
        "     + [2] * num_of_selected_dices[2]\n",
        ")\n",
        " \n",
        "\n",
        "# x, s ともに、サイコロの種類ごとにソートされてしまっているので、シャッフルする\n",
        "index_of_dices_series = np.arange(0, 10000)\n",
        "np.random.shuffle(index_of_dices_series)\n",
        "\n",
        "shuffled_x = pd.Series(x)[index_of_dices_series].astype(int)\n",
        "shuffled_s = pd.Series(s)[index_of_dices_series].astype(int)\n",
        "\n",
        "\n",
        "print(\"それぞれのサイコロが取り出された回数: \")\n",
        "print(\"1...\", num_of_selected_dices[0])\n",
        "print(\"2...\", num_of_selected_dices[1])\n",
        "print(\"3...\", num_of_selected_dices[2])\n",
        "print(\"サイコロ1を振った結果\", np.bincount(pd.Series(x)[0:num_of_selected_dices[0]]))\n",
        "print(\"サイコロ2を振った結果\", np.bincount(pd.Series(x)[num_of_selected_dices[0] + 1:-num_of_selected_dices[2] + 1]))\n",
        "print(\"サイコロ3を振った結果\", np.bincount(pd.Series(x)[-num_of_selected_dices[2]:]))"
      ],
      "metadata": {
        "colab": {
          "base_uri": "https://localhost:8080/"
        },
        "id": "IJbTJAieyWX1",
        "outputId": "4bbf0616-9c5c-4144-ec1d-736e3c84defc"
      },
      "execution_count": 3,
      "outputs": [
        {
          "output_type": "stream",
          "name": "stdout",
          "text": [
            "それぞれのサイコロが取り出された回数: \n",
            "1... 963\n",
            "2... 3990\n",
            "3... 5047\n",
            "サイコロ1を振った結果 [764 199]\n",
            "サイコロ2を振った結果 [2417 1573]\n",
            "サイコロ3を振った結果 [1555 3492]\n"
          ]
        }
      ]
    },
    {
      "cell_type": "markdown",
      "source": [
        "## p.83 教師付き学習\n",
        "\n",
        "\n",
        "難しい内容ではなく、そこまで時間をかけるべきところではなかったので、ほぼ以下の記事に載っていた通りにコピーさせていただいた\n",
        "\n",
        "- [Qiita / 続・わかりやすい　パターン認識　教師なし学習入門　アルゴリズムのサンプルコードを書いてみた](https://qiita.com/akiraichi5430/items/60ce2829a1b72dce5bca#5%E7%AB%A0%E6%95%99%E5%B8%AB%E4%BB%98%E3%81%8D%E5%AD%A6%E7%BF%92%E6%95%99%E5%B8%AB%E3%81%AA%E3%81%97%E5%AD%A6%E7%BF%92)"
      ],
      "metadata": {
        "id": "FXevtinVEizL"
      }
    },
    {
      "cell_type": "code",
      "source": [
        "class SupervisedLearning(object):\n",
        "    def __init__(self):\n",
        "        self.pi = None\n",
        "        self.theta = None\n",
        "        self.n = None\n",
        "\n",
        "    def fit(self, x, s):\n",
        "        self.n = self.__count(x, s)\n",
        "        self.pi = self.n.sum(axis=1) / self.n.sum()\n",
        "        self.theta = self.n / np.tile(self.n.sum(axis=1), (self.n.shape[1], 1)).T\n",
        "\n",
        "    @staticmethod\n",
        "    def __count(x, s):\n",
        "        n = np.zeros((max(s) + 1, max(x) + 1))\n",
        "        for x_, s_ in zip(x, s):\n",
        "            n[s_][x_] += 1\n",
        "        return n\n",
        "\n",
        "\n",
        "supervised = SupervisedLearning()\n",
        "supervised.fit(shuffled_x, shuffled_s)\n",
        "print(f\"pi: {supervised.pi}\")\n",
        "print(f\"theta: {supervised.theta}\")"
      ],
      "metadata": {
        "id": "BIPaRa4I0zjK",
        "colab": {
          "base_uri": "https://localhost:8080/"
        },
        "outputId": "1596353a-b537-4191-9ee1-be6c85ed15de"
      },
      "execution_count": 4,
      "outputs": [
        {
          "output_type": "stream",
          "name": "stdout",
          "text": [
            "pi: [0.0963 0.399  0.5047]\n",
            "theta: [[0.7933541  0.2066459 ]\n",
            " [0.60551378 0.39448622]\n",
            " [0.30810382 0.69189618]]\n"
          ]
        }
      ]
    },
    {
      "cell_type": "markdown",
      "source": [
        "## p.86 教師なし学習\n",
        "\n",
        "こちらが本命の勉強したかった処理の1つ\n",
        "\n",
        "まずは、step1 から step4 まで、1stepずつ実装していく"
      ],
      "metadata": {
        "id": "cVjvkIrFE7Qt"
      }
    },
    {
      "cell_type": "markdown",
      "source": [
        "### step 1\n",
        "\n",
        "- $\\pi_i$に対して仮の初期値を与える  \n",
        "値はp.95に従う\n",
        "- $\\theta_{ik}は既知とする$"
      ],
      "metadata": {
        "id": "m3O4xrcPGXrM"
      }
    },
    {
      "cell_type": "code",
      "source": [
        "initial_pi_estimations = np.array([0.3, 0.5, 0.2])\n",
        "print(\"π(初期値): \", initial_pi_estimations)\n",
        "print(\"θ(既知)\", thetas)"
      ],
      "metadata": {
        "colab": {
          "base_uri": "https://localhost:8080/"
        },
        "id": "eqCdJER6FDMf",
        "outputId": "067908de-721e-45f6-df73-7d9a336b6614"
      },
      "execution_count": 5,
      "outputs": [
        {
          "output_type": "stream",
          "name": "stdout",
          "text": [
            "π(初期値):  [0.3 0.5 0.2]\n",
            "θ(既知) [0.8 0.6 0.3]\n"
          ]
        }
      ]
    },
    {
      "cell_type": "markdown",
      "source": [
        "### step 2\n",
        "\n",
        "$$\n",
        "P(\\omega_i|v_k) = \\frac{\\pi_i * \\theta_{ik}}{\\sum^c_{j=1} \\pi_j * \\theta_{jk}}\n",
        "$$\n",
        "\n",
        "を計算する\n"
      ],
      "metadata": {
        "id": "t4qeDRnmGdHt"
      }
    },
    {
      "cell_type": "code",
      "source": [
        "# TODO: check\n",
        "def step2(initial_pis, thetas) -> np.ndarray:\n",
        "    pi_x_theta = initial_pi_estimations * np.array([thetas, 1 - thetas])\n",
        "    sum_pi_x_theta = np.sum(pi_x_theta, axis=1)\n",
        "    p_omega_v = (pi_x_theta) / np.tile(sum_pi_x_theta, (3, 1)).T\n",
        "    return p_omega_v\n",
        "\n",
        "\n",
        "p = step2(initial_pi_estimations, thetas)\n",
        "p"
      ],
      "metadata": {
        "colab": {
          "base_uri": "https://localhost:8080/"
        },
        "id": "ACGwGgrPGe12",
        "outputId": "24ddfbac-1cd5-4438-a021-1463b1bd8b1e"
      },
      "execution_count": 6,
      "outputs": [
        {
          "output_type": "execute_result",
          "data": {
            "text/plain": [
              "array([[0.4 , 0.5 , 0.1 ],\n",
              "       [0.15, 0.5 , 0.35]])"
            ]
          },
          "metadata": {},
          "execution_count": 6
        }
      ]
    },
    {
      "cell_type": "code",
      "source": [
        "pi_x_theta = initial_pi_estimations * np.array([thetas, 1 - thetas])\n",
        "pi_x_theta"
      ],
      "metadata": {
        "colab": {
          "base_uri": "https://localhost:8080/"
        },
        "id": "n0JVShnFg9ly",
        "outputId": "feee896b-565b-4562-de0f-6255282124ee"
      },
      "execution_count": 7,
      "outputs": [
        {
          "output_type": "execute_result",
          "data": {
            "text/plain": [
              "array([[0.24, 0.3 , 0.06],\n",
              "       [0.06, 0.2 , 0.14]])"
            ]
          },
          "metadata": {},
          "execution_count": 7
        }
      ]
    },
    {
      "cell_type": "markdown",
      "source": [
        "### step 3-1\n",
        "\n",
        "$$\n",
        "\\hat\\pi_i = \\frac{1}{n} \\sum^m_{k=1} r_k * P(\\omega_i|v_k)\n",
        "$$\n",
        "\n",
        "を計算する\n"
      ],
      "metadata": {
        "id": "KazqawasItr0"
      }
    },
    {
      "cell_type": "code",
      "source": [
        "print(\"サイコロ1を振った結果\", np.bincount(pd.Series(x)[0:num_of_selected_dices[0]]))\n",
        "print(\"サイコロ2を振った結果\", np.bincount(pd.Series(x)[num_of_selected_dices[0] + 1:-num_of_selected_dices[2] + 1]))\n",
        "print(\"サイコロ3を振った結果\", np.bincount(pd.Series(x)[-num_of_selected_dices[2]:]))\n",
        "print(\"より、\\n\")\n",
        "\n",
        "r_k = np.array([\n",
        "    np.bincount(pd.Series(x)[0:num_of_selected_dices[0]]),\n",
        "    np.bincount(pd.Series(x)[num_of_selected_dices[0] + 1:-num_of_selected_dices[2] + 1]),\n",
        "    np.bincount(pd.Series(x)[-num_of_selected_dices[2]:])\n",
        "])\n",
        "print(\"r_k: \\n\", np.sum(r_k, axis=0))\n",
        "print(\"r_k_T: \\n\", np.sum(r_k, axis=0).reshape(-1, 1))\n",
        "\n",
        "# p_omega_v = np.array([p, 1 - p])\n",
        "print(\"p_omega_v: \\n\", p)\n",
        "\n",
        "\n",
        "def step3_1(n: int, r_k: np.ndarray, p_omega_v: np.ndarray) -> np.ndarray:\n",
        "    pi_i_hat = np.sum(r_k * p_omega_v, axis=0) / n\n",
        "    return pi_i_hat\n",
        "\n",
        "\n",
        "pi_i_hat = step3_1(10000, np.sum(r_k, axis=0).reshape(-1, 1), p)\n",
        "print(\"pi_i_hat:\", pi_i_hat)"
      ],
      "metadata": {
        "colab": {
          "base_uri": "https://localhost:8080/"
        },
        "id": "QpLApCbNItb5",
        "outputId": "5c7183c2-1b47-4d52-b514-330ef39280bd"
      },
      "execution_count": 8,
      "outputs": [
        {
          "output_type": "stream",
          "name": "stdout",
          "text": [
            "サイコロ1を振った結果 [764 199]\n",
            "サイコロ2を振った結果 [2417 1573]\n",
            "サイコロ3を振った結果 [1555 3492]\n",
            "より、\n",
            "\n",
            "r_k: \n",
            " [4736 5264]\n",
            "r_k_T: \n",
            " [[4736]\n",
            " [5264]]\n",
            "p_omega_v: \n",
            " [[0.4  0.5  0.1 ]\n",
            " [0.15 0.5  0.35]]\n",
            "pi_i_hat: [0.2684 0.5    0.2316]\n"
          ]
        }
      ]
    },
    {
      "cell_type": "markdown",
      "source": [
        "### step 3-2\n",
        "\n",
        "$$\n",
        "\\hat{P}(\\omega_i|v_k) = \\frac{\\hat\\pi_i * \\theta_{ik}}{\\sum^c_{j=1} \\hat\\pi_j * \\theta_{jk}}\n",
        "$$\n",
        "\n",
        "を計算する"
      ],
      "metadata": {
        "id": "AYTTFmiRRY8k"
      }
    },
    {
      "cell_type": "code",
      "source": [
        "def step3_2_P_hat(pi_hat, thetas) -> np.ndarray:\n",
        "    p_hat = (pi_hat * np.array(thetas)) / sum(pi_hat * np.array(thetas))\n",
        "    return p_hat\n",
        "\n",
        "\n",
        "def step3_2_theta_hat(r_k, P_hat) -> np.ndarray:\n",
        "    theta_hat = (r_k * P_hat) / np.tile(np.sum(r_k * P_hat, axis=0), (2, 1))\n",
        "    return theta_hat\n",
        "\n",
        "\n",
        "p_hat = step3_2_P_hat(pi_i_hat, thetas)\n",
        "P_hat = np.array([p_hat, 1 - p_hat])\n",
        "\n",
        "print(\"p_hat:\\n\", p_hat)\n",
        "print(\"P_hat:\\n\", P_hat)\n",
        "\n",
        "theta_hat = step3_2_theta_hat(np.transpose(r_k), P_hat)\n",
        "theta_hat"
      ],
      "metadata": {
        "colab": {
          "base_uri": "https://localhost:8080/"
        },
        "id": "rJUCUJvDRzp7",
        "outputId": "3e7074bf-57b0-4278-834a-0f38c6bb147b"
      },
      "execution_count": 9,
      "outputs": [
        {
          "output_type": "stream",
          "name": "stdout",
          "text": [
            "p_hat:\n",
            " [0.36754536 0.51352277 0.11893187]\n",
            "P_hat:\n",
            " [[0.36754536 0.51352277 0.11893187]\n",
            " [0.63245464 0.48647723 0.88106813]]\n"
          ]
        },
        {
          "output_type": "execute_result",
          "data": {
            "text/plain": [
              "array([[0.69050926, 0.61860863, 0.05670144],\n",
              "       [0.30949074, 0.38139137, 0.94329856]])"
            ]
          },
          "metadata": {},
          "execution_count": 9
        }
      ]
    },
    {
      "cell_type": "markdown",
      "source": [
        "### step 4\n",
        "\n",
        "$$\n",
        "\\pi_i = \\hat\\pi_i \\\\\n",
        "\\theta_{ik} = \\hat\\theta_{ik}\n",
        "$$"
      ],
      "metadata": {
        "id": "8pxLZr6rRJut"
      }
    },
    {
      "cell_type": "code",
      "source": [
        "pi = pi_i_hat\n",
        "theta = theta_hat"
      ],
      "metadata": {
        "id": "kqkMyzRgYGW8"
      },
      "execution_count": 10,
      "outputs": []
    },
    {
      "cell_type": "markdown",
      "source": [
        "### まとめ\n",
        "\n",
        "ここまでの step 1 ~ step 4 をまとめて繰り返し実行できるようにする"
      ],
      "metadata": {
        "id": "VlF-OSqhWi5Z"
      }
    },
    {
      "cell_type": "code",
      "source": [
        "r_k = np.array([\n",
        "    np.bincount(pd.Series(x)[0:num_of_selected_dices[0]]),\n",
        "    np.bincount(pd.Series(x)[num_of_selected_dices[0] + 1:-num_of_selected_dices[2] + 1]),\n",
        "    np.bincount(pd.Series(x)[-num_of_selected_dices[2]:])\n",
        "])\n",
        "r_k_T = np.sum(r_k, axis=0).reshape(-1, 1)\n",
        "print(\"r_k_T:\", r_k_T)\n",
        "\n",
        "# step1\n",
        "initial_pi_estimations = np.array([0.3, 0.5, 0.2])\n",
        "thetas\n",
        "\n",
        "\n",
        "class UnsupervisedLearning:\n",
        "    def __init__(\n",
        "        self,\n",
        "        n: int,\n",
        "        initial_pi_hat: np.ndarray,\n",
        "        initial_theta_hat: np.ndarray,\n",
        "        r_k_T: np.ndarray\n",
        "    ):\n",
        "        self.n = n\n",
        "        self.pi_hat = initial_pi_hat\n",
        "        self.theta_hat = initial_theta_hat\n",
        "        self.r_k_T = r_k_T\n",
        "\n",
        "    def fit(self):\n",
        "        epsilon = 1e-8\n",
        "        variation = np.array([1, 1, 1])\n",
        "        num_round = 0\n",
        "        pi_hat_hist = np.array([self.pi_hat])\n",
        "\n",
        "        while((np.abs(variation) > epsilon).any()):\n",
        "            num_round += 1\n",
        "\n",
        "            # step2\n",
        "            p = self.step2()\n",
        "\n",
        "            # step3\n",
        "            pi_i_hat = self.step3_1(p)\n",
        "            P_hat = self.step3_2_P_hat(pi_i_hat)\n",
        "            theta_hat = self.step3_2_theta_hat(P_hat)\n",
        "\n",
        "            variation = pi_i_hat - self.pi_hat\n",
        "\n",
        "            # step4\n",
        "            self.pi_hat = pi_i_hat\n",
        "            # 今回は更新しない theta は既知として扱うため\n",
        "            # p.95の実験条件の5項目目を参照\n",
        "            #   注) \"step3は省いた\"と記載されているが、おそらく\"step3-2省いた\"が正しいと思われる\n",
        "            # theta = theta_hat\n",
        "\n",
        "            pi_hat_hist = np.concatenate([pi_hat_hist, [self.pi_hat]], axis=0)\n",
        "            print(num_round, \"pi_hat:\", self.pi_hat, \"max variation:\", max(variation))\n",
        "\n",
        "        self.pi_hat_hist = pi_hat_hist\n",
        "\n",
        "    def step2(self) -> np.ndarray:\n",
        "        pi_x_theta = self.pi_hat * np.array([self.theta_hat, 1 - self.theta_hat])\n",
        "        sum_pi_x_theta = np.sum(pi_x_theta, axis=1)\n",
        "        p_omega_v = (pi_x_theta) / np.tile(sum_pi_x_theta, (3, 1)).T\n",
        "        return p_omega_v\n",
        "\n",
        "    def step3_1(self, p_omega_v: np.ndarray) -> np.ndarray:\n",
        "        pi_i_hat = np.sum(self.r_k_T * p_omega_v, axis=0) / self.n\n",
        "        return pi_i_hat\n",
        "\n",
        "    def step3_2_P_hat(self, pi_hat: np.ndarray) -> np.ndarray:\n",
        "        p_hat = (pi_hat * np.array(self.theta_hat)) / sum(pi_hat * np.array(self.theta_hat))\n",
        "        return p_hat\n",
        "\n",
        "    def step3_2_theta_hat(self, P_hat: np.ndarray) -> np.ndarray:\n",
        "        theta_hat = (self.r_k_T * P_hat) / np.tile(np.sum(self.r_k_T * P_hat, axis=0), (2, 1))\n",
        "        return theta_hat\n",
        "\n",
        "\n",
        "model = UnsupervisedLearning(10000, initial_pi_estimations, thetas, r_k_T)\n",
        "model.fit()"
      ],
      "metadata": {
        "colab": {
          "base_uri": "https://localhost:8080/"
        },
        "id": "al2xea1-Ni85",
        "outputId": "015e820e-33c4-4d18-e796-03d763ba8bf1"
      },
      "execution_count": 20,
      "outputs": [
        {
          "output_type": "stream",
          "name": "stdout",
          "text": [
            "r_k_T: [[4736]\n",
            " [5264]]\n",
            "1 pi_hat: [0.2684 0.5    0.2316] max variation: 0.031599999999999934\n",
            "2 pi_hat: [0.242028   0.49640304 0.26156896] max variation: 0.029968963168141544\n",
            "3 pi_hat: [0.2201433  0.49053732 0.28931938] max variation: 0.02775041739982359\n",
            "4 pi_hat: [0.20202739 0.48342605 0.31454656] max variation: 0.025227180995082754\n",
            "5 pi_hat: [0.18703335 0.47580288 0.33716377] max variation: 0.022617209271705963\n",
            "6 pi_hat: [0.17460475 0.46816137 0.35723388] max variation: 0.02007010463377107\n",
            "7 pi_hat: [0.16427649 0.46081229 0.37491123] max variation: 0.01767735033114337\n",
            "8 pi_hat: [0.15566653 0.45393533 0.39039814] max variation: 0.015486911415984905\n",
            "9 pi_hat: [0.14846422 0.44762061 0.40391517] max variation: 0.013517031235734056\n",
            "10 pi_hat: [0.14241816 0.44189946 0.41568238] max variation: 0.011767206959970467\n",
            "11 pi_hat: [0.13732521 0.43676633 0.42590846] max variation: 0.01022608404162978\n",
            "12 pi_hat: [0.13302101 0.43219378 0.43478521] max variation: 0.008876748926858247\n",
            "13 pi_hat: [0.12937226 0.42814245 0.44248529] max variation: 0.0077000794341424705\n",
            "14 pi_hat: [0.12627044 0.42456752 0.44916204] max variation: 0.006676749260624948\n",
            "15 pi_hat: [0.12362683 0.42142279 0.45495038] max variation: 0.005788347251853787\n",
            "16 pi_hat: [0.12136853 0.41866315 0.45996832] max variation: 0.005017938238534025\n",
            "17 pi_hat: [0.1194354  0.41624599 0.46431861] max variation: 0.004350285203553794\n",
            "18 pi_hat: [0.11777759 0.41413193 0.46809048] max variation: 0.0037718750456317562\n",
            "19 pi_hat: [0.11635356 0.41228512 0.47136132] max variation: 0.0032708372676056308\n",
            "20 pi_hat: [0.11512858 0.41067329 0.47419813] max variation: 0.0028368101096312714\n",
            "21 pi_hat: [0.11407349 0.40926759 0.47665892] max variation: 0.002460786386014935\n",
            "22 pi_hat: [0.11316372 0.40804241 0.47879387] max variation: 0.0021349573630949914\n",
            "23 pi_hat: [0.11237847 0.40697509 0.48064644] max variation: 0.001852564489462305\n",
            "24 pi_hat: [0.11170013 0.40604567 0.4822542 ] max variation: 0.0016077636839317844\n",
            "25 pi_hat: [0.1111137  0.4052366  0.48364971] max variation: 0.0013955039132786395\n",
            "26 pi_hat: [0.11060638 0.40453249 0.48486113] max variation: 0.0012114201273609182\n",
            "27 pi_hat: [0.11016727 0.40391987 0.48591287] max variation: 0.0010517397450332533\n",
            "28 pi_hat: [0.10978699 0.40338695 0.48682607] max variation: 0.0009132014773968744\n",
            "29 pi_hat: [0.10945751 0.40292343 0.48761905] max variation: 0.0007929851368490004\n",
            "30 pi_hat: [0.10917195 0.40252034 0.4883077 ] max variation: 0.0006886510905713128\n",
            "31 pi_hat: [0.10892437 0.40216984 0.48890579] max variation: 0.0005980881034584606\n",
            "32 pi_hat: [0.10870965 0.40186509 0.48942526] max variation: 0.0005194684358303947\n",
            "33 pi_hat: [0.10852338 0.40160015 0.48987647] max variation: 0.00045120919163610385\n",
            "34 pi_hat: [0.10836177 0.40136983 0.49026841] max variation: 0.00039193904021023185\n",
            "35 pi_hat: [0.10822151 0.40116961 0.49060888] max variation: 0.00034046955252214905\n",
            "36 pi_hat: [0.10809977 0.40099558 0.49090465] max variation: 0.00029577049852586024\n",
            "37 pi_hat: [0.10799408 0.40084432 0.4911616 ] max variation: 0.0002569485450702458\n",
            "38 pi_hat: [0.10790233 0.40071285 0.49138483] max variation: 0.00022322887440273664\n",
            "39 pi_hat: [0.10782265 0.40059858 0.49157877] max variation: 0.00019393931262862152\n",
            "40 pi_hat: [0.10775347 0.40049927 0.49174726] max variation: 0.0001684966168506441\n",
            "41 pi_hat: [0.10769338 0.40041296 0.49189366] max variation: 0.00014639462038984474\n",
            "42 pi_hat: [0.10764119 0.40033796 0.49202085] max variation: 0.00012719397866922666\n",
            "43 pi_hat: [0.10759586 0.40027277 0.49213136] max variation: 0.000110513295133563\n",
            "44 pi_hat: [0.10755649 0.40021613 0.49222739] max variation: 9.602143791692663e-05\n",
            "45 pi_hat: [0.10752229 0.4001669  0.49231082] max variation: 8.343088469481286e-05\n",
            "46 pi_hat: [0.10749257 0.40012412 0.49238331] max variation: 7.249195595199209e-05\n",
            "47 pi_hat: [0.10746676 0.40008694 0.4924463 ] max variation: 6.298781638419682e-05\n",
            "48 pi_hat: [0.10744434 0.40005464 0.49250103] max variation: 5.473014081763816e-05\n",
            "49 pi_hat: [0.10742485 0.40002656 0.49254858] max variation: 4.755535529588073e-05\n",
            "50 pi_hat: [0.10740793 0.40000217 0.4925899 ] max variation: 4.132137624196508e-05\n",
            "51 pi_hat: [0.10739322 0.39998097 0.49262581] max variation: 3.590478110382378e-05\n",
            "52 pi_hat: [0.10738044 0.39996255 0.49265701] max variation: 3.119835293841078e-05\n",
            "53 pi_hat: [0.10736934 0.39994654 0.49268411] max variation: 2.7108949169241114e-05\n",
            "54 pi_hat: [0.1073597  0.39993263 0.49270767] max variation: 2.3555651458895266e-05\n",
            "55 pi_hat: [0.10735131 0.39992055 0.49272814] max variation: 2.046815941214586e-05\n",
            "56 pi_hat: [0.10734403 0.39991004 0.49274592] max variation: 1.778539582919514e-05\n",
            "57 pi_hat: [0.10733771 0.39990092 0.49276138] max variation: 1.545429552934907e-05\n",
            "58 pi_hat: [0.10733221 0.39989299 0.49277481] max variation: 1.3428753496469437e-05\n",
            "59 pi_hat: [0.10732743 0.39988609 0.49278648] max variation: 1.166871132546321e-05\n",
            "60 pi_hat: [0.10732328 0.39988011 0.49279662] max variation: 1.0139363731509476e-05\n",
            "61 pi_hat: [0.10731967 0.3998749  0.49280543] max variation: 8.810469307563018e-06\n",
            "62 pi_hat: [0.10731654 0.39987038 0.49281308] max variation: 7.655751804003241e-06\n",
            "63 pi_hat: [0.10731381 0.39986645 0.49281973] max variation: 6.652380020677473e-06\n",
            "64 pi_hat: [0.10731145 0.39986304 0.49282551] max variation: 5.7805159719426236e-06\n",
            "65 pi_hat: [0.10730939 0.39986007 0.49283054] max variation: 5.022922350272907e-06\n",
            "66 pi_hat: [0.10730761 0.39985749 0.4928349 ] max variation: 4.364621498331722e-06\n",
            "67 pi_hat: [0.10730605 0.39985525 0.49283869] max variation: 3.792599121643647e-06\n",
            "68 pi_hat: [0.1073047  0.39985331 0.49284199] max variation: 3.2955468669548793e-06\n",
            "69 pi_hat: [0.10730353 0.39985161 0.49284485] max variation: 2.863638665584478e-06\n",
            "70 pi_hat: [0.10730251 0.39985014 0.49284734] max variation: 2.488336407646674e-06\n",
            "71 pi_hat: [0.10730163 0.39984887 0.4928495 ] max variation: 2.1622210996663505e-06\n",
            "72 pi_hat: [0.10730086 0.39984776 0.49285138] max variation: 1.8788461615404373e-06\n",
            "73 pi_hat: [0.10730019 0.39984679 0.49285302] max variation: 1.6326099596675192e-06\n",
            "74 pi_hat: [0.10729961 0.39984596 0.49285443] max variation: 1.4186450506548098e-06\n",
            "75 pi_hat: [0.10729911 0.39984523 0.49285567] max variation: 1.2327219454100202e-06\n",
            "76 pi_hat: [0.10729867 0.39984459 0.49285674] max variation: 1.0711654905293244e-06\n",
            "77 pi_hat: [0.10729829 0.39984404 0.49285767] max variation: 9.307822104176466e-07\n",
            "78 pi_hat: [0.10729796 0.39984357 0.49285848] max variation: 8.087971731796095e-07\n",
            "79 pi_hat: [0.10729767 0.39984315 0.49285918] max variation: 7.02799134333354e-07\n",
            "80 pi_hat: [0.10729742 0.39984279 0.49285979] max variation: 6.106928677751533e-07\n",
            "81 pi_hat: [0.1072972  0.39984248 0.49286032] max variation: 5.306577486319242e-07\n",
            "82 pi_hat: [0.10729701 0.39984221 0.49286078] max variation: 4.6111176205121396e-07\n",
            "83 pi_hat: [0.10729685 0.39984197 0.49286118] max variation: 4.006802302725099e-07\n",
            "84 pi_hat: [0.10729671 0.39984176 0.49286153] max variation: 3.4816863936359965e-07\n",
            "85 pi_hat: [0.10729658 0.39984158 0.49286183] max variation: 3.0253902588706083e-07\n",
            "86 pi_hat: [0.10729647 0.39984143 0.4928621 ] max variation: 2.628894598122322e-07\n",
            "87 pi_hat: [0.10729638 0.39984129 0.49286233] max variation: 2.2843621599877295e-07\n",
            "88 pi_hat: [0.1072963  0.39984118 0.49286252] max variation: 1.9849828225559918e-07\n",
            "89 pi_hat: [0.10729623 0.39984108 0.4928627 ] max variation: 1.7248389827528854e-07\n",
            "90 pi_hat: [0.10729617 0.39984099 0.49286285] max variation: 1.4987885771367004e-07\n",
            "91 pi_hat: [0.10729611 0.39984091 0.49286298] max variation: 1.302363443755894e-07\n",
            "92 pi_hat: [0.10729607 0.39984084 0.49286309] max variation: 1.13168100723815e-07\n",
            "93 pi_hat: [0.10729603 0.39984078 0.49286319] max variation: 9.833675285175758e-08\n",
            "94 pi_hat: [0.10729599 0.39984073 0.49286327] max variation: 8.544914159580586e-08\n",
            "95 pi_hat: [0.10729596 0.39984069 0.49286335] max variation: 7.425052855891678e-08\n",
            "96 pi_hat: [0.10729594 0.39984065 0.49286341] max variation: 6.451956024999816e-08\n",
            "97 pi_hat: [0.10729591 0.39984062 0.49286347] max variation: 5.606389319456895e-08\n",
            "98 pi_hat: [0.10729589 0.39984059 0.49286352] max variation: 4.8716390921299535e-08\n",
            "99 pi_hat: [0.10729588 0.39984057 0.49286356] max variation: 4.233182249180345e-08\n",
            "100 pi_hat: [0.10729586 0.39984054 0.4928636 ] max variation: 3.678398913242731e-08\n",
            "101 pi_hat: [0.10729585 0.39984052 0.49286363] max variation: 3.196323222764974e-08\n",
            "102 pi_hat: [0.10729584 0.39984051 0.49286366] max variation: 2.7774263722246673e-08\n",
            "103 pi_hat: [0.10729583 0.39984049 0.49286368] max variation: 2.4134283904686527e-08\n",
            "104 pi_hat: [0.10729582 0.39984048 0.4928637 ] max variation: 2.0971345104925376e-08\n",
            "105 pi_hat: [0.10729581 0.39984047 0.49286372] max variation: 1.8222927722355564e-08\n",
            "106 pi_hat: [0.1072958  0.39984046 0.49286374] max variation: 1.583470665700304e-08\n",
            "107 pi_hat: [0.1072958  0.39984045 0.49286375] max variation: 1.3759475947505706e-08\n",
            "108 pi_hat: [0.10729579 0.39984045 0.49286376] max variation: 1.1956216350306192e-08\n",
            "109 pi_hat: [0.10729579 0.39984044 0.49286377] max variation: 1.0389284377243513e-08\n",
            "110 pi_hat: [0.10729578 0.39984043 0.49286378] max variation: 9.02770819211085e-09\n"
          ]
        }
      ]
    },
    {
      "cell_type": "code",
      "source": [
        "result = pd.DataFrame(model.pi_hat_hist) \\\n",
        "           .rename(columns={0: \"pi1\", 1: \"pi2\", 2: \"pi3\"})\n",
        "\n",
        "result.plot()\n",
        "plt.xlabel(\"cycle count\")\n",
        "plt.ylabel(\"Estimation of probability\")"
      ],
      "metadata": {
        "id": "Yi0epDvOmVaE",
        "colab": {
          "base_uri": "https://localhost:8080/",
          "height": 296
        },
        "outputId": "71103075-10da-4e8d-b4db-389284c2e625"
      },
      "execution_count": 12,
      "outputs": [
        {
          "output_type": "execute_result",
          "data": {
            "text/plain": [
              "Text(0, 0.5, 'Estimation of probability')"
            ]
          },
          "metadata": {},
          "execution_count": 12
        },
        {
          "output_type": "display_data",
          "data": {
            "text/plain": [
              "<Figure size 432x288 with 1 Axes>"
            ],
            "image/png": "[encoded data removed]"
          },
          "metadata": {
            "needs_background": "light"
          }
        }
      ]
    },
    {
      "cell_type": "markdown",
      "source": [
        "### おまけに\n",
        "\n",
        "p.96の $\\log_{}P(\\textbf{x})$ も計算してグラフを出したいので、それも付け加える。\n",
        "\n",
        "\n",
        "$\\log_{}P(\\textbf{x})$ は、p.87の(5.51)式と(5.53)式から、以下のように導出できる。\n",
        "\n",
        "\n",
        "$$\n",
        "\\log_{}P(\\textbf{x}) = \\sum^m_{k=1} r_k * \\log_{}P(v_k)\\\\\n",
        "= \\sum^m_{k=1} r_k * \\log \\left(\\sum^c_{i=1} \\pi_i * \\theta_{ik} \\right)\n",
        "$$\n"
      ],
      "metadata": {
        "id": "g2fwhouFW8aS"
      }
    },
    {
      "cell_type": "markdown",
      "source": [
        "要素1個ずつ計算してみる"
      ],
      "metadata": {
        "id": "AFjFXsg7jAC5"
      }
    },
    {
      "cell_type": "code",
      "source": [
        "# r_k\n",
        "np.sum(r_k, axis=0)"
      ],
      "metadata": {
        "colab": {
          "base_uri": "https://localhost:8080/"
        },
        "id": "ZwOs_7R6W9RL",
        "outputId": "e6866cee-8a89-4617-8535-07d5ba8ebc02"
      },
      "execution_count": 13,
      "outputs": [
        {
          "output_type": "execute_result",
          "data": {
            "text/plain": [
              "array([4736, 5264])"
            ]
          },
          "metadata": {},
          "execution_count": 13
        }
      ]
    },
    {
      "cell_type": "code",
      "source": [
        "# sum(pi_i * theta_ik)\n",
        "pi_x_theta = initial_pi_estimations * np.array([thetas, 1 - thetas])\n",
        "sum_pi_x_theta = np.sum(pi_x_theta, axis=1)\n",
        "sum_pi_x_theta"
      ],
      "metadata": {
        "colab": {
          "base_uri": "https://localhost:8080/"
        },
        "id": "cF_z7z4DXnEM",
        "outputId": "fc2b87d9-3ac4-47a0-a5f6-7babff41f575"
      },
      "execution_count": 14,
      "outputs": [
        {
          "output_type": "execute_result",
          "data": {
            "text/plain": [
              "array([0.6, 0.4])"
            ]
          },
          "metadata": {},
          "execution_count": 14
        }
      ]
    },
    {
      "cell_type": "code",
      "source": [
        "# log(P(x_k)) = log( sum(pi_i * theta_ik) )\n",
        "np.log(sum_pi_x_theta)"
      ],
      "metadata": {
        "colab": {
          "base_uri": "https://localhost:8080/"
        },
        "id": "wzSKCCO2lwVm",
        "outputId": "725444fc-c391-4e11-a358-5910a28e8375"
      },
      "execution_count": 33,
      "outputs": [
        {
          "output_type": "execute_result",
          "data": {
            "text/plain": [
              "array([-0.51082562, -0.91629073])"
            ]
          },
          "metadata": {},
          "execution_count": 33
        }
      ]
    },
    {
      "cell_type": "code",
      "source": [
        "# r_k * log(P(x_k))\n",
        "np.sum(r_k, axis=0) * np.log(sum_pi_x_theta)"
      ],
      "metadata": {
        "colab": {
          "base_uri": "https://localhost:8080/"
        },
        "id": "Efk6BuCrmU8o",
        "outputId": "fd1ccbee-ab48-4a61-d7f9-d456cb89eb35"
      },
      "execution_count": 34,
      "outputs": [
        {
          "output_type": "execute_result",
          "data": {
            "text/plain": [
              "array([-2419.27015416, -4823.35441259])"
            ]
          },
          "metadata": {},
          "execution_count": 34
        }
      ]
    },
    {
      "cell_type": "code",
      "source": [
        "# log_P(x)\n",
        "def calc_log_P(r_k, pi_hat, thetas):\n",
        "    pi_x_theta = pi_hat * np.array([thetas, 1 - thetas])\n",
        "    _sum_pi_i_theta = np.sum(pi_x_theta, axis=1)\n",
        "    log_P = sum(r_k * np.log(_sum_pi_i_theta))\n",
        "    return log_P\n",
        "\n",
        "\n",
        "calc_log_P(np.sum(r_k, axis=0), initial_pi_estimations, thetas)"
      ],
      "metadata": {
        "colab": {
          "base_uri": "https://localhost:8080/"
        },
        "id": "iMavmR9sYQ_A",
        "outputId": "0cfa9814-e692-4c8b-e48f-08e6634c4ca8"
      },
      "execution_count": 46,
      "outputs": [
        {
          "output_type": "execute_result",
          "data": {
            "text/plain": [
              "-7242.624566741282"
            ]
          },
          "metadata": {},
          "execution_count": 46
        }
      ]
    },
    {
      "cell_type": "markdown",
      "source": [
        "先程実装した UnsupervisedLearningクラスに、log_Pの計算処理も追加する"
      ],
      "metadata": {
        "id": "5P72NUzzjdpL"
      }
    },
    {
      "cell_type": "code",
      "source": [
        "class UnsupervisedLearning:\n",
        "    def __init__(\n",
        "        self,\n",
        "        n: int,\n",
        "        initial_pi_hat: np.ndarray,\n",
        "        initial_theta_hat: np.ndarray,\n",
        "        r_k: np.ndarray  # 書き換えた\n",
        "    ):\n",
        "        self.n = n\n",
        "        self.pi_hat = initial_pi_hat\n",
        "        self.theta_hat = initial_theta_hat\n",
        "        self.r_k = r_k  # 書き換えた\n",
        "\n",
        "    def fit(self):\n",
        "        epsilon = 1e-8\n",
        "        variation = np.array([1, 1, 1])\n",
        "        num_round = 0\n",
        "        pi_hat_hist = np.array([self.pi_hat])\n",
        "        log_P_hist = np.array([self.calc_log_P()])  # 追加した\n",
        "\n",
        "        while((np.abs(variation) > epsilon).any()):\n",
        "            num_round += 1\n",
        "\n",
        "            # step2\n",
        "            p = self.step2()\n",
        "\n",
        "            # step3\n",
        "            pi_i_hat = self.step3_1(p)\n",
        "            P_hat = self.step3_2_P_hat(pi_i_hat)\n",
        "            theta_hat = self.step3_2_theta_hat(P_hat)\n",
        "\n",
        "            variation = pi_i_hat - self.pi_hat\n",
        "\n",
        "            # step4\n",
        "            self.pi_hat = pi_i_hat\n",
        "            # 今回は更新しない theta は既知として扱うため\n",
        "            # p.95の実験条件の5項目目を参照\n",
        "            #   注) \"step3は省いた\"と記載されているが、おそらく\"step3-2省いた\"が正しいと思われる\n",
        "            # theta = theta_hat\n",
        "\n",
        "            pi_hat_hist = np.concatenate([pi_hat_hist, [self.pi_hat]], axis=0)\n",
        "            log_P = self.calc_log_P()\n",
        "            log_P_hist = np.concatenate([log_P_hist, [log_P]], axis=0)  # 追加した\n",
        "            print(num_round, \"pi_hat:\", self.pi_hat, \"log_P:\", log_P)  # 書き換えた  せっかくだから log_P をprint\n",
        "\n",
        "        self.pi_hat_hist = pi_hat_hist\n",
        "        self.log_P_hist = log_P_hist  # 追加した\n",
        "\n",
        "    def step2(self) -> np.ndarray:\n",
        "        pi_x_theta = self.pi_hat * np.array([self.theta_hat, 1 - self.theta_hat])\n",
        "        sum_pi_x_theta = np.sum(pi_x_theta, axis=1)\n",
        "        p_omega_v = (pi_x_theta) / np.tile(sum_pi_x_theta, (3, 1)).T\n",
        "        return p_omega_v\n",
        "\n",
        "    def step3_1(self, p_omega_v: np.ndarray) -> np.ndarray:\n",
        "        pi_i_hat = np.sum(self.r_k.reshape(-1, 1) * p_omega_v, axis=0) / self.n  # self.r_k のところを書き換えた\n",
        "        return pi_i_hat\n",
        "\n",
        "    def step3_2_P_hat(self, pi_hat: np.ndarray) -> np.ndarray:\n",
        "        p_hat = (pi_hat * np.array(self.theta_hat)) / sum(pi_hat * np.array(self.theta_hat))\n",
        "        return p_hat\n",
        "\n",
        "    def step3_2_theta_hat(self, P_hat: np.ndarray) -> np.ndarray:\n",
        "        theta_hat = (self.r_k.reshape(-1, 1) * P_hat) / np.tile(np.sum(self.r_k.reshape(-1, 1) * P_hat, axis=0), (2, 1))  # self.r_k のところを書き換えた\n",
        "        return theta_hat\n",
        "\n",
        "    # ---------------関数追加した-------------------#\n",
        "    def calc_log_P(self):\n",
        "        _r_k = self.r_k\n",
        "        pi_x_theta = self.pi_hat * np.array([self.theta_hat, 1 - self.theta_hat])\n",
        "        _sum_pi_i_theta = np.sum(pi_x_theta, axis=1)\n",
        "        log_P = sum(_r_k * np.log(_sum_pi_i_theta))\n",
        "        return log_P\n",
        "    # ------------------ここまで-------------------#\n",
        "\n",
        "model = UnsupervisedLearning(10000, initial_pi_estimations, thetas, np.sum(r_k, axis=0))  # r_k のところを書き換えた\n",
        "model.fit()"
      ],
      "metadata": {
        "colab": {
          "base_uri": "https://localhost:8080/"
        },
        "id": "3sVDVr-OjkKk",
        "outputId": "da28a3bd-7783-4df3-f09f-1bd408ac329e"
      },
      "execution_count": 51,
      "outputs": [
        {
          "output_type": "stream",
          "name": "stdout",
          "text": [
            "1 pi_hat: [0.2684 0.5    0.2316] log_P: -7165.084262769455\n",
            "2 pi_hat: [0.242028   0.49640304 0.26156896] log_P: -7104.597738217199\n",
            "3 pi_hat: [0.2201433  0.49053732 0.28931938] log_P: -7058.120688033877\n",
            "4 pi_hat: [0.20202739 0.48342605 0.31454656] log_P: -7022.806944302263\n",
            "5 pi_hat: [0.18703335 0.47580288 0.33716377] log_P: -6996.188644411137\n",
            "6 pi_hat: [0.17460475 0.46816137 0.35723388] log_P: -6976.23267934039\n",
            "7 pi_hat: [0.16427649 0.46081229 0.37491123] log_P: -6961.322428995384\n",
            "8 pi_hat: [0.15566653 0.45393533 0.39039814] log_P: -6950.203635314101\n",
            "9 pi_hat: [0.14846422 0.44762061 0.40391517] log_P: -6941.919430563631\n",
            "10 pi_hat: [0.14241816 0.44189946 0.41568238] log_P: -6935.748033772942\n",
            "11 pi_hat: [0.13732521 0.43676633 0.42590846] log_P: -6931.148980474886\n",
            "12 pi_hat: [0.13302101 0.43219378 0.43478521] log_P: -6927.7194044885655\n",
            "13 pi_hat: [0.12937226 0.42814245 0.44248529] log_P: -6925.159770108523\n",
            "14 pi_hat: [0.12627044 0.42456752 0.44916204] log_P: -6923.247628906938\n",
            "15 pi_hat: [0.12362683 0.42142279 0.45495038] log_P: -6921.817818644812\n",
            "16 pi_hat: [0.12136853 0.41866315 0.45996832] log_P: -6920.747662457853\n",
            "17 pi_hat: [0.1194354  0.41624599 0.46431861] log_P: -6919.945968489004\n",
            "18 pi_hat: [0.11777759 0.41413193 0.46809048] log_P: -6919.344880175768\n",
            "19 pi_hat: [0.11635356 0.41228512 0.47136132] log_P: -6918.893847434743\n",
            "20 pi_hat: [0.11512858 0.41067329 0.47419813] log_P: -6918.5551682859805\n",
            "21 pi_hat: [0.11407349 0.40926759 0.47665892] log_P: -6918.300690419534\n",
            "22 pi_hat: [0.11316372 0.40804241 0.47879387] log_P: -6918.109368680546\n",
            "23 pi_hat: [0.11237847 0.40697509 0.48064644] log_P: -6917.965454176102\n",
            "24 pi_hat: [0.11170013 0.40604567 0.4822542 ] log_P: -6917.85714983094\n",
            "25 pi_hat: [0.1111137  0.4052366  0.48364971] log_P: -6917.775610815193\n",
            "26 pi_hat: [0.11060638 0.40453249 0.48486113] log_P: -6917.71420031664\n",
            "27 pi_hat: [0.11016727 0.40391987 0.48591287] log_P: -6917.667934662259\n",
            "28 pi_hat: [0.10978699 0.40338695 0.48682607] log_P: -6917.6330690719715\n",
            "29 pi_hat: [0.10945751 0.40292343 0.48761905] log_P: -6917.606788024101\n",
            "30 pi_hat: [0.10917195 0.40252034 0.4883077 ] log_P: -6917.586973554169\n",
            "31 pi_hat: [0.10892437 0.40216984 0.48890579] log_P: -6917.572031693822\n",
            "32 pi_hat: [0.10870965 0.40186509 0.48942526] log_P: -6917.5607623403785\n",
            "33 pi_hat: [0.10852338 0.40160015 0.48987647] log_P: -6917.5522616078215\n",
            "34 pi_hat: [0.10836177 0.40136983 0.49026841] log_P: -6917.545848496971\n",
            "35 pi_hat: [0.10822151 0.40116961 0.49060888] log_P: -6917.541009791652\n",
            "36 pi_hat: [0.10809977 0.40099558 0.49090465] log_P: -6917.537358626345\n",
            "37 pi_hat: [0.10799408 0.40084432 0.4911616 ] log_P: -6917.534603317155\n",
            "38 pi_hat: [0.10790233 0.40071285 0.49138483] log_P: -6917.532523902944\n",
            "39 pi_hat: [0.10782265 0.40059858 0.49157877] log_P: -6917.530954482172\n",
            "40 pi_hat: [0.10775347 0.40049927 0.49174726] log_P: -6917.529769908921\n",
            "41 pi_hat: [0.10769338 0.40041296 0.49189366] log_P: -6917.528875769049\n",
            "42 pi_hat: [0.10764119 0.40033796 0.49202085] log_P: -6917.528200825759\n",
            "43 pi_hat: [0.10759586 0.40027277 0.49213136] log_P: -6917.527691324778\n",
            "44 pi_hat: [0.10755649 0.40021613 0.49222739] log_P: -6917.52730670058\n",
            "45 pi_hat: [0.10752229 0.4001669  0.49231082] log_P: -6917.527016338281\n",
            "46 pi_hat: [0.10749257 0.40012412 0.49238331] log_P: -6917.526797131328\n",
            "47 pi_hat: [0.10746676 0.40008694 0.4924463 ] log_P: -6917.526631639132\n",
            "48 pi_hat: [0.10744434 0.40005464 0.49250103] log_P: -6917.526506697076\n",
            "49 pi_hat: [0.10742485 0.40002656 0.49254858] log_P: -6917.526412367768\n",
            "50 pi_hat: [0.10740793 0.40000217 0.4925899 ] log_P: -6917.526341149626\n",
            "51 pi_hat: [0.10739322 0.39998097 0.49262581] log_P: -6917.526287379651\n",
            "52 pi_hat: [0.10738044 0.39996255 0.49265701] log_P: -6917.526246782685\n",
            "53 pi_hat: [0.10736934 0.39994654 0.49268411] log_P: -6917.526216131222\n",
            "54 pi_hat: [0.1073597  0.39993263 0.49270767] log_P: -6917.526192988616\n",
            "55 pi_hat: [0.10735131 0.39992055 0.49272814] log_P: -6917.526175515259\n",
            "56 pi_hat: [0.10734403 0.39991004 0.49274592] log_P: -6917.5261623222805\n",
            "57 pi_hat: [0.10733771 0.39990092 0.49276138] log_P: -6917.526152361077\n",
            "58 pi_hat: [0.10733221 0.39989299 0.49277481] log_P: -6917.526144839954\n",
            "59 pi_hat: [0.10732743 0.39988609 0.49278648] log_P: -6917.526139161175\n",
            "60 pi_hat: [0.10732328 0.39988011 0.49279662] log_P: -6917.5261348734275\n",
            "61 pi_hat: [0.10731967 0.3998749  0.49280543] log_P: -6917.526131635967\n",
            "62 pi_hat: [0.10731654 0.39987038 0.49281308] log_P: -6917.526129191518\n",
            "63 pi_hat: [0.10731381 0.39986645 0.49281973] log_P: -6917.5261273458345\n",
            "64 pi_hat: [0.10731145 0.39986304 0.49282551] log_P: -6917.526125952239\n",
            "65 pi_hat: [0.10730939 0.39986007 0.49283054] log_P: -6917.526124899999\n",
            "66 pi_hat: [0.10730761 0.39985749 0.4928349 ] log_P: -6917.526124105497\n",
            "67 pi_hat: [0.10730605 0.39985525 0.49283869] log_P: -6917.526123505601\n",
            "68 pi_hat: [0.1073047  0.39985331 0.49284199] log_P: -6917.526123052647\n",
            "69 pi_hat: [0.10730353 0.39985161 0.49284485] log_P: -6917.526122710638\n",
            "70 pi_hat: [0.10730251 0.39985014 0.49284734] log_P: -6917.526122452402\n",
            "71 pi_hat: [0.10730163 0.39984887 0.4928495 ] log_P: -6917.526122257417\n",
            "72 pi_hat: [0.10730086 0.39984776 0.49285138] log_P: -6917.526122110192\n",
            "73 pi_hat: [0.10730019 0.39984679 0.49285302] log_P: -6917.52612199903\n",
            "74 pi_hat: [0.10729961 0.39984596 0.49285443] log_P: -6917.5261219150925\n",
            "75 pi_hat: [0.10729911 0.39984523 0.49285567] log_P: -6917.526121851717\n",
            "76 pi_hat: [0.10729867 0.39984459 0.49285674] log_P: -6917.526121803863\n",
            "77 pi_hat: [0.10729829 0.39984404 0.49285767] log_P: -6917.52612176773\n",
            "78 pi_hat: [0.10729796 0.39984357 0.49285848] log_P: -6917.526121740451\n",
            "79 pi_hat: [0.10729767 0.39984315 0.49285918] log_P: -6917.5261217198495\n",
            "80 pi_hat: [0.10729742 0.39984279 0.49285979] log_P: -6917.526121704295\n",
            "81 pi_hat: [0.1072972  0.39984248 0.49286032] log_P: -6917.526121692551\n",
            "82 pi_hat: [0.10729701 0.39984221 0.49286078] log_P: -6917.526121683684\n",
            "83 pi_hat: [0.10729685 0.39984197 0.49286118] log_P: -6917.526121676989\n",
            "84 pi_hat: [0.10729671 0.39984176 0.49286153] log_P: -6917.526121671934\n",
            "85 pi_hat: [0.10729658 0.39984158 0.49286183] log_P: -6917.526121668116\n",
            "86 pi_hat: [0.10729647 0.39984143 0.4928621 ] log_P: -6917.526121665232\n",
            "87 pi_hat: [0.10729638 0.39984129 0.49286233] log_P: -6917.526121663055\n",
            "88 pi_hat: [0.1072963  0.39984118 0.49286252] log_P: -6917.526121661413\n",
            "89 pi_hat: [0.10729623 0.39984108 0.4928627 ] log_P: -6917.526121660174\n",
            "90 pi_hat: [0.10729617 0.39984099 0.49286285] log_P: -6917.526121659235\n",
            "91 pi_hat: [0.10729611 0.39984091 0.49286298] log_P: -6917.526121658528\n",
            "92 pi_hat: [0.10729607 0.39984084 0.49286309] log_P: -6917.526121657995\n",
            "93 pi_hat: [0.10729603 0.39984078 0.49286319] log_P: -6917.526121657591\n",
            "94 pi_hat: [0.10729599 0.39984073 0.49286327] log_P: -6917.526121657285\n",
            "95 pi_hat: [0.10729596 0.39984069 0.49286335] log_P: -6917.526121657055\n",
            "96 pi_hat: [0.10729594 0.39984065 0.49286341] log_P: -6917.526121656885\n",
            "97 pi_hat: [0.10729591 0.39984062 0.49286347] log_P: -6917.526121656751\n",
            "98 pi_hat: [0.10729589 0.39984059 0.49286352] log_P: -6917.526121656653\n",
            "99 pi_hat: [0.10729588 0.39984057 0.49286356] log_P: -6917.526121656578\n",
            "100 pi_hat: [0.10729586 0.39984054 0.4928636 ] log_P: -6917.526121656521\n",
            "101 pi_hat: [0.10729585 0.39984052 0.49286363] log_P: -6917.5261216564795\n",
            "102 pi_hat: [0.10729584 0.39984051 0.49286366] log_P: -6917.526121656447\n",
            "103 pi_hat: [0.10729583 0.39984049 0.49286368] log_P: -6917.526121656423\n",
            "104 pi_hat: [0.10729582 0.39984048 0.4928637 ] log_P: -6917.526121656402\n",
            "105 pi_hat: [0.10729581 0.39984047 0.49286372] log_P: -6917.52612165639\n",
            "106 pi_hat: [0.1072958  0.39984046 0.49286374] log_P: -6917.526121656381\n",
            "107 pi_hat: [0.1072958  0.39984045 0.49286375] log_P: -6917.526121656373\n",
            "108 pi_hat: [0.10729579 0.39984045 0.49286376] log_P: -6917.526121656366\n",
            "109 pi_hat: [0.10729579 0.39984044 0.49286377] log_P: -6917.526121656361\n",
            "110 pi_hat: [0.10729578 0.39984043 0.49286378] log_P: -6917.526121656357\n"
          ]
        }
      ]
    },
    {
      "cell_type": "code",
      "source": [
        "plt.plot(model.log_P_hist)\n",
        "plt.xlabel(\"cycle count\")\n",
        "plt.ylabel(\"log P\")"
      ],
      "metadata": {
        "colab": {
          "base_uri": "https://localhost:8080/",
          "height": 296
        },
        "id": "sdzkZxgjdjpX",
        "outputId": "1d28605a-5410-4636-84bb-50613c200fdc"
      },
      "execution_count": 52,
      "outputs": [
        {
          "output_type": "execute_result",
          "data": {
            "text/plain": [
              "Text(0, 0.5, 'log P')"
            ]
          },
          "metadata": {},
          "execution_count": 52
        },
        {
          "output_type": "display_data",
          "data": {
            "text/plain": [
              "<Figure size 432x288 with 1 Axes>"
            ],
            "image/png": "[encoded data removed]"
          },
          "metadata": {
            "needs_background": "light"
          }
        }
      ]
    },
    {
      "cell_type": "markdown",
      "source": [
        "p.96と同様の結果が確認できた\\\\( ˙꒳˙ \\\\三/ ˙꒳˙)/"
      ],
      "metadata": {
        "id": "en-4KCEao64e"
      }
    }
  ]
}