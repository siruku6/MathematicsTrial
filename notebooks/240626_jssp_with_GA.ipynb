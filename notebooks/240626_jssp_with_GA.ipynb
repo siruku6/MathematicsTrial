{
 "cells": [
  {
   "cell_type": "markdown",
   "id": "5a33680e-ecf9-42a8-82e0-0f049b248720",
   "metadata": {},
   "source": [
    "# solving job shop scheduling problem with GA\n",
    "\n",
    "- la40  \n",
    "http://jobshop.jjvh.nl/\n",
    "\n",
    "https://github.com/Eason0227/Job-shop-scheduling-problem/blob/main/GA%20for%20JSSP.ipynb\n"
   ]
  },
  {
   "cell_type": "code",
   "execution_count": 16,
   "id": "e854cd79-1753-4eb4-ac37-744d9a520908",
   "metadata": {},
   "outputs": [],
   "source": [
    "import pandas as pd\n",
    "import numpy as np\n",
    "import time\n",
    "from tqdm.notebook import tqdm\n",
    "import matplotlib.pyplot as plt\n",
    "\n",
    "# import plotly.plotly as py\n",
    "# # from chart_studio import plotly as py\n",
    "from plotly.offline import iplot\n",
    "\n",
    "import plotly.figure_factory as ff\n",
    "import datetime\n",
    "\n",
    "%matplotlib inline\n",
    "\n",
    "# 100 個の int 型要素を持つ配列\n",
    "Chromosome = list[int]\n"
   ]
  },
  {
   "cell_type": "code",
   "execution_count": 2,
   "id": "11359cc9-1fb4-4231-a62a-7fab0fc586f1",
   "metadata": {},
   "outputs": [
    {
     "name": "stdout",
     "output_type": "stream",
     "text": [
      "/working_dir/notebooks\n"
     ]
    }
   ],
   "source": [
    "!pwd"
   ]
  },
  {
   "cell_type": "code",
   "execution_count": 20,
   "id": "32b1a883-2186-4658-aafe-84ecdcfcef2f",
   "metadata": {},
   "outputs": [],
   "source": [
    "processing_df= pd.read_csv(\"data/jssp/Processing_time.csv\")\n",
    "sequence_df = pd.read_csv(\"data/jssp/Machine_sequence.csv\")\n",
    "\n",
    "processing_df = processing_df.drop([\"Job\"],axis=1)\n",
    "sequence_df = sequence_df.drop([\"Job\"],axis=1)\n",
    "\n",
    "num_machine = processing_df.shape[0]  # number of machines\n",
    "num_job = processing_df.shape[1]  # number of jobs\n",
    "num_gene = num_machine * num_job  # number of genes in a chromosome\n",
    "\n",
    "# processing_times\n",
    "pt = [list(map(int, processing_df.iloc[i])) for i in range(num_job)]\n",
    "#　machine_sequences for tasks\n",
    "ms = [list(map(int, sequence_df.iloc[i])) for i in range(num_job)]\n"
   ]
  },
  {
   "cell_type": "code",
   "execution_count": 19,
   "id": "6878dd38-779a-4c57-a667-fff13012bfa3",
   "metadata": {},
   "outputs": [
    {
     "data": {
      "text/plain": [
       "[[82, 14, 15, 4, 95, 36, 32, 29, 18, 95],\n",
       " [88, 21, 83, 10, 78, 82, 22, 69, 94, 32],\n",
       " [87, 28, 95, 70, 12, 76, 55, 5, 4, 12],\n",
       " [30, 70, 65, 78, 4, 72, 26, 92, 84, 90],\n",
       " [54, 55, 29, 58, 76, 36, 1, 98, 21, 90],\n",
       " [44, 13, 36, 20, 28, 98, 44, 14, 12, 49],\n",
       " [46, 49, 45, 78, 34, 6, 94, 59, 69, 16],\n",
       " [11, 9, 71, 38, 81, 80, 47, 74, 25, 91],\n",
       " [6, 36, 85, 30, 99, 38, 11, 30, 13, 49],\n",
       " [59, 90, 82, 47, 21, 48, 46, 27, 86, 35]]"
      ]
     },
     "execution_count": 19,
     "metadata": {},
     "output_type": "execute_result"
    }
   ],
   "source": [
    "pt"
   ]
  },
  {
   "cell_type": "code",
   "execution_count": 4,
   "id": "de0bb31b-c8fe-4405-bebe-31e5a12b610d",
   "metadata": {},
   "outputs": [
    {
     "data": {
      "text/plain": [
       "array([2, 9, 3, 7, 0, 5, 1, 5, 8, 5, 5, 3, 0, 7, 7, 0, 5, 6, 4, 9, 2, 8,\n",
       "       8, 9, 3, 1, 6, 9, 3, 9, 6, 5, 7, 7, 4, 2, 0, 4, 9, 3, 2, 8, 4, 1,\n",
       "       5, 1, 8, 9, 4, 8, 0, 4, 1, 5, 4, 0, 7, 1, 5, 4, 1, 7, 1, 6, 0, 6,\n",
       "       2, 8, 3, 2, 4, 6, 2, 8, 8, 4, 3, 9, 3, 1, 0, 8, 0, 0, 6, 7, 9, 2,\n",
       "       6, 7, 1, 6, 9, 3, 2, 3, 6, 2, 5, 7])"
      ]
     },
     "execution_count": 4,
     "metadata": {},
     "output_type": "execute_result"
    }
   ],
   "source": [
    "tmp = np.random.permutation(num_gene) % num_job\n",
    "# pd.Series(tmp).value_counts()\n",
    "tmp"
   ]
  },
  {
   "cell_type": "code",
   "execution_count": 31,
   "id": "fb42cd0d-0750-43f8-8bdb-79c59789ddfa",
   "metadata": {},
   "outputs": [],
   "source": [
    "def inital_population(population_size: int):\n",
    "    \"\"\"\n",
    "    初期の1世代分の個体を生成する\n",
    "    \"\"\"\n",
    "    population_list: list = []\n",
    "    for i in range(population_size):\n",
    "        # generate a random permutation of 0 to num_job * num_mc - 1\n",
    "        ini_pop: list = list(np.random.permutation(num_gene) % num_job)\n",
    "\n",
    "        # convert to job number format, every job appears m(num_job) times\n",
    "        population_list.append(ini_pop)\n",
    "    return population_list\n",
    "\n",
    "\n",
    "def crossover(population_list: list, crossover_rate: float):\n",
    "    \"\"\"\n",
    "    2点交叉を行う\n",
    "    \"\"\"\n",
    "    parent_list: list = population_list.copy() # preserve the original parent chromosomes\n",
    "    offspring_list: list = population_list.copy()\n",
    "\n",
    "    # 產生一個組合去選擇用哪幾組父代染色體進行交配\n",
    "    # 組み合わせを生成して、交配に使用する親染色体のセットを選択します\n",
    "    parent_sequence = list(np.random.permutation(population_size))\n",
    "    for i in range(0, population_size, step=2):\n",
    "        crossover_prob=np.random.rand()\n",
    "        if crossover_prob <= crossover_rate:\n",
    "            parent_1 = population_list[ parent_sequence[i] ][:]\n",
    "            parent_2 = population_list[ parent_sequence[i + 1] ][:]\n",
    "            child_1 = parent_1[:]\n",
    "            child_2 = parent_2[:]\n",
    "            # 產生2個不同的交配點，並由小到大排序\n",
    "            # 2つの異なる交点を生成し、小さいものから大きいものに並べ替えます。\n",
    "            crossover_point = list( np.random.choice(num_gene, 2, replace=False) )\n",
    "            crossover_point.sort()\n",
    "\n",
    "            # parent_2中間的基因移到parent_1中間，產生child1\n",
    "            # parent_2 の中央にある遺伝子がparent_1 の中央に移動され、child1 が生成されます。\n",
    "            child_1[crossover_point[0]:crossover_point[1]] = parent_2[crossover_point[0]:crossover_point[1]]\n",
    "            # parent_1中間的基因移到parent_2中間，產生child2\n",
    "            child_2[crossover_point[0]:crossover_point[1]] = parent_1[crossover_point[0]:crossover_point[1]]\n",
    "\n",
    "            offspring_list[parent_sequence[i]] = child_1[:]\n",
    "            offspring_list[parent_sequence[i + 1]] = child_2[:]\n",
    "    return parent_list, offspring_list\n",
    "\n",
    "\n",
    "# 染色体内の各アーティファクトの発生数は 10 ですが、上記の交配作用により、一部の染色体におけるアーティファクトの発生数は 10 未満または 10 を超え、\n",
    "# 実行不可能なスケジューリング ソリューションが形成されるため、ここで次のことを行う必要があります。\n",
    "# 実行不可能な染色体が修復作用を受けて実行可能なスケジュールになることに焦点を当てる\n",
    "def repairmet(offspring_list):\n",
    "    stop = True\n",
    "\n",
    "    # 不斷進行修復，直到每個job的出現次數等於machine數\n",
    "    # 各ジョブの発生回数がマシンの台数と同じになるまで修復を続ける。\n",
    "    while stop:\n",
    "        \n",
    "        for i in range(population_size):\n",
    "            unique_elements, counts = np.unique( offspring_list[i] , return_counts=True) #計算每個job的出現次數\n",
    "            if sum(counts!= num_machine ) != 0: # 有多餘job和缺少的job \n",
    "                less_job = np.argmin(counts) # 出現次數缺少的job\n",
    "                large_job = np.argmax(counts) # 出現次數多出的job\n",
    "                offspring_array = np.array( offspring_list[i] )\n",
    "                offspring_job_large_index = np.where( offspring_array == large_job)[0][0] #  出現次數多出的job的第一個出現位置\n",
    "                offspring_list[i][offspring_job_large_index] = less_job # 出現次數的多的job， 使用較少出現的job替代\n",
    "        counts_sum = 0\n",
    "        for j in range(population_size): # 檢查每隔chromosome是否出現異常的情況\n",
    "            unique_elements, counts = np.unique( offspring_list[j] , return_counts=True)\n",
    "            if sum(counts != num_machine) != 0 :\n",
    "                counts_sum += 1\n",
    "        if counts_sum == 0:\n",
    "            stop = False\n",
    "    return offspring_list\n",
    "\n",
    "\n",
    "def mutation(offspring_list,mutation_rate,num_mutation_jobs):\n",
    "    for i in range(population_size):\n",
    "        mutation_prob=np.random.rand()\n",
    "        if  mutation_prob <= mutation_rate:\n",
    "            mutation_position = list(np.random.choice(num_gene, num_mutation_jobs, replace=False)) # 選擇突變的位置\n",
    "            muta_list = []\n",
    "            for j in mutation_position:\n",
    "                muta_list.append(offspring_list[i][j]) # 要突變的基因list\n",
    "            muta_list.append(muta_list[0]) # 尾部加上第一個基因\n",
    "            muta_list.pop(0) # 將第一個基因刪除\n",
    "            count = 0\n",
    "            for k in mutation_position:\n",
    "                offspring_list[i][k] = muta_list[count] # 將用突變後的基因取代原本的\n",
    "                count += 1\n",
    "    return offspring_list\n",
    "\n",
    "\n",
    "def _calc_time4job(\n",
    "    target_chromosome: Chromosome, num_job: int, num_machine: int\n",
    ") -> dict[int, int]:\n",
    "    \"\"\"\n",
    "    対象個体の遺伝子をスケジュールにしたときに、実際にどのくらい時間がかかるかを計算する\n",
    "    \"\"\"\n",
    "    j_keys: list[int] = [j for j in range(num_job)]\n",
    "    # job の key 番目のタスクが処理された回数をカウントする\n",
    "    key_count: dict[int, int] = {key: 0 for key in j_keys}\n",
    "\n",
    "    # 各 job にかかる時間を格納するための辞書\n",
    "    time4job: dict[int, int] = {key: 0 for key in j_keys}\n",
    "\n",
    "    m_keys: list[int] = [j + 1 for j in range(num_machine)]\n",
    "    time4machine: dict[int, int] = {key: 0 for key in m_keys}\n",
    "\n",
    "    # 1個体の染色体を一つずつ処理\n",
    "    for i in target_chromosome:\n",
    "        # 次に処理すべきタスクのID\n",
    "        task_no: int = key_count[i]\n",
    "\n",
    "        # 処理時間\n",
    "        gen_t: int = int(pt[i][task_no])\n",
    "        # ジョブにおける、機械の処理順\n",
    "        gen_m: int = int(ms[i][task_no])\n",
    "\n",
    "        # i番目のジョブ内のタスク実行にかかった時間合計\n",
    "        time4job[i] = time4job[i] + gen_t\n",
    "        # gen_m 番目の機械における処理時間合計\n",
    "        time4machine[gen_m] = time4machine[gen_m] + gen_t\n",
    "\n",
    "        # ジョブ毎にかかった時間、もしくは機械毎にかかった時間のうち、小さい方を、大きい方の値で上書きする\n",
    "        if time4machine[gen_m] < time4job[i]:\n",
    "            time4machine[gen_m] = time4job[i]\n",
    "        elif time4machine[gen_m] > time4job[i]:\n",
    "            time4job[i] = time4machine[gen_m]\n",
    "        \n",
    "        key_count[i] = key_count[i] + 1\n",
    "    return time4job\n",
    "\n",
    "\n",
    "def fitness_caculate(total_chromosome: list[Chromosome]):\n",
    "    \"\"\"\n",
    "    適応度の計算を行う\n",
    "\n",
    "    Partameters\n",
    "    ------\n",
    "    total_chromosome: list[Chromosome]\n",
    "        parent and offspring\n",
    "\n",
    "    Returns\n",
    "    ------\n",
    "    chrom_fit: list[int]\n",
    "        各染色体から計算された makespan の配列 (小さい方が良い)\n",
    "\n",
    "    chrom_fitness: list[float]\n",
    "        各染色体から計算された makespan の逆数の配列 (大きい方が良い)\n",
    "\n",
    "    total_fitness: int\n",
    "        各染色体から計算された makespan の逆数の合計 (大きい方が良い)\n",
    "    \"\"\"\n",
    "    chrom_fitness, chrom_fit = [], []\n",
    "    total_fitness: int = 0\n",
    "    for individual_id in range(population_size * 2):  # 親と子の2世代分ループするので 2倍\n",
    "        time4job: dict[int, int] = _calc_time4job(total_chromosome[individual_id], num_job, num_machine)\n",
    "\n",
    "        # 在job中需要的最多完工時間的，即為makespan\n",
    "        # 最も時間がかかる仕事は makespan である。\n",
    "        makespan = max(time4job.values())\n",
    "        # 因後續採用輪盤法時要最小化完工時間，因此每個chromosome所算出的適應值必須以倒數的方式記錄 \n",
    "        # 各染色体について計算された適応値は、その後ルーレットホイール法を使用する際の完了時間を最小にするために、逆順に記録されなければならない。\n",
    "        chrom_fitness.append(1 / makespan)\n",
    "\n",
    "        # 計算每個chromosome原本的總完工時間\n",
    "        # 各染色体の元完了時間の合計を計算する。\n",
    "        chrom_fit.append(makespan)\n",
    "        total_fitness = total_fitness + chrom_fitness[individual_id]\n",
    "\n",
    "    return chrom_fit, chrom_fitness, total_fitness\n",
    "\n",
    "\n",
    "def selection(chrom_fitness, total_fitness, population_list):\n",
    "    \"\"\"\n",
    "    selection(roulette wheel approach)\n",
    "    \"\"\"\n",
    "    fitness_prob, fitness_cumulate_prob = [], []\n",
    "\n",
    "    for i in range(population_size*2):\n",
    "        # 計算每個chromosome的fitness，佔所有chromosome的比例\n",
    "        # 各染色体のフィットネスを全染色体に占める割合で計算する。\n",
    "        fitness_prob.append(chrom_fitness[i] / total_fitness)\n",
    "    for i in range(population_size * 2):\n",
    "        cumulative = 0\n",
    "        # 計算每個chromosome的fitness累績機率。\n",
    "        # 各染色体のフィットネス発生率を計算する。\n",
    "        for j in range(0, i + 1):\n",
    "            cumulative = cumulative + fitness_prob[j]\n",
    "        fitness_cumulate_prob.append(cumulative) \n",
    "\n",
    "    # 產生一組size為population大小的隨機數list\n",
    "    # 母集団の大きさを持つ乱数のリストを生成する。\n",
    "    selection_rand = [np.random.rand() for i in range(population_size)]\n",
    "\n",
    "    # 選出新的一組Population\n",
    "    # 新しい population を選択する\n",
    "    for i in range(population_size):\n",
    "        # 若第一組被選中時，將第一組chromosome加入\n",
    "        # 最初の組合せが選択されたら、最初の染色体を加える\n",
    "        if selection_rand[i] <= fitness_cumulate_prob[0]:\n",
    "            population_list[i] = total_chromosome[0].copy()\n",
    "        else:\n",
    "            for j in range(0, population_size * 2 - 1): \n",
    "                if selection_rand[i] > fitness_cumulate_prob[j] and selection_rand[i] <= fitness_cumulate_prob[j + 1]:\n",
    "                    population_list[i] = total_chromosome[j + 1].copy()\n",
    "                    break\n",
    "    return population_list\n",
    "\n",
    "\n",
    "def comparsion(chrom_fit, total_chromosome):\n",
    "    Tbest_current = 99999999999 # population中最好的染色體\n",
    "    for i in range(population_size*2):\n",
    "        if chrom_fit[i] < Tbest_current: # 找出population中最小的itness\n",
    "            Tbest_current = chrom_fit[i] \n",
    "            sequence_current = total_chromosome[i].copy() # 儲存population中有最小fitness的染色體\n",
    "    return Tbest_current, sequence_current"
   ]
  },
  {
   "cell_type": "code",
   "execution_count": 32,
   "id": "ff4bb79a-05cd-4795-8659-9b9a6cec2483",
   "metadata": {},
   "outputs": [],
   "source": [
    "# parameter\n",
    "population_size = 100\n",
    "num_iteration = 300\n",
    "crossover_rate = 0.9\n",
    "mutation_rate = 0.1\n",
    "mutation_selection_rate = 0.1\n",
    "num_mutation_jobs = round(num_gene*mutation_selection_rate)\n",
    "\n",
    "\n",
    "Tbest = 999999999999999\n",
    "makespan_record = []\n",
    "start_time = time.time()\n",
    "# generate initial population\n",
    "population_list = inital_population(population_size = population_size)\n",
    "# population_list\n"
   ]
  },
  {
   "cell_type": "code",
   "execution_count": 33,
   "id": "ea3c9a09-6b82-4617-98a8-1cbf6d435d1d",
   "metadata": {},
   "outputs": [
    {
     "data": {
      "application/vnd.jupyter.widget-view+json": {
       "model_id": "2a81ca49b70d447187fbd3075f0bbab7",
       "version_major": 2,
       "version_minor": 0
      },
      "text/plain": [
       "  0%|          | 0/300 [00:00<?, ?it/s]"
      ]
     },
     "metadata": {},
     "output_type": "display_data"
    },
    {
     "name": "stdout",
     "output_type": "stream",
     "text": [
      "optimal solution [8, 5, 1, 7, 2, 9, 4, 4, 6, 0, 9, 1, 3, 0, 5, 9, 8, 4, 7, 5, 7, 2, 5, 4, 0, 9, 5, 6, 3, 9, 3, 6, 0, 0, 7, 0, 9, 4, 7, 9, 3, 8, 1, 0, 6, 4, 8, 1, 0, 7, 3, 6, 5, 6, 6, 3, 2, 1, 6, 9, 3, 9, 7, 1, 0, 7, 2, 2, 8, 4, 4, 8, 7, 1, 2, 3, 4, 5, 8, 8, 6, 2, 5, 5, 2, 3, 1, 1, 5, 6, 8, 2, 8, 9, 1, 0, 4, 3, 7, 2]\n",
      "optimal makespan: 987\n"
     ]
    },
    {
     "data": {
      "image/png": "[encoded data removed]",
      "text/plain": [
       "<Figure size 640x480 with 1 Axes>"
      ]
     },
     "metadata": {},
     "output_type": "display_data"
    },
    {
     "name": "stdout",
     "output_type": "stream",
     "text": [
      "CPU times: user 11 s, sys: 51.7 ms, total: 11.1 s\n",
      "Wall time: 10.9 s\n"
     ]
    }
   ],
   "source": [
    "%%time\n",
    "\n",
    "best_gene_history: list = []\n",
    "\n",
    "# Genetic_Algorithm \n",
    "for iter in tqdm(range(num_iteration)):\n",
    "    # generate offspring by crossover\n",
    "    parent_list, offspring_list = crossover(population_list=population_list, crossover_rate=crossover_rate)\n",
    "\n",
    "    # offspring repairment\n",
    "    offspring_list = repairmet(offspring_list)\n",
    "\n",
    "    # offspring mutation\n",
    "    offspring_list = mutation(offspring_list,mutation_rate = mutation_rate, num_mutation_jobs = num_mutation_jobs)\n",
    "\n",
    "    # all chromosome：parent and offspring\n",
    "    total_chromosome = parent_list.copy() + offspring_list.copy()\n",
    "\n",
    "    # calculate fitness for each chromosome\n",
    "    # chrom_fit, chrom_fitness, total_fitness, = fitness_caculate(total_chromosome)\n",
    "    chrom_fit, chrom_fitness, total_fitness = fitness_caculate(total_chromosome)\n",
    "\n",
    "    # select the new population\n",
    "    population_list = selection(chrom_fitness, total_fitness, population_list)\n",
    "\n",
    "    # comparision \n",
    "    Tbest_current, sequence_current = comparsion(chrom_fit, total_chromosome)\n",
    "    # 將目前這代population中最好的染色體，與迭代過程中最好的比較\n",
    "    # 現在の世代の集団で最も優れた染色体を、反復プロセスで最も優れた染色体と比較します。\n",
    "    if Tbest_current <= Tbest:\n",
    "        Tbest = Tbest_current\n",
    "        sequence_best = sequence_current.copy()\n",
    "        best_gene_history.append(sequence_best)\n",
    "\n",
    "    makespan_record.append(Tbest)\n",
    "    \n",
    "\n",
    "\"\"\"----------result----------\"\"\"\n",
    "# Genetic_Algorithm()\n",
    "print(\"optimal solution\",sequence_best)\n",
    "print(\"optimal makespan:\",Tbest)\n",
    "\n",
    "\n",
    "plt.plot([i for i in range(len(makespan_record))],makespan_record,\"b\")\n",
    "plt.ylabel(\"makespan\", fontsize=15)\n",
    "plt.xlabel(\"iteraion\", fontsize=15)\n",
    "plt.show()\n"
   ]
  },
  {
   "cell_type": "code",
   "execution_count": 34,
   "id": "b5bf6ae0-1c64-4ea4-8c43-22603e1b8322",
   "metadata": {},
   "outputs": [
    {
     "data": {
      "text/plain": [
       "(100, 100, True)"
      ]
     },
     "execution_count": 34,
     "metadata": {},
     "output_type": "execute_result"
    }
   ],
   "source": [
    "len(sequence_best), len(best_gene_history[-1]), sequence_best == best_gene_history[-1]"
   ]
  },
  {
   "cell_type": "code",
   "execution_count": 35,
   "id": "09cdd961-940d-4a86-a2b7-b20960caaed4",
   "metadata": {},
   "outputs": [
    {
     "data": {
      "text/plain": [
       "(200, 100)"
      ]
     },
     "execution_count": 35,
     "metadata": {},
     "output_type": "execute_result"
    }
   ],
   "source": [
    "np.array(total_chromosome).shape"
   ]
  },
  {
   "cell_type": "code",
   "execution_count": 36,
   "id": "fc8e7c9d-e578-4537-91e6-1b371595fae3",
   "metadata": {},
   "outputs": [
    {
     "data": {
      "application/vnd.plotly.v1+json": {
       "config": {
        "plotlyServerURL": "https://plot.ly"
       },
       "data": [
        {
         "fill": "toself",
         "fillcolor": "rgb(127, 127, 127)",
         "hoverinfo": "name",
         "legendgroup": "rgb(127, 127, 127)",
         "mode": "none",
         "name": "Job 7",
         "showlegend": true,
         "type": "scatter",
         "x": [
          "2023-10-15 0:05:25",
          "2023-10-15 0:06:10",
          "2023-10-15 0:06:10",
          "2023-10-15 0:05:25",
          "2023-10-15 0:05:25",
          "2023-10-15 0:06:30",
          "2023-10-15 0:07:48",
          "2023-10-15 0:07:48",
          "2023-10-15 0:06:30",
          "2023-10-15 0:06:30",
          "2023-10-15 0:08:49",
          "2023-10-15 0:10:23",
          "2023-10-15 0:10:23",
          "2023-10-15 0:08:49",
          "2023-10-15 0:08:49",
          "2023-10-15 0:01:36",
          "2023-10-15 0:02:25",
          "2023-10-15 0:02:25",
          "2023-10-15 0:01:36",
          "2023-10-15 0:01:36",
          "2023-10-15 0:08:43",
          "2023-10-15 0:08:49",
          "2023-10-15 0:08:49",
          "2023-10-15 0:08:43",
          "2023-10-15 0:08:43",
          "2023-10-15 0:08:09",
          "2023-10-15 0:08:43",
          "2023-10-15 0:08:43",
          "2023-10-15 0:08:09",
          "2023-10-15 0:08:09",
          "2023-10-15 0:10:23",
          "2023-10-15 0:11:22",
          "2023-10-15 0:11:22",
          "2023-10-15 0:10:23",
          "2023-10-15 0:10:23",
          "2023-10-15 0:13:22",
          "2023-10-15 0:13:38",
          "2023-10-15 0:13:38",
          "2023-10-15 0:13:22",
          "2023-10-15 0:13:22",
          "2023-10-15 0:00:06",
          "2023-10-15 0:00:52",
          "2023-10-15 0:00:52",
          "2023-10-15 0:00:06",
          "2023-10-15 0:00:06",
          "2023-10-15 0:12:13",
          "2023-10-15 0:13:22",
          "2023-10-15 0:13:22",
          "2023-10-15 0:12:13"
         ],
         "y": [
          8.8,
          8.8,
          9.2,
          9.2,
          null,
          7.8,
          7.8,
          8.2,
          8.2,
          null,
          6.8,
          6.8,
          7.2,
          7.2,
          null,
          5.8,
          5.8,
          6.2,
          6.2,
          null,
          4.8,
          4.8,
          5.2,
          5.2,
          null,
          3.8,
          3.8,
          4.2,
          4.2,
          null,
          2.8,
          2.8,
          3.2,
          3.2,
          null,
          1.8,
          1.8,
          2.2,
          2.2,
          null,
          0.8,
          0.8,
          1.2,
          1.2,
          null,
          -0.2,
          -0.2,
          0.2,
          0.2
         ]
        },
        {
         "fill": "toself",
         "fillcolor": "rgb(140, 86, 75)",
         "hoverinfo": "name",
         "legendgroup": "rgb(140, 86, 75)",
         "mode": "none",
         "name": "Job 5",
         "showlegend": true,
         "type": "scatter",
         "x": [
          "2023-10-15 0:11:51",
          "2023-10-15 0:12:12",
          "2023-10-15 0:12:12",
          "2023-10-15 0:11:51",
          "2023-10-15 0:11:51",
          "2023-10-15 0:03:51",
          "2023-10-15 0:05:07",
          "2023-10-15 0:05:07",
          "2023-10-15 0:03:51",
          "2023-10-15 0:03:51",
          "2023-10-15 0:13:29",
          "2023-10-15 0:14:59",
          "2023-10-15 0:14:59",
          "2023-10-15 0:13:29",
          "2023-10-15 0:13:29",
          "2023-10-15 0:10:13",
          "2023-10-15 0:11:51",
          "2023-10-15 0:11:51",
          "2023-10-15 0:10:13",
          "2023-10-15 0:10:13",
          "2023-10-15 0:08:49",
          "2023-10-15 0:08:50",
          "2023-10-15 0:08:50",
          "2023-10-15 0:08:49",
          "2023-10-15 0:08:49",
          "2023-10-15 0:02:52",
          "2023-10-15 0:03:50",
          "2023-10-15 0:03:50",
          "2023-10-15 0:02:52",
          "2023-10-15 0:02:52",
          "2023-10-15 0:02:23",
          "2023-10-15 0:02:52",
          "2023-10-15 0:02:52",
          "2023-10-15 0:02:23",
          "2023-10-15 0:02:23",
          "2023-10-15 0:01:28",
          "2023-10-15 0:02:23",
          "2023-10-15 0:02:23",
          "2023-10-15 0:01:28",
          "2023-10-15 0:01:28",
          "2023-10-15 0:07:35",
          "2023-10-15 0:08:11",
          "2023-10-15 0:08:11",
          "2023-10-15 0:07:35",
          "2023-10-15 0:07:35",
          "2023-10-15 0:00:00",
          "2023-10-15 0:00:54",
          "2023-10-15 0:00:54",
          "2023-10-15 0:00:00"
         ],
         "y": [
          8.8,
          8.8,
          9.2,
          9.2,
          null,
          7.8,
          7.8,
          8.2,
          8.2,
          null,
          6.8,
          6.8,
          7.2,
          7.2,
          null,
          5.8,
          5.8,
          6.2,
          6.2,
          null,
          4.8,
          4.8,
          5.2,
          5.2,
          null,
          3.8,
          3.8,
          4.2,
          4.2,
          null,
          2.8,
          2.8,
          3.2,
          3.2,
          null,
          1.8,
          1.8,
          2.2,
          2.2,
          null,
          0.8,
          0.8,
          1.2,
          1.2,
          null,
          -0.2,
          -0.2,
          0.2,
          0.2
         ]
        },
        {
         "fill": "toself",
         "fillcolor": "rgb(148, 103, 189)",
         "hoverinfo": "name",
         "legendgroup": "rgb(148, 103, 189)",
         "mode": "none",
         "name": "Job 4",
         "showlegend": true,
         "type": "scatter",
         "x": [
          "2023-10-15 0:04:15",
          "2023-10-15 0:05:25",
          "2023-10-15 0:05:25",
          "2023-10-15 0:04:15",
          "2023-10-15 0:04:15",
          "2023-10-15 0:08:49",
          "2023-10-15 0:08:53",
          "2023-10-15 0:08:53",
          "2023-10-15 0:08:49",
          "2023-10-15 0:08:49",
          "2023-10-15 0:10:23",
          "2023-10-15 0:11:35",
          "2023-10-15 0:11:35",
          "2023-10-15 0:10:23",
          "2023-10-15 0:10:23",
          "2023-10-15 0:14:57",
          "2023-10-15 0:16:27",
          "2023-10-15 0:16:27",
          "2023-10-15 0:14:57",
          "2023-10-15 0:14:57",
          "2023-10-15 0:12:01",
          "2023-10-15 0:13:33",
          "2023-10-15 0:13:33",
          "2023-10-15 0:12:01",
          "2023-10-15 0:12:01",
          "2023-10-15 0:13:33",
          "2023-10-15 0:14:57",
          "2023-10-15 0:14:57",
          "2023-10-15 0:13:33",
          "2023-10-15 0:13:33",
          "2023-10-15 0:05:25",
          "2023-10-15 0:06:30",
          "2023-10-15 0:06:30",
          "2023-10-15 0:05:25",
          "2023-10-15 0:05:25",
          "2023-10-15 0:03:45",
          "2023-10-15 0:04:15",
          "2023-10-15 0:04:15",
          "2023-10-15 0:03:45",
          "2023-10-15 0:03:45",
          "2023-10-15 0:11:35",
          "2023-10-15 0:12:01",
          "2023-10-15 0:12:01",
          "2023-10-15 0:11:35",
          "2023-10-15 0:11:35",
          "2023-10-15 0:06:30",
          "2023-10-15 0:07:48",
          "2023-10-15 0:07:48",
          "2023-10-15 0:06:30"
         ],
         "y": [
          8.8,
          8.8,
          9.2,
          9.2,
          null,
          7.8,
          7.8,
          8.2,
          8.2,
          null,
          6.8,
          6.8,
          7.2,
          7.2,
          null,
          5.8,
          5.8,
          6.2,
          6.2,
          null,
          4.8,
          4.8,
          5.2,
          5.2,
          null,
          3.8,
          3.8,
          4.2,
          4.2,
          null,
          2.8,
          2.8,
          3.2,
          3.2,
          null,
          1.8,
          1.8,
          2.2,
          2.2,
          null,
          0.8,
          0.8,
          1.2,
          1.2,
          null,
          -0.2,
          -0.2,
          0.2,
          0.2
         ]
        },
        {
         "fill": "toself",
         "fillcolor": "rgb(188, 189, 34)",
         "hoverinfo": "name",
         "legendgroup": "rgb(188, 189, 34)",
         "mode": "none",
         "name": "Job 8",
         "showlegend": true,
         "type": "scatter",
         "x": [
          "2023-10-15 0:06:10",
          "2023-10-15 0:06:48",
          "2023-10-15 0:06:48",
          "2023-10-15 0:06:10",
          "2023-10-15 0:06:10",
          "2023-10-15 0:10:16",
          "2023-10-15 0:11:30",
          "2023-10-15 0:11:30",
          "2023-10-15 0:10:16",
          "2023-10-15 0:10:16",
          "2023-10-15 0:00:44",
          "2023-10-15 0:00:55",
          "2023-10-15 0:00:55",
          "2023-10-15 0:00:44",
          "2023-10-15 0:00:44",
          "2023-10-15 0:01:27",
          "2023-10-15 0:01:36",
          "2023-10-15 0:01:36",
          "2023-10-15 0:01:27",
          "2023-10-15 0:01:27",
          "2023-10-15 0:11:30",
          "2023-10-15 0:11:55",
          "2023-10-15 0:11:55",
          "2023-10-15 0:11:30",
          "2023-10-15 0:11:30",
          "2023-10-15 0:06:48",
          "2023-10-15 0:08:09",
          "2023-10-15 0:08:09",
          "2023-10-15 0:06:48",
          "2023-10-15 0:06:48",
          "2023-10-15 0:08:09",
          "2023-10-15 0:09:29",
          "2023-10-15 0:09:29",
          "2023-10-15 0:08:09",
          "2023-10-15 0:08:09",
          "2023-10-15 0:04:15",
          "2023-10-15 0:05:26",
          "2023-10-15 0:05:26",
          "2023-10-15 0:04:15",
          "2023-10-15 0:04:15",
          "2023-10-15 0:14:36",
          "2023-10-15 0:16:07",
          "2023-10-15 0:16:07",
          "2023-10-15 0:14:36",
          "2023-10-15 0:14:36",
          "2023-10-15 0:09:29",
          "2023-10-15 0:10:16",
          "2023-10-15 0:10:16",
          "2023-10-15 0:09:29"
         ],
         "y": [
          8.8,
          8.8,
          9.2,
          9.2,
          null,
          7.8,
          7.8,
          8.2,
          8.2,
          null,
          6.8,
          6.8,
          7.2,
          7.2,
          null,
          5.8,
          5.8,
          6.2,
          6.2,
          null,
          4.8,
          4.8,
          5.2,
          5.2,
          null,
          3.8,
          3.8,
          4.2,
          4.2,
          null,
          2.8,
          2.8,
          3.2,
          3.2,
          null,
          1.8,
          1.8,
          2.2,
          2.2,
          null,
          0.8,
          0.8,
          1.2,
          1.2,
          null,
          -0.2,
          -0.2,
          0.2,
          0.2
         ]
        },
        {
         "fill": "toself",
         "fillcolor": "rgb(214, 39, 40)",
         "hoverinfo": "name",
         "legendgroup": "rgb(214, 39, 40)",
         "mode": "none",
         "name": "Job 3",
         "showlegend": true,
         "type": "scatter",
         "x": [
          "2023-10-15 0:08:26",
          "2023-10-15 0:10:01",
          "2023-10-15 0:10:01",
          "2023-10-15 0:08:26",
          "2023-10-15 0:08:26",
          "2023-10-15 0:14:24",
          "2023-10-15 0:14:29",
          "2023-10-15 0:14:29",
          "2023-10-15 0:14:24",
          "2023-10-15 0:14:24",
          "2023-10-15 0:12:13",
          "2023-10-15 0:13:29",
          "2023-10-15 0:13:29",
          "2023-10-15 0:12:13",
          "2023-10-15 0:12:13",
          "2023-10-15 0:00:00",
          "2023-10-15 0:01:27",
          "2023-10-15 0:01:27",
          "2023-10-15 0:00:00",
          "2023-10-15 0:00:00",
          "2023-10-15 0:02:29",
          "2023-10-15 0:02:57",
          "2023-10-15 0:02:57",
          "2023-10-15 0:02:29",
          "2023-10-15 0:02:29",
          "2023-10-15 0:10:51",
          "2023-10-15 0:12:01",
          "2023-10-15 0:12:01",
          "2023-10-15 0:10:51",
          "2023-10-15 0:10:51",
          "2023-10-15 0:14:33",
          "2023-10-15 0:14:45",
          "2023-10-15 0:14:45",
          "2023-10-15 0:14:33",
          "2023-10-15 0:14:33",
          "2023-10-15 0:14:29",
          "2023-10-15 0:14:33",
          "2023-10-15 0:14:33",
          "2023-10-15 0:14:29",
          "2023-10-15 0:14:29",
          "2023-10-15 0:13:29",
          "2023-10-15 0:14:24",
          "2023-10-15 0:14:24",
          "2023-10-15 0:13:29",
          "2023-10-15 0:13:29",
          "2023-10-15 0:12:01",
          "2023-10-15 0:12:13",
          "2023-10-15 0:12:13",
          "2023-10-15 0:12:01"
         ],
         "y": [
          8.8,
          8.8,
          9.2,
          9.2,
          null,
          7.8,
          7.8,
          8.2,
          8.2,
          null,
          6.8,
          6.8,
          7.2,
          7.2,
          null,
          5.8,
          5.8,
          6.2,
          6.2,
          null,
          4.8,
          4.8,
          5.2,
          5.2,
          null,
          3.8,
          3.8,
          4.2,
          4.2,
          null,
          2.8,
          2.8,
          3.2,
          3.2,
          null,
          1.8,
          1.8,
          2.2,
          2.2,
          null,
          0.8,
          0.8,
          1.2,
          1.2,
          null,
          -0.2,
          -0.2,
          0.2,
          0.2
         ]
        },
        {
         "fill": "toself",
         "fillcolor": "rgb(227, 119, 194)",
         "hoverinfo": "name",
         "legendgroup": "rgb(227, 119, 194)",
         "mode": "none",
         "name": "Job 6",
         "showlegend": true,
         "type": "scatter",
         "x": [
          "2023-10-15 0:06:48",
          "2023-10-15 0:08:26",
          "2023-10-15 0:08:26",
          "2023-10-15 0:06:48",
          "2023-10-15 0:06:48",
          "2023-10-15 0:14:36",
          "2023-10-15 0:15:25",
          "2023-10-15 0:15:25",
          "2023-10-15 0:14:36",
          "2023-10-15 0:14:36",
          "2023-10-15 0:00:00",
          "2023-10-15 0:00:44",
          "2023-10-15 0:00:44",
          "2023-10-15 0:00:00",
          "2023-10-15 0:00:00",
          "2023-10-15 0:12:13",
          "2023-10-15 0:12:57",
          "2023-10-15 0:12:57",
          "2023-10-15 0:12:13",
          "2023-10-15 0:12:13",
          "2023-10-15 0:03:12",
          "2023-10-15 0:03:40",
          "2023-10-15 0:03:40",
          "2023-10-15 0:03:12",
          "2023-10-15 0:03:12",
          "2023-10-15 0:00:44",
          "2023-10-15 0:00:57",
          "2023-10-15 0:00:57",
          "2023-10-15 0:00:44",
          "2023-10-15 0:00:44",
          "2023-10-15 0:02:52",
          "2023-10-15 0:03:12",
          "2023-10-15 0:03:12",
          "2023-10-15 0:02:52",
          "2023-10-15 0:02:52",
          "2023-10-15 0:12:57",
          "2023-10-15 0:13:11",
          "2023-10-15 0:13:11",
          "2023-10-15 0:12:57",
          "2023-10-15 0:12:57",
          "2023-10-15 0:14:24",
          "2023-10-15 0:14:36",
          "2023-10-15 0:14:36",
          "2023-10-15 0:14:24",
          "2023-10-15 0:14:24",
          "2023-10-15 0:01:30",
          "2023-10-15 0:02:06",
          "2023-10-15 0:02:06",
          "2023-10-15 0:01:30"
         ],
         "y": [
          8.8,
          8.8,
          9.2,
          9.2,
          null,
          7.8,
          7.8,
          8.2,
          8.2,
          null,
          6.8,
          6.8,
          7.2,
          7.2,
          null,
          5.8,
          5.8,
          6.2,
          6.2,
          null,
          4.8,
          4.8,
          5.2,
          5.2,
          null,
          3.8,
          3.8,
          4.2,
          4.2,
          null,
          2.8,
          2.8,
          3.2,
          3.2,
          null,
          1.8,
          1.8,
          2.2,
          2.2,
          null,
          0.8,
          0.8,
          1.2,
          1.2,
          null,
          -0.2,
          -0.2,
          0.2,
          0.2
         ]
        },
        {
         "fill": "toself",
         "fillcolor": "rgb(23, 190, 207)",
         "hoverinfo": "name",
         "legendgroup": "rgb(23, 190, 207)",
         "mode": "none",
         "name": "Job 9",
         "showlegend": true,
         "type": "scatter",
         "x": [
          "2023-10-15 0:13:44",
          "2023-10-15 0:14:14",
          "2023-10-15 0:14:14",
          "2023-10-15 0:13:44",
          "2023-10-15 0:13:44",
          "2023-10-15 0:11:30",
          "2023-10-15 0:12:08",
          "2023-10-15 0:12:08",
          "2023-10-15 0:11:30",
          "2023-10-15 0:11:30",
          "2023-10-15 0:05:47",
          "2023-10-15 0:06:17",
          "2023-10-15 0:06:17",
          "2023-10-15 0:05:47",
          "2023-10-15 0:05:47",
          "2023-10-15 0:02:25",
          "2023-10-15 0:03:50",
          "2023-10-15 0:03:50",
          "2023-10-15 0:02:25",
          "2023-10-15 0:02:25",
          "2023-10-15 0:13:33",
          "2023-10-15 0:13:44",
          "2023-10-15 0:13:44",
          "2023-10-15 0:13:33",
          "2023-10-15 0:13:33",
          "2023-10-15 0:14:57",
          "2023-10-15 0:15:46",
          "2023-10-15 0:15:46",
          "2023-10-15 0:14:57",
          "2023-10-15 0:14:57",
          "2023-10-15 0:14:14",
          "2023-10-15 0:14:27",
          "2023-10-15 0:14:27",
          "2023-10-15 0:14:14",
          "2023-10-15 0:14:14",
          "2023-10-15 0:06:17",
          "2023-10-15 0:07:56",
          "2023-10-15 0:07:56",
          "2023-10-15 0:06:17",
          "2023-10-15 0:06:17",
          "2023-10-15 0:00:00",
          "2023-10-15 0:00:06",
          "2023-10-15 0:00:06",
          "2023-10-15 0:00:00",
          "2023-10-15 0:00:00",
          "2023-10-15 0:00:54",
          "2023-10-15 0:01:30",
          "2023-10-15 0:01:30",
          "2023-10-15 0:00:54"
         ],
         "y": [
          8.8,
          8.8,
          9.2,
          9.2,
          null,
          7.8,
          7.8,
          8.2,
          8.2,
          null,
          6.8,
          6.8,
          7.2,
          7.2,
          null,
          5.8,
          5.8,
          6.2,
          6.2,
          null,
          4.8,
          4.8,
          5.2,
          5.2,
          null,
          3.8,
          3.8,
          4.2,
          4.2,
          null,
          2.8,
          2.8,
          3.2,
          3.2,
          null,
          1.8,
          1.8,
          2.2,
          2.2,
          null,
          0.8,
          0.8,
          1.2,
          1.2,
          null,
          -0.2,
          -0.2,
          0.2,
          0.2
         ]
        },
        {
         "fill": "toself",
         "fillcolor": "rgb(255, 127, 14)",
         "hoverinfo": "name",
         "legendgroup": "rgb(255, 127, 14)",
         "mode": "none",
         "name": "Job 10",
         "showlegend": true,
         "type": "scatter",
         "x": [
          "2023-10-15 0:00:00",
          "2023-10-15 0:00:59",
          "2023-10-15 0:00:59",
          "2023-10-15 0:00:00",
          "2023-10-15 0:00:00",
          "2023-10-15 0:02:29",
          "2023-10-15 0:03:51",
          "2023-10-15 0:03:51",
          "2023-10-15 0:02:29",
          "2023-10-15 0:02:29",
          "2023-10-15 0:04:59",
          "2023-10-15 0:05:47",
          "2023-10-15 0:05:47",
          "2023-10-15 0:04:59",
          "2023-10-15 0:04:59",
          "2023-10-15 0:08:47",
          "2023-10-15 0:10:13",
          "2023-10-15 0:10:13",
          "2023-10-15 0:08:47",
          "2023-10-15 0:08:47",
          "2023-10-15 0:00:59",
          "2023-10-15 0:02:29",
          "2023-10-15 0:02:29",
          "2023-10-15 0:00:59",
          "2023-10-15 0:00:59",
          "2023-10-15 0:03:51",
          "2023-10-15 0:04:38",
          "2023-10-15 0:04:38",
          "2023-10-15 0:03:51",
          "2023-10-15 0:03:51",
          "2023-10-15 0:04:38",
          "2023-10-15 0:04:59",
          "2023-10-15 0:04:59",
          "2023-10-15 0:04:38",
          "2023-10-15 0:04:38",
          "2023-10-15 0:14:33",
          "2023-10-15 0:15:08",
          "2023-10-15 0:15:08",
          "2023-10-15 0:14:33",
          "2023-10-15 0:14:33",
          "2023-10-15 0:06:49",
          "2023-10-15 0:07:35",
          "2023-10-15 0:07:35",
          "2023-10-15 0:06:49",
          "2023-10-15 0:06:49",
          "2023-10-15 0:08:20",
          "2023-10-15 0:08:47",
          "2023-10-15 0:08:47",
          "2023-10-15 0:08:20"
         ],
         "y": [
          8.8,
          8.8,
          9.2,
          9.2,
          null,
          7.8,
          7.8,
          8.2,
          8.2,
          null,
          6.8,
          6.8,
          7.2,
          7.2,
          null,
          5.8,
          5.8,
          6.2,
          6.2,
          null,
          4.8,
          4.8,
          5.2,
          5.2,
          null,
          3.8,
          3.8,
          4.2,
          4.2,
          null,
          2.8,
          2.8,
          3.2,
          3.2,
          null,
          1.8,
          1.8,
          2.2,
          2.2,
          null,
          0.8,
          0.8,
          1.2,
          1.2,
          null,
          -0.2,
          -0.2,
          0.2,
          0.2
         ]
        },
        {
         "fill": "toself",
         "fillcolor": "rgb(31, 119, 180)",
         "hoverinfo": "name",
         "legendgroup": "rgb(31, 119, 180)",
         "mode": "none",
         "name": "Job 1",
         "showlegend": true,
         "type": "scatter",
         "x": [
          "2023-10-15 0:03:45",
          "2023-10-15 0:03:59",
          "2023-10-15 0:03:59",
          "2023-10-15 0:03:45",
          "2023-10-15 0:03:45",
          "2023-10-15 0:08:20",
          "2023-10-15 0:08:49",
          "2023-10-15 0:08:49",
          "2023-10-15 0:08:20",
          "2023-10-15 0:08:20",
          "2023-10-15 0:11:35",
          "2023-10-15 0:11:53",
          "2023-10-15 0:11:53",
          "2023-10-15 0:11:35",
          "2023-10-15 0:11:35",
          "2023-10-15 0:12:57",
          "2023-10-15 0:14:32",
          "2023-10-15 0:14:32",
          "2023-10-15 0:12:57",
          "2023-10-15 0:12:57",
          "2023-10-15 0:04:14",
          "2023-10-15 0:04:18",
          "2023-10-15 0:04:18",
          "2023-10-15 0:04:14",
          "2023-10-15 0:04:14",
          "2023-10-15 0:04:38",
          "2023-10-15 0:06:13",
          "2023-10-15 0:06:13",
          "2023-10-15 0:04:38",
          "2023-10-15 0:04:38",
          "2023-10-15 0:03:59",
          "2023-10-15 0:04:14",
          "2023-10-15 0:04:14",
          "2023-10-15 0:03:59",
          "2023-10-15 0:03:59",
          "2023-10-15 0:02:23",
          "2023-10-15 0:03:45",
          "2023-10-15 0:03:45",
          "2023-10-15 0:02:23",
          "2023-10-15 0:02:23",
          "2023-10-15 0:06:13",
          "2023-10-15 0:06:49",
          "2023-10-15 0:06:49",
          "2023-10-15 0:06:13",
          "2023-10-15 0:06:13",
          "2023-10-15 0:07:48",
          "2023-10-15 0:08:20",
          "2023-10-15 0:08:20",
          "2023-10-15 0:07:48"
         ],
         "y": [
          8.8,
          8.8,
          9.2,
          9.2,
          null,
          7.8,
          7.8,
          8.2,
          8.2,
          null,
          6.8,
          6.8,
          7.2,
          7.2,
          null,
          5.8,
          5.8,
          6.2,
          6.2,
          null,
          4.8,
          4.8,
          5.2,
          5.2,
          null,
          3.8,
          3.8,
          4.2,
          4.2,
          null,
          2.8,
          2.8,
          3.2,
          3.2,
          null,
          1.8,
          1.8,
          2.2,
          2.2,
          null,
          0.8,
          0.8,
          1.2,
          1.2,
          null,
          -0.2,
          -0.2,
          0.2,
          0.2
         ]
        },
        {
         "fill": "toself",
         "fillcolor": "rgb(44, 160, 44)",
         "hoverinfo": "name",
         "legendgroup": "rgb(44, 160, 44)",
         "mode": "none",
         "name": "Job 2",
         "showlegend": true,
         "type": "scatter",
         "x": [
          "2023-10-15 0:01:28",
          "2023-10-15 0:01:49",
          "2023-10-15 0:01:49",
          "2023-10-15 0:01:28",
          "2023-10-15 0:01:28",
          "2023-10-15 0:05:07",
          "2023-10-15 0:06:30",
          "2023-10-15 0:06:30",
          "2023-10-15 0:05:07",
          "2023-10-15 0:05:07",
          "2023-10-15 0:06:30",
          "2023-10-15 0:06:40",
          "2023-10-15 0:06:40",
          "2023-10-15 0:06:30",
          "2023-10-15 0:06:30",
          "2023-10-15 0:11:51",
          "2023-10-15 0:12:13",
          "2023-10-15 0:12:13",
          "2023-10-15 0:11:51",
          "2023-10-15 0:11:51",
          "2023-10-15 0:13:44",
          "2023-10-15 0:15:18",
          "2023-10-15 0:15:18",
          "2023-10-15 0:13:44",
          "2023-10-15 0:13:44",
          "2023-10-15 0:09:29",
          "2023-10-15 0:10:51",
          "2023-10-15 0:10:51",
          "2023-10-15 0:09:29",
          "2023-10-15 0:09:29",
          "2023-10-15 0:12:13",
          "2023-10-15 0:13:22",
          "2023-10-15 0:13:22",
          "2023-10-15 0:12:13",
          "2023-10-15 0:12:13",
          "2023-10-15 0:00:00",
          "2023-10-15 0:01:28",
          "2023-10-15 0:01:28",
          "2023-10-15 0:00:00",
          "2023-10-15 0:00:00",
          "2023-10-15 0:08:11",
          "2023-10-15 0:09:29",
          "2023-10-15 0:09:29",
          "2023-10-15 0:08:11",
          "2023-10-15 0:08:11",
          "2023-10-15 0:15:18",
          "2023-10-15 0:15:50",
          "2023-10-15 0:15:50",
          "2023-10-15 0:15:18"
         ],
         "y": [
          8.8,
          8.8,
          9.2,
          9.2,
          null,
          7.8,
          7.8,
          8.2,
          8.2,
          null,
          6.8,
          6.8,
          7.2,
          7.2,
          null,
          5.8,
          5.8,
          6.2,
          6.2,
          null,
          4.8,
          4.8,
          5.2,
          5.2,
          null,
          3.8,
          3.8,
          4.2,
          4.2,
          null,
          2.8,
          2.8,
          3.2,
          3.2,
          null,
          1.8,
          1.8,
          2.2,
          2.2,
          null,
          0.8,
          0.8,
          1.2,
          1.2,
          null,
          -0.2,
          -0.2,
          0.2,
          0.2
         ]
        },
        {
         "legendgroup": "rgb(127, 127, 127)",
         "marker": {
          "color": "rgb(127, 127, 127)",
          "opacity": 0,
          "size": 1
         },
         "mode": "markers",
         "name": "",
         "showlegend": false,
         "text": [
          null,
          null,
          null,
          null,
          null,
          null,
          null,
          null,
          null,
          null,
          null,
          null,
          null,
          null,
          null,
          null,
          null,
          null,
          null,
          null
         ],
         "type": "scatter",
         "x": [
          "2023-10-15 0:05:25",
          "2023-10-15 0:06:10",
          "2023-10-15 0:06:30",
          "2023-10-15 0:07:48",
          "2023-10-15 0:08:49",
          "2023-10-15 0:10:23",
          "2023-10-15 0:01:36",
          "2023-10-15 0:02:25",
          "2023-10-15 0:08:43",
          "2023-10-15 0:08:49",
          "2023-10-15 0:08:09",
          "2023-10-15 0:08:43",
          "2023-10-15 0:10:23",
          "2023-10-15 0:11:22",
          "2023-10-15 0:13:22",
          "2023-10-15 0:13:38",
          "2023-10-15 0:00:06",
          "2023-10-15 0:00:52",
          "2023-10-15 0:12:13",
          "2023-10-15 0:13:22"
         ],
         "y": [
          9,
          9,
          8,
          8,
          7,
          7,
          6,
          6,
          5,
          5,
          4,
          4,
          3,
          3,
          2,
          2,
          1,
          1,
          0,
          0
         ]
        },
        {
         "legendgroup": "rgb(140, 86, 75)",
         "marker": {
          "color": "rgb(140, 86, 75)",
          "opacity": 0,
          "size": 1
         },
         "mode": "markers",
         "name": "",
         "showlegend": false,
         "text": [
          null,
          null,
          null,
          null,
          null,
          null,
          null,
          null,
          null,
          null,
          null,
          null,
          null,
          null,
          null,
          null,
          null,
          null,
          null,
          null
         ],
         "type": "scatter",
         "x": [
          "2023-10-15 0:11:51",
          "2023-10-15 0:12:12",
          "2023-10-15 0:03:51",
          "2023-10-15 0:05:07",
          "2023-10-15 0:13:29",
          "2023-10-15 0:14:59",
          "2023-10-15 0:10:13",
          "2023-10-15 0:11:51",
          "2023-10-15 0:08:49",
          "2023-10-15 0:08:50",
          "2023-10-15 0:02:52",
          "2023-10-15 0:03:50",
          "2023-10-15 0:02:23",
          "2023-10-15 0:02:52",
          "2023-10-15 0:01:28",
          "2023-10-15 0:02:23",
          "2023-10-15 0:07:35",
          "2023-10-15 0:08:11",
          "2023-10-15 0:00:00",
          "2023-10-15 0:00:54"
         ],
         "y": [
          9,
          9,
          8,
          8,
          7,
          7,
          6,
          6,
          5,
          5,
          4,
          4,
          3,
          3,
          2,
          2,
          1,
          1,
          0,
          0
         ]
        },
        {
         "legendgroup": "rgb(148, 103, 189)",
         "marker": {
          "color": "rgb(148, 103, 189)",
          "opacity": 0,
          "size": 1
         },
         "mode": "markers",
         "name": "",
         "showlegend": false,
         "text": [
          null,
          null,
          null,
          null,
          null,
          null,
          null,
          null,
          null,
          null,
          null,
          null,
          null,
          null,
          null,
          null,
          null,
          null,
          null,
          null
         ],
         "type": "scatter",
         "x": [
          "2023-10-15 0:04:15",
          "2023-10-15 0:05:25",
          "2023-10-15 0:08:49",
          "2023-10-15 0:08:53",
          "2023-10-15 0:10:23",
          "2023-10-15 0:11:35",
          "2023-10-15 0:14:57",
          "2023-10-15 0:16:27",
          "2023-10-15 0:12:01",
          "2023-10-15 0:13:33",
          "2023-10-15 0:13:33",
          "2023-10-15 0:14:57",
          "2023-10-15 0:05:25",
          "2023-10-15 0:06:30",
          "2023-10-15 0:03:45",
          "2023-10-15 0:04:15",
          "2023-10-15 0:11:35",
          "2023-10-15 0:12:01",
          "2023-10-15 0:06:30",
          "2023-10-15 0:07:48"
         ],
         "y": [
          9,
          9,
          8,
          8,
          7,
          7,
          6,
          6,
          5,
          5,
          4,
          4,
          3,
          3,
          2,
          2,
          1,
          1,
          0,
          0
         ]
        },
        {
         "legendgroup": "rgb(188, 189, 34)",
         "marker": {
          "color": "rgb(188, 189, 34)",
          "opacity": 0,
          "size": 1
         },
         "mode": "markers",
         "name": "",
         "showlegend": false,
         "text": [
          null,
          null,
          null,
          null,
          null,
          null,
          null,
          null,
          null,
          null,
          null,
          null,
          null,
          null,
          null,
          null,
          null,
          null,
          null,
          null
         ],
         "type": "scatter",
         "x": [
          "2023-10-15 0:06:10",
          "2023-10-15 0:06:48",
          "2023-10-15 0:10:16",
          "2023-10-15 0:11:30",
          "2023-10-15 0:00:44",
          "2023-10-15 0:00:55",
          "2023-10-15 0:01:27",
          "2023-10-15 0:01:36",
          "2023-10-15 0:11:30",
          "2023-10-15 0:11:55",
          "2023-10-15 0:06:48",
          "2023-10-15 0:08:09",
          "2023-10-15 0:08:09",
          "2023-10-15 0:09:29",
          "2023-10-15 0:04:15",
          "2023-10-15 0:05:26",
          "2023-10-15 0:14:36",
          "2023-10-15 0:16:07",
          "2023-10-15 0:09:29",
          "2023-10-15 0:10:16"
         ],
         "y": [
          9,
          9,
          8,
          8,
          7,
          7,
          6,
          6,
          5,
          5,
          4,
          4,
          3,
          3,
          2,
          2,
          1,
          1,
          0,
          0
         ]
        },
        {
         "legendgroup": "rgb(214, 39, 40)",
         "marker": {
          "color": "rgb(214, 39, 40)",
          "opacity": 0,
          "size": 1
         },
         "mode": "markers",
         "name": "",
         "showlegend": false,
         "text": [
          null,
          null,
          null,
          null,
          null,
          null,
          null,
          null,
          null,
          null,
          null,
          null,
          null,
          null,
          null,
          null,
          null,
          null,
          null,
          null
         ],
         "type": "scatter",
         "x": [
          "2023-10-15 0:08:26",
          "2023-10-15 0:10:01",
          "2023-10-15 0:14:24",
          "2023-10-15 0:14:29",
          "2023-10-15 0:12:13",
          "2023-10-15 0:13:29",
          "2023-10-15 0:00:00",
          "2023-10-15 0:01:27",
          "2023-10-15 0:02:29",
          "2023-10-15 0:02:57",
          "2023-10-15 0:10:51",
          "2023-10-15 0:12:01",
          "2023-10-15 0:14:33",
          "2023-10-15 0:14:45",
          "2023-10-15 0:14:29",
          "2023-10-15 0:14:33",
          "2023-10-15 0:13:29",
          "2023-10-15 0:14:24",
          "2023-10-15 0:12:01",
          "2023-10-15 0:12:13"
         ],
         "y": [
          9,
          9,
          8,
          8,
          7,
          7,
          6,
          6,
          5,
          5,
          4,
          4,
          3,
          3,
          2,
          2,
          1,
          1,
          0,
          0
         ]
        },
        {
         "legendgroup": "rgb(227, 119, 194)",
         "marker": {
          "color": "rgb(227, 119, 194)",
          "opacity": 0,
          "size": 1
         },
         "mode": "markers",
         "name": "",
         "showlegend": false,
         "text": [
          null,
          null,
          null,
          null,
          null,
          null,
          null,
          null,
          null,
          null,
          null,
          null,
          null,
          null,
          null,
          null,
          null,
          null,
          null,
          null
         ],
         "type": "scatter",
         "x": [
          "2023-10-15 0:06:48",
          "2023-10-15 0:08:26",
          "2023-10-15 0:14:36",
          "2023-10-15 0:15:25",
          "2023-10-15 0:00:00",
          "2023-10-15 0:00:44",
          "2023-10-15 0:12:13",
          "2023-10-15 0:12:57",
          "2023-10-15 0:03:12",
          "2023-10-15 0:03:40",
          "2023-10-15 0:00:44",
          "2023-10-15 0:00:57",
          "2023-10-15 0:02:52",
          "2023-10-15 0:03:12",
          "2023-10-15 0:12:57",
          "2023-10-15 0:13:11",
          "2023-10-15 0:14:24",
          "2023-10-15 0:14:36",
          "2023-10-15 0:01:30",
          "2023-10-15 0:02:06"
         ],
         "y": [
          9,
          9,
          8,
          8,
          7,
          7,
          6,
          6,
          5,
          5,
          4,
          4,
          3,
          3,
          2,
          2,
          1,
          1,
          0,
          0
         ]
        },
        {
         "legendgroup": "rgb(23, 190, 207)",
         "marker": {
          "color": "rgb(23, 190, 207)",
          "opacity": 0,
          "size": 1
         },
         "mode": "markers",
         "name": "",
         "showlegend": false,
         "text": [
          null,
          null,
          null,
          null,
          null,
          null,
          null,
          null,
          null,
          null,
          null,
          null,
          null,
          null,
          null,
          null,
          null,
          null,
          null,
          null
         ],
         "type": "scatter",
         "x": [
          "2023-10-15 0:13:44",
          "2023-10-15 0:14:14",
          "2023-10-15 0:11:30",
          "2023-10-15 0:12:08",
          "2023-10-15 0:05:47",
          "2023-10-15 0:06:17",
          "2023-10-15 0:02:25",
          "2023-10-15 0:03:50",
          "2023-10-15 0:13:33",
          "2023-10-15 0:13:44",
          "2023-10-15 0:14:57",
          "2023-10-15 0:15:46",
          "2023-10-15 0:14:14",
          "2023-10-15 0:14:27",
          "2023-10-15 0:06:17",
          "2023-10-15 0:07:56",
          "2023-10-15 0:00:00",
          "2023-10-15 0:00:06",
          "2023-10-15 0:00:54",
          "2023-10-15 0:01:30"
         ],
         "y": [
          9,
          9,
          8,
          8,
          7,
          7,
          6,
          6,
          5,
          5,
          4,
          4,
          3,
          3,
          2,
          2,
          1,
          1,
          0,
          0
         ]
        },
        {
         "legendgroup": "rgb(255, 127, 14)",
         "marker": {
          "color": "rgb(255, 127, 14)",
          "opacity": 0,
          "size": 1
         },
         "mode": "markers",
         "name": "",
         "showlegend": false,
         "text": [
          null,
          null,
          null,
          null,
          null,
          null,
          null,
          null,
          null,
          null,
          null,
          null,
          null,
          null,
          null,
          null,
          null,
          null,
          null,
          null
         ],
         "type": "scatter",
         "x": [
          "2023-10-15 0:00:00",
          "2023-10-15 0:00:59",
          "2023-10-15 0:02:29",
          "2023-10-15 0:03:51",
          "2023-10-15 0:04:59",
          "2023-10-15 0:05:47",
          "2023-10-15 0:08:47",
          "2023-10-15 0:10:13",
          "2023-10-15 0:00:59",
          "2023-10-15 0:02:29",
          "2023-10-15 0:03:51",
          "2023-10-15 0:04:38",
          "2023-10-15 0:04:38",
          "2023-10-15 0:04:59",
          "2023-10-15 0:14:33",
          "2023-10-15 0:15:08",
          "2023-10-15 0:06:49",
          "2023-10-15 0:07:35",
          "2023-10-15 0:08:20",
          "2023-10-15 0:08:47"
         ],
         "y": [
          9,
          9,
          8,
          8,
          7,
          7,
          6,
          6,
          5,
          5,
          4,
          4,
          3,
          3,
          2,
          2,
          1,
          1,
          0,
          0
         ]
        },
        {
         "legendgroup": "rgb(31, 119, 180)",
         "marker": {
          "color": "rgb(31, 119, 180)",
          "opacity": 0,
          "size": 1
         },
         "mode": "markers",
         "name": "",
         "showlegend": false,
         "text": [
          null,
          null,
          null,
          null,
          null,
          null,
          null,
          null,
          null,
          null,
          null,
          null,
          null,
          null,
          null,
          null,
          null,
          null,
          null,
          null
         ],
         "type": "scatter",
         "x": [
          "2023-10-15 0:03:45",
          "2023-10-15 0:03:59",
          "2023-10-15 0:08:20",
          "2023-10-15 0:08:49",
          "2023-10-15 0:11:35",
          "2023-10-15 0:11:53",
          "2023-10-15 0:12:57",
          "2023-10-15 0:14:32",
          "2023-10-15 0:04:14",
          "2023-10-15 0:04:18",
          "2023-10-15 0:04:38",
          "2023-10-15 0:06:13",
          "2023-10-15 0:03:59",
          "2023-10-15 0:04:14",
          "2023-10-15 0:02:23",
          "2023-10-15 0:03:45",
          "2023-10-15 0:06:13",
          "2023-10-15 0:06:49",
          "2023-10-15 0:07:48",
          "2023-10-15 0:08:20"
         ],
         "y": [
          9,
          9,
          8,
          8,
          7,
          7,
          6,
          6,
          5,
          5,
          4,
          4,
          3,
          3,
          2,
          2,
          1,
          1,
          0,
          0
         ]
        },
        {
         "legendgroup": "rgb(44, 160, 44)",
         "marker": {
          "color": "rgb(44, 160, 44)",
          "opacity": 0,
          "size": 1
         },
         "mode": "markers",
         "name": "",
         "showlegend": false,
         "text": [
          null,
          null,
          null,
          null,
          null,
          null,
          null,
          null,
          null,
          null,
          null,
          null,
          null,
          null,
          null,
          null,
          null,
          null,
          null,
          null
         ],
         "type": "scatter",
         "x": [
          "2023-10-15 0:01:28",
          "2023-10-15 0:01:49",
          "2023-10-15 0:05:07",
          "2023-10-15 0:06:30",
          "2023-10-15 0:06:30",
          "2023-10-15 0:06:40",
          "2023-10-15 0:11:51",
          "2023-10-15 0:12:13",
          "2023-10-15 0:13:44",
          "2023-10-15 0:15:18",
          "2023-10-15 0:09:29",
          "2023-10-15 0:10:51",
          "2023-10-15 0:12:13",
          "2023-10-15 0:13:22",
          "2023-10-15 0:00:00",
          "2023-10-15 0:01:28",
          "2023-10-15 0:08:11",
          "2023-10-15 0:09:29",
          "2023-10-15 0:15:18",
          "2023-10-15 0:15:50"
         ],
         "y": [
          9,
          9,
          8,
          8,
          7,
          7,
          6,
          6,
          5,
          5,
          4,
          4,
          3,
          3,
          2,
          2,
          1,
          1,
          0,
          0
         ]
        }
       ],
       "layout": {
        "autosize": true,
        "hovermode": "closest",
        "showlegend": true,
        "template": {
         "data": {
          "bar": [
           {
            "error_x": {
             "color": "#2a3f5f"
            },
            "error_y": {
             "color": "#2a3f5f"
            },
            "marker": {
             "line": {
              "color": "#E5ECF6",
              "width": 0.5
             },
             "pattern": {
              "fillmode": "overlay",
              "size": 10,
              "solidity": 0.2
             }
            },
            "type": "bar"
           }
          ],
          "barpolar": [
           {
            "marker": {
             "line": {
              "color": "#E5ECF6",
              "width": 0.5
             },
             "pattern": {
              "fillmode": "overlay",
              "size": 10,
              "solidity": 0.2
             }
            },
            "type": "barpolar"
           }
          ],
          "carpet": [
           {
            "aaxis": {
             "endlinecolor": "#2a3f5f",
             "gridcolor": "white",
             "linecolor": "white",
             "minorgridcolor": "white",
             "startlinecolor": "#2a3f5f"
            },
            "baxis": {
             "endlinecolor": "#2a3f5f",
             "gridcolor": "white",
             "linecolor": "white",
             "minorgridcolor": "white",
             "startlinecolor": "#2a3f5f"
            },
            "type": "carpet"
           }
          ],
          "choropleth": [
           {
            "colorbar": {
             "outlinewidth": 0,
             "ticks": ""
            },
            "type": "choropleth"
           }
          ],
          "contour": [
           {
            "colorbar": {
             "outlinewidth": 0,
             "ticks": ""
            },
            "colorscale": [
             [
              0,
              "#0d0887"
             ],
             [
              0.1111111111111111,
              "#46039f"
             ],
             [
              0.2222222222222222,
              "#7201a8"
             ],
             [
              0.3333333333333333,
              "#9c179e"
             ],
             [
              0.4444444444444444,
              "#bd3786"
             ],
             [
              0.5555555555555556,
              "#d8576b"
             ],
             [
              0.6666666666666666,
              "#ed7953"
             ],
             [
              0.7777777777777778,
              "#fb9f3a"
             ],
             [
              0.8888888888888888,
              "#fdca26"
             ],
             [
              1,
              "#f0f921"
             ]
            ],
            "type": "contour"
           }
          ],
          "contourcarpet": [
           {
            "colorbar": {
             "outlinewidth": 0,
             "ticks": ""
            },
            "type": "contourcarpet"
           }
          ],
          "heatmap": [
           {
            "colorbar": {
             "outlinewidth": 0,
             "ticks": ""
            },
            "colorscale": [
             [
              0,
              "#0d0887"
             ],
             [
              0.1111111111111111,
              "#46039f"
             ],
             [
              0.2222222222222222,
              "#7201a8"
             ],
             [
              0.3333333333333333,
              "#9c179e"
             ],
             [
              0.4444444444444444,
              "#bd3786"
             ],
             [
              0.5555555555555556,
              "#d8576b"
             ],
             [
              0.6666666666666666,
              "#ed7953"
             ],
             [
              0.7777777777777778,
              "#fb9f3a"
             ],
             [
              0.8888888888888888,
              "#fdca26"
             ],
             [
              1,
              "#f0f921"
             ]
            ],
            "type": "heatmap"
           }
          ],
          "heatmapgl": [
           {
            "colorbar": {
             "outlinewidth": 0,
             "ticks": ""
            },
            "colorscale": [
             [
              0,
              "#0d0887"
             ],
             [
              0.1111111111111111,
              "#46039f"
             ],
             [
              0.2222222222222222,
              "#7201a8"
             ],
             [
              0.3333333333333333,
              "#9c179e"
             ],
             [
              0.4444444444444444,
              "#bd3786"
             ],
             [
              0.5555555555555556,
              "#d8576b"
             ],
             [
              0.6666666666666666,
              "#ed7953"
             ],
             [
              0.7777777777777778,
              "#fb9f3a"
             ],
             [
              0.8888888888888888,
              "#fdca26"
             ],
             [
              1,
              "#f0f921"
             ]
            ],
            "type": "heatmapgl"
           }
          ],
          "histogram": [
           {
            "marker": {
             "pattern": {
              "fillmode": "overlay",
              "size": 10,
              "solidity": 0.2
             }
            },
            "type": "histogram"
           }
          ],
          "histogram2d": [
           {
            "colorbar": {
             "outlinewidth": 0,
             "ticks": ""
            },
            "colorscale": [
             [
              0,
              "#0d0887"
             ],
             [
              0.1111111111111111,
              "#46039f"
             ],
             [
              0.2222222222222222,
              "#7201a8"
             ],
             [
              0.3333333333333333,
              "#9c179e"
             ],
             [
              0.4444444444444444,
              "#bd3786"
             ],
             [
              0.5555555555555556,
              "#d8576b"
             ],
             [
              0.6666666666666666,
              "#ed7953"
             ],
             [
              0.7777777777777778,
              "#fb9f3a"
             ],
             [
              0.8888888888888888,
              "#fdca26"
             ],
             [
              1,
              "#f0f921"
             ]
            ],
            "type": "histogram2d"
           }
          ],
          "histogram2dcontour": [
           {
            "colorbar": {
             "outlinewidth": 0,
             "ticks": ""
            },
            "colorscale": [
             [
              0,
              "#0d0887"
             ],
             [
              0.1111111111111111,
              "#46039f"
             ],
             [
              0.2222222222222222,
              "#7201a8"
             ],
             [
              0.3333333333333333,
              "#9c179e"
             ],
             [
              0.4444444444444444,
              "#bd3786"
             ],
             [
              0.5555555555555556,
              "#d8576b"
             ],
             [
              0.6666666666666666,
              "#ed7953"
             ],
             [
              0.7777777777777778,
              "#fb9f3a"
             ],
             [
              0.8888888888888888,
              "#fdca26"
             ],
             [
              1,
              "#f0f921"
             ]
            ],
            "type": "histogram2dcontour"
           }
          ],
          "mesh3d": [
           {
            "colorbar": {
             "outlinewidth": 0,
             "ticks": ""
            },
            "type": "mesh3d"
           }
          ],
          "parcoords": [
           {
            "line": {
             "colorbar": {
              "outlinewidth": 0,
              "ticks": ""
             }
            },
            "type": "parcoords"
           }
          ],
          "pie": [
           {
            "automargin": true,
            "type": "pie"
           }
          ],
          "scatter": [
           {
            "fillpattern": {
             "fillmode": "overlay",
             "size": 10,
             "solidity": 0.2
            },
            "type": "scatter"
           }
          ],
          "scatter3d": [
           {
            "line": {
             "colorbar": {
              "outlinewidth": 0,
              "ticks": ""
             }
            },
            "marker": {
             "colorbar": {
              "outlinewidth": 0,
              "ticks": ""
             }
            },
            "type": "scatter3d"
           }
          ],
          "scattercarpet": [
           {
            "marker": {
             "colorbar": {
              "outlinewidth": 0,
              "ticks": ""
             }
            },
            "type": "scattercarpet"
           }
          ],
          "scattergeo": [
           {
            "marker": {
             "colorbar": {
              "outlinewidth": 0,
              "ticks": ""
             }
            },
            "type": "scattergeo"
           }
          ],
          "scattergl": [
           {
            "marker": {
             "colorbar": {
              "outlinewidth": 0,
              "ticks": ""
             }
            },
            "type": "scattergl"
           }
          ],
          "scattermapbox": [
           {
            "marker": {
             "colorbar": {
              "outlinewidth": 0,
              "ticks": ""
             }
            },
            "type": "scattermapbox"
           }
          ],
          "scatterpolar": [
           {
            "marker": {
             "colorbar": {
              "outlinewidth": 0,
              "ticks": ""
             }
            },
            "type": "scatterpolar"
           }
          ],
          "scatterpolargl": [
           {
            "marker": {
             "colorbar": {
              "outlinewidth": 0,
              "ticks": ""
             }
            },
            "type": "scatterpolargl"
           }
          ],
          "scatterternary": [
           {
            "marker": {
             "colorbar": {
              "outlinewidth": 0,
              "ticks": ""
             }
            },
            "type": "scatterternary"
           }
          ],
          "surface": [
           {
            "colorbar": {
             "outlinewidth": 0,
             "ticks": ""
            },
            "colorscale": [
             [
              0,
              "#0d0887"
             ],
             [
              0.1111111111111111,
              "#46039f"
             ],
             [
              0.2222222222222222,
              "#7201a8"
             ],
             [
              0.3333333333333333,
              "#9c179e"
             ],
             [
              0.4444444444444444,
              "#bd3786"
             ],
             [
              0.5555555555555556,
              "#d8576b"
             ],
             [
              0.6666666666666666,
              "#ed7953"
             ],
             [
              0.7777777777777778,
              "#fb9f3a"
             ],
             [
              0.8888888888888888,
              "#fdca26"
             ],
             [
              1,
              "#f0f921"
             ]
            ],
            "type": "surface"
           }
          ],
          "table": [
           {
            "cells": {
             "fill": {
              "color": "#EBF0F8"
             },
             "line": {
              "color": "white"
             }
            },
            "header": {
             "fill": {
              "color": "#C8D4E3"
             },
             "line": {
              "color": "white"
             }
            },
            "type": "table"
           }
          ]
         },
         "layout": {
          "annotationdefaults": {
           "arrowcolor": "#2a3f5f",
           "arrowhead": 0,
           "arrowwidth": 1
          },
          "autotypenumbers": "strict",
          "coloraxis": {
           "colorbar": {
            "outlinewidth": 0,
            "ticks": ""
           }
          },
          "colorscale": {
           "diverging": [
            [
             0,
             "#8e0152"
            ],
            [
             0.1,
             "#c51b7d"
            ],
            [
             0.2,
             "#de77ae"
            ],
            [
             0.3,
             "#f1b6da"
            ],
            [
             0.4,
             "#fde0ef"
            ],
            [
             0.5,
             "#f7f7f7"
            ],
            [
             0.6,
             "#e6f5d0"
            ],
            [
             0.7,
             "#b8e186"
            ],
            [
             0.8,
             "#7fbc41"
            ],
            [
             0.9,
             "#4d9221"
            ],
            [
             1,
             "#276419"
            ]
           ],
           "sequential": [
            [
             0,
             "#0d0887"
            ],
            [
             0.1111111111111111,
             "#46039f"
            ],
            [
             0.2222222222222222,
             "#7201a8"
            ],
            [
             0.3333333333333333,
             "#9c179e"
            ],
            [
             0.4444444444444444,
             "#bd3786"
            ],
            [
             0.5555555555555556,
             "#d8576b"
            ],
            [
             0.6666666666666666,
             "#ed7953"
            ],
            [
             0.7777777777777778,
             "#fb9f3a"
            ],
            [
             0.8888888888888888,
             "#fdca26"
            ],
            [
             1,
             "#f0f921"
            ]
           ],
           "sequentialminus": [
            [
             0,
             "#0d0887"
            ],
            [
             0.1111111111111111,
             "#46039f"
            ],
            [
             0.2222222222222222,
             "#7201a8"
            ],
            [
             0.3333333333333333,
             "#9c179e"
            ],
            [
             0.4444444444444444,
             "#bd3786"
            ],
            [
             0.5555555555555556,
             "#d8576b"
            ],
            [
             0.6666666666666666,
             "#ed7953"
            ],
            [
             0.7777777777777778,
             "#fb9f3a"
            ],
            [
             0.8888888888888888,
             "#fdca26"
            ],
            [
             1,
             "#f0f921"
            ]
           ]
          },
          "colorway": [
           "#636efa",
           "#EF553B",
           "#00cc96",
           "#ab63fa",
           "#FFA15A",
           "#19d3f3",
           "#FF6692",
           "#B6E880",
           "#FF97FF",
           "#FECB52"
          ],
          "font": {
           "color": "#2a3f5f"
          },
          "geo": {
           "bgcolor": "white",
           "lakecolor": "white",
           "landcolor": "#E5ECF6",
           "showlakes": true,
           "showland": true,
           "subunitcolor": "white"
          },
          "hoverlabel": {
           "align": "left"
          },
          "hovermode": "closest",
          "mapbox": {
           "style": "light"
          },
          "paper_bgcolor": "white",
          "plot_bgcolor": "#E5ECF6",
          "polar": {
           "angularaxis": {
            "gridcolor": "white",
            "linecolor": "white",
            "ticks": ""
           },
           "bgcolor": "#E5ECF6",
           "radialaxis": {
            "gridcolor": "white",
            "linecolor": "white",
            "ticks": ""
           }
          },
          "scene": {
           "xaxis": {
            "backgroundcolor": "#E5ECF6",
            "gridcolor": "white",
            "gridwidth": 2,
            "linecolor": "white",
            "showbackground": true,
            "ticks": "",
            "zerolinecolor": "white"
           },
           "yaxis": {
            "backgroundcolor": "#E5ECF6",
            "gridcolor": "white",
            "gridwidth": 2,
            "linecolor": "white",
            "showbackground": true,
            "ticks": "",
            "zerolinecolor": "white"
           },
           "zaxis": {
            "backgroundcolor": "#E5ECF6",
            "gridcolor": "white",
            "gridwidth": 2,
            "linecolor": "white",
            "showbackground": true,
            "ticks": "",
            "zerolinecolor": "white"
           }
          },
          "shapedefaults": {
           "line": {
            "color": "#2a3f5f"
           }
          },
          "ternary": {
           "aaxis": {
            "gridcolor": "white",
            "linecolor": "white",
            "ticks": ""
           },
           "baxis": {
            "gridcolor": "white",
            "linecolor": "white",
            "ticks": ""
           },
           "bgcolor": "#E5ECF6",
           "caxis": {
            "gridcolor": "white",
            "linecolor": "white",
            "ticks": ""
           }
          },
          "title": {
           "x": 0.05
          },
          "xaxis": {
           "automargin": true,
           "gridcolor": "white",
           "linecolor": "white",
           "ticks": "",
           "title": {
            "standoff": 15
           },
           "zerolinecolor": "white",
           "zerolinewidth": 2
          },
          "yaxis": {
           "automargin": true,
           "gridcolor": "white",
           "linecolor": "white",
           "ticks": "",
           "title": {
            "standoff": 15
           },
           "zerolinecolor": "white",
           "zerolinewidth": 2
          }
         }
        },
        "title": {
         "text": "Job shop Schedule"
        },
        "xaxis": {
         "autorange": true,
         "range": [
          "2023-10-14 23:59:00.5762",
          "2023-10-15 00:17:26.4238"
         ],
         "rangeselector": {
          "buttons": [
           {
            "count": 7,
            "label": "1w",
            "step": "day",
            "stepmode": "backward"
           },
           {
            "count": 1,
            "label": "1m",
            "step": "month",
            "stepmode": "backward"
           },
           {
            "count": 6,
            "label": "6m",
            "step": "month",
            "stepmode": "backward"
           },
           {
            "count": 1,
            "label": "YTD",
            "step": "year",
            "stepmode": "todate"
           },
           {
            "count": 1,
            "label": "1y",
            "step": "year",
            "stepmode": "backward"
           },
           {
            "step": "all"
           }
          ]
         },
         "showgrid": true,
         "type": "date",
         "zeroline": false
        },
        "yaxis": {
         "autorange": false,
         "range": [
          -1,
          11
         ],
         "showgrid": false,
         "ticktext": [
          "Machine 10",
          "Machine 9",
          "Machine 8",
          "Machine 7",
          "Machine 6",
          "Machine 5",
          "Machine 4",
          "Machine 3",
          "Machine 2",
          "Machine 1"
         ],
         "tickvals": [
          0,
          1,
          2,
          3,
          4,
          5,
          6,
          7,
          8,
          9
         ],
         "type": "linear",
         "zeroline": false
        }
       }
      },
      "image/png": "[encoded data removed]",
      "text/html": [
       "<div>                            <div id=\"81ad6daf-c602-42a1-92d5-39112d4d2ed1\" class=\"plotly-graph-div\" style=\"height:600px; width:100%;\"></div>            <script type=\"text/javascript\">                require([\"plotly\"], function(Plotly) {                    window.PLOTLYENV=window.PLOTLYENV || {};                                    if (document.getElementById(\"81ad6daf-c602-42a1-92d5-39112d4d2ed1\")) {                    Plotly.newPlot(                        \"81ad6daf-c602-42a1-92d5-39112d4d2ed1\",                        [{\"fill\":\"toself\",\"fillcolor\":\"rgb(127, 127, 127)\",\"hoverinfo\":\"name\",\"legendgroup\":\"rgb(127, 127, 127)\",\"mode\":\"none\",\"name\":\"Job 7\",\"showlegend\":true,\"x\":[\"2023-10-15 0:05:25\",\"2023-10-15 0:06:10\",\"2023-10-15 0:06:10\",\"2023-10-15 0:05:25\",\"2023-10-15 0:05:25\",\"2023-10-15 0:06:30\",\"2023-10-15 0:07:48\",\"2023-10-15 0:07:48\",\"2023-10-15 0:06:30\",\"2023-10-15 0:06:30\",\"2023-10-15 0:08:49\",\"2023-10-15 0:10:23\",\"2023-10-15 0:10:23\",\"2023-10-15 0:08:49\",\"2023-10-15 0:08:49\",\"2023-10-15 0:01:36\",\"2023-10-15 0:02:25\",\"2023-10-15 0:02:25\",\"2023-10-15 0:01:36\",\"2023-10-15 0:01:36\",\"2023-10-15 0:08:43\",\"2023-10-15 0:08:49\",\"2023-10-15 0:08:49\",\"2023-10-15 0:08:43\",\"2023-10-15 0:08:43\",\"2023-10-15 0:08:09\",\"2023-10-15 0:08:43\",\"2023-10-15 0:08:43\",\"2023-10-15 0:08:09\",\"2023-10-15 0:08:09\",\"2023-10-15 0:10:23\",\"2023-10-15 0:11:22\",\"2023-10-15 0:11:22\",\"2023-10-15 0:10:23\",\"2023-10-15 0:10:23\",\"2023-10-15 0:13:22\",\"2023-10-15 0:13:38\",\"2023-10-15 0:13:38\",\"2023-10-15 0:13:22\",\"2023-10-15 0:13:22\",\"2023-10-15 0:00:06\",\"2023-10-15 0:00:52\",\"2023-10-15 0:00:52\",\"2023-10-15 0:00:06\",\"2023-10-15 0:00:06\",\"2023-10-15 0:12:13\",\"2023-10-15 0:13:22\",\"2023-10-15 0:13:22\",\"2023-10-15 0:12:13\"],\"y\":[8.8,8.8,9.2,9.2,null,7.8,7.8,8.2,8.2,null,6.8,6.8,7.2,7.2,null,5.8,5.8,6.2,6.2,null,4.8,4.8,5.2,5.2,null,3.8,3.8,4.2,4.2,null,2.8,2.8,3.2,3.2,null,1.8,1.8,2.2,2.2,null,0.8,0.8,1.2,1.2,null,-0.2,-0.2,0.2,0.2],\"type\":\"scatter\"},{\"fill\":\"toself\",\"fillcolor\":\"rgb(140, 86, 75)\",\"hoverinfo\":\"name\",\"legendgroup\":\"rgb(140, 86, 75)\",\"mode\":\"none\",\"name\":\"Job 5\",\"showlegend\":true,\"x\":[\"2023-10-15 0:11:51\",\"2023-10-15 0:12:12\",\"2023-10-15 0:12:12\",\"2023-10-15 0:11:51\",\"2023-10-15 0:11:51\",\"2023-10-15 0:03:51\",\"2023-10-15 0:05:07\",\"2023-10-15 0:05:07\",\"2023-10-15 0:03:51\",\"2023-10-15 0:03:51\",\"2023-10-15 0:13:29\",\"2023-10-15 0:14:59\",\"2023-10-15 0:14:59\",\"2023-10-15 0:13:29\",\"2023-10-15 0:13:29\",\"2023-10-15 0:10:13\",\"2023-10-15 0:11:51\",\"2023-10-15 0:11:51\",\"2023-10-15 0:10:13\",\"2023-10-15 0:10:13\",\"2023-10-15 0:08:49\",\"2023-10-15 0:08:50\",\"2023-10-15 0:08:50\",\"2023-10-15 0:08:49\",\"2023-10-15 0:08:49\",\"2023-10-15 0:02:52\",\"2023-10-15 0:03:50\",\"2023-10-15 0:03:50\",\"2023-10-15 0:02:52\",\"2023-10-15 0:02:52\",\"2023-10-15 0:02:23\",\"2023-10-15 0:02:52\",\"2023-10-15 0:02:52\",\"2023-10-15 0:02:23\",\"2023-10-15 0:02:23\",\"2023-10-15 0:01:28\",\"2023-10-15 0:02:23\",\"2023-10-15 0:02:23\",\"2023-10-15 0:01:28\",\"2023-10-15 0:01:28\",\"2023-10-15 0:07:35\",\"2023-10-15 0:08:11\",\"2023-10-15 0:08:11\",\"2023-10-15 0:07:35\",\"2023-10-15 0:07:35\",\"2023-10-15 0:00:00\",\"2023-10-15 0:00:54\",\"2023-10-15 0:00:54\",\"2023-10-15 0:00:00\"],\"y\":[8.8,8.8,9.2,9.2,null,7.8,7.8,8.2,8.2,null,6.8,6.8,7.2,7.2,null,5.8,5.8,6.2,6.2,null,4.8,4.8,5.2,5.2,null,3.8,3.8,4.2,4.2,null,2.8,2.8,3.2,3.2,null,1.8,1.8,2.2,2.2,null,0.8,0.8,1.2,1.2,null,-0.2,-0.2,0.2,0.2],\"type\":\"scatter\"},{\"fill\":\"toself\",\"fillcolor\":\"rgb(148, 103, 189)\",\"hoverinfo\":\"name\",\"legendgroup\":\"rgb(148, 103, 189)\",\"mode\":\"none\",\"name\":\"Job 4\",\"showlegend\":true,\"x\":[\"2023-10-15 0:04:15\",\"2023-10-15 0:05:25\",\"2023-10-15 0:05:25\",\"2023-10-15 0:04:15\",\"2023-10-15 0:04:15\",\"2023-10-15 0:08:49\",\"2023-10-15 0:08:53\",\"2023-10-15 0:08:53\",\"2023-10-15 0:08:49\",\"2023-10-15 0:08:49\",\"2023-10-15 0:10:23\",\"2023-10-15 0:11:35\",\"2023-10-15 0:11:35\",\"2023-10-15 0:10:23\",\"2023-10-15 0:10:23\",\"2023-10-15 0:14:57\",\"2023-10-15 0:16:27\",\"2023-10-15 0:16:27\",\"2023-10-15 0:14:57\",\"2023-10-15 0:14:57\",\"2023-10-15 0:12:01\",\"2023-10-15 0:13:33\",\"2023-10-15 0:13:33\",\"2023-10-15 0:12:01\",\"2023-10-15 0:12:01\",\"2023-10-15 0:13:33\",\"2023-10-15 0:14:57\",\"2023-10-15 0:14:57\",\"2023-10-15 0:13:33\",\"2023-10-15 0:13:33\",\"2023-10-15 0:05:25\",\"2023-10-15 0:06:30\",\"2023-10-15 0:06:30\",\"2023-10-15 0:05:25\",\"2023-10-15 0:05:25\",\"2023-10-15 0:03:45\",\"2023-10-15 0:04:15\",\"2023-10-15 0:04:15\",\"2023-10-15 0:03:45\",\"2023-10-15 0:03:45\",\"2023-10-15 0:11:35\",\"2023-10-15 0:12:01\",\"2023-10-15 0:12:01\",\"2023-10-15 0:11:35\",\"2023-10-15 0:11:35\",\"2023-10-15 0:06:30\",\"2023-10-15 0:07:48\",\"2023-10-15 0:07:48\",\"2023-10-15 0:06:30\"],\"y\":[8.8,8.8,9.2,9.2,null,7.8,7.8,8.2,8.2,null,6.8,6.8,7.2,7.2,null,5.8,5.8,6.2,6.2,null,4.8,4.8,5.2,5.2,null,3.8,3.8,4.2,4.2,null,2.8,2.8,3.2,3.2,null,1.8,1.8,2.2,2.2,null,0.8,0.8,1.2,1.2,null,-0.2,-0.2,0.2,0.2],\"type\":\"scatter\"},{\"fill\":\"toself\",\"fillcolor\":\"rgb(188, 189, 34)\",\"hoverinfo\":\"name\",\"legendgroup\":\"rgb(188, 189, 34)\",\"mode\":\"none\",\"name\":\"Job 8\",\"showlegend\":true,\"x\":[\"2023-10-15 0:06:10\",\"2023-10-15 0:06:48\",\"2023-10-15 0:06:48\",\"2023-10-15 0:06:10\",\"2023-10-15 0:06:10\",\"2023-10-15 0:10:16\",\"2023-10-15 0:11:30\",\"2023-10-15 0:11:30\",\"2023-10-15 0:10:16\",\"2023-10-15 0:10:16\",\"2023-10-15 0:00:44\",\"2023-10-15 0:00:55\",\"2023-10-15 0:00:55\",\"2023-10-15 0:00:44\",\"2023-10-15 0:00:44\",\"2023-10-15 0:01:27\",\"2023-10-15 0:01:36\",\"2023-10-15 0:01:36\",\"2023-10-15 0:01:27\",\"2023-10-15 0:01:27\",\"2023-10-15 0:11:30\",\"2023-10-15 0:11:55\",\"2023-10-15 0:11:55\",\"2023-10-15 0:11:30\",\"2023-10-15 0:11:30\",\"2023-10-15 0:06:48\",\"2023-10-15 0:08:09\",\"2023-10-15 0:08:09\",\"2023-10-15 0:06:48\",\"2023-10-15 0:06:48\",\"2023-10-15 0:08:09\",\"2023-10-15 0:09:29\",\"2023-10-15 0:09:29\",\"2023-10-15 0:08:09\",\"2023-10-15 0:08:09\",\"2023-10-15 0:04:15\",\"2023-10-15 0:05:26\",\"2023-10-15 0:05:26\",\"2023-10-15 0:04:15\",\"2023-10-15 0:04:15\",\"2023-10-15 0:14:36\",\"2023-10-15 0:16:07\",\"2023-10-15 0:16:07\",\"2023-10-15 0:14:36\",\"2023-10-15 0:14:36\",\"2023-10-15 0:09:29\",\"2023-10-15 0:10:16\",\"2023-10-15 0:10:16\",\"2023-10-15 0:09:29\"],\"y\":[8.8,8.8,9.2,9.2,null,7.8,7.8,8.2,8.2,null,6.8,6.8,7.2,7.2,null,5.8,5.8,6.2,6.2,null,4.8,4.8,5.2,5.2,null,3.8,3.8,4.2,4.2,null,2.8,2.8,3.2,3.2,null,1.8,1.8,2.2,2.2,null,0.8,0.8,1.2,1.2,null,-0.2,-0.2,0.2,0.2],\"type\":\"scatter\"},{\"fill\":\"toself\",\"fillcolor\":\"rgb(214, 39, 40)\",\"hoverinfo\":\"name\",\"legendgroup\":\"rgb(214, 39, 40)\",\"mode\":\"none\",\"name\":\"Job 3\",\"showlegend\":true,\"x\":[\"2023-10-15 0:08:26\",\"2023-10-15 0:10:01\",\"2023-10-15 0:10:01\",\"2023-10-15 0:08:26\",\"2023-10-15 0:08:26\",\"2023-10-15 0:14:24\",\"2023-10-15 0:14:29\",\"2023-10-15 0:14:29\",\"2023-10-15 0:14:24\",\"2023-10-15 0:14:24\",\"2023-10-15 0:12:13\",\"2023-10-15 0:13:29\",\"2023-10-15 0:13:29\",\"2023-10-15 0:12:13\",\"2023-10-15 0:12:13\",\"2023-10-15 0:00:00\",\"2023-10-15 0:01:27\",\"2023-10-15 0:01:27\",\"2023-10-15 0:00:00\",\"2023-10-15 0:00:00\",\"2023-10-15 0:02:29\",\"2023-10-15 0:02:57\",\"2023-10-15 0:02:57\",\"2023-10-15 0:02:29\",\"2023-10-15 0:02:29\",\"2023-10-15 0:10:51\",\"2023-10-15 0:12:01\",\"2023-10-15 0:12:01\",\"2023-10-15 0:10:51\",\"2023-10-15 0:10:51\",\"2023-10-15 0:14:33\",\"2023-10-15 0:14:45\",\"2023-10-15 0:14:45\",\"2023-10-15 0:14:33\",\"2023-10-15 0:14:33\",\"2023-10-15 0:14:29\",\"2023-10-15 0:14:33\",\"2023-10-15 0:14:33\",\"2023-10-15 0:14:29\",\"2023-10-15 0:14:29\",\"2023-10-15 0:13:29\",\"2023-10-15 0:14:24\",\"2023-10-15 0:14:24\",\"2023-10-15 0:13:29\",\"2023-10-15 0:13:29\",\"2023-10-15 0:12:01\",\"2023-10-15 0:12:13\",\"2023-10-15 0:12:13\",\"2023-10-15 0:12:01\"],\"y\":[8.8,8.8,9.2,9.2,null,7.8,7.8,8.2,8.2,null,6.8,6.8,7.2,7.2,null,5.8,5.8,6.2,6.2,null,4.8,4.8,5.2,5.2,null,3.8,3.8,4.2,4.2,null,2.8,2.8,3.2,3.2,null,1.8,1.8,2.2,2.2,null,0.8,0.8,1.2,1.2,null,-0.2,-0.2,0.2,0.2],\"type\":\"scatter\"},{\"fill\":\"toself\",\"fillcolor\":\"rgb(227, 119, 194)\",\"hoverinfo\":\"name\",\"legendgroup\":\"rgb(227, 119, 194)\",\"mode\":\"none\",\"name\":\"Job 6\",\"showlegend\":true,\"x\":[\"2023-10-15 0:06:48\",\"2023-10-15 0:08:26\",\"2023-10-15 0:08:26\",\"2023-10-15 0:06:48\",\"2023-10-15 0:06:48\",\"2023-10-15 0:14:36\",\"2023-10-15 0:15:25\",\"2023-10-15 0:15:25\",\"2023-10-15 0:14:36\",\"2023-10-15 0:14:36\",\"2023-10-15 0:00:00\",\"2023-10-15 0:00:44\",\"2023-10-15 0:00:44\",\"2023-10-15 0:00:00\",\"2023-10-15 0:00:00\",\"2023-10-15 0:12:13\",\"2023-10-15 0:12:57\",\"2023-10-15 0:12:57\",\"2023-10-15 0:12:13\",\"2023-10-15 0:12:13\",\"2023-10-15 0:03:12\",\"2023-10-15 0:03:40\",\"2023-10-15 0:03:40\",\"2023-10-15 0:03:12\",\"2023-10-15 0:03:12\",\"2023-10-15 0:00:44\",\"2023-10-15 0:00:57\",\"2023-10-15 0:00:57\",\"2023-10-15 0:00:44\",\"2023-10-15 0:00:44\",\"2023-10-15 0:02:52\",\"2023-10-15 0:03:12\",\"2023-10-15 0:03:12\",\"2023-10-15 0:02:52\",\"2023-10-15 0:02:52\",\"2023-10-15 0:12:57\",\"2023-10-15 0:13:11\",\"2023-10-15 0:13:11\",\"2023-10-15 0:12:57\",\"2023-10-15 0:12:57\",\"2023-10-15 0:14:24\",\"2023-10-15 0:14:36\",\"2023-10-15 0:14:36\",\"2023-10-15 0:14:24\",\"2023-10-15 0:14:24\",\"2023-10-15 0:01:30\",\"2023-10-15 0:02:06\",\"2023-10-15 0:02:06\",\"2023-10-15 0:01:30\"],\"y\":[8.8,8.8,9.2,9.2,null,7.8,7.8,8.2,8.2,null,6.8,6.8,7.2,7.2,null,5.8,5.8,6.2,6.2,null,4.8,4.8,5.2,5.2,null,3.8,3.8,4.2,4.2,null,2.8,2.8,3.2,3.2,null,1.8,1.8,2.2,2.2,null,0.8,0.8,1.2,1.2,null,-0.2,-0.2,0.2,0.2],\"type\":\"scatter\"},{\"fill\":\"toself\",\"fillcolor\":\"rgb(23, 190, 207)\",\"hoverinfo\":\"name\",\"legendgroup\":\"rgb(23, 190, 207)\",\"mode\":\"none\",\"name\":\"Job 9\",\"showlegend\":true,\"x\":[\"2023-10-15 0:13:44\",\"2023-10-15 0:14:14\",\"2023-10-15 0:14:14\",\"2023-10-15 0:13:44\",\"2023-10-15 0:13:44\",\"2023-10-15 0:11:30\",\"2023-10-15 0:12:08\",\"2023-10-15 0:12:08\",\"2023-10-15 0:11:30\",\"2023-10-15 0:11:30\",\"2023-10-15 0:05:47\",\"2023-10-15 0:06:17\",\"2023-10-15 0:06:17\",\"2023-10-15 0:05:47\",\"2023-10-15 0:05:47\",\"2023-10-15 0:02:25\",\"2023-10-15 0:03:50\",\"2023-10-15 0:03:50\",\"2023-10-15 0:02:25\",\"2023-10-15 0:02:25\",\"2023-10-15 0:13:33\",\"2023-10-15 0:13:44\",\"2023-10-15 0:13:44\",\"2023-10-15 0:13:33\",\"2023-10-15 0:13:33\",\"2023-10-15 0:14:57\",\"2023-10-15 0:15:46\",\"2023-10-15 0:15:46\",\"2023-10-15 0:14:57\",\"2023-10-15 0:14:57\",\"2023-10-15 0:14:14\",\"2023-10-15 0:14:27\",\"2023-10-15 0:14:27\",\"2023-10-15 0:14:14\",\"2023-10-15 0:14:14\",\"2023-10-15 0:06:17\",\"2023-10-15 0:07:56\",\"2023-10-15 0:07:56\",\"2023-10-15 0:06:17\",\"2023-10-15 0:06:17\",\"2023-10-15 0:00:00\",\"2023-10-15 0:00:06\",\"2023-10-15 0:00:06\",\"2023-10-15 0:00:00\",\"2023-10-15 0:00:00\",\"2023-10-15 0:00:54\",\"2023-10-15 0:01:30\",\"2023-10-15 0:01:30\",\"2023-10-15 0:00:54\"],\"y\":[8.8,8.8,9.2,9.2,null,7.8,7.8,8.2,8.2,null,6.8,6.8,7.2,7.2,null,5.8,5.8,6.2,6.2,null,4.8,4.8,5.2,5.2,null,3.8,3.8,4.2,4.2,null,2.8,2.8,3.2,3.2,null,1.8,1.8,2.2,2.2,null,0.8,0.8,1.2,1.2,null,-0.2,-0.2,0.2,0.2],\"type\":\"scatter\"},{\"fill\":\"toself\",\"fillcolor\":\"rgb(255, 127, 14)\",\"hoverinfo\":\"name\",\"legendgroup\":\"rgb(255, 127, 14)\",\"mode\":\"none\",\"name\":\"Job 10\",\"showlegend\":true,\"x\":[\"2023-10-15 0:00:00\",\"2023-10-15 0:00:59\",\"2023-10-15 0:00:59\",\"2023-10-15 0:00:00\",\"2023-10-15 0:00:00\",\"2023-10-15 0:02:29\",\"2023-10-15 0:03:51\",\"2023-10-15 0:03:51\",\"2023-10-15 0:02:29\",\"2023-10-15 0:02:29\",\"2023-10-15 0:04:59\",\"2023-10-15 0:05:47\",\"2023-10-15 0:05:47\",\"2023-10-15 0:04:59\",\"2023-10-15 0:04:59\",\"2023-10-15 0:08:47\",\"2023-10-15 0:10:13\",\"2023-10-15 0:10:13\",\"2023-10-15 0:08:47\",\"2023-10-15 0:08:47\",\"2023-10-15 0:00:59\",\"2023-10-15 0:02:29\",\"2023-10-15 0:02:29\",\"2023-10-15 0:00:59\",\"2023-10-15 0:00:59\",\"2023-10-15 0:03:51\",\"2023-10-15 0:04:38\",\"2023-10-15 0:04:38\",\"2023-10-15 0:03:51\",\"2023-10-15 0:03:51\",\"2023-10-15 0:04:38\",\"2023-10-15 0:04:59\",\"2023-10-15 0:04:59\",\"2023-10-15 0:04:38\",\"2023-10-15 0:04:38\",\"2023-10-15 0:14:33\",\"2023-10-15 0:15:08\",\"2023-10-15 0:15:08\",\"2023-10-15 0:14:33\",\"2023-10-15 0:14:33\",\"2023-10-15 0:06:49\",\"2023-10-15 0:07:35\",\"2023-10-15 0:07:35\",\"2023-10-15 0:06:49\",\"2023-10-15 0:06:49\",\"2023-10-15 0:08:20\",\"2023-10-15 0:08:47\",\"2023-10-15 0:08:47\",\"2023-10-15 0:08:20\"],\"y\":[8.8,8.8,9.2,9.2,null,7.8,7.8,8.2,8.2,null,6.8,6.8,7.2,7.2,null,5.8,5.8,6.2,6.2,null,4.8,4.8,5.2,5.2,null,3.8,3.8,4.2,4.2,null,2.8,2.8,3.2,3.2,null,1.8,1.8,2.2,2.2,null,0.8,0.8,1.2,1.2,null,-0.2,-0.2,0.2,0.2],\"type\":\"scatter\"},{\"fill\":\"toself\",\"fillcolor\":\"rgb(31, 119, 180)\",\"hoverinfo\":\"name\",\"legendgroup\":\"rgb(31, 119, 180)\",\"mode\":\"none\",\"name\":\"Job 1\",\"showlegend\":true,\"x\":[\"2023-10-15 0:03:45\",\"2023-10-15 0:03:59\",\"2023-10-15 0:03:59\",\"2023-10-15 0:03:45\",\"2023-10-15 0:03:45\",\"2023-10-15 0:08:20\",\"2023-10-15 0:08:49\",\"2023-10-15 0:08:49\",\"2023-10-15 0:08:20\",\"2023-10-15 0:08:20\",\"2023-10-15 0:11:35\",\"2023-10-15 0:11:53\",\"2023-10-15 0:11:53\",\"2023-10-15 0:11:35\",\"2023-10-15 0:11:35\",\"2023-10-15 0:12:57\",\"2023-10-15 0:14:32\",\"2023-10-15 0:14:32\",\"2023-10-15 0:12:57\",\"2023-10-15 0:12:57\",\"2023-10-15 0:04:14\",\"2023-10-15 0:04:18\",\"2023-10-15 0:04:18\",\"2023-10-15 0:04:14\",\"2023-10-15 0:04:14\",\"2023-10-15 0:04:38\",\"2023-10-15 0:06:13\",\"2023-10-15 0:06:13\",\"2023-10-15 0:04:38\",\"2023-10-15 0:04:38\",\"2023-10-15 0:03:59\",\"2023-10-15 0:04:14\",\"2023-10-15 0:04:14\",\"2023-10-15 0:03:59\",\"2023-10-15 0:03:59\",\"2023-10-15 0:02:23\",\"2023-10-15 0:03:45\",\"2023-10-15 0:03:45\",\"2023-10-15 0:02:23\",\"2023-10-15 0:02:23\",\"2023-10-15 0:06:13\",\"2023-10-15 0:06:49\",\"2023-10-15 0:06:49\",\"2023-10-15 0:06:13\",\"2023-10-15 0:06:13\",\"2023-10-15 0:07:48\",\"2023-10-15 0:08:20\",\"2023-10-15 0:08:20\",\"2023-10-15 0:07:48\"],\"y\":[8.8,8.8,9.2,9.2,null,7.8,7.8,8.2,8.2,null,6.8,6.8,7.2,7.2,null,5.8,5.8,6.2,6.2,null,4.8,4.8,5.2,5.2,null,3.8,3.8,4.2,4.2,null,2.8,2.8,3.2,3.2,null,1.8,1.8,2.2,2.2,null,0.8,0.8,1.2,1.2,null,-0.2,-0.2,0.2,0.2],\"type\":\"scatter\"},{\"fill\":\"toself\",\"fillcolor\":\"rgb(44, 160, 44)\",\"hoverinfo\":\"name\",\"legendgroup\":\"rgb(44, 160, 44)\",\"mode\":\"none\",\"name\":\"Job 2\",\"showlegend\":true,\"x\":[\"2023-10-15 0:01:28\",\"2023-10-15 0:01:49\",\"2023-10-15 0:01:49\",\"2023-10-15 0:01:28\",\"2023-10-15 0:01:28\",\"2023-10-15 0:05:07\",\"2023-10-15 0:06:30\",\"2023-10-15 0:06:30\",\"2023-10-15 0:05:07\",\"2023-10-15 0:05:07\",\"2023-10-15 0:06:30\",\"2023-10-15 0:06:40\",\"2023-10-15 0:06:40\",\"2023-10-15 0:06:30\",\"2023-10-15 0:06:30\",\"2023-10-15 0:11:51\",\"2023-10-15 0:12:13\",\"2023-10-15 0:12:13\",\"2023-10-15 0:11:51\",\"2023-10-15 0:11:51\",\"2023-10-15 0:13:44\",\"2023-10-15 0:15:18\",\"2023-10-15 0:15:18\",\"2023-10-15 0:13:44\",\"2023-10-15 0:13:44\",\"2023-10-15 0:09:29\",\"2023-10-15 0:10:51\",\"2023-10-15 0:10:51\",\"2023-10-15 0:09:29\",\"2023-10-15 0:09:29\",\"2023-10-15 0:12:13\",\"2023-10-15 0:13:22\",\"2023-10-15 0:13:22\",\"2023-10-15 0:12:13\",\"2023-10-15 0:12:13\",\"2023-10-15 0:00:00\",\"2023-10-15 0:01:28\",\"2023-10-15 0:01:28\",\"2023-10-15 0:00:00\",\"2023-10-15 0:00:00\",\"2023-10-15 0:08:11\",\"2023-10-15 0:09:29\",\"2023-10-15 0:09:29\",\"2023-10-15 0:08:11\",\"2023-10-15 0:08:11\",\"2023-10-15 0:15:18\",\"2023-10-15 0:15:50\",\"2023-10-15 0:15:50\",\"2023-10-15 0:15:18\"],\"y\":[8.8,8.8,9.2,9.2,null,7.8,7.8,8.2,8.2,null,6.8,6.8,7.2,7.2,null,5.8,5.8,6.2,6.2,null,4.8,4.8,5.2,5.2,null,3.8,3.8,4.2,4.2,null,2.8,2.8,3.2,3.2,null,1.8,1.8,2.2,2.2,null,0.8,0.8,1.2,1.2,null,-0.2,-0.2,0.2,0.2],\"type\":\"scatter\"},{\"legendgroup\":\"rgb(127, 127, 127)\",\"marker\":{\"color\":\"rgb(127, 127, 127)\",\"opacity\":0,\"size\":1},\"mode\":\"markers\",\"name\":\"\",\"showlegend\":false,\"text\":[null,null,null,null,null,null,null,null,null,null,null,null,null,null,null,null,null,null,null,null],\"x\":[\"2023-10-15 0:05:25\",\"2023-10-15 0:06:10\",\"2023-10-15 0:06:30\",\"2023-10-15 0:07:48\",\"2023-10-15 0:08:49\",\"2023-10-15 0:10:23\",\"2023-10-15 0:01:36\",\"2023-10-15 0:02:25\",\"2023-10-15 0:08:43\",\"2023-10-15 0:08:49\",\"2023-10-15 0:08:09\",\"2023-10-15 0:08:43\",\"2023-10-15 0:10:23\",\"2023-10-15 0:11:22\",\"2023-10-15 0:13:22\",\"2023-10-15 0:13:38\",\"2023-10-15 0:00:06\",\"2023-10-15 0:00:52\",\"2023-10-15 0:12:13\",\"2023-10-15 0:13:22\"],\"y\":[9,9,8,8,7,7,6,6,5,5,4,4,3,3,2,2,1,1,0,0],\"type\":\"scatter\"},{\"legendgroup\":\"rgb(140, 86, 75)\",\"marker\":{\"color\":\"rgb(140, 86, 75)\",\"opacity\":0,\"size\":1},\"mode\":\"markers\",\"name\":\"\",\"showlegend\":false,\"text\":[null,null,null,null,null,null,null,null,null,null,null,null,null,null,null,null,null,null,null,null],\"x\":[\"2023-10-15 0:11:51\",\"2023-10-15 0:12:12\",\"2023-10-15 0:03:51\",\"2023-10-15 0:05:07\",\"2023-10-15 0:13:29\",\"2023-10-15 0:14:59\",\"2023-10-15 0:10:13\",\"2023-10-15 0:11:51\",\"2023-10-15 0:08:49\",\"2023-10-15 0:08:50\",\"2023-10-15 0:02:52\",\"2023-10-15 0:03:50\",\"2023-10-15 0:02:23\",\"2023-10-15 0:02:52\",\"2023-10-15 0:01:28\",\"2023-10-15 0:02:23\",\"2023-10-15 0:07:35\",\"2023-10-15 0:08:11\",\"2023-10-15 0:00:00\",\"2023-10-15 0:00:54\"],\"y\":[9,9,8,8,7,7,6,6,5,5,4,4,3,3,2,2,1,1,0,0],\"type\":\"scatter\"},{\"legendgroup\":\"rgb(148, 103, 189)\",\"marker\":{\"color\":\"rgb(148, 103, 189)\",\"opacity\":0,\"size\":1},\"mode\":\"markers\",\"name\":\"\",\"showlegend\":false,\"text\":[null,null,null,null,null,null,null,null,null,null,null,null,null,null,null,null,null,null,null,null],\"x\":[\"2023-10-15 0:04:15\",\"2023-10-15 0:05:25\",\"2023-10-15 0:08:49\",\"2023-10-15 0:08:53\",\"2023-10-15 0:10:23\",\"2023-10-15 0:11:35\",\"2023-10-15 0:14:57\",\"2023-10-15 0:16:27\",\"2023-10-15 0:12:01\",\"2023-10-15 0:13:33\",\"2023-10-15 0:13:33\",\"2023-10-15 0:14:57\",\"2023-10-15 0:05:25\",\"2023-10-15 0:06:30\",\"2023-10-15 0:03:45\",\"2023-10-15 0:04:15\",\"2023-10-15 0:11:35\",\"2023-10-15 0:12:01\",\"2023-10-15 0:06:30\",\"2023-10-15 0:07:48\"],\"y\":[9,9,8,8,7,7,6,6,5,5,4,4,3,3,2,2,1,1,0,0],\"type\":\"scatter\"},{\"legendgroup\":\"rgb(188, 189, 34)\",\"marker\":{\"color\":\"rgb(188, 189, 34)\",\"opacity\":0,\"size\":1},\"mode\":\"markers\",\"name\":\"\",\"showlegend\":false,\"text\":[null,null,null,null,null,null,null,null,null,null,null,null,null,null,null,null,null,null,null,null],\"x\":[\"2023-10-15 0:06:10\",\"2023-10-15 0:06:48\",\"2023-10-15 0:10:16\",\"2023-10-15 0:11:30\",\"2023-10-15 0:00:44\",\"2023-10-15 0:00:55\",\"2023-10-15 0:01:27\",\"2023-10-15 0:01:36\",\"2023-10-15 0:11:30\",\"2023-10-15 0:11:55\",\"2023-10-15 0:06:48\",\"2023-10-15 0:08:09\",\"2023-10-15 0:08:09\",\"2023-10-15 0:09:29\",\"2023-10-15 0:04:15\",\"2023-10-15 0:05:26\",\"2023-10-15 0:14:36\",\"2023-10-15 0:16:07\",\"2023-10-15 0:09:29\",\"2023-10-15 0:10:16\"],\"y\":[9,9,8,8,7,7,6,6,5,5,4,4,3,3,2,2,1,1,0,0],\"type\":\"scatter\"},{\"legendgroup\":\"rgb(214, 39, 40)\",\"marker\":{\"color\":\"rgb(214, 39, 40)\",\"opacity\":0,\"size\":1},\"mode\":\"markers\",\"name\":\"\",\"showlegend\":false,\"text\":[null,null,null,null,null,null,null,null,null,null,null,null,null,null,null,null,null,null,null,null],\"x\":[\"2023-10-15 0:08:26\",\"2023-10-15 0:10:01\",\"2023-10-15 0:14:24\",\"2023-10-15 0:14:29\",\"2023-10-15 0:12:13\",\"2023-10-15 0:13:29\",\"2023-10-15 0:00:00\",\"2023-10-15 0:01:27\",\"2023-10-15 0:02:29\",\"2023-10-15 0:02:57\",\"2023-10-15 0:10:51\",\"2023-10-15 0:12:01\",\"2023-10-15 0:14:33\",\"2023-10-15 0:14:45\",\"2023-10-15 0:14:29\",\"2023-10-15 0:14:33\",\"2023-10-15 0:13:29\",\"2023-10-15 0:14:24\",\"2023-10-15 0:12:01\",\"2023-10-15 0:12:13\"],\"y\":[9,9,8,8,7,7,6,6,5,5,4,4,3,3,2,2,1,1,0,0],\"type\":\"scatter\"},{\"legendgroup\":\"rgb(227, 119, 194)\",\"marker\":{\"color\":\"rgb(227, 119, 194)\",\"opacity\":0,\"size\":1},\"mode\":\"markers\",\"name\":\"\",\"showlegend\":false,\"text\":[null,null,null,null,null,null,null,null,null,null,null,null,null,null,null,null,null,null,null,null],\"x\":[\"2023-10-15 0:06:48\",\"2023-10-15 0:08:26\",\"2023-10-15 0:14:36\",\"2023-10-15 0:15:25\",\"2023-10-15 0:00:00\",\"2023-10-15 0:00:44\",\"2023-10-15 0:12:13\",\"2023-10-15 0:12:57\",\"2023-10-15 0:03:12\",\"2023-10-15 0:03:40\",\"2023-10-15 0:00:44\",\"2023-10-15 0:00:57\",\"2023-10-15 0:02:52\",\"2023-10-15 0:03:12\",\"2023-10-15 0:12:57\",\"2023-10-15 0:13:11\",\"2023-10-15 0:14:24\",\"2023-10-15 0:14:36\",\"2023-10-15 0:01:30\",\"2023-10-15 0:02:06\"],\"y\":[9,9,8,8,7,7,6,6,5,5,4,4,3,3,2,2,1,1,0,0],\"type\":\"scatter\"},{\"legendgroup\":\"rgb(23, 190, 207)\",\"marker\":{\"color\":\"rgb(23, 190, 207)\",\"opacity\":0,\"size\":1},\"mode\":\"markers\",\"name\":\"\",\"showlegend\":false,\"text\":[null,null,null,null,null,null,null,null,null,null,null,null,null,null,null,null,null,null,null,null],\"x\":[\"2023-10-15 0:13:44\",\"2023-10-15 0:14:14\",\"2023-10-15 0:11:30\",\"2023-10-15 0:12:08\",\"2023-10-15 0:05:47\",\"2023-10-15 0:06:17\",\"2023-10-15 0:02:25\",\"2023-10-15 0:03:50\",\"2023-10-15 0:13:33\",\"2023-10-15 0:13:44\",\"2023-10-15 0:14:57\",\"2023-10-15 0:15:46\",\"2023-10-15 0:14:14\",\"2023-10-15 0:14:27\",\"2023-10-15 0:06:17\",\"2023-10-15 0:07:56\",\"2023-10-15 0:00:00\",\"2023-10-15 0:00:06\",\"2023-10-15 0:00:54\",\"2023-10-15 0:01:30\"],\"y\":[9,9,8,8,7,7,6,6,5,5,4,4,3,3,2,2,1,1,0,0],\"type\":\"scatter\"},{\"legendgroup\":\"rgb(255, 127, 14)\",\"marker\":{\"color\":\"rgb(255, 127, 14)\",\"opacity\":0,\"size\":1},\"mode\":\"markers\",\"name\":\"\",\"showlegend\":false,\"text\":[null,null,null,null,null,null,null,null,null,null,null,null,null,null,null,null,null,null,null,null],\"x\":[\"2023-10-15 0:00:00\",\"2023-10-15 0:00:59\",\"2023-10-15 0:02:29\",\"2023-10-15 0:03:51\",\"2023-10-15 0:04:59\",\"2023-10-15 0:05:47\",\"2023-10-15 0:08:47\",\"2023-10-15 0:10:13\",\"2023-10-15 0:00:59\",\"2023-10-15 0:02:29\",\"2023-10-15 0:03:51\",\"2023-10-15 0:04:38\",\"2023-10-15 0:04:38\",\"2023-10-15 0:04:59\",\"2023-10-15 0:14:33\",\"2023-10-15 0:15:08\",\"2023-10-15 0:06:49\",\"2023-10-15 0:07:35\",\"2023-10-15 0:08:20\",\"2023-10-15 0:08:47\"],\"y\":[9,9,8,8,7,7,6,6,5,5,4,4,3,3,2,2,1,1,0,0],\"type\":\"scatter\"},{\"legendgroup\":\"rgb(31, 119, 180)\",\"marker\":{\"color\":\"rgb(31, 119, 180)\",\"opacity\":0,\"size\":1},\"mode\":\"markers\",\"name\":\"\",\"showlegend\":false,\"text\":[null,null,null,null,null,null,null,null,null,null,null,null,null,null,null,null,null,null,null,null],\"x\":[\"2023-10-15 0:03:45\",\"2023-10-15 0:03:59\",\"2023-10-15 0:08:20\",\"2023-10-15 0:08:49\",\"2023-10-15 0:11:35\",\"2023-10-15 0:11:53\",\"2023-10-15 0:12:57\",\"2023-10-15 0:14:32\",\"2023-10-15 0:04:14\",\"2023-10-15 0:04:18\",\"2023-10-15 0:04:38\",\"2023-10-15 0:06:13\",\"2023-10-15 0:03:59\",\"2023-10-15 0:04:14\",\"2023-10-15 0:02:23\",\"2023-10-15 0:03:45\",\"2023-10-15 0:06:13\",\"2023-10-15 0:06:49\",\"2023-10-15 0:07:48\",\"2023-10-15 0:08:20\"],\"y\":[9,9,8,8,7,7,6,6,5,5,4,4,3,3,2,2,1,1,0,0],\"type\":\"scatter\"},{\"legendgroup\":\"rgb(44, 160, 44)\",\"marker\":{\"color\":\"rgb(44, 160, 44)\",\"opacity\":0,\"size\":1},\"mode\":\"markers\",\"name\":\"\",\"showlegend\":false,\"text\":[null,null,null,null,null,null,null,null,null,null,null,null,null,null,null,null,null,null,null,null],\"x\":[\"2023-10-15 0:01:28\",\"2023-10-15 0:01:49\",\"2023-10-15 0:05:07\",\"2023-10-15 0:06:30\",\"2023-10-15 0:06:30\",\"2023-10-15 0:06:40\",\"2023-10-15 0:11:51\",\"2023-10-15 0:12:13\",\"2023-10-15 0:13:44\",\"2023-10-15 0:15:18\",\"2023-10-15 0:09:29\",\"2023-10-15 0:10:51\",\"2023-10-15 0:12:13\",\"2023-10-15 0:13:22\",\"2023-10-15 0:00:00\",\"2023-10-15 0:01:28\",\"2023-10-15 0:08:11\",\"2023-10-15 0:09:29\",\"2023-10-15 0:15:18\",\"2023-10-15 0:15:50\"],\"y\":[9,9,8,8,7,7,6,6,5,5,4,4,3,3,2,2,1,1,0,0],\"type\":\"scatter\"}],                        {\"height\":600,\"hovermode\":\"closest\",\"showlegend\":true,\"title\":{\"text\":\"Job shop Schedule\"},\"xaxis\":{\"rangeselector\":{\"buttons\":[{\"count\":7,\"label\":\"1w\",\"step\":\"day\",\"stepmode\":\"backward\"},{\"count\":1,\"label\":\"1m\",\"step\":\"month\",\"stepmode\":\"backward\"},{\"count\":6,\"label\":\"6m\",\"step\":\"month\",\"stepmode\":\"backward\"},{\"count\":1,\"label\":\"YTD\",\"step\":\"year\",\"stepmode\":\"todate\"},{\"count\":1,\"label\":\"1y\",\"step\":\"year\",\"stepmode\":\"backward\"},{\"step\":\"all\"}]},\"showgrid\":true,\"type\":\"date\",\"zeroline\":false},\"yaxis\":{\"autorange\":false,\"range\":[-1,11],\"showgrid\":false,\"ticktext\":[\"Machine 10\",\"Machine 9\",\"Machine 8\",\"Machine 7\",\"Machine 6\",\"Machine 5\",\"Machine 4\",\"Machine 3\",\"Machine 2\",\"Machine 1\"],\"tickvals\":[0,1,2,3,4,5,6,7,8,9],\"zeroline\":false},\"template\":{\"data\":{\"histogram2dcontour\":[{\"type\":\"histogram2dcontour\",\"colorbar\":{\"outlinewidth\":0,\"ticks\":\"\"},\"colorscale\":[[0.0,\"#0d0887\"],[0.1111111111111111,\"#46039f\"],[0.2222222222222222,\"#7201a8\"],[0.3333333333333333,\"#9c179e\"],[0.4444444444444444,\"#bd3786\"],[0.5555555555555556,\"#d8576b\"],[0.6666666666666666,\"#ed7953\"],[0.7777777777777778,\"#fb9f3a\"],[0.8888888888888888,\"#fdca26\"],[1.0,\"#f0f921\"]]}],\"choropleth\":[{\"type\":\"choropleth\",\"colorbar\":{\"outlinewidth\":0,\"ticks\":\"\"}}],\"histogram2d\":[{\"type\":\"histogram2d\",\"colorbar\":{\"outlinewidth\":0,\"ticks\":\"\"},\"colorscale\":[[0.0,\"#0d0887\"],[0.1111111111111111,\"#46039f\"],[0.2222222222222222,\"#7201a8\"],[0.3333333333333333,\"#9c179e\"],[0.4444444444444444,\"#bd3786\"],[0.5555555555555556,\"#d8576b\"],[0.6666666666666666,\"#ed7953\"],[0.7777777777777778,\"#fb9f3a\"],[0.8888888888888888,\"#fdca26\"],[1.0,\"#f0f921\"]]}],\"heatmap\":[{\"type\":\"heatmap\",\"colorbar\":{\"outlinewidth\":0,\"ticks\":\"\"},\"colorscale\":[[0.0,\"#0d0887\"],[0.1111111111111111,\"#46039f\"],[0.2222222222222222,\"#7201a8\"],[0.3333333333333333,\"#9c179e\"],[0.4444444444444444,\"#bd3786\"],[0.5555555555555556,\"#d8576b\"],[0.6666666666666666,\"#ed7953\"],[0.7777777777777778,\"#fb9f3a\"],[0.8888888888888888,\"#fdca26\"],[1.0,\"#f0f921\"]]}],\"heatmapgl\":[{\"type\":\"heatmapgl\",\"colorbar\":{\"outlinewidth\":0,\"ticks\":\"\"},\"colorscale\":[[0.0,\"#0d0887\"],[0.1111111111111111,\"#46039f\"],[0.2222222222222222,\"#7201a8\"],[0.3333333333333333,\"#9c179e\"],[0.4444444444444444,\"#bd3786\"],[0.5555555555555556,\"#d8576b\"],[0.6666666666666666,\"#ed7953\"],[0.7777777777777778,\"#fb9f3a\"],[0.8888888888888888,\"#fdca26\"],[1.0,\"#f0f921\"]]}],\"contourcarpet\":[{\"type\":\"contourcarpet\",\"colorbar\":{\"outlinewidth\":0,\"ticks\":\"\"}}],\"contour\":[{\"type\":\"contour\",\"colorbar\":{\"outlinewidth\":0,\"ticks\":\"\"},\"colorscale\":[[0.0,\"#0d0887\"],[0.1111111111111111,\"#46039f\"],[0.2222222222222222,\"#7201a8\"],[0.3333333333333333,\"#9c179e\"],[0.4444444444444444,\"#bd3786\"],[0.5555555555555556,\"#d8576b\"],[0.6666666666666666,\"#ed7953\"],[0.7777777777777778,\"#fb9f3a\"],[0.8888888888888888,\"#fdca26\"],[1.0,\"#f0f921\"]]}],\"surface\":[{\"type\":\"surface\",\"colorbar\":{\"outlinewidth\":0,\"ticks\":\"\"},\"colorscale\":[[0.0,\"#0d0887\"],[0.1111111111111111,\"#46039f\"],[0.2222222222222222,\"#7201a8\"],[0.3333333333333333,\"#9c179e\"],[0.4444444444444444,\"#bd3786\"],[0.5555555555555556,\"#d8576b\"],[0.6666666666666666,\"#ed7953\"],[0.7777777777777778,\"#fb9f3a\"],[0.8888888888888888,\"#fdca26\"],[1.0,\"#f0f921\"]]}],\"mesh3d\":[{\"type\":\"mesh3d\",\"colorbar\":{\"outlinewidth\":0,\"ticks\":\"\"}}],\"scatter\":[{\"fillpattern\":{\"fillmode\":\"overlay\",\"size\":10,\"solidity\":0.2},\"type\":\"scatter\"}],\"parcoords\":[{\"type\":\"parcoords\",\"line\":{\"colorbar\":{\"outlinewidth\":0,\"ticks\":\"\"}}}],\"scatterpolargl\":[{\"type\":\"scatterpolargl\",\"marker\":{\"colorbar\":{\"outlinewidth\":0,\"ticks\":\"\"}}}],\"bar\":[{\"error_x\":{\"color\":\"#2a3f5f\"},\"error_y\":{\"color\":\"#2a3f5f\"},\"marker\":{\"line\":{\"color\":\"#E5ECF6\",\"width\":0.5},\"pattern\":{\"fillmode\":\"overlay\",\"size\":10,\"solidity\":0.2}},\"type\":\"bar\"}],\"scattergeo\":[{\"type\":\"scattergeo\",\"marker\":{\"colorbar\":{\"outlinewidth\":0,\"ticks\":\"\"}}}],\"scatterpolar\":[{\"type\":\"scatterpolar\",\"marker\":{\"colorbar\":{\"outlinewidth\":0,\"ticks\":\"\"}}}],\"histogram\":[{\"marker\":{\"pattern\":{\"fillmode\":\"overlay\",\"size\":10,\"solidity\":0.2}},\"type\":\"histogram\"}],\"scattergl\":[{\"type\":\"scattergl\",\"marker\":{\"colorbar\":{\"outlinewidth\":0,\"ticks\":\"\"}}}],\"scatter3d\":[{\"type\":\"scatter3d\",\"line\":{\"colorbar\":{\"outlinewidth\":0,\"ticks\":\"\"}},\"marker\":{\"colorbar\":{\"outlinewidth\":0,\"ticks\":\"\"}}}],\"scattermapbox\":[{\"type\":\"scattermapbox\",\"marker\":{\"colorbar\":{\"outlinewidth\":0,\"ticks\":\"\"}}}],\"scatterternary\":[{\"type\":\"scatterternary\",\"marker\":{\"colorbar\":{\"outlinewidth\":0,\"ticks\":\"\"}}}],\"scattercarpet\":[{\"type\":\"scattercarpet\",\"marker\":{\"colorbar\":{\"outlinewidth\":0,\"ticks\":\"\"}}}],\"carpet\":[{\"aaxis\":{\"endlinecolor\":\"#2a3f5f\",\"gridcolor\":\"white\",\"linecolor\":\"white\",\"minorgridcolor\":\"white\",\"startlinecolor\":\"#2a3f5f\"},\"baxis\":{\"endlinecolor\":\"#2a3f5f\",\"gridcolor\":\"white\",\"linecolor\":\"white\",\"minorgridcolor\":\"white\",\"startlinecolor\":\"#2a3f5f\"},\"type\":\"carpet\"}],\"table\":[{\"cells\":{\"fill\":{\"color\":\"#EBF0F8\"},\"line\":{\"color\":\"white\"}},\"header\":{\"fill\":{\"color\":\"#C8D4E3\"},\"line\":{\"color\":\"white\"}},\"type\":\"table\"}],\"barpolar\":[{\"marker\":{\"line\":{\"color\":\"#E5ECF6\",\"width\":0.5},\"pattern\":{\"fillmode\":\"overlay\",\"size\":10,\"solidity\":0.2}},\"type\":\"barpolar\"}],\"pie\":[{\"automargin\":true,\"type\":\"pie\"}]},\"layout\":{\"autotypenumbers\":\"strict\",\"colorway\":[\"#636efa\",\"#EF553B\",\"#00cc96\",\"#ab63fa\",\"#FFA15A\",\"#19d3f3\",\"#FF6692\",\"#B6E880\",\"#FF97FF\",\"#FECB52\"],\"font\":{\"color\":\"#2a3f5f\"},\"hovermode\":\"closest\",\"hoverlabel\":{\"align\":\"left\"},\"paper_bgcolor\":\"white\",\"plot_bgcolor\":\"#E5ECF6\",\"polar\":{\"bgcolor\":\"#E5ECF6\",\"angularaxis\":{\"gridcolor\":\"white\",\"linecolor\":\"white\",\"ticks\":\"\"},\"radialaxis\":{\"gridcolor\":\"white\",\"linecolor\":\"white\",\"ticks\":\"\"}},\"ternary\":{\"bgcolor\":\"#E5ECF6\",\"aaxis\":{\"gridcolor\":\"white\",\"linecolor\":\"white\",\"ticks\":\"\"},\"baxis\":{\"gridcolor\":\"white\",\"linecolor\":\"white\",\"ticks\":\"\"},\"caxis\":{\"gridcolor\":\"white\",\"linecolor\":\"white\",\"ticks\":\"\"}},\"coloraxis\":{\"colorbar\":{\"outlinewidth\":0,\"ticks\":\"\"}},\"colorscale\":{\"sequential\":[[0.0,\"#0d0887\"],[0.1111111111111111,\"#46039f\"],[0.2222222222222222,\"#7201a8\"],[0.3333333333333333,\"#9c179e\"],[0.4444444444444444,\"#bd3786\"],[0.5555555555555556,\"#d8576b\"],[0.6666666666666666,\"#ed7953\"],[0.7777777777777778,\"#fb9f3a\"],[0.8888888888888888,\"#fdca26\"],[1.0,\"#f0f921\"]],\"sequentialminus\":[[0.0,\"#0d0887\"],[0.1111111111111111,\"#46039f\"],[0.2222222222222222,\"#7201a8\"],[0.3333333333333333,\"#9c179e\"],[0.4444444444444444,\"#bd3786\"],[0.5555555555555556,\"#d8576b\"],[0.6666666666666666,\"#ed7953\"],[0.7777777777777778,\"#fb9f3a\"],[0.8888888888888888,\"#fdca26\"],[1.0,\"#f0f921\"]],\"diverging\":[[0,\"#8e0152\"],[0.1,\"#c51b7d\"],[0.2,\"#de77ae\"],[0.3,\"#f1b6da\"],[0.4,\"#fde0ef\"],[0.5,\"#f7f7f7\"],[0.6,\"#e6f5d0\"],[0.7,\"#b8e186\"],[0.8,\"#7fbc41\"],[0.9,\"#4d9221\"],[1,\"#276419\"]]},\"xaxis\":{\"gridcolor\":\"white\",\"linecolor\":\"white\",\"ticks\":\"\",\"title\":{\"standoff\":15},\"zerolinecolor\":\"white\",\"automargin\":true,\"zerolinewidth\":2},\"yaxis\":{\"gridcolor\":\"white\",\"linecolor\":\"white\",\"ticks\":\"\",\"title\":{\"standoff\":15},\"zerolinecolor\":\"white\",\"automargin\":true,\"zerolinewidth\":2},\"scene\":{\"xaxis\":{\"backgroundcolor\":\"#E5ECF6\",\"gridcolor\":\"white\",\"linecolor\":\"white\",\"showbackground\":true,\"ticks\":\"\",\"zerolinecolor\":\"white\",\"gridwidth\":2},\"yaxis\":{\"backgroundcolor\":\"#E5ECF6\",\"gridcolor\":\"white\",\"linecolor\":\"white\",\"showbackground\":true,\"ticks\":\"\",\"zerolinecolor\":\"white\",\"gridwidth\":2},\"zaxis\":{\"backgroundcolor\":\"#E5ECF6\",\"gridcolor\":\"white\",\"linecolor\":\"white\",\"showbackground\":true,\"ticks\":\"\",\"zerolinecolor\":\"white\",\"gridwidth\":2}},\"shapedefaults\":{\"line\":{\"color\":\"#2a3f5f\"}},\"annotationdefaults\":{\"arrowcolor\":\"#2a3f5f\",\"arrowhead\":0,\"arrowwidth\":1},\"geo\":{\"bgcolor\":\"white\",\"landcolor\":\"#E5ECF6\",\"subunitcolor\":\"white\",\"showland\":true,\"showlakes\":true,\"lakecolor\":\"white\"},\"title\":{\"x\":0.05},\"mapbox\":{\"style\":\"light\"}}}},                        {\"responsive\": true}                    ).then(function(){\n",
       "                            \n",
       "var gd = document.getElementById('81ad6daf-c602-42a1-92d5-39112d4d2ed1');\n",
       "var x = new MutationObserver(function (mutations, observer) {{\n",
       "        var display = window.getComputedStyle(gd).display;\n",
       "        if (!display || display === 'none') {{\n",
       "            console.log([gd, 'removed!']);\n",
       "            Plotly.purge(gd);\n",
       "            observer.disconnect();\n",
       "        }}\n",
       "}});\n",
       "\n",
       "// Listen for the removal of the full notebook cells\n",
       "var notebookContainer = gd.closest('#notebook-container');\n",
       "if (notebookContainer) {{\n",
       "    x.observe(notebookContainer, {childList: true});\n",
       "}}\n",
       "\n",
       "// Listen for the clearing of the current output cell\n",
       "var outputEl = gd.closest('.output');\n",
       "if (outputEl) {{\n",
       "    x.observe(outputEl, {childList: true});\n",
       "}}\n",
       "\n",
       "                        })                };                });            </script>        </div>"
      ]
     },
     "metadata": {},
     "output_type": "display_data"
    }
   ],
   "source": [
    "def prepare_gannt_data_from(\n",
    "    m_keys: list[int], j_keys: list[int], sequence_best: list[int]\n",
    ") -> dict:\n",
    "    key_count = {key: 0 for key in j_keys}\n",
    "    j_count = {key: 0 for key in j_keys}\n",
    "    m_count = {key: 0 for key in m_keys}\n",
    "    j_record = {}\n",
    "    \n",
    "    for i in sequence_best:\n",
    "        gen_t: int = int(pt[i][key_count[i]])\n",
    "        gen_m: int = int(ms[i][key_count[i]])\n",
    "        j_count[i] = j_count[i] + gen_t\n",
    "        m_count[gen_m] = m_count[gen_m] + gen_t\n",
    "        \n",
    "        if m_count[gen_m] < j_count[i]:\n",
    "            m_count[gen_m] = j_count[i]\n",
    "        elif m_count[gen_m] > j_count[i]:\n",
    "            j_count[i] = m_count[gen_m]\n",
    "    \n",
    "        # convert seconds to hours, minutes and seconds\n",
    "        start_time: str = str(datetime.timedelta(seconds=j_count[i] - pt[i][key_count[i]]))\n",
    "        end_time: str = str(datetime.timedelta(seconds=j_count[i]))\n",
    "            \n",
    "        j_record[(i, gen_m)] = [start_time, end_time]\n",
    "        \n",
    "        key_count[i] = key_count[i] + 1\n",
    "\n",
    "    return j_record\n",
    "\n",
    "\n",
    "def format_gannt_data(m_keys: list[int], j_keys: list[int], j_record):\n",
    "    frame_dicts = []\n",
    "    for m in m_keys:\n",
    "        for j in j_keys:\n",
    "            frame_dicts.append(dict(\n",
    "                Task=\"Machine %s\"%(m),\n",
    "                Start=\"2023-10-15 %s\"%(str(j_record[(j, m)][0])),\n",
    "                Finish=\"2023-10-15 %s\"%(str(j_record[(j, m)][1])),\n",
    "                Resource=\"Job %s\"%(j+1))\n",
    "            )\n",
    "            # df.append(dict(Task=\"Machine %s\"%(m), Start=\"2018-07-14 %s\"%(str(j_record[(j,m)][0])), Finish=\"2018-07-14 %s\"%(str(j_record[(j,m)][1])),Resource=\"Job %s\"%(j+1)))\n",
    "    return frame_dicts\n",
    "\n",
    "\n",
    "m_keys = [j + 1 for j in range(num_machine)]\n",
    "j_keys = [j for j in range(num_job)]\n",
    "j_record: dict = prepare_gannt_data_from(m_keys, j_keys, sequence_best)\n",
    "\n",
    "frame_dicts: list[dict] = format_gannt_data(m_keys, j_keys, j_record)\n",
    "fig = ff.create_gantt(\n",
    "    frame_dicts, index_col=\"Resource\",\n",
    "    show_colorbar=True, group_tasks=True, showgrid_x=True, title=\"Job shop Schedule\"\n",
    ")\n",
    "# iplot(fig, filename=\"GA_job_shop_scheduling\")\n",
    "fig"
   ]
  },
  {
   "cell_type": "code",
   "execution_count": 129,
   "id": "66f8ac39-6028-4e9a-86e2-b6581a15eb40",
   "metadata": {},
   "outputs": [],
   "source": [
    "# initial_gene = best_gene_history[0]"
   ]
  },
  {
   "cell_type": "code",
   "execution_count": 29,
   "id": "d8fb4948-86ee-4cb7-aa5c-fcabce0a210a",
   "metadata": {},
   "outputs": [
    {
     "data": {
      "application/vnd.plotly.v1+json": {
       "config": {
        "plotlyServerURL": "https://plot.ly"
       },
       "data": [
        {
         "fill": "toself",
         "fillcolor": "rgb(127, 127, 127)",
         "hoverinfo": "name",
         "legendgroup": "rgb(127, 127, 127)",
         "mode": "none",
         "name": "Job 7",
         "showlegend": true,
         "type": "scatter",
         "x": [
          "2023-10-15 0:08:54",
          "2023-10-15 0:09:39",
          "2023-10-15 0:09:39",
          "2023-10-15 0:08:54",
          "2023-10-15 0:08:54",
          "2023-10-15 0:09:39",
          "2023-10-15 0:10:57",
          "2023-10-15 0:10:57",
          "2023-10-15 0:09:39",
          "2023-10-15 0:09:39",
          "2023-10-15 0:14:28",
          "2023-10-15 0:16:02",
          "2023-10-15 0:16:02",
          "2023-10-15 0:14:28",
          "2023-10-15 0:14:28",
          "2023-10-15 0:03:56",
          "2023-10-15 0:04:45",
          "2023-10-15 0:04:45",
          "2023-10-15 0:03:56",
          "2023-10-15 0:03:56",
          "2023-10-15 0:14:13",
          "2023-10-15 0:14:19",
          "2023-10-15 0:14:19",
          "2023-10-15 0:14:13",
          "2023-10-15 0:14:13",
          "2023-10-15 0:11:39",
          "2023-10-15 0:12:13",
          "2023-10-15 0:12:13",
          "2023-10-15 0:11:39",
          "2023-10-15 0:11:39",
          "2023-10-15 0:16:02",
          "2023-10-15 0:17:01",
          "2023-10-15 0:17:01",
          "2023-10-15 0:16:02",
          "2023-10-15 0:16:02",
          "2023-10-15 0:18:10",
          "2023-10-15 0:18:26",
          "2023-10-15 0:18:26",
          "2023-10-15 0:18:10",
          "2023-10-15 0:18:10",
          "2023-10-15 0:00:06",
          "2023-10-15 0:00:52",
          "2023-10-15 0:00:52",
          "2023-10-15 0:00:06",
          "2023-10-15 0:00:06",
          "2023-10-15 0:17:01",
          "2023-10-15 0:18:10",
          "2023-10-15 0:18:10",
          "2023-10-15 0:17:01"
         ],
         "y": [
          8.8,
          8.8,
          9.2,
          9.2,
          null,
          7.8,
          7.8,
          8.2,
          8.2,
          null,
          6.8,
          6.8,
          7.2,
          7.2,
          null,
          5.8,
          5.8,
          6.2,
          6.2,
          null,
          4.8,
          4.8,
          5.2,
          5.2,
          null,
          3.8,
          3.8,
          4.2,
          4.2,
          null,
          2.8,
          2.8,
          3.2,
          3.2,
          null,
          1.8,
          1.8,
          2.2,
          2.2,
          null,
          0.8,
          0.8,
          1.2,
          1.2,
          null,
          -0.2,
          -0.2,
          0.2,
          0.2
         ]
        },
        {
         "fill": "toself",
         "fillcolor": "rgb(140, 86, 75)",
         "hoverinfo": "name",
         "legendgroup": "rgb(140, 86, 75)",
         "mode": "none",
         "name": "Job 5",
         "showlegend": true,
         "type": "scatter",
         "x": [
          "2023-10-15 0:13:39",
          "2023-10-15 0:14:00",
          "2023-10-15 0:14:00",
          "2023-10-15 0:13:39",
          "2023-10-15 0:13:39",
          "2023-10-15 0:07:10",
          "2023-10-15 0:08:26",
          "2023-10-15 0:08:26",
          "2023-10-15 0:07:10",
          "2023-10-15 0:07:10",
          "2023-10-15 0:16:02",
          "2023-10-15 0:17:32",
          "2023-10-15 0:17:32",
          "2023-10-15 0:16:02",
          "2023-10-15 0:16:02",
          "2023-10-15 0:12:01",
          "2023-10-15 0:13:39",
          "2023-10-15 0:13:39",
          "2023-10-15 0:12:01",
          "2023-10-15 0:12:01",
          "2023-10-15 0:09:19",
          "2023-10-15 0:09:20",
          "2023-10-15 0:09:20",
          "2023-10-15 0:09:19",
          "2023-10-15 0:09:19",
          "2023-10-15 0:06:12",
          "2023-10-15 0:07:10",
          "2023-10-15 0:07:10",
          "2023-10-15 0:06:12",
          "2023-10-15 0:06:12",
          "2023-10-15 0:04:04",
          "2023-10-15 0:04:33",
          "2023-10-15 0:04:33",
          "2023-10-15 0:04:04",
          "2023-10-15 0:04:04",
          "2023-10-15 0:03:09",
          "2023-10-15 0:04:04",
          "2023-10-15 0:04:04",
          "2023-10-15 0:03:09",
          "2023-10-15 0:03:09",
          "2023-10-15 0:08:26",
          "2023-10-15 0:09:02",
          "2023-10-15 0:09:02",
          "2023-10-15 0:08:26",
          "2023-10-15 0:08:26",
          "2023-10-15 0:00:42",
          "2023-10-15 0:01:36",
          "2023-10-15 0:01:36",
          "2023-10-15 0:00:42"
         ],
         "y": [
          8.8,
          8.8,
          9.2,
          9.2,
          null,
          7.8,
          7.8,
          8.2,
          8.2,
          null,
          6.8,
          6.8,
          7.2,
          7.2,
          null,
          5.8,
          5.8,
          6.2,
          6.2,
          null,
          4.8,
          4.8,
          5.2,
          5.2,
          null,
          3.8,
          3.8,
          4.2,
          4.2,
          null,
          2.8,
          2.8,
          3.2,
          3.2,
          null,
          1.8,
          1.8,
          2.2,
          2.2,
          null,
          0.8,
          0.8,
          1.2,
          1.2,
          null,
          -0.2,
          -0.2,
          0.2,
          0.2
         ]
        },
        {
         "fill": "toself",
         "fillcolor": "rgb(148, 103, 189)",
         "hoverinfo": "name",
         "legendgroup": "rgb(148, 103, 189)",
         "mode": "none",
         "name": "Job 4",
         "showlegend": true,
         "type": "scatter",
         "x": [
          "2023-10-15 0:00:59",
          "2023-10-15 0:02:09",
          "2023-10-15 0:02:09",
          "2023-10-15 0:00:59",
          "2023-10-15 0:00:59",
          "2023-10-15 0:06:21",
          "2023-10-15 0:06:25",
          "2023-10-15 0:06:25",
          "2023-10-15 0:06:21",
          "2023-10-15 0:06:21",
          "2023-10-15 0:06:25",
          "2023-10-15 0:07:37",
          "2023-10-15 0:07:37",
          "2023-10-15 0:06:25",
          "2023-10-15 0:06:25",
          "2023-10-15 0:16:03",
          "2023-10-15 0:17:33",
          "2023-10-15 0:17:33",
          "2023-10-15 0:16:03",
          "2023-10-15 0:16:03",
          "2023-10-15 0:12:41",
          "2023-10-15 0:14:13",
          "2023-10-15 0:14:13",
          "2023-10-15 0:12:41",
          "2023-10-15 0:12:41",
          "2023-10-15 0:14:13",
          "2023-10-15 0:15:37",
          "2023-10-15 0:15:37",
          "2023-10-15 0:14:13",
          "2023-10-15 0:14:13",
          "2023-10-15 0:02:09",
          "2023-10-15 0:03:14",
          "2023-10-15 0:03:14",
          "2023-10-15 0:02:09",
          "2023-10-15 0:02:09",
          "2023-10-15 0:00:00",
          "2023-10-15 0:00:30",
          "2023-10-15 0:00:30",
          "2023-10-15 0:00:00",
          "2023-10-15 0:00:00",
          "2023-10-15 0:12:15",
          "2023-10-15 0:12:41",
          "2023-10-15 0:12:41",
          "2023-10-15 0:12:15",
          "2023-10-15 0:12:15",
          "2023-10-15 0:03:14",
          "2023-10-15 0:04:32",
          "2023-10-15 0:04:32",
          "2023-10-15 0:03:14"
         ],
         "y": [
          8.8,
          8.8,
          9.2,
          9.2,
          null,
          7.8,
          7.8,
          8.2,
          8.2,
          null,
          6.8,
          6.8,
          7.2,
          7.2,
          null,
          5.8,
          5.8,
          6.2,
          6.2,
          null,
          4.8,
          4.8,
          5.2,
          5.2,
          null,
          3.8,
          3.8,
          4.2,
          4.2,
          null,
          2.8,
          2.8,
          3.2,
          3.2,
          null,
          1.8,
          1.8,
          2.2,
          2.2,
          null,
          0.8,
          0.8,
          1.2,
          1.2,
          null,
          -0.2,
          -0.2,
          0.2,
          0.2
         ]
        },
        {
         "fill": "toself",
         "fillcolor": "rgb(188, 189, 34)",
         "hoverinfo": "name",
         "legendgroup": "rgb(188, 189, 34)",
         "mode": "none",
         "name": "Job 8",
         "showlegend": true,
         "type": "scatter",
         "x": [
          "2023-10-15 0:03:09",
          "2023-10-15 0:03:47",
          "2023-10-15 0:03:47",
          "2023-10-15 0:03:09",
          "2023-10-15 0:03:09",
          "2023-10-15 0:14:10",
          "2023-10-15 0:15:24",
          "2023-10-15 0:15:24",
          "2023-10-15 0:14:10",
          "2023-10-15 0:14:10",
          "2023-10-15 0:00:44",
          "2023-10-15 0:00:55",
          "2023-10-15 0:00:55",
          "2023-10-15 0:00:44",
          "2023-10-15 0:00:44",
          "2023-10-15 0:00:55",
          "2023-10-15 0:01:04",
          "2023-10-15 0:01:04",
          "2023-10-15 0:00:55",
          "2023-10-15 0:00:55",
          "2023-10-15 0:15:24",
          "2023-10-15 0:15:49",
          "2023-10-15 0:15:49",
          "2023-10-15 0:15:24",
          "2023-10-15 0:15:24",
          "2023-10-15 0:04:51",
          "2023-10-15 0:06:12",
          "2023-10-15 0:06:12",
          "2023-10-15 0:04:51",
          "2023-10-15 0:04:51",
          "2023-10-15 0:08:51",
          "2023-10-15 0:10:11",
          "2023-10-15 0:10:11",
          "2023-10-15 0:08:51",
          "2023-10-15 0:08:51",
          "2023-10-15 0:01:58",
          "2023-10-15 0:03:09",
          "2023-10-15 0:03:09",
          "2023-10-15 0:01:58",
          "2023-10-15 0:01:58",
          "2023-10-15 0:15:49",
          "2023-10-15 0:17:20",
          "2023-10-15 0:17:20",
          "2023-10-15 0:15:49",
          "2023-10-15 0:15:49",
          "2023-10-15 0:12:47",
          "2023-10-15 0:13:34",
          "2023-10-15 0:13:34",
          "2023-10-15 0:12:47"
         ],
         "y": [
          8.8,
          8.8,
          9.2,
          9.2,
          null,
          7.8,
          7.8,
          8.2,
          8.2,
          null,
          6.8,
          6.8,
          7.2,
          7.2,
          null,
          5.8,
          5.8,
          6.2,
          6.2,
          null,
          4.8,
          4.8,
          5.2,
          5.2,
          null,
          3.8,
          3.8,
          4.2,
          4.2,
          null,
          2.8,
          2.8,
          3.2,
          3.2,
          null,
          1.8,
          1.8,
          2.2,
          2.2,
          null,
          0.8,
          0.8,
          1.2,
          1.2,
          null,
          -0.2,
          -0.2,
          0.2,
          0.2
         ]
        },
        {
         "fill": "toself",
         "fillcolor": "rgb(214, 39, 40)",
         "hoverinfo": "name",
         "legendgroup": "rgb(214, 39, 40)",
         "mode": "none",
         "name": "Job 3",
         "showlegend": true,
         "type": "scatter",
         "x": [
          "2023-10-15 0:07:19",
          "2023-10-15 0:08:54",
          "2023-10-15 0:08:54",
          "2023-10-15 0:07:19",
          "2023-10-15 0:07:19",
          "2023-10-15 0:13:36",
          "2023-10-15 0:13:41",
          "2023-10-15 0:13:41",
          "2023-10-15 0:13:36",
          "2023-10-15 0:13:36",
          "2023-10-15 0:10:16",
          "2023-10-15 0:11:32",
          "2023-10-15 0:11:32",
          "2023-10-15 0:10:16",
          "2023-10-15 0:10:16",
          "2023-10-15 0:02:29",
          "2023-10-15 0:03:56",
          "2023-10-15 0:03:56",
          "2023-10-15 0:02:29",
          "2023-10-15 0:02:29",
          "2023-10-15 0:03:56",
          "2023-10-15 0:04:24",
          "2023-10-15 0:04:24",
          "2023-10-15 0:03:56",
          "2023-10-15 0:03:56",
          "2023-10-15 0:08:54",
          "2023-10-15 0:10:04",
          "2023-10-15 0:10:04",
          "2023-10-15 0:08:54",
          "2023-10-15 0:08:54",
          "2023-10-15 0:17:01",
          "2023-10-15 0:17:13",
          "2023-10-15 0:17:13",
          "2023-10-15 0:17:01",
          "2023-10-15 0:17:01",
          "2023-10-15 0:13:41",
          "2023-10-15 0:13:45",
          "2023-10-15 0:13:45",
          "2023-10-15 0:13:41",
          "2023-10-15 0:13:41",
          "2023-10-15 0:12:41",
          "2023-10-15 0:13:36",
          "2023-10-15 0:13:36",
          "2023-10-15 0:12:41",
          "2023-10-15 0:12:41",
          "2023-10-15 0:10:04",
          "2023-10-15 0:10:16",
          "2023-10-15 0:10:16",
          "2023-10-15 0:10:04"
         ],
         "y": [
          8.8,
          8.8,
          9.2,
          9.2,
          null,
          7.8,
          7.8,
          8.2,
          8.2,
          null,
          6.8,
          6.8,
          7.2,
          7.2,
          null,
          5.8,
          5.8,
          6.2,
          6.2,
          null,
          4.8,
          4.8,
          5.2,
          5.2,
          null,
          3.8,
          3.8,
          4.2,
          4.2,
          null,
          2.8,
          2.8,
          3.2,
          3.2,
          null,
          1.8,
          1.8,
          2.2,
          2.2,
          null,
          0.8,
          0.8,
          1.2,
          1.2,
          null,
          -0.2,
          -0.2,
          0.2,
          0.2
         ]
        },
        {
         "fill": "toself",
         "fillcolor": "rgb(227, 119, 194)",
         "hoverinfo": "name",
         "legendgroup": "rgb(227, 119, 194)",
         "mode": "none",
         "name": "Job 6",
         "showlegend": true,
         "type": "scatter",
         "x": [
          "2023-10-15 0:09:39",
          "2023-10-15 0:11:17",
          "2023-10-15 0:11:17",
          "2023-10-15 0:09:39",
          "2023-10-15 0:09:39",
          "2023-10-15 0:15:24",
          "2023-10-15 0:16:13",
          "2023-10-15 0:16:13",
          "2023-10-15 0:15:24",
          "2023-10-15 0:15:24",
          "2023-10-15 0:00:00",
          "2023-10-15 0:00:44",
          "2023-10-15 0:00:44",
          "2023-10-15 0:00:00",
          "2023-10-15 0:00:00",
          "2023-10-15 0:11:17",
          "2023-10-15 0:12:01",
          "2023-10-15 0:12:01",
          "2023-10-15 0:11:17",
          "2023-10-15 0:11:17",
          "2023-10-15 0:08:51",
          "2023-10-15 0:09:19",
          "2023-10-15 0:09:19",
          "2023-10-15 0:08:51",
          "2023-10-15 0:08:51",
          "2023-10-15 0:04:38",
          "2023-10-15 0:04:51",
          "2023-10-15 0:04:51",
          "2023-10-15 0:04:38",
          "2023-10-15 0:04:38",
          "2023-10-15 0:08:31",
          "2023-10-15 0:08:51",
          "2023-10-15 0:08:51",
          "2023-10-15 0:08:31",
          "2023-10-15 0:08:31",
          "2023-10-15 0:12:01",
          "2023-10-15 0:12:15",
          "2023-10-15 0:12:15",
          "2023-10-15 0:12:01",
          "2023-10-15 0:12:01",
          "2023-10-15 0:13:36",
          "2023-10-15 0:13:48",
          "2023-10-15 0:13:48",
          "2023-10-15 0:13:36",
          "2023-10-15 0:13:36",
          "2023-10-15 0:07:55",
          "2023-10-15 0:08:31",
          "2023-10-15 0:08:31",
          "2023-10-15 0:07:55"
         ],
         "y": [
          8.8,
          8.8,
          9.2,
          9.2,
          null,
          7.8,
          7.8,
          8.2,
          8.2,
          null,
          6.8,
          6.8,
          7.2,
          7.2,
          null,
          5.8,
          5.8,
          6.2,
          6.2,
          null,
          4.8,
          4.8,
          5.2,
          5.2,
          null,
          3.8,
          3.8,
          4.2,
          4.2,
          null,
          2.8,
          2.8,
          3.2,
          3.2,
          null,
          1.8,
          1.8,
          2.2,
          2.2,
          null,
          0.8,
          0.8,
          1.2,
          1.2,
          null,
          -0.2,
          -0.2,
          0.2,
          0.2
         ]
        },
        {
         "fill": "toself",
         "fillcolor": "rgb(23, 190, 207)",
         "hoverinfo": "name",
         "legendgroup": "rgb(23, 190, 207)",
         "mode": "none",
         "name": "Job 9",
         "showlegend": true,
         "type": "scatter",
         "x": [
          "2023-10-15 0:11:17",
          "2023-10-15 0:11:47",
          "2023-10-15 0:11:47",
          "2023-10-15 0:11:17",
          "2023-10-15 0:11:17",
          "2023-10-15 0:05:43",
          "2023-10-15 0:06:21",
          "2023-10-15 0:06:21",
          "2023-10-15 0:05:43",
          "2023-10-15 0:05:43",
          "2023-10-15 0:02:29",
          "2023-10-15 0:02:59",
          "2023-10-15 0:02:59",
          "2023-10-15 0:02:29",
          "2023-10-15 0:02:29",
          "2023-10-15 0:01:04",
          "2023-10-15 0:02:29",
          "2023-10-15 0:02:29",
          "2023-10-15 0:01:04",
          "2023-10-15 0:01:04",
          "2023-10-15 0:06:21",
          "2023-10-15 0:06:32",
          "2023-10-15 0:06:32",
          "2023-10-15 0:06:21",
          "2023-10-15 0:06:21",
          "2023-10-15 0:15:37",
          "2023-10-15 0:16:26",
          "2023-10-15 0:16:26",
          "2023-10-15 0:15:37",
          "2023-10-15 0:15:37",
          "2023-10-15 0:11:47",
          "2023-10-15 0:12:00",
          "2023-10-15 0:12:00",
          "2023-10-15 0:11:47",
          "2023-10-15 0:11:47",
          "2023-10-15 0:04:04",
          "2023-10-15 0:05:43",
          "2023-10-15 0:05:43",
          "2023-10-15 0:04:04",
          "2023-10-15 0:04:04",
          "2023-10-15 0:00:00",
          "2023-10-15 0:00:06",
          "2023-10-15 0:00:06",
          "2023-10-15 0:00:00",
          "2023-10-15 0:00:00",
          "2023-10-15 0:00:06",
          "2023-10-15 0:00:42",
          "2023-10-15 0:00:42",
          "2023-10-15 0:00:06"
         ],
         "y": [
          8.8,
          8.8,
          9.2,
          9.2,
          null,
          7.8,
          7.8,
          8.2,
          8.2,
          null,
          6.8,
          6.8,
          7.2,
          7.2,
          null,
          5.8,
          5.8,
          6.2,
          6.2,
          null,
          4.8,
          4.8,
          5.2,
          5.2,
          null,
          3.8,
          3.8,
          4.2,
          4.2,
          null,
          2.8,
          2.8,
          3.2,
          3.2,
          null,
          1.8,
          1.8,
          2.2,
          2.2,
          null,
          0.8,
          0.8,
          1.2,
          1.2,
          null,
          -0.2,
          -0.2,
          0.2,
          0.2
         ]
        },
        {
         "fill": "toself",
         "fillcolor": "rgb(255, 127, 14)",
         "hoverinfo": "name",
         "legendgroup": "rgb(255, 127, 14)",
         "mode": "none",
         "name": "Job 10",
         "showlegend": true,
         "type": "scatter",
         "x": [
          "2023-10-15 0:00:00",
          "2023-10-15 0:00:59",
          "2023-10-15 0:00:59",
          "2023-10-15 0:00:00",
          "2023-10-15 0:00:00",
          "2023-10-15 0:02:29",
          "2023-10-15 0:03:51",
          "2023-10-15 0:03:51",
          "2023-10-15 0:02:29",
          "2023-10-15 0:02:29",
          "2023-10-15 0:05:24",
          "2023-10-15 0:06:12",
          "2023-10-15 0:06:12",
          "2023-10-15 0:05:24",
          "2023-10-15 0:05:24",
          "2023-10-15 0:07:55",
          "2023-10-15 0:09:21",
          "2023-10-15 0:09:21",
          "2023-10-15 0:07:55",
          "2023-10-15 0:07:55",
          "2023-10-15 0:00:59",
          "2023-10-15 0:02:29",
          "2023-10-15 0:02:29",
          "2023-10-15 0:00:59",
          "2023-10-15 0:00:59",
          "2023-10-15 0:03:51",
          "2023-10-15 0:04:38",
          "2023-10-15 0:04:38",
          "2023-10-15 0:03:51",
          "2023-10-15 0:03:51",
          "2023-10-15 0:04:38",
          "2023-10-15 0:04:59",
          "2023-10-15 0:04:59",
          "2023-10-15 0:04:38",
          "2023-10-15 0:04:38",
          "2023-10-15 0:09:21",
          "2023-10-15 0:09:56",
          "2023-10-15 0:09:56",
          "2023-10-15 0:09:21",
          "2023-10-15 0:09:21",
          "2023-10-15 0:06:42",
          "2023-10-15 0:07:28",
          "2023-10-15 0:07:28",
          "2023-10-15 0:06:42",
          "2023-10-15 0:06:42",
          "2023-10-15 0:07:28",
          "2023-10-15 0:07:55",
          "2023-10-15 0:07:55",
          "2023-10-15 0:07:28"
         ],
         "y": [
          8.8,
          8.8,
          9.2,
          9.2,
          null,
          7.8,
          7.8,
          8.2,
          8.2,
          null,
          6.8,
          6.8,
          7.2,
          7.2,
          null,
          5.8,
          5.8,
          6.2,
          6.2,
          null,
          4.8,
          4.8,
          5.2,
          5.2,
          null,
          3.8,
          3.8,
          4.2,
          4.2,
          null,
          2.8,
          2.8,
          3.2,
          3.2,
          null,
          1.8,
          1.8,
          2.2,
          2.2,
          null,
          0.8,
          0.8,
          1.2,
          1.2,
          null,
          -0.2,
          -0.2,
          0.2,
          0.2
         ]
        },
        {
         "fill": "toself",
         "fillcolor": "rgb(31, 119, 180)",
         "hoverinfo": "name",
         "legendgroup": "rgb(31, 119, 180)",
         "mode": "none",
         "name": "Job 1",
         "showlegend": true,
         "type": "scatter",
         "x": [
          "2023-10-15 0:07:05",
          "2023-10-15 0:07:19",
          "2023-10-15 0:07:19",
          "2023-10-15 0:07:05",
          "2023-10-15 0:07:05",
          "2023-10-15 0:13:41",
          "2023-10-15 0:14:10",
          "2023-10-15 0:14:10",
          "2023-10-15 0:13:41",
          "2023-10-15 0:13:41",
          "2023-10-15 0:14:10",
          "2023-10-15 0:14:28",
          "2023-10-15 0:14:28",
          "2023-10-15 0:14:10",
          "2023-10-15 0:14:10",
          "2023-10-15 0:14:28",
          "2023-10-15 0:16:03",
          "2023-10-15 0:16:03",
          "2023-10-15 0:14:28",
          "2023-10-15 0:14:28",
          "2023-10-15 0:07:34",
          "2023-10-15 0:07:38",
          "2023-10-15 0:07:38",
          "2023-10-15 0:07:34",
          "2023-10-15 0:07:34",
          "2023-10-15 0:10:04",
          "2023-10-15 0:11:39",
          "2023-10-15 0:11:39",
          "2023-10-15 0:10:04",
          "2023-10-15 0:10:04",
          "2023-10-15 0:07:19",
          "2023-10-15 0:07:34",
          "2023-10-15 0:07:34",
          "2023-10-15 0:07:19",
          "2023-10-15 0:07:19",
          "2023-10-15 0:05:43",
          "2023-10-15 0:07:05",
          "2023-10-15 0:07:05",
          "2023-10-15 0:05:43",
          "2023-10-15 0:05:43",
          "2023-10-15 0:11:39",
          "2023-10-15 0:12:15",
          "2023-10-15 0:12:15",
          "2023-10-15 0:11:39",
          "2023-10-15 0:11:39",
          "2023-10-15 0:12:15",
          "2023-10-15 0:12:47",
          "2023-10-15 0:12:47",
          "2023-10-15 0:12:15"
         ],
         "y": [
          8.8,
          8.8,
          9.2,
          9.2,
          null,
          7.8,
          7.8,
          8.2,
          8.2,
          null,
          6.8,
          6.8,
          7.2,
          7.2,
          null,
          5.8,
          5.8,
          6.2,
          6.2,
          null,
          4.8,
          4.8,
          5.2,
          5.2,
          null,
          3.8,
          3.8,
          4.2,
          4.2,
          null,
          2.8,
          2.8,
          3.2,
          3.2,
          null,
          1.8,
          1.8,
          2.2,
          2.2,
          null,
          0.8,
          0.8,
          1.2,
          1.2,
          null,
          -0.2,
          -0.2,
          0.2,
          0.2
         ]
        },
        {
         "fill": "toself",
         "fillcolor": "rgb(44, 160, 44)",
         "hoverinfo": "name",
         "legendgroup": "rgb(44, 160, 44)",
         "mode": "none",
         "name": "Job 2",
         "showlegend": true,
         "type": "scatter",
         "x": [
          "2023-10-15 0:02:09",
          "2023-10-15 0:02:30",
          "2023-10-15 0:02:30",
          "2023-10-15 0:02:09",
          "2023-10-15 0:02:09",
          "2023-10-15 0:03:51",
          "2023-10-15 0:05:14",
          "2023-10-15 0:05:14",
          "2023-10-15 0:03:51",
          "2023-10-15 0:03:51",
          "2023-10-15 0:05:14",
          "2023-10-15 0:05:24",
          "2023-10-15 0:05:24",
          "2023-10-15 0:05:14",
          "2023-10-15 0:05:14",
          "2023-10-15 0:09:21",
          "2023-10-15 0:09:43",
          "2023-10-15 0:09:43",
          "2023-10-15 0:09:21",
          "2023-10-15 0:09:21",
          "2023-10-15 0:15:49",
          "2023-10-15 0:17:23",
          "2023-10-15 0:17:23",
          "2023-10-15 0:15:49",
          "2023-10-15 0:15:49",
          "2023-10-15 0:07:10",
          "2023-10-15 0:08:32",
          "2023-10-15 0:08:32",
          "2023-10-15 0:07:10",
          "2023-10-15 0:07:10",
          "2023-10-15 0:10:11",
          "2023-10-15 0:11:20",
          "2023-10-15 0:11:20",
          "2023-10-15 0:10:11",
          "2023-10-15 0:10:11",
          "2023-10-15 0:00:30",
          "2023-10-15 0:01:58",
          "2023-10-15 0:01:58",
          "2023-10-15 0:00:30",
          "2023-10-15 0:00:30",
          "2023-10-15 0:05:24",
          "2023-10-15 0:06:42",
          "2023-10-15 0:06:42",
          "2023-10-15 0:05:24",
          "2023-10-15 0:05:24",
          "2023-10-15 0:18:10",
          "2023-10-15 0:18:42",
          "2023-10-15 0:18:42",
          "2023-10-15 0:18:10"
         ],
         "y": [
          8.8,
          8.8,
          9.2,
          9.2,
          null,
          7.8,
          7.8,
          8.2,
          8.2,
          null,
          6.8,
          6.8,
          7.2,
          7.2,
          null,
          5.8,
          5.8,
          6.2,
          6.2,
          null,
          4.8,
          4.8,
          5.2,
          5.2,
          null,
          3.8,
          3.8,
          4.2,
          4.2,
          null,
          2.8,
          2.8,
          3.2,
          3.2,
          null,
          1.8,
          1.8,
          2.2,
          2.2,
          null,
          0.8,
          0.8,
          1.2,
          1.2,
          null,
          -0.2,
          -0.2,
          0.2,
          0.2
         ]
        },
        {
         "legendgroup": "rgb(127, 127, 127)",
         "marker": {
          "color": "rgb(127, 127, 127)",
          "opacity": 0,
          "size": 1
         },
         "mode": "markers",
         "name": "",
         "showlegend": false,
         "text": [
          null,
          null,
          null,
          null,
          null,
          null,
          null,
          null,
          null,
          null,
          null,
          null,
          null,
          null,
          null,
          null,
          null,
          null,
          null,
          null
         ],
         "type": "scatter",
         "x": [
          "2023-10-15 0:08:54",
          "2023-10-15 0:09:39",
          "2023-10-15 0:09:39",
          "2023-10-15 0:10:57",
          "2023-10-15 0:14:28",
          "2023-10-15 0:16:02",
          "2023-10-15 0:03:56",
          "2023-10-15 0:04:45",
          "2023-10-15 0:14:13",
          "2023-10-15 0:14:19",
          "2023-10-15 0:11:39",
          "2023-10-15 0:12:13",
          "2023-10-15 0:16:02",
          "2023-10-15 0:17:01",
          "2023-10-15 0:18:10",
          "2023-10-15 0:18:26",
          "2023-10-15 0:00:06",
          "2023-10-15 0:00:52",
          "2023-10-15 0:17:01",
          "2023-10-15 0:18:10"
         ],
         "y": [
          9,
          9,
          8,
          8,
          7,
          7,
          6,
          6,
          5,
          5,
          4,
          4,
          3,
          3,
          2,
          2,
          1,
          1,
          0,
          0
         ]
        },
        {
         "legendgroup": "rgb(140, 86, 75)",
         "marker": {
          "color": "rgb(140, 86, 75)",
          "opacity": 0,
          "size": 1
         },
         "mode": "markers",
         "name": "",
         "showlegend": false,
         "text": [
          null,
          null,
          null,
          null,
          null,
          null,
          null,
          null,
          null,
          null,
          null,
          null,
          null,
          null,
          null,
          null,
          null,
          null,
          null,
          null
         ],
         "type": "scatter",
         "x": [
          "2023-10-15 0:13:39",
          "2023-10-15 0:14:00",
          "2023-10-15 0:07:10",
          "2023-10-15 0:08:26",
          "2023-10-15 0:16:02",
          "2023-10-15 0:17:32",
          "2023-10-15 0:12:01",
          "2023-10-15 0:13:39",
          "2023-10-15 0:09:19",
          "2023-10-15 0:09:20",
          "2023-10-15 0:06:12",
          "2023-10-15 0:07:10",
          "2023-10-15 0:04:04",
          "2023-10-15 0:04:33",
          "2023-10-15 0:03:09",
          "2023-10-15 0:04:04",
          "2023-10-15 0:08:26",
          "2023-10-15 0:09:02",
          "2023-10-15 0:00:42",
          "2023-10-15 0:01:36"
         ],
         "y": [
          9,
          9,
          8,
          8,
          7,
          7,
          6,
          6,
          5,
          5,
          4,
          4,
          3,
          3,
          2,
          2,
          1,
          1,
          0,
          0
         ]
        },
        {
         "legendgroup": "rgb(148, 103, 189)",
         "marker": {
          "color": "rgb(148, 103, 189)",
          "opacity": 0,
          "size": 1
         },
         "mode": "markers",
         "name": "",
         "showlegend": false,
         "text": [
          null,
          null,
          null,
          null,
          null,
          null,
          null,
          null,
          null,
          null,
          null,
          null,
          null,
          null,
          null,
          null,
          null,
          null,
          null,
          null
         ],
         "type": "scatter",
         "x": [
          "2023-10-15 0:00:59",
          "2023-10-15 0:02:09",
          "2023-10-15 0:06:21",
          "2023-10-15 0:06:25",
          "2023-10-15 0:06:25",
          "2023-10-15 0:07:37",
          "2023-10-15 0:16:03",
          "2023-10-15 0:17:33",
          "2023-10-15 0:12:41",
          "2023-10-15 0:14:13",
          "2023-10-15 0:14:13",
          "2023-10-15 0:15:37",
          "2023-10-15 0:02:09",
          "2023-10-15 0:03:14",
          "2023-10-15 0:00:00",
          "2023-10-15 0:00:30",
          "2023-10-15 0:12:15",
          "2023-10-15 0:12:41",
          "2023-10-15 0:03:14",
          "2023-10-15 0:04:32"
         ],
         "y": [
          9,
          9,
          8,
          8,
          7,
          7,
          6,
          6,
          5,
          5,
          4,
          4,
          3,
          3,
          2,
          2,
          1,
          1,
          0,
          0
         ]
        },
        {
         "legendgroup": "rgb(188, 189, 34)",
         "marker": {
          "color": "rgb(188, 189, 34)",
          "opacity": 0,
          "size": 1
         },
         "mode": "markers",
         "name": "",
         "showlegend": false,
         "text": [
          null,
          null,
          null,
          null,
          null,
          null,
          null,
          null,
          null,
          null,
          null,
          null,
          null,
          null,
          null,
          null,
          null,
          null,
          null,
          null
         ],
         "type": "scatter",
         "x": [
          "2023-10-15 0:03:09",
          "2023-10-15 0:03:47",
          "2023-10-15 0:14:10",
          "2023-10-15 0:15:24",
          "2023-10-15 0:00:44",
          "2023-10-15 0:00:55",
          "2023-10-15 0:00:55",
          "2023-10-15 0:01:04",
          "2023-10-15 0:15:24",
          "2023-10-15 0:15:49",
          "2023-10-15 0:04:51",
          "2023-10-15 0:06:12",
          "2023-10-15 0:08:51",
          "2023-10-15 0:10:11",
          "2023-10-15 0:01:58",
          "2023-10-15 0:03:09",
          "2023-10-15 0:15:49",
          "2023-10-15 0:17:20",
          "2023-10-15 0:12:47",
          "2023-10-15 0:13:34"
         ],
         "y": [
          9,
          9,
          8,
          8,
          7,
          7,
          6,
          6,
          5,
          5,
          4,
          4,
          3,
          3,
          2,
          2,
          1,
          1,
          0,
          0
         ]
        },
        {
         "legendgroup": "rgb(214, 39, 40)",
         "marker": {
          "color": "rgb(214, 39, 40)",
          "opacity": 0,
          "size": 1
         },
         "mode": "markers",
         "name": "",
         "showlegend": false,
         "text": [
          null,
          null,
          null,
          null,
          null,
          null,
          null,
          null,
          null,
          null,
          null,
          null,
          null,
          null,
          null,
          null,
          null,
          null,
          null,
          null
         ],
         "type": "scatter",
         "x": [
          "2023-10-15 0:07:19",
          "2023-10-15 0:08:54",
          "2023-10-15 0:13:36",
          "2023-10-15 0:13:41",
          "2023-10-15 0:10:16",
          "2023-10-15 0:11:32",
          "2023-10-15 0:02:29",
          "2023-10-15 0:03:56",
          "2023-10-15 0:03:56",
          "2023-10-15 0:04:24",
          "2023-10-15 0:08:54",
          "2023-10-15 0:10:04",
          "2023-10-15 0:17:01",
          "2023-10-15 0:17:13",
          "2023-10-15 0:13:41",
          "2023-10-15 0:13:45",
          "2023-10-15 0:12:41",
          "2023-10-15 0:13:36",
          "2023-10-15 0:10:04",
          "2023-10-15 0:10:16"
         ],
         "y": [
          9,
          9,
          8,
          8,
          7,
          7,
          6,
          6,
          5,
          5,
          4,
          4,
          3,
          3,
          2,
          2,
          1,
          1,
          0,
          0
         ]
        },
        {
         "legendgroup": "rgb(227, 119, 194)",
         "marker": {
          "color": "rgb(227, 119, 194)",
          "opacity": 0,
          "size": 1
         },
         "mode": "markers",
         "name": "",
         "showlegend": false,
         "text": [
          null,
          null,
          null,
          null,
          null,
          null,
          null,
          null,
          null,
          null,
          null,
          null,
          null,
          null,
          null,
          null,
          null,
          null,
          null,
          null
         ],
         "type": "scatter",
         "x": [
          "2023-10-15 0:09:39",
          "2023-10-15 0:11:17",
          "2023-10-15 0:15:24",
          "2023-10-15 0:16:13",
          "2023-10-15 0:00:00",
          "2023-10-15 0:00:44",
          "2023-10-15 0:11:17",
          "2023-10-15 0:12:01",
          "2023-10-15 0:08:51",
          "2023-10-15 0:09:19",
          "2023-10-15 0:04:38",
          "2023-10-15 0:04:51",
          "2023-10-15 0:08:31",
          "2023-10-15 0:08:51",
          "2023-10-15 0:12:01",
          "2023-10-15 0:12:15",
          "2023-10-15 0:13:36",
          "2023-10-15 0:13:48",
          "2023-10-15 0:07:55",
          "2023-10-15 0:08:31"
         ],
         "y": [
          9,
          9,
          8,
          8,
          7,
          7,
          6,
          6,
          5,
          5,
          4,
          4,
          3,
          3,
          2,
          2,
          1,
          1,
          0,
          0
         ]
        },
        {
         "legendgroup": "rgb(23, 190, 207)",
         "marker": {
          "color": "rgb(23, 190, 207)",
          "opacity": 0,
          "size": 1
         },
         "mode": "markers",
         "name": "",
         "showlegend": false,
         "text": [
          null,
          null,
          null,
          null,
          null,
          null,
          null,
          null,
          null,
          null,
          null,
          null,
          null,
          null,
          null,
          null,
          null,
          null,
          null,
          null
         ],
         "type": "scatter",
         "x": [
          "2023-10-15 0:11:17",
          "2023-10-15 0:11:47",
          "2023-10-15 0:05:43",
          "2023-10-15 0:06:21",
          "2023-10-15 0:02:29",
          "2023-10-15 0:02:59",
          "2023-10-15 0:01:04",
          "2023-10-15 0:02:29",
          "2023-10-15 0:06:21",
          "2023-10-15 0:06:32",
          "2023-10-15 0:15:37",
          "2023-10-15 0:16:26",
          "2023-10-15 0:11:47",
          "2023-10-15 0:12:00",
          "2023-10-15 0:04:04",
          "2023-10-15 0:05:43",
          "2023-10-15 0:00:00",
          "2023-10-15 0:00:06",
          "2023-10-15 0:00:06",
          "2023-10-15 0:00:42"
         ],
         "y": [
          9,
          9,
          8,
          8,
          7,
          7,
          6,
          6,
          5,
          5,
          4,
          4,
          3,
          3,
          2,
          2,
          1,
          1,
          0,
          0
         ]
        },
        {
         "legendgroup": "rgb(255, 127, 14)",
         "marker": {
          "color": "rgb(255, 127, 14)",
          "opacity": 0,
          "size": 1
         },
         "mode": "markers",
         "name": "",
         "showlegend": false,
         "text": [
          null,
          null,
          null,
          null,
          null,
          null,
          null,
          null,
          null,
          null,
          null,
          null,
          null,
          null,
          null,
          null,
          null,
          null,
          null,
          null
         ],
         "type": "scatter",
         "x": [
          "2023-10-15 0:00:00",
          "2023-10-15 0:00:59",
          "2023-10-15 0:02:29",
          "2023-10-15 0:03:51",
          "2023-10-15 0:05:24",
          "2023-10-15 0:06:12",
          "2023-10-15 0:07:55",
          "2023-10-15 0:09:21",
          "2023-10-15 0:00:59",
          "2023-10-15 0:02:29",
          "2023-10-15 0:03:51",
          "2023-10-15 0:04:38",
          "2023-10-15 0:04:38",
          "2023-10-15 0:04:59",
          "2023-10-15 0:09:21",
          "2023-10-15 0:09:56",
          "2023-10-15 0:06:42",
          "2023-10-15 0:07:28",
          "2023-10-15 0:07:28",
          "2023-10-15 0:07:55"
         ],
         "y": [
          9,
          9,
          8,
          8,
          7,
          7,
          6,
          6,
          5,
          5,
          4,
          4,
          3,
          3,
          2,
          2,
          1,
          1,
          0,
          0
         ]
        },
        {
         "legendgroup": "rgb(31, 119, 180)",
         "marker": {
          "color": "rgb(31, 119, 180)",
          "opacity": 0,
          "size": 1
         },
         "mode": "markers",
         "name": "",
         "showlegend": false,
         "text": [
          null,
          null,
          null,
          null,
          null,
          null,
          null,
          null,
          null,
          null,
          null,
          null,
          null,
          null,
          null,
          null,
          null,
          null,
          null,
          null
         ],
         "type": "scatter",
         "x": [
          "2023-10-15 0:07:05",
          "2023-10-15 0:07:19",
          "2023-10-15 0:13:41",
          "2023-10-15 0:14:10",
          "2023-10-15 0:14:10",
          "2023-10-15 0:14:28",
          "2023-10-15 0:14:28",
          "2023-10-15 0:16:03",
          "2023-10-15 0:07:34",
          "2023-10-15 0:07:38",
          "2023-10-15 0:10:04",
          "2023-10-15 0:11:39",
          "2023-10-15 0:07:19",
          "2023-10-15 0:07:34",
          "2023-10-15 0:05:43",
          "2023-10-15 0:07:05",
          "2023-10-15 0:11:39",
          "2023-10-15 0:12:15",
          "2023-10-15 0:12:15",
          "2023-10-15 0:12:47"
         ],
         "y": [
          9,
          9,
          8,
          8,
          7,
          7,
          6,
          6,
          5,
          5,
          4,
          4,
          3,
          3,
          2,
          2,
          1,
          1,
          0,
          0
         ]
        },
        {
         "legendgroup": "rgb(44, 160, 44)",
         "marker": {
          "color": "rgb(44, 160, 44)",
          "opacity": 0,
          "size": 1
         },
         "mode": "markers",
         "name": "",
         "showlegend": false,
         "text": [
          null,
          null,
          null,
          null,
          null,
          null,
          null,
          null,
          null,
          null,
          null,
          null,
          null,
          null,
          null,
          null,
          null,
          null,
          null,
          null
         ],
         "type": "scatter",
         "x": [
          "2023-10-15 0:02:09",
          "2023-10-15 0:02:30",
          "2023-10-15 0:03:51",
          "2023-10-15 0:05:14",
          "2023-10-15 0:05:14",
          "2023-10-15 0:05:24",
          "2023-10-15 0:09:21",
          "2023-10-15 0:09:43",
          "2023-10-15 0:15:49",
          "2023-10-15 0:17:23",
          "2023-10-15 0:07:10",
          "2023-10-15 0:08:32",
          "2023-10-15 0:10:11",
          "2023-10-15 0:11:20",
          "2023-10-15 0:00:30",
          "2023-10-15 0:01:58",
          "2023-10-15 0:05:24",
          "2023-10-15 0:06:42",
          "2023-10-15 0:18:10",
          "2023-10-15 0:18:42"
         ],
         "y": [
          9,
          9,
          8,
          8,
          7,
          7,
          6,
          6,
          5,
          5,
          4,
          4,
          3,
          3,
          2,
          2,
          1,
          1,
          0,
          0
         ]
        }
       ],
       "layout": {
        "autosize": true,
        "hovermode": "closest",
        "showlegend": true,
        "template": {
         "data": {
          "bar": [
           {
            "error_x": {
             "color": "#2a3f5f"
            },
            "error_y": {
             "color": "#2a3f5f"
            },
            "marker": {
             "line": {
              "color": "#E5ECF6",
              "width": 0.5
             },
             "pattern": {
              "fillmode": "overlay",
              "size": 10,
              "solidity": 0.2
             }
            },
            "type": "bar"
           }
          ],
          "barpolar": [
           {
            "marker": {
             "line": {
              "color": "#E5ECF6",
              "width": 0.5
             },
             "pattern": {
              "fillmode": "overlay",
              "size": 10,
              "solidity": 0.2
             }
            },
            "type": "barpolar"
           }
          ],
          "carpet": [
           {
            "aaxis": {
             "endlinecolor": "#2a3f5f",
             "gridcolor": "white",
             "linecolor": "white",
             "minorgridcolor": "white",
             "startlinecolor": "#2a3f5f"
            },
            "baxis": {
             "endlinecolor": "#2a3f5f",
             "gridcolor": "white",
             "linecolor": "white",
             "minorgridcolor": "white",
             "startlinecolor": "#2a3f5f"
            },
            "type": "carpet"
           }
          ],
          "choropleth": [
           {
            "colorbar": {
             "outlinewidth": 0,
             "ticks": ""
            },
            "type": "choropleth"
           }
          ],
          "contour": [
           {
            "colorbar": {
             "outlinewidth": 0,
             "ticks": ""
            },
            "colorscale": [
             [
              0,
              "#0d0887"
             ],
             [
              0.1111111111111111,
              "#46039f"
             ],
             [
              0.2222222222222222,
              "#7201a8"
             ],
             [
              0.3333333333333333,
              "#9c179e"
             ],
             [
              0.4444444444444444,
              "#bd3786"
             ],
             [
              0.5555555555555556,
              "#d8576b"
             ],
             [
              0.6666666666666666,
              "#ed7953"
             ],
             [
              0.7777777777777778,
              "#fb9f3a"
             ],
             [
              0.8888888888888888,
              "#fdca26"
             ],
             [
              1,
              "#f0f921"
             ]
            ],
            "type": "contour"
           }
          ],
          "contourcarpet": [
           {
            "colorbar": {
             "outlinewidth": 0,
             "ticks": ""
            },
            "type": "contourcarpet"
           }
          ],
          "heatmap": [
           {
            "colorbar": {
             "outlinewidth": 0,
             "ticks": ""
            },
            "colorscale": [
             [
              0,
              "#0d0887"
             ],
             [
              0.1111111111111111,
              "#46039f"
             ],
             [
              0.2222222222222222,
              "#7201a8"
             ],
             [
              0.3333333333333333,
              "#9c179e"
             ],
             [
              0.4444444444444444,
              "#bd3786"
             ],
             [
              0.5555555555555556,
              "#d8576b"
             ],
             [
              0.6666666666666666,
              "#ed7953"
             ],
             [
              0.7777777777777778,
              "#fb9f3a"
             ],
             [
              0.8888888888888888,
              "#fdca26"
             ],
             [
              1,
              "#f0f921"
             ]
            ],
            "type": "heatmap"
           }
          ],
          "heatmapgl": [
           {
            "colorbar": {
             "outlinewidth": 0,
             "ticks": ""
            },
            "colorscale": [
             [
              0,
              "#0d0887"
             ],
             [
              0.1111111111111111,
              "#46039f"
             ],
             [
              0.2222222222222222,
              "#7201a8"
             ],
             [
              0.3333333333333333,
              "#9c179e"
             ],
             [
              0.4444444444444444,
              "#bd3786"
             ],
             [
              0.5555555555555556,
              "#d8576b"
             ],
             [
              0.6666666666666666,
              "#ed7953"
             ],
             [
              0.7777777777777778,
              "#fb9f3a"
             ],
             [
              0.8888888888888888,
              "#fdca26"
             ],
             [
              1,
              "#f0f921"
             ]
            ],
            "type": "heatmapgl"
           }
          ],
          "histogram": [
           {
            "marker": {
             "pattern": {
              "fillmode": "overlay",
              "size": 10,
              "solidity": 0.2
             }
            },
            "type": "histogram"
           }
          ],
          "histogram2d": [
           {
            "colorbar": {
             "outlinewidth": 0,
             "ticks": ""
            },
            "colorscale": [
             [
              0,
              "#0d0887"
             ],
             [
              0.1111111111111111,
              "#46039f"
             ],
             [
              0.2222222222222222,
              "#7201a8"
             ],
             [
              0.3333333333333333,
              "#9c179e"
             ],
             [
              0.4444444444444444,
              "#bd3786"
             ],
             [
              0.5555555555555556,
              "#d8576b"
             ],
             [
              0.6666666666666666,
              "#ed7953"
             ],
             [
              0.7777777777777778,
              "#fb9f3a"
             ],
             [
              0.8888888888888888,
              "#fdca26"
             ],
             [
              1,
              "#f0f921"
             ]
            ],
            "type": "histogram2d"
           }
          ],
          "histogram2dcontour": [
           {
            "colorbar": {
             "outlinewidth": 0,
             "ticks": ""
            },
            "colorscale": [
             [
              0,
              "#0d0887"
             ],
             [
              0.1111111111111111,
              "#46039f"
             ],
             [
              0.2222222222222222,
              "#7201a8"
             ],
             [
              0.3333333333333333,
              "#9c179e"
             ],
             [
              0.4444444444444444,
              "#bd3786"
             ],
             [
              0.5555555555555556,
              "#d8576b"
             ],
             [
              0.6666666666666666,
              "#ed7953"
             ],
             [
              0.7777777777777778,
              "#fb9f3a"
             ],
             [
              0.8888888888888888,
              "#fdca26"
             ],
             [
              1,
              "#f0f921"
             ]
            ],
            "type": "histogram2dcontour"
           }
          ],
          "mesh3d": [
           {
            "colorbar": {
             "outlinewidth": 0,
             "ticks": ""
            },
            "type": "mesh3d"
           }
          ],
          "parcoords": [
           {
            "line": {
             "colorbar": {
              "outlinewidth": 0,
              "ticks": ""
             }
            },
            "type": "parcoords"
           }
          ],
          "pie": [
           {
            "automargin": true,
            "type": "pie"
           }
          ],
          "scatter": [
           {
            "fillpattern": {
             "fillmode": "overlay",
             "size": 10,
             "solidity": 0.2
            },
            "type": "scatter"
           }
          ],
          "scatter3d": [
           {
            "line": {
             "colorbar": {
              "outlinewidth": 0,
              "ticks": ""
             }
            },
            "marker": {
             "colorbar": {
              "outlinewidth": 0,
              "ticks": ""
             }
            },
            "type": "scatter3d"
           }
          ],
          "scattercarpet": [
           {
            "marker": {
             "colorbar": {
              "outlinewidth": 0,
              "ticks": ""
             }
            },
            "type": "scattercarpet"
           }
          ],
          "scattergeo": [
           {
            "marker": {
             "colorbar": {
              "outlinewidth": 0,
              "ticks": ""
             }
            },
            "type": "scattergeo"
           }
          ],
          "scattergl": [
           {
            "marker": {
             "colorbar": {
              "outlinewidth": 0,
              "ticks": ""
             }
            },
            "type": "scattergl"
           }
          ],
          "scattermapbox": [
           {
            "marker": {
             "colorbar": {
              "outlinewidth": 0,
              "ticks": ""
             }
            },
            "type": "scattermapbox"
           }
          ],
          "scatterpolar": [
           {
            "marker": {
             "colorbar": {
              "outlinewidth": 0,
              "ticks": ""
             }
            },
            "type": "scatterpolar"
           }
          ],
          "scatterpolargl": [
           {
            "marker": {
             "colorbar": {
              "outlinewidth": 0,
              "ticks": ""
             }
            },
            "type": "scatterpolargl"
           }
          ],
          "scatterternary": [
           {
            "marker": {
             "colorbar": {
              "outlinewidth": 0,
              "ticks": ""
             }
            },
            "type": "scatterternary"
           }
          ],
          "surface": [
           {
            "colorbar": {
             "outlinewidth": 0,
             "ticks": ""
            },
            "colorscale": [
             [
              0,
              "#0d0887"
             ],
             [
              0.1111111111111111,
              "#46039f"
             ],
             [
              0.2222222222222222,
              "#7201a8"
             ],
             [
              0.3333333333333333,
              "#9c179e"
             ],
             [
              0.4444444444444444,
              "#bd3786"
             ],
             [
              0.5555555555555556,
              "#d8576b"
             ],
             [
              0.6666666666666666,
              "#ed7953"
             ],
             [
              0.7777777777777778,
              "#fb9f3a"
             ],
             [
              0.8888888888888888,
              "#fdca26"
             ],
             [
              1,
              "#f0f921"
             ]
            ],
            "type": "surface"
           }
          ],
          "table": [
           {
            "cells": {
             "fill": {
              "color": "#EBF0F8"
             },
             "line": {
              "color": "white"
             }
            },
            "header": {
             "fill": {
              "color": "#C8D4E3"
             },
             "line": {
              "color": "white"
             }
            },
            "type": "table"
           }
          ]
         },
         "layout": {
          "annotationdefaults": {
           "arrowcolor": "#2a3f5f",
           "arrowhead": 0,
           "arrowwidth": 1
          },
          "autotypenumbers": "strict",
          "coloraxis": {
           "colorbar": {
            "outlinewidth": 0,
            "ticks": ""
           }
          },
          "colorscale": {
           "diverging": [
            [
             0,
             "#8e0152"
            ],
            [
             0.1,
             "#c51b7d"
            ],
            [
             0.2,
             "#de77ae"
            ],
            [
             0.3,
             "#f1b6da"
            ],
            [
             0.4,
             "#fde0ef"
            ],
            [
             0.5,
             "#f7f7f7"
            ],
            [
             0.6,
             "#e6f5d0"
            ],
            [
             0.7,
             "#b8e186"
            ],
            [
             0.8,
             "#7fbc41"
            ],
            [
             0.9,
             "#4d9221"
            ],
            [
             1,
             "#276419"
            ]
           ],
           "sequential": [
            [
             0,
             "#0d0887"
            ],
            [
             0.1111111111111111,
             "#46039f"
            ],
            [
             0.2222222222222222,
             "#7201a8"
            ],
            [
             0.3333333333333333,
             "#9c179e"
            ],
            [
             0.4444444444444444,
             "#bd3786"
            ],
            [
             0.5555555555555556,
             "#d8576b"
            ],
            [
             0.6666666666666666,
             "#ed7953"
            ],
            [
             0.7777777777777778,
             "#fb9f3a"
            ],
            [
             0.8888888888888888,
             "#fdca26"
            ],
            [
             1,
             "#f0f921"
            ]
           ],
           "sequentialminus": [
            [
             0,
             "#0d0887"
            ],
            [
             0.1111111111111111,
             "#46039f"
            ],
            [
             0.2222222222222222,
             "#7201a8"
            ],
            [
             0.3333333333333333,
             "#9c179e"
            ],
            [
             0.4444444444444444,
             "#bd3786"
            ],
            [
             0.5555555555555556,
             "#d8576b"
            ],
            [
             0.6666666666666666,
             "#ed7953"
            ],
            [
             0.7777777777777778,
             "#fb9f3a"
            ],
            [
             0.8888888888888888,
             "#fdca26"
            ],
            [
             1,
             "#f0f921"
            ]
           ]
          },
          "colorway": [
           "#636efa",
           "#EF553B",
           "#00cc96",
           "#ab63fa",
           "#FFA15A",
           "#19d3f3",
           "#FF6692",
           "#B6E880",
           "#FF97FF",
           "#FECB52"
          ],
          "font": {
           "color": "#2a3f5f"
          },
          "geo": {
           "bgcolor": "white",
           "lakecolor": "white",
           "landcolor": "#E5ECF6",
           "showlakes": true,
           "showland": true,
           "subunitcolor": "white"
          },
          "hoverlabel": {
           "align": "left"
          },
          "hovermode": "closest",
          "mapbox": {
           "style": "light"
          },
          "paper_bgcolor": "white",
          "plot_bgcolor": "#E5ECF6",
          "polar": {
           "angularaxis": {
            "gridcolor": "white",
            "linecolor": "white",
            "ticks": ""
           },
           "bgcolor": "#E5ECF6",
           "radialaxis": {
            "gridcolor": "white",
            "linecolor": "white",
            "ticks": ""
           }
          },
          "scene": {
           "xaxis": {
            "backgroundcolor": "#E5ECF6",
            "gridcolor": "white",
            "gridwidth": 2,
            "linecolor": "white",
            "showbackground": true,
            "ticks": "",
            "zerolinecolor": "white"
           },
           "yaxis": {
            "backgroundcolor": "#E5ECF6",
            "gridcolor": "white",
            "gridwidth": 2,
            "linecolor": "white",
            "showbackground": true,
            "ticks": "",
            "zerolinecolor": "white"
           },
           "zaxis": {
            "backgroundcolor": "#E5ECF6",
            "gridcolor": "white",
            "gridwidth": 2,
            "linecolor": "white",
            "showbackground": true,
            "ticks": "",
            "zerolinecolor": "white"
           }
          },
          "shapedefaults": {
           "line": {
            "color": "#2a3f5f"
           }
          },
          "ternary": {
           "aaxis": {
            "gridcolor": "white",
            "linecolor": "white",
            "ticks": ""
           },
           "baxis": {
            "gridcolor": "white",
            "linecolor": "white",
            "ticks": ""
           },
           "bgcolor": "#E5ECF6",
           "caxis": {
            "gridcolor": "white",
            "linecolor": "white",
            "ticks": ""
           }
          },
          "title": {
           "x": 0.05
          },
          "xaxis": {
           "automargin": true,
           "gridcolor": "white",
           "linecolor": "white",
           "ticks": "",
           "title": {
            "standoff": 15
           },
           "zerolinecolor": "white",
           "zerolinewidth": 2
          },
          "yaxis": {
           "automargin": true,
           "gridcolor": "white",
           "linecolor": "white",
           "ticks": "",
           "title": {
            "standoff": 15
           },
           "zerolinecolor": "white",
           "zerolinewidth": 2
          }
         }
        },
        "title": {
         "text": "Job shop Schedule"
        },
        "xaxis": {
         "autorange": true,
         "range": [
          "2023-10-14 23:58:52.4483",
          "2023-10-15 00:19:49.5517"
         ],
         "rangeselector": {
          "buttons": [
           {
            "count": 7,
            "label": "1w",
            "step": "day",
            "stepmode": "backward"
           },
           {
            "count": 1,
            "label": "1m",
            "step": "month",
            "stepmode": "backward"
           },
           {
            "count": 6,
            "label": "6m",
            "step": "month",
            "stepmode": "backward"
           },
           {
            "count": 1,
            "label": "YTD",
            "step": "year",
            "stepmode": "todate"
           },
           {
            "count": 1,
            "label": "1y",
            "step": "year",
            "stepmode": "backward"
           },
           {
            "step": "all"
           }
          ]
         },
         "showgrid": true,
         "type": "date",
         "zeroline": false
        },
        "yaxis": {
         "autorange": false,
         "range": [
          -1,
          11
         ],
         "showgrid": false,
         "ticktext": [
          "Machine 10",
          "Machine 9",
          "Machine 8",
          "Machine 7",
          "Machine 6",
          "Machine 5",
          "Machine 4",
          "Machine 3",
          "Machine 2",
          "Machine 1"
         ],
         "tickvals": [
          0,
          1,
          2,
          3,
          4,
          5,
          6,
          7,
          8,
          9
         ],
         "type": "linear",
         "zeroline": false
        }
       }
      },
      "image/png": "[encoded data removed]",
      "text/html": [
       "<div>                            <div id=\"b83f121e-7e96-4593-aeed-4f513f162104\" class=\"plotly-graph-div\" style=\"height:600px; width:100%;\"></div>            <script type=\"text/javascript\">                require([\"plotly\"], function(Plotly) {                    window.PLOTLYENV=window.PLOTLYENV || {};                                    if (document.getElementById(\"b83f121e-7e96-4593-aeed-4f513f162104\")) {                    Plotly.newPlot(                        \"b83f121e-7e96-4593-aeed-4f513f162104\",                        [{\"fill\":\"toself\",\"fillcolor\":\"rgb(127, 127, 127)\",\"hoverinfo\":\"name\",\"legendgroup\":\"rgb(127, 127, 127)\",\"mode\":\"none\",\"name\":\"Job 7\",\"showlegend\":true,\"x\":[\"2023-10-15 0:08:54\",\"2023-10-15 0:09:39\",\"2023-10-15 0:09:39\",\"2023-10-15 0:08:54\",\"2023-10-15 0:08:54\",\"2023-10-15 0:09:39\",\"2023-10-15 0:10:57\",\"2023-10-15 0:10:57\",\"2023-10-15 0:09:39\",\"2023-10-15 0:09:39\",\"2023-10-15 0:14:28\",\"2023-10-15 0:16:02\",\"2023-10-15 0:16:02\",\"2023-10-15 0:14:28\",\"2023-10-15 0:14:28\",\"2023-10-15 0:03:56\",\"2023-10-15 0:04:45\",\"2023-10-15 0:04:45\",\"2023-10-15 0:03:56\",\"2023-10-15 0:03:56\",\"2023-10-15 0:14:13\",\"2023-10-15 0:14:19\",\"2023-10-15 0:14:19\",\"2023-10-15 0:14:13\",\"2023-10-15 0:14:13\",\"2023-10-15 0:11:39\",\"2023-10-15 0:12:13\",\"2023-10-15 0:12:13\",\"2023-10-15 0:11:39\",\"2023-10-15 0:11:39\",\"2023-10-15 0:16:02\",\"2023-10-15 0:17:01\",\"2023-10-15 0:17:01\",\"2023-10-15 0:16:02\",\"2023-10-15 0:16:02\",\"2023-10-15 0:18:10\",\"2023-10-15 0:18:26\",\"2023-10-15 0:18:26\",\"2023-10-15 0:18:10\",\"2023-10-15 0:18:10\",\"2023-10-15 0:00:06\",\"2023-10-15 0:00:52\",\"2023-10-15 0:00:52\",\"2023-10-15 0:00:06\",\"2023-10-15 0:00:06\",\"2023-10-15 0:17:01\",\"2023-10-15 0:18:10\",\"2023-10-15 0:18:10\",\"2023-10-15 0:17:01\"],\"y\":[8.8,8.8,9.2,9.2,null,7.8,7.8,8.2,8.2,null,6.8,6.8,7.2,7.2,null,5.8,5.8,6.2,6.2,null,4.8,4.8,5.2,5.2,null,3.8,3.8,4.2,4.2,null,2.8,2.8,3.2,3.2,null,1.8,1.8,2.2,2.2,null,0.8,0.8,1.2,1.2,null,-0.2,-0.2,0.2,0.2],\"type\":\"scatter\"},{\"fill\":\"toself\",\"fillcolor\":\"rgb(140, 86, 75)\",\"hoverinfo\":\"name\",\"legendgroup\":\"rgb(140, 86, 75)\",\"mode\":\"none\",\"name\":\"Job 5\",\"showlegend\":true,\"x\":[\"2023-10-15 0:13:39\",\"2023-10-15 0:14:00\",\"2023-10-15 0:14:00\",\"2023-10-15 0:13:39\",\"2023-10-15 0:13:39\",\"2023-10-15 0:07:10\",\"2023-10-15 0:08:26\",\"2023-10-15 0:08:26\",\"2023-10-15 0:07:10\",\"2023-10-15 0:07:10\",\"2023-10-15 0:16:02\",\"2023-10-15 0:17:32\",\"2023-10-15 0:17:32\",\"2023-10-15 0:16:02\",\"2023-10-15 0:16:02\",\"2023-10-15 0:12:01\",\"2023-10-15 0:13:39\",\"2023-10-15 0:13:39\",\"2023-10-15 0:12:01\",\"2023-10-15 0:12:01\",\"2023-10-15 0:09:19\",\"2023-10-15 0:09:20\",\"2023-10-15 0:09:20\",\"2023-10-15 0:09:19\",\"2023-10-15 0:09:19\",\"2023-10-15 0:06:12\",\"2023-10-15 0:07:10\",\"2023-10-15 0:07:10\",\"2023-10-15 0:06:12\",\"2023-10-15 0:06:12\",\"2023-10-15 0:04:04\",\"2023-10-15 0:04:33\",\"2023-10-15 0:04:33\",\"2023-10-15 0:04:04\",\"2023-10-15 0:04:04\",\"2023-10-15 0:03:09\",\"2023-10-15 0:04:04\",\"2023-10-15 0:04:04\",\"2023-10-15 0:03:09\",\"2023-10-15 0:03:09\",\"2023-10-15 0:08:26\",\"2023-10-15 0:09:02\",\"2023-10-15 0:09:02\",\"2023-10-15 0:08:26\",\"2023-10-15 0:08:26\",\"2023-10-15 0:00:42\",\"2023-10-15 0:01:36\",\"2023-10-15 0:01:36\",\"2023-10-15 0:00:42\"],\"y\":[8.8,8.8,9.2,9.2,null,7.8,7.8,8.2,8.2,null,6.8,6.8,7.2,7.2,null,5.8,5.8,6.2,6.2,null,4.8,4.8,5.2,5.2,null,3.8,3.8,4.2,4.2,null,2.8,2.8,3.2,3.2,null,1.8,1.8,2.2,2.2,null,0.8,0.8,1.2,1.2,null,-0.2,-0.2,0.2,0.2],\"type\":\"scatter\"},{\"fill\":\"toself\",\"fillcolor\":\"rgb(148, 103, 189)\",\"hoverinfo\":\"name\",\"legendgroup\":\"rgb(148, 103, 189)\",\"mode\":\"none\",\"name\":\"Job 4\",\"showlegend\":true,\"x\":[\"2023-10-15 0:00:59\",\"2023-10-15 0:02:09\",\"2023-10-15 0:02:09\",\"2023-10-15 0:00:59\",\"2023-10-15 0:00:59\",\"2023-10-15 0:06:21\",\"2023-10-15 0:06:25\",\"2023-10-15 0:06:25\",\"2023-10-15 0:06:21\",\"2023-10-15 0:06:21\",\"2023-10-15 0:06:25\",\"2023-10-15 0:07:37\",\"2023-10-15 0:07:37\",\"2023-10-15 0:06:25\",\"2023-10-15 0:06:25\",\"2023-10-15 0:16:03\",\"2023-10-15 0:17:33\",\"2023-10-15 0:17:33\",\"2023-10-15 0:16:03\",\"2023-10-15 0:16:03\",\"2023-10-15 0:12:41\",\"2023-10-15 0:14:13\",\"2023-10-15 0:14:13\",\"2023-10-15 0:12:41\",\"2023-10-15 0:12:41\",\"2023-10-15 0:14:13\",\"2023-10-15 0:15:37\",\"2023-10-15 0:15:37\",\"2023-10-15 0:14:13\",\"2023-10-15 0:14:13\",\"2023-10-15 0:02:09\",\"2023-10-15 0:03:14\",\"2023-10-15 0:03:14\",\"2023-10-15 0:02:09\",\"2023-10-15 0:02:09\",\"2023-10-15 0:00:00\",\"2023-10-15 0:00:30\",\"2023-10-15 0:00:30\",\"2023-10-15 0:00:00\",\"2023-10-15 0:00:00\",\"2023-10-15 0:12:15\",\"2023-10-15 0:12:41\",\"2023-10-15 0:12:41\",\"2023-10-15 0:12:15\",\"2023-10-15 0:12:15\",\"2023-10-15 0:03:14\",\"2023-10-15 0:04:32\",\"2023-10-15 0:04:32\",\"2023-10-15 0:03:14\"],\"y\":[8.8,8.8,9.2,9.2,null,7.8,7.8,8.2,8.2,null,6.8,6.8,7.2,7.2,null,5.8,5.8,6.2,6.2,null,4.8,4.8,5.2,5.2,null,3.8,3.8,4.2,4.2,null,2.8,2.8,3.2,3.2,null,1.8,1.8,2.2,2.2,null,0.8,0.8,1.2,1.2,null,-0.2,-0.2,0.2,0.2],\"type\":\"scatter\"},{\"fill\":\"toself\",\"fillcolor\":\"rgb(188, 189, 34)\",\"hoverinfo\":\"name\",\"legendgroup\":\"rgb(188, 189, 34)\",\"mode\":\"none\",\"name\":\"Job 8\",\"showlegend\":true,\"x\":[\"2023-10-15 0:03:09\",\"2023-10-15 0:03:47\",\"2023-10-15 0:03:47\",\"2023-10-15 0:03:09\",\"2023-10-15 0:03:09\",\"2023-10-15 0:14:10\",\"2023-10-15 0:15:24\",\"2023-10-15 0:15:24\",\"2023-10-15 0:14:10\",\"2023-10-15 0:14:10\",\"2023-10-15 0:00:44\",\"2023-10-15 0:00:55\",\"2023-10-15 0:00:55\",\"2023-10-15 0:00:44\",\"2023-10-15 0:00:44\",\"2023-10-15 0:00:55\",\"2023-10-15 0:01:04\",\"2023-10-15 0:01:04\",\"2023-10-15 0:00:55\",\"2023-10-15 0:00:55\",\"2023-10-15 0:15:24\",\"2023-10-15 0:15:49\",\"2023-10-15 0:15:49\",\"2023-10-15 0:15:24\",\"2023-10-15 0:15:24\",\"2023-10-15 0:04:51\",\"2023-10-15 0:06:12\",\"2023-10-15 0:06:12\",\"2023-10-15 0:04:51\",\"2023-10-15 0:04:51\",\"2023-10-15 0:08:51\",\"2023-10-15 0:10:11\",\"2023-10-15 0:10:11\",\"2023-10-15 0:08:51\",\"2023-10-15 0:08:51\",\"2023-10-15 0:01:58\",\"2023-10-15 0:03:09\",\"2023-10-15 0:03:09\",\"2023-10-15 0:01:58\",\"2023-10-15 0:01:58\",\"2023-10-15 0:15:49\",\"2023-10-15 0:17:20\",\"2023-10-15 0:17:20\",\"2023-10-15 0:15:49\",\"2023-10-15 0:15:49\",\"2023-10-15 0:12:47\",\"2023-10-15 0:13:34\",\"2023-10-15 0:13:34\",\"2023-10-15 0:12:47\"],\"y\":[8.8,8.8,9.2,9.2,null,7.8,7.8,8.2,8.2,null,6.8,6.8,7.2,7.2,null,5.8,5.8,6.2,6.2,null,4.8,4.8,5.2,5.2,null,3.8,3.8,4.2,4.2,null,2.8,2.8,3.2,3.2,null,1.8,1.8,2.2,2.2,null,0.8,0.8,1.2,1.2,null,-0.2,-0.2,0.2,0.2],\"type\":\"scatter\"},{\"fill\":\"toself\",\"fillcolor\":\"rgb(214, 39, 40)\",\"hoverinfo\":\"name\",\"legendgroup\":\"rgb(214, 39, 40)\",\"mode\":\"none\",\"name\":\"Job 3\",\"showlegend\":true,\"x\":[\"2023-10-15 0:07:19\",\"2023-10-15 0:08:54\",\"2023-10-15 0:08:54\",\"2023-10-15 0:07:19\",\"2023-10-15 0:07:19\",\"2023-10-15 0:13:36\",\"2023-10-15 0:13:41\",\"2023-10-15 0:13:41\",\"2023-10-15 0:13:36\",\"2023-10-15 0:13:36\",\"2023-10-15 0:10:16\",\"2023-10-15 0:11:32\",\"2023-10-15 0:11:32\",\"2023-10-15 0:10:16\",\"2023-10-15 0:10:16\",\"2023-10-15 0:02:29\",\"2023-10-15 0:03:56\",\"2023-10-15 0:03:56\",\"2023-10-15 0:02:29\",\"2023-10-15 0:02:29\",\"2023-10-15 0:03:56\",\"2023-10-15 0:04:24\",\"2023-10-15 0:04:24\",\"2023-10-15 0:03:56\",\"2023-10-15 0:03:56\",\"2023-10-15 0:08:54\",\"2023-10-15 0:10:04\",\"2023-10-15 0:10:04\",\"2023-10-15 0:08:54\",\"2023-10-15 0:08:54\",\"2023-10-15 0:17:01\",\"2023-10-15 0:17:13\",\"2023-10-15 0:17:13\",\"2023-10-15 0:17:01\",\"2023-10-15 0:17:01\",\"2023-10-15 0:13:41\",\"2023-10-15 0:13:45\",\"2023-10-15 0:13:45\",\"2023-10-15 0:13:41\",\"2023-10-15 0:13:41\",\"2023-10-15 0:12:41\",\"2023-10-15 0:13:36\",\"2023-10-15 0:13:36\",\"2023-10-15 0:12:41\",\"2023-10-15 0:12:41\",\"2023-10-15 0:10:04\",\"2023-10-15 0:10:16\",\"2023-10-15 0:10:16\",\"2023-10-15 0:10:04\"],\"y\":[8.8,8.8,9.2,9.2,null,7.8,7.8,8.2,8.2,null,6.8,6.8,7.2,7.2,null,5.8,5.8,6.2,6.2,null,4.8,4.8,5.2,5.2,null,3.8,3.8,4.2,4.2,null,2.8,2.8,3.2,3.2,null,1.8,1.8,2.2,2.2,null,0.8,0.8,1.2,1.2,null,-0.2,-0.2,0.2,0.2],\"type\":\"scatter\"},{\"fill\":\"toself\",\"fillcolor\":\"rgb(227, 119, 194)\",\"hoverinfo\":\"name\",\"legendgroup\":\"rgb(227, 119, 194)\",\"mode\":\"none\",\"name\":\"Job 6\",\"showlegend\":true,\"x\":[\"2023-10-15 0:09:39\",\"2023-10-15 0:11:17\",\"2023-10-15 0:11:17\",\"2023-10-15 0:09:39\",\"2023-10-15 0:09:39\",\"2023-10-15 0:15:24\",\"2023-10-15 0:16:13\",\"2023-10-15 0:16:13\",\"2023-10-15 0:15:24\",\"2023-10-15 0:15:24\",\"2023-10-15 0:00:00\",\"2023-10-15 0:00:44\",\"2023-10-15 0:00:44\",\"2023-10-15 0:00:00\",\"2023-10-15 0:00:00\",\"2023-10-15 0:11:17\",\"2023-10-15 0:12:01\",\"2023-10-15 0:12:01\",\"2023-10-15 0:11:17\",\"2023-10-15 0:11:17\",\"2023-10-15 0:08:51\",\"2023-10-15 0:09:19\",\"2023-10-15 0:09:19\",\"2023-10-15 0:08:51\",\"2023-10-15 0:08:51\",\"2023-10-15 0:04:38\",\"2023-10-15 0:04:51\",\"2023-10-15 0:04:51\",\"2023-10-15 0:04:38\",\"2023-10-15 0:04:38\",\"2023-10-15 0:08:31\",\"2023-10-15 0:08:51\",\"2023-10-15 0:08:51\",\"2023-10-15 0:08:31\",\"2023-10-15 0:08:31\",\"2023-10-15 0:12:01\",\"2023-10-15 0:12:15\",\"2023-10-15 0:12:15\",\"2023-10-15 0:12:01\",\"2023-10-15 0:12:01\",\"2023-10-15 0:13:36\",\"2023-10-15 0:13:48\",\"2023-10-15 0:13:48\",\"2023-10-15 0:13:36\",\"2023-10-15 0:13:36\",\"2023-10-15 0:07:55\",\"2023-10-15 0:08:31\",\"2023-10-15 0:08:31\",\"2023-10-15 0:07:55\"],\"y\":[8.8,8.8,9.2,9.2,null,7.8,7.8,8.2,8.2,null,6.8,6.8,7.2,7.2,null,5.8,5.8,6.2,6.2,null,4.8,4.8,5.2,5.2,null,3.8,3.8,4.2,4.2,null,2.8,2.8,3.2,3.2,null,1.8,1.8,2.2,2.2,null,0.8,0.8,1.2,1.2,null,-0.2,-0.2,0.2,0.2],\"type\":\"scatter\"},{\"fill\":\"toself\",\"fillcolor\":\"rgb(23, 190, 207)\",\"hoverinfo\":\"name\",\"legendgroup\":\"rgb(23, 190, 207)\",\"mode\":\"none\",\"name\":\"Job 9\",\"showlegend\":true,\"x\":[\"2023-10-15 0:11:17\",\"2023-10-15 0:11:47\",\"2023-10-15 0:11:47\",\"2023-10-15 0:11:17\",\"2023-10-15 0:11:17\",\"2023-10-15 0:05:43\",\"2023-10-15 0:06:21\",\"2023-10-15 0:06:21\",\"2023-10-15 0:05:43\",\"2023-10-15 0:05:43\",\"2023-10-15 0:02:29\",\"2023-10-15 0:02:59\",\"2023-10-15 0:02:59\",\"2023-10-15 0:02:29\",\"2023-10-15 0:02:29\",\"2023-10-15 0:01:04\",\"2023-10-15 0:02:29\",\"2023-10-15 0:02:29\",\"2023-10-15 0:01:04\",\"2023-10-15 0:01:04\",\"2023-10-15 0:06:21\",\"2023-10-15 0:06:32\",\"2023-10-15 0:06:32\",\"2023-10-15 0:06:21\",\"2023-10-15 0:06:21\",\"2023-10-15 0:15:37\",\"2023-10-15 0:16:26\",\"2023-10-15 0:16:26\",\"2023-10-15 0:15:37\",\"2023-10-15 0:15:37\",\"2023-10-15 0:11:47\",\"2023-10-15 0:12:00\",\"2023-10-15 0:12:00\",\"2023-10-15 0:11:47\",\"2023-10-15 0:11:47\",\"2023-10-15 0:04:04\",\"2023-10-15 0:05:43\",\"2023-10-15 0:05:43\",\"2023-10-15 0:04:04\",\"2023-10-15 0:04:04\",\"2023-10-15 0:00:00\",\"2023-10-15 0:00:06\",\"2023-10-15 0:00:06\",\"2023-10-15 0:00:00\",\"2023-10-15 0:00:00\",\"2023-10-15 0:00:06\",\"2023-10-15 0:00:42\",\"2023-10-15 0:00:42\",\"2023-10-15 0:00:06\"],\"y\":[8.8,8.8,9.2,9.2,null,7.8,7.8,8.2,8.2,null,6.8,6.8,7.2,7.2,null,5.8,5.8,6.2,6.2,null,4.8,4.8,5.2,5.2,null,3.8,3.8,4.2,4.2,null,2.8,2.8,3.2,3.2,null,1.8,1.8,2.2,2.2,null,0.8,0.8,1.2,1.2,null,-0.2,-0.2,0.2,0.2],\"type\":\"scatter\"},{\"fill\":\"toself\",\"fillcolor\":\"rgb(255, 127, 14)\",\"hoverinfo\":\"name\",\"legendgroup\":\"rgb(255, 127, 14)\",\"mode\":\"none\",\"name\":\"Job 10\",\"showlegend\":true,\"x\":[\"2023-10-15 0:00:00\",\"2023-10-15 0:00:59\",\"2023-10-15 0:00:59\",\"2023-10-15 0:00:00\",\"2023-10-15 0:00:00\",\"2023-10-15 0:02:29\",\"2023-10-15 0:03:51\",\"2023-10-15 0:03:51\",\"2023-10-15 0:02:29\",\"2023-10-15 0:02:29\",\"2023-10-15 0:05:24\",\"2023-10-15 0:06:12\",\"2023-10-15 0:06:12\",\"2023-10-15 0:05:24\",\"2023-10-15 0:05:24\",\"2023-10-15 0:07:55\",\"2023-10-15 0:09:21\",\"2023-10-15 0:09:21\",\"2023-10-15 0:07:55\",\"2023-10-15 0:07:55\",\"2023-10-15 0:00:59\",\"2023-10-15 0:02:29\",\"2023-10-15 0:02:29\",\"2023-10-15 0:00:59\",\"2023-10-15 0:00:59\",\"2023-10-15 0:03:51\",\"2023-10-15 0:04:38\",\"2023-10-15 0:04:38\",\"2023-10-15 0:03:51\",\"2023-10-15 0:03:51\",\"2023-10-15 0:04:38\",\"2023-10-15 0:04:59\",\"2023-10-15 0:04:59\",\"2023-10-15 0:04:38\",\"2023-10-15 0:04:38\",\"2023-10-15 0:09:21\",\"2023-10-15 0:09:56\",\"2023-10-15 0:09:56\",\"2023-10-15 0:09:21\",\"2023-10-15 0:09:21\",\"2023-10-15 0:06:42\",\"2023-10-15 0:07:28\",\"2023-10-15 0:07:28\",\"2023-10-15 0:06:42\",\"2023-10-15 0:06:42\",\"2023-10-15 0:07:28\",\"2023-10-15 0:07:55\",\"2023-10-15 0:07:55\",\"2023-10-15 0:07:28\"],\"y\":[8.8,8.8,9.2,9.2,null,7.8,7.8,8.2,8.2,null,6.8,6.8,7.2,7.2,null,5.8,5.8,6.2,6.2,null,4.8,4.8,5.2,5.2,null,3.8,3.8,4.2,4.2,null,2.8,2.8,3.2,3.2,null,1.8,1.8,2.2,2.2,null,0.8,0.8,1.2,1.2,null,-0.2,-0.2,0.2,0.2],\"type\":\"scatter\"},{\"fill\":\"toself\",\"fillcolor\":\"rgb(31, 119, 180)\",\"hoverinfo\":\"name\",\"legendgroup\":\"rgb(31, 119, 180)\",\"mode\":\"none\",\"name\":\"Job 1\",\"showlegend\":true,\"x\":[\"2023-10-15 0:07:05\",\"2023-10-15 0:07:19\",\"2023-10-15 0:07:19\",\"2023-10-15 0:07:05\",\"2023-10-15 0:07:05\",\"2023-10-15 0:13:41\",\"2023-10-15 0:14:10\",\"2023-10-15 0:14:10\",\"2023-10-15 0:13:41\",\"2023-10-15 0:13:41\",\"2023-10-15 0:14:10\",\"2023-10-15 0:14:28\",\"2023-10-15 0:14:28\",\"2023-10-15 0:14:10\",\"2023-10-15 0:14:10\",\"2023-10-15 0:14:28\",\"2023-10-15 0:16:03\",\"2023-10-15 0:16:03\",\"2023-10-15 0:14:28\",\"2023-10-15 0:14:28\",\"2023-10-15 0:07:34\",\"2023-10-15 0:07:38\",\"2023-10-15 0:07:38\",\"2023-10-15 0:07:34\",\"2023-10-15 0:07:34\",\"2023-10-15 0:10:04\",\"2023-10-15 0:11:39\",\"2023-10-15 0:11:39\",\"2023-10-15 0:10:04\",\"2023-10-15 0:10:04\",\"2023-10-15 0:07:19\",\"2023-10-15 0:07:34\",\"2023-10-15 0:07:34\",\"2023-10-15 0:07:19\",\"2023-10-15 0:07:19\",\"2023-10-15 0:05:43\",\"2023-10-15 0:07:05\",\"2023-10-15 0:07:05\",\"2023-10-15 0:05:43\",\"2023-10-15 0:05:43\",\"2023-10-15 0:11:39\",\"2023-10-15 0:12:15\",\"2023-10-15 0:12:15\",\"2023-10-15 0:11:39\",\"2023-10-15 0:11:39\",\"2023-10-15 0:12:15\",\"2023-10-15 0:12:47\",\"2023-10-15 0:12:47\",\"2023-10-15 0:12:15\"],\"y\":[8.8,8.8,9.2,9.2,null,7.8,7.8,8.2,8.2,null,6.8,6.8,7.2,7.2,null,5.8,5.8,6.2,6.2,null,4.8,4.8,5.2,5.2,null,3.8,3.8,4.2,4.2,null,2.8,2.8,3.2,3.2,null,1.8,1.8,2.2,2.2,null,0.8,0.8,1.2,1.2,null,-0.2,-0.2,0.2,0.2],\"type\":\"scatter\"},{\"fill\":\"toself\",\"fillcolor\":\"rgb(44, 160, 44)\",\"hoverinfo\":\"name\",\"legendgroup\":\"rgb(44, 160, 44)\",\"mode\":\"none\",\"name\":\"Job 2\",\"showlegend\":true,\"x\":[\"2023-10-15 0:02:09\",\"2023-10-15 0:02:30\",\"2023-10-15 0:02:30\",\"2023-10-15 0:02:09\",\"2023-10-15 0:02:09\",\"2023-10-15 0:03:51\",\"2023-10-15 0:05:14\",\"2023-10-15 0:05:14\",\"2023-10-15 0:03:51\",\"2023-10-15 0:03:51\",\"2023-10-15 0:05:14\",\"2023-10-15 0:05:24\",\"2023-10-15 0:05:24\",\"2023-10-15 0:05:14\",\"2023-10-15 0:05:14\",\"2023-10-15 0:09:21\",\"2023-10-15 0:09:43\",\"2023-10-15 0:09:43\",\"2023-10-15 0:09:21\",\"2023-10-15 0:09:21\",\"2023-10-15 0:15:49\",\"2023-10-15 0:17:23\",\"2023-10-15 0:17:23\",\"2023-10-15 0:15:49\",\"2023-10-15 0:15:49\",\"2023-10-15 0:07:10\",\"2023-10-15 0:08:32\",\"2023-10-15 0:08:32\",\"2023-10-15 0:07:10\",\"2023-10-15 0:07:10\",\"2023-10-15 0:10:11\",\"2023-10-15 0:11:20\",\"2023-10-15 0:11:20\",\"2023-10-15 0:10:11\",\"2023-10-15 0:10:11\",\"2023-10-15 0:00:30\",\"2023-10-15 0:01:58\",\"2023-10-15 0:01:58\",\"2023-10-15 0:00:30\",\"2023-10-15 0:00:30\",\"2023-10-15 0:05:24\",\"2023-10-15 0:06:42\",\"2023-10-15 0:06:42\",\"2023-10-15 0:05:24\",\"2023-10-15 0:05:24\",\"2023-10-15 0:18:10\",\"2023-10-15 0:18:42\",\"2023-10-15 0:18:42\",\"2023-10-15 0:18:10\"],\"y\":[8.8,8.8,9.2,9.2,null,7.8,7.8,8.2,8.2,null,6.8,6.8,7.2,7.2,null,5.8,5.8,6.2,6.2,null,4.8,4.8,5.2,5.2,null,3.8,3.8,4.2,4.2,null,2.8,2.8,3.2,3.2,null,1.8,1.8,2.2,2.2,null,0.8,0.8,1.2,1.2,null,-0.2,-0.2,0.2,0.2],\"type\":\"scatter\"},{\"legendgroup\":\"rgb(127, 127, 127)\",\"marker\":{\"color\":\"rgb(127, 127, 127)\",\"opacity\":0,\"size\":1},\"mode\":\"markers\",\"name\":\"\",\"showlegend\":false,\"text\":[null,null,null,null,null,null,null,null,null,null,null,null,null,null,null,null,null,null,null,null],\"x\":[\"2023-10-15 0:08:54\",\"2023-10-15 0:09:39\",\"2023-10-15 0:09:39\",\"2023-10-15 0:10:57\",\"2023-10-15 0:14:28\",\"2023-10-15 0:16:02\",\"2023-10-15 0:03:56\",\"2023-10-15 0:04:45\",\"2023-10-15 0:14:13\",\"2023-10-15 0:14:19\",\"2023-10-15 0:11:39\",\"2023-10-15 0:12:13\",\"2023-10-15 0:16:02\",\"2023-10-15 0:17:01\",\"2023-10-15 0:18:10\",\"2023-10-15 0:18:26\",\"2023-10-15 0:00:06\",\"2023-10-15 0:00:52\",\"2023-10-15 0:17:01\",\"2023-10-15 0:18:10\"],\"y\":[9,9,8,8,7,7,6,6,5,5,4,4,3,3,2,2,1,1,0,0],\"type\":\"scatter\"},{\"legendgroup\":\"rgb(140, 86, 75)\",\"marker\":{\"color\":\"rgb(140, 86, 75)\",\"opacity\":0,\"size\":1},\"mode\":\"markers\",\"name\":\"\",\"showlegend\":false,\"text\":[null,null,null,null,null,null,null,null,null,null,null,null,null,null,null,null,null,null,null,null],\"x\":[\"2023-10-15 0:13:39\",\"2023-10-15 0:14:00\",\"2023-10-15 0:07:10\",\"2023-10-15 0:08:26\",\"2023-10-15 0:16:02\",\"2023-10-15 0:17:32\",\"2023-10-15 0:12:01\",\"2023-10-15 0:13:39\",\"2023-10-15 0:09:19\",\"2023-10-15 0:09:20\",\"2023-10-15 0:06:12\",\"2023-10-15 0:07:10\",\"2023-10-15 0:04:04\",\"2023-10-15 0:04:33\",\"2023-10-15 0:03:09\",\"2023-10-15 0:04:04\",\"2023-10-15 0:08:26\",\"2023-10-15 0:09:02\",\"2023-10-15 0:00:42\",\"2023-10-15 0:01:36\"],\"y\":[9,9,8,8,7,7,6,6,5,5,4,4,3,3,2,2,1,1,0,0],\"type\":\"scatter\"},{\"legendgroup\":\"rgb(148, 103, 189)\",\"marker\":{\"color\":\"rgb(148, 103, 189)\",\"opacity\":0,\"size\":1},\"mode\":\"markers\",\"name\":\"\",\"showlegend\":false,\"text\":[null,null,null,null,null,null,null,null,null,null,null,null,null,null,null,null,null,null,null,null],\"x\":[\"2023-10-15 0:00:59\",\"2023-10-15 0:02:09\",\"2023-10-15 0:06:21\",\"2023-10-15 0:06:25\",\"2023-10-15 0:06:25\",\"2023-10-15 0:07:37\",\"2023-10-15 0:16:03\",\"2023-10-15 0:17:33\",\"2023-10-15 0:12:41\",\"2023-10-15 0:14:13\",\"2023-10-15 0:14:13\",\"2023-10-15 0:15:37\",\"2023-10-15 0:02:09\",\"2023-10-15 0:03:14\",\"2023-10-15 0:00:00\",\"2023-10-15 0:00:30\",\"2023-10-15 0:12:15\",\"2023-10-15 0:12:41\",\"2023-10-15 0:03:14\",\"2023-10-15 0:04:32\"],\"y\":[9,9,8,8,7,7,6,6,5,5,4,4,3,3,2,2,1,1,0,0],\"type\":\"scatter\"},{\"legendgroup\":\"rgb(188, 189, 34)\",\"marker\":{\"color\":\"rgb(188, 189, 34)\",\"opacity\":0,\"size\":1},\"mode\":\"markers\",\"name\":\"\",\"showlegend\":false,\"text\":[null,null,null,null,null,null,null,null,null,null,null,null,null,null,null,null,null,null,null,null],\"x\":[\"2023-10-15 0:03:09\",\"2023-10-15 0:03:47\",\"2023-10-15 0:14:10\",\"2023-10-15 0:15:24\",\"2023-10-15 0:00:44\",\"2023-10-15 0:00:55\",\"2023-10-15 0:00:55\",\"2023-10-15 0:01:04\",\"2023-10-15 0:15:24\",\"2023-10-15 0:15:49\",\"2023-10-15 0:04:51\",\"2023-10-15 0:06:12\",\"2023-10-15 0:08:51\",\"2023-10-15 0:10:11\",\"2023-10-15 0:01:58\",\"2023-10-15 0:03:09\",\"2023-10-15 0:15:49\",\"2023-10-15 0:17:20\",\"2023-10-15 0:12:47\",\"2023-10-15 0:13:34\"],\"y\":[9,9,8,8,7,7,6,6,5,5,4,4,3,3,2,2,1,1,0,0],\"type\":\"scatter\"},{\"legendgroup\":\"rgb(214, 39, 40)\",\"marker\":{\"color\":\"rgb(214, 39, 40)\",\"opacity\":0,\"size\":1},\"mode\":\"markers\",\"name\":\"\",\"showlegend\":false,\"text\":[null,null,null,null,null,null,null,null,null,null,null,null,null,null,null,null,null,null,null,null],\"x\":[\"2023-10-15 0:07:19\",\"2023-10-15 0:08:54\",\"2023-10-15 0:13:36\",\"2023-10-15 0:13:41\",\"2023-10-15 0:10:16\",\"2023-10-15 0:11:32\",\"2023-10-15 0:02:29\",\"2023-10-15 0:03:56\",\"2023-10-15 0:03:56\",\"2023-10-15 0:04:24\",\"2023-10-15 0:08:54\",\"2023-10-15 0:10:04\",\"2023-10-15 0:17:01\",\"2023-10-15 0:17:13\",\"2023-10-15 0:13:41\",\"2023-10-15 0:13:45\",\"2023-10-15 0:12:41\",\"2023-10-15 0:13:36\",\"2023-10-15 0:10:04\",\"2023-10-15 0:10:16\"],\"y\":[9,9,8,8,7,7,6,6,5,5,4,4,3,3,2,2,1,1,0,0],\"type\":\"scatter\"},{\"legendgroup\":\"rgb(227, 119, 194)\",\"marker\":{\"color\":\"rgb(227, 119, 194)\",\"opacity\":0,\"size\":1},\"mode\":\"markers\",\"name\":\"\",\"showlegend\":false,\"text\":[null,null,null,null,null,null,null,null,null,null,null,null,null,null,null,null,null,null,null,null],\"x\":[\"2023-10-15 0:09:39\",\"2023-10-15 0:11:17\",\"2023-10-15 0:15:24\",\"2023-10-15 0:16:13\",\"2023-10-15 0:00:00\",\"2023-10-15 0:00:44\",\"2023-10-15 0:11:17\",\"2023-10-15 0:12:01\",\"2023-10-15 0:08:51\",\"2023-10-15 0:09:19\",\"2023-10-15 0:04:38\",\"2023-10-15 0:04:51\",\"2023-10-15 0:08:31\",\"2023-10-15 0:08:51\",\"2023-10-15 0:12:01\",\"2023-10-15 0:12:15\",\"2023-10-15 0:13:36\",\"2023-10-15 0:13:48\",\"2023-10-15 0:07:55\",\"2023-10-15 0:08:31\"],\"y\":[9,9,8,8,7,7,6,6,5,5,4,4,3,3,2,2,1,1,0,0],\"type\":\"scatter\"},{\"legendgroup\":\"rgb(23, 190, 207)\",\"marker\":{\"color\":\"rgb(23, 190, 207)\",\"opacity\":0,\"size\":1},\"mode\":\"markers\",\"name\":\"\",\"showlegend\":false,\"text\":[null,null,null,null,null,null,null,null,null,null,null,null,null,null,null,null,null,null,null,null],\"x\":[\"2023-10-15 0:11:17\",\"2023-10-15 0:11:47\",\"2023-10-15 0:05:43\",\"2023-10-15 0:06:21\",\"2023-10-15 0:02:29\",\"2023-10-15 0:02:59\",\"2023-10-15 0:01:04\",\"2023-10-15 0:02:29\",\"2023-10-15 0:06:21\",\"2023-10-15 0:06:32\",\"2023-10-15 0:15:37\",\"2023-10-15 0:16:26\",\"2023-10-15 0:11:47\",\"2023-10-15 0:12:00\",\"2023-10-15 0:04:04\",\"2023-10-15 0:05:43\",\"2023-10-15 0:00:00\",\"2023-10-15 0:00:06\",\"2023-10-15 0:00:06\",\"2023-10-15 0:00:42\"],\"y\":[9,9,8,8,7,7,6,6,5,5,4,4,3,3,2,2,1,1,0,0],\"type\":\"scatter\"},{\"legendgroup\":\"rgb(255, 127, 14)\",\"marker\":{\"color\":\"rgb(255, 127, 14)\",\"opacity\":0,\"size\":1},\"mode\":\"markers\",\"name\":\"\",\"showlegend\":false,\"text\":[null,null,null,null,null,null,null,null,null,null,null,null,null,null,null,null,null,null,null,null],\"x\":[\"2023-10-15 0:00:00\",\"2023-10-15 0:00:59\",\"2023-10-15 0:02:29\",\"2023-10-15 0:03:51\",\"2023-10-15 0:05:24\",\"2023-10-15 0:06:12\",\"2023-10-15 0:07:55\",\"2023-10-15 0:09:21\",\"2023-10-15 0:00:59\",\"2023-10-15 0:02:29\",\"2023-10-15 0:03:51\",\"2023-10-15 0:04:38\",\"2023-10-15 0:04:38\",\"2023-10-15 0:04:59\",\"2023-10-15 0:09:21\",\"2023-10-15 0:09:56\",\"2023-10-15 0:06:42\",\"2023-10-15 0:07:28\",\"2023-10-15 0:07:28\",\"2023-10-15 0:07:55\"],\"y\":[9,9,8,8,7,7,6,6,5,5,4,4,3,3,2,2,1,1,0,0],\"type\":\"scatter\"},{\"legendgroup\":\"rgb(31, 119, 180)\",\"marker\":{\"color\":\"rgb(31, 119, 180)\",\"opacity\":0,\"size\":1},\"mode\":\"markers\",\"name\":\"\",\"showlegend\":false,\"text\":[null,null,null,null,null,null,null,null,null,null,null,null,null,null,null,null,null,null,null,null],\"x\":[\"2023-10-15 0:07:05\",\"2023-10-15 0:07:19\",\"2023-10-15 0:13:41\",\"2023-10-15 0:14:10\",\"2023-10-15 0:14:10\",\"2023-10-15 0:14:28\",\"2023-10-15 0:14:28\",\"2023-10-15 0:16:03\",\"2023-10-15 0:07:34\",\"2023-10-15 0:07:38\",\"2023-10-15 0:10:04\",\"2023-10-15 0:11:39\",\"2023-10-15 0:07:19\",\"2023-10-15 0:07:34\",\"2023-10-15 0:05:43\",\"2023-10-15 0:07:05\",\"2023-10-15 0:11:39\",\"2023-10-15 0:12:15\",\"2023-10-15 0:12:15\",\"2023-10-15 0:12:47\"],\"y\":[9,9,8,8,7,7,6,6,5,5,4,4,3,3,2,2,1,1,0,0],\"type\":\"scatter\"},{\"legendgroup\":\"rgb(44, 160, 44)\",\"marker\":{\"color\":\"rgb(44, 160, 44)\",\"opacity\":0,\"size\":1},\"mode\":\"markers\",\"name\":\"\",\"showlegend\":false,\"text\":[null,null,null,null,null,null,null,null,null,null,null,null,null,null,null,null,null,null,null,null],\"x\":[\"2023-10-15 0:02:09\",\"2023-10-15 0:02:30\",\"2023-10-15 0:03:51\",\"2023-10-15 0:05:14\",\"2023-10-15 0:05:14\",\"2023-10-15 0:05:24\",\"2023-10-15 0:09:21\",\"2023-10-15 0:09:43\",\"2023-10-15 0:15:49\",\"2023-10-15 0:17:23\",\"2023-10-15 0:07:10\",\"2023-10-15 0:08:32\",\"2023-10-15 0:10:11\",\"2023-10-15 0:11:20\",\"2023-10-15 0:00:30\",\"2023-10-15 0:01:58\",\"2023-10-15 0:05:24\",\"2023-10-15 0:06:42\",\"2023-10-15 0:18:10\",\"2023-10-15 0:18:42\"],\"y\":[9,9,8,8,7,7,6,6,5,5,4,4,3,3,2,2,1,1,0,0],\"type\":\"scatter\"}],                        {\"height\":600,\"hovermode\":\"closest\",\"showlegend\":true,\"title\":{\"text\":\"Job shop Schedule\"},\"xaxis\":{\"rangeselector\":{\"buttons\":[{\"count\":7,\"label\":\"1w\",\"step\":\"day\",\"stepmode\":\"backward\"},{\"count\":1,\"label\":\"1m\",\"step\":\"month\",\"stepmode\":\"backward\"},{\"count\":6,\"label\":\"6m\",\"step\":\"month\",\"stepmode\":\"backward\"},{\"count\":1,\"label\":\"YTD\",\"step\":\"year\",\"stepmode\":\"todate\"},{\"count\":1,\"label\":\"1y\",\"step\":\"year\",\"stepmode\":\"backward\"},{\"step\":\"all\"}]},\"showgrid\":true,\"type\":\"date\",\"zeroline\":false},\"yaxis\":{\"autorange\":false,\"range\":[-1,11],\"showgrid\":false,\"ticktext\":[\"Machine 10\",\"Machine 9\",\"Machine 8\",\"Machine 7\",\"Machine 6\",\"Machine 5\",\"Machine 4\",\"Machine 3\",\"Machine 2\",\"Machine 1\"],\"tickvals\":[0,1,2,3,4,5,6,7,8,9],\"zeroline\":false},\"template\":{\"data\":{\"histogram2dcontour\":[{\"type\":\"histogram2dcontour\",\"colorbar\":{\"outlinewidth\":0,\"ticks\":\"\"},\"colorscale\":[[0.0,\"#0d0887\"],[0.1111111111111111,\"#46039f\"],[0.2222222222222222,\"#7201a8\"],[0.3333333333333333,\"#9c179e\"],[0.4444444444444444,\"#bd3786\"],[0.5555555555555556,\"#d8576b\"],[0.6666666666666666,\"#ed7953\"],[0.7777777777777778,\"#fb9f3a\"],[0.8888888888888888,\"#fdca26\"],[1.0,\"#f0f921\"]]}],\"choropleth\":[{\"type\":\"choropleth\",\"colorbar\":{\"outlinewidth\":0,\"ticks\":\"\"}}],\"histogram2d\":[{\"type\":\"histogram2d\",\"colorbar\":{\"outlinewidth\":0,\"ticks\":\"\"},\"colorscale\":[[0.0,\"#0d0887\"],[0.1111111111111111,\"#46039f\"],[0.2222222222222222,\"#7201a8\"],[0.3333333333333333,\"#9c179e\"],[0.4444444444444444,\"#bd3786\"],[0.5555555555555556,\"#d8576b\"],[0.6666666666666666,\"#ed7953\"],[0.7777777777777778,\"#fb9f3a\"],[0.8888888888888888,\"#fdca26\"],[1.0,\"#f0f921\"]]}],\"heatmap\":[{\"type\":\"heatmap\",\"colorbar\":{\"outlinewidth\":0,\"ticks\":\"\"},\"colorscale\":[[0.0,\"#0d0887\"],[0.1111111111111111,\"#46039f\"],[0.2222222222222222,\"#7201a8\"],[0.3333333333333333,\"#9c179e\"],[0.4444444444444444,\"#bd3786\"],[0.5555555555555556,\"#d8576b\"],[0.6666666666666666,\"#ed7953\"],[0.7777777777777778,\"#fb9f3a\"],[0.8888888888888888,\"#fdca26\"],[1.0,\"#f0f921\"]]}],\"heatmapgl\":[{\"type\":\"heatmapgl\",\"colorbar\":{\"outlinewidth\":0,\"ticks\":\"\"},\"colorscale\":[[0.0,\"#0d0887\"],[0.1111111111111111,\"#46039f\"],[0.2222222222222222,\"#7201a8\"],[0.3333333333333333,\"#9c179e\"],[0.4444444444444444,\"#bd3786\"],[0.5555555555555556,\"#d8576b\"],[0.6666666666666666,\"#ed7953\"],[0.7777777777777778,\"#fb9f3a\"],[0.8888888888888888,\"#fdca26\"],[1.0,\"#f0f921\"]]}],\"contourcarpet\":[{\"type\":\"contourcarpet\",\"colorbar\":{\"outlinewidth\":0,\"ticks\":\"\"}}],\"contour\":[{\"type\":\"contour\",\"colorbar\":{\"outlinewidth\":0,\"ticks\":\"\"},\"colorscale\":[[0.0,\"#0d0887\"],[0.1111111111111111,\"#46039f\"],[0.2222222222222222,\"#7201a8\"],[0.3333333333333333,\"#9c179e\"],[0.4444444444444444,\"#bd3786\"],[0.5555555555555556,\"#d8576b\"],[0.6666666666666666,\"#ed7953\"],[0.7777777777777778,\"#fb9f3a\"],[0.8888888888888888,\"#fdca26\"],[1.0,\"#f0f921\"]]}],\"surface\":[{\"type\":\"surface\",\"colorbar\":{\"outlinewidth\":0,\"ticks\":\"\"},\"colorscale\":[[0.0,\"#0d0887\"],[0.1111111111111111,\"#46039f\"],[0.2222222222222222,\"#7201a8\"],[0.3333333333333333,\"#9c179e\"],[0.4444444444444444,\"#bd3786\"],[0.5555555555555556,\"#d8576b\"],[0.6666666666666666,\"#ed7953\"],[0.7777777777777778,\"#fb9f3a\"],[0.8888888888888888,\"#fdca26\"],[1.0,\"#f0f921\"]]}],\"mesh3d\":[{\"type\":\"mesh3d\",\"colorbar\":{\"outlinewidth\":0,\"ticks\":\"\"}}],\"scatter\":[{\"fillpattern\":{\"fillmode\":\"overlay\",\"size\":10,\"solidity\":0.2},\"type\":\"scatter\"}],\"parcoords\":[{\"type\":\"parcoords\",\"line\":{\"colorbar\":{\"outlinewidth\":0,\"ticks\":\"\"}}}],\"scatterpolargl\":[{\"type\":\"scatterpolargl\",\"marker\":{\"colorbar\":{\"outlinewidth\":0,\"ticks\":\"\"}}}],\"bar\":[{\"error_x\":{\"color\":\"#2a3f5f\"},\"error_y\":{\"color\":\"#2a3f5f\"},\"marker\":{\"line\":{\"color\":\"#E5ECF6\",\"width\":0.5},\"pattern\":{\"fillmode\":\"overlay\",\"size\":10,\"solidity\":0.2}},\"type\":\"bar\"}],\"scattergeo\":[{\"type\":\"scattergeo\",\"marker\":{\"colorbar\":{\"outlinewidth\":0,\"ticks\":\"\"}}}],\"scatterpolar\":[{\"type\":\"scatterpolar\",\"marker\":{\"colorbar\":{\"outlinewidth\":0,\"ticks\":\"\"}}}],\"histogram\":[{\"marker\":{\"pattern\":{\"fillmode\":\"overlay\",\"size\":10,\"solidity\":0.2}},\"type\":\"histogram\"}],\"scattergl\":[{\"type\":\"scattergl\",\"marker\":{\"colorbar\":{\"outlinewidth\":0,\"ticks\":\"\"}}}],\"scatter3d\":[{\"type\":\"scatter3d\",\"line\":{\"colorbar\":{\"outlinewidth\":0,\"ticks\":\"\"}},\"marker\":{\"colorbar\":{\"outlinewidth\":0,\"ticks\":\"\"}}}],\"scattermapbox\":[{\"type\":\"scattermapbox\",\"marker\":{\"colorbar\":{\"outlinewidth\":0,\"ticks\":\"\"}}}],\"scatterternary\":[{\"type\":\"scatterternary\",\"marker\":{\"colorbar\":{\"outlinewidth\":0,\"ticks\":\"\"}}}],\"scattercarpet\":[{\"type\":\"scattercarpet\",\"marker\":{\"colorbar\":{\"outlinewidth\":0,\"ticks\":\"\"}}}],\"carpet\":[{\"aaxis\":{\"endlinecolor\":\"#2a3f5f\",\"gridcolor\":\"white\",\"linecolor\":\"white\",\"minorgridcolor\":\"white\",\"startlinecolor\":\"#2a3f5f\"},\"baxis\":{\"endlinecolor\":\"#2a3f5f\",\"gridcolor\":\"white\",\"linecolor\":\"white\",\"minorgridcolor\":\"white\",\"startlinecolor\":\"#2a3f5f\"},\"type\":\"carpet\"}],\"table\":[{\"cells\":{\"fill\":{\"color\":\"#EBF0F8\"},\"line\":{\"color\":\"white\"}},\"header\":{\"fill\":{\"color\":\"#C8D4E3\"},\"line\":{\"color\":\"white\"}},\"type\":\"table\"}],\"barpolar\":[{\"marker\":{\"line\":{\"color\":\"#E5ECF6\",\"width\":0.5},\"pattern\":{\"fillmode\":\"overlay\",\"size\":10,\"solidity\":0.2}},\"type\":\"barpolar\"}],\"pie\":[{\"automargin\":true,\"type\":\"pie\"}]},\"layout\":{\"autotypenumbers\":\"strict\",\"colorway\":[\"#636efa\",\"#EF553B\",\"#00cc96\",\"#ab63fa\",\"#FFA15A\",\"#19d3f3\",\"#FF6692\",\"#B6E880\",\"#FF97FF\",\"#FECB52\"],\"font\":{\"color\":\"#2a3f5f\"},\"hovermode\":\"closest\",\"hoverlabel\":{\"align\":\"left\"},\"paper_bgcolor\":\"white\",\"plot_bgcolor\":\"#E5ECF6\",\"polar\":{\"bgcolor\":\"#E5ECF6\",\"angularaxis\":{\"gridcolor\":\"white\",\"linecolor\":\"white\",\"ticks\":\"\"},\"radialaxis\":{\"gridcolor\":\"white\",\"linecolor\":\"white\",\"ticks\":\"\"}},\"ternary\":{\"bgcolor\":\"#E5ECF6\",\"aaxis\":{\"gridcolor\":\"white\",\"linecolor\":\"white\",\"ticks\":\"\"},\"baxis\":{\"gridcolor\":\"white\",\"linecolor\":\"white\",\"ticks\":\"\"},\"caxis\":{\"gridcolor\":\"white\",\"linecolor\":\"white\",\"ticks\":\"\"}},\"coloraxis\":{\"colorbar\":{\"outlinewidth\":0,\"ticks\":\"\"}},\"colorscale\":{\"sequential\":[[0.0,\"#0d0887\"],[0.1111111111111111,\"#46039f\"],[0.2222222222222222,\"#7201a8\"],[0.3333333333333333,\"#9c179e\"],[0.4444444444444444,\"#bd3786\"],[0.5555555555555556,\"#d8576b\"],[0.6666666666666666,\"#ed7953\"],[0.7777777777777778,\"#fb9f3a\"],[0.8888888888888888,\"#fdca26\"],[1.0,\"#f0f921\"]],\"sequentialminus\":[[0.0,\"#0d0887\"],[0.1111111111111111,\"#46039f\"],[0.2222222222222222,\"#7201a8\"],[0.3333333333333333,\"#9c179e\"],[0.4444444444444444,\"#bd3786\"],[0.5555555555555556,\"#d8576b\"],[0.6666666666666666,\"#ed7953\"],[0.7777777777777778,\"#fb9f3a\"],[0.8888888888888888,\"#fdca26\"],[1.0,\"#f0f921\"]],\"diverging\":[[0,\"#8e0152\"],[0.1,\"#c51b7d\"],[0.2,\"#de77ae\"],[0.3,\"#f1b6da\"],[0.4,\"#fde0ef\"],[0.5,\"#f7f7f7\"],[0.6,\"#e6f5d0\"],[0.7,\"#b8e186\"],[0.8,\"#7fbc41\"],[0.9,\"#4d9221\"],[1,\"#276419\"]]},\"xaxis\":{\"gridcolor\":\"white\",\"linecolor\":\"white\",\"ticks\":\"\",\"title\":{\"standoff\":15},\"zerolinecolor\":\"white\",\"automargin\":true,\"zerolinewidth\":2},\"yaxis\":{\"gridcolor\":\"white\",\"linecolor\":\"white\",\"ticks\":\"\",\"title\":{\"standoff\":15},\"zerolinecolor\":\"white\",\"automargin\":true,\"zerolinewidth\":2},\"scene\":{\"xaxis\":{\"backgroundcolor\":\"#E5ECF6\",\"gridcolor\":\"white\",\"linecolor\":\"white\",\"showbackground\":true,\"ticks\":\"\",\"zerolinecolor\":\"white\",\"gridwidth\":2},\"yaxis\":{\"backgroundcolor\":\"#E5ECF6\",\"gridcolor\":\"white\",\"linecolor\":\"white\",\"showbackground\":true,\"ticks\":\"\",\"zerolinecolor\":\"white\",\"gridwidth\":2},\"zaxis\":{\"backgroundcolor\":\"#E5ECF6\",\"gridcolor\":\"white\",\"linecolor\":\"white\",\"showbackground\":true,\"ticks\":\"\",\"zerolinecolor\":\"white\",\"gridwidth\":2}},\"shapedefaults\":{\"line\":{\"color\":\"#2a3f5f\"}},\"annotationdefaults\":{\"arrowcolor\":\"#2a3f5f\",\"arrowhead\":0,\"arrowwidth\":1},\"geo\":{\"bgcolor\":\"white\",\"landcolor\":\"#E5ECF6\",\"subunitcolor\":\"white\",\"showland\":true,\"showlakes\":true,\"lakecolor\":\"white\"},\"title\":{\"x\":0.05},\"mapbox\":{\"style\":\"light\"}}}},                        {\"responsive\": true}                    ).then(function(){\n",
       "                            \n",
       "var gd = document.getElementById('b83f121e-7e96-4593-aeed-4f513f162104');\n",
       "var x = new MutationObserver(function (mutations, observer) {{\n",
       "        var display = window.getComputedStyle(gd).display;\n",
       "        if (!display || display === 'none') {{\n",
       "            console.log([gd, 'removed!']);\n",
       "            Plotly.purge(gd);\n",
       "            observer.disconnect();\n",
       "        }}\n",
       "}});\n",
       "\n",
       "// Listen for the removal of the full notebook cells\n",
       "var notebookContainer = gd.closest('#notebook-container');\n",
       "if (notebookContainer) {{\n",
       "    x.observe(notebookContainer, {childList: true});\n",
       "}}\n",
       "\n",
       "// Listen for the clearing of the current output cell\n",
       "var outputEl = gd.closest('.output');\n",
       "if (outputEl) {{\n",
       "    x.observe(outputEl, {childList: true});\n",
       "}}\n",
       "\n",
       "                        })                };                });            </script>        </div>"
      ]
     },
     "metadata": {},
     "output_type": "display_data"
    }
   ],
   "source": [
    "j_record_: dict = prepare_gannt_data_from(m_keys, j_keys, best_gene_history[2])\n",
    "\n",
    "frame_dicts_: list[dict] = format_gannt_data(m_keys, j_keys, j_record_)\n",
    "fig_ = ff.create_gantt(\n",
    "    frame_dicts_, index_col=\"Resource\",\n",
    "    show_colorbar=True, group_tasks=True, showgrid_x=True, title=\"Job shop Schedule\"\n",
    ")\n",
    "fig_"
   ]
  },
  {
   "cell_type": "code",
   "execution_count": 142,
   "id": "d568ee3e-bed8-4e73-903b-9ef7cfb90dcb",
   "metadata": {},
   "outputs": [],
   "source": [
    "first_gannt_plot = fig.data[0]\n",
    "# first_gannt_plot"
   ]
  }
 ],
 "metadata": {
  "kernelspec": {
   "display_name": "Python 3 (ipykernel)",
   "language": "python",
   "name": "python3"
  },
  "language_info": {
   "codemirror_mode": {
    "name": "ipython",
    "version": 3
   },
   "file_extension": ".py",
   "mimetype": "text/x-python",
   "name": "python",
   "nbconvert_exporter": "python",
   "pygments_lexer": "ipython3",
   "version": "3.11.9"
  }
 },
 "nbformat": 4,
 "nbformat_minor": 5
}
