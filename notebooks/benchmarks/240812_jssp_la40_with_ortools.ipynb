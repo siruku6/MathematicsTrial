{
 "cells": [
  {
   "cell_type": "markdown",
   "id": "fd393bdf-86e4-428f-b6a3-efa23737982b",
   "metadata": {},
   "source": [
    "# Google OR-Tools で la40 を解く\n",
    "\n",
    "## 参考\n",
    "\n",
    "- qiita 記事: https://qiita.com/rm0063vpedc15/items/473fc3a1c8c5de97a213\n",
    "- Google OR-Tools 公式 (`cp_model` について) : https://developers.google.com/optimization/reference/python/sat/python/cp_model#cp_model.CpModel"
   ]
  },
  {
   "cell_type": "code",
   "execution_count": 1,
   "id": "0ca72b56-9dc4-4fb0-a083-50720c5a6c80",
   "metadata": {},
   "outputs": [],
   "source": [
    "\"\"\"Minimal jobshop example.\"\"\"\n",
    "import collections\n",
    "from ortools.sat.python import cp_model\n",
    "import matplotlib.pyplot as plt\n"
   ]
  },
  {
   "cell_type": "markdown",
   "id": "3b43a6c2-0325-4c95-a15e-179dff1a79dc",
   "metadata": {},
   "source": [
    "# データ読み込み"
   ]
  },
  {
   "cell_type": "code",
   "execution_count": 2,
   "id": "9a00cf92-434b-477e-b770-69307e4eef2a",
   "metadata": {
    "scrolled": true
   },
   "outputs": [],
   "source": [
    "# la40\n",
    "with open('data/jssp/la40.txt', 'r') as f:\n",
    "    la40_data: list = [\n",
    "        line.rstrip(\"\\n\").split(\"\\t\")\n",
    "        for line in f.readlines()\n",
    "    ]\n",
    "\n",
    "\n",
    "num_machines, num_jobs = la40_data[0]\n",
    "processing_time_per_job = la40_data[1:16]\n",
    "machine_sequence_per_job = la40_data[16:31]\n",
    "\n",
    "\n",
    "# Job情報整形\n",
    "# 1つのジョブの全タスクの実行マシンIDと実行時間をまとめたもの\n",
    "JobData = list[tuple[int, int]]\n",
    "# tuple[int, int]: (machine_id, processing_time)\n",
    "\n",
    "# ※ Job情報の見本\n",
    "# jobs_data = [  # task = (machine_id, processing_time).\n",
    "#     [(0, 3), (1, 2), (2, 2)],  # Job0\n",
    "#     [(0, 2), (2, 1), (1, 4)],  # Job1\n",
    "#     [(1, 4), (2, 3)],  # Job2\n",
    "#     [(1, 2), (0, 1), (2, 4)],  # Job3\n",
    "#     [(2, 1), (0, 2), (1, 1)],  # Job4\n",
    "# ]\n",
    "\n",
    "# la40 から取得したデータを上記の形式に変換する\n",
    "jobs_data: list[JobData] = []\n",
    "for process_times_for_job, machine_seqs_for_job in zip(processing_time_per_job, machine_sequence_per_job):\n",
    "    job_data: JobData = [\n",
    "        (int(machine_seq), int(process_time))\n",
    "        for process_time, machine_seq in zip(process_times_for_job, machine_seqs_for_job)\n",
    "    ]\n",
    "    jobs_data.append(job_data)\n",
    "\n",
    "# jobs_data"
   ]
  },
  {
   "cell_type": "markdown",
   "id": "3a934613-8d20-4d04-b252-8026684c297f",
   "metadata": {},
   "source": [
    "# ソルバーの初期化、決定変数・制約条件・目的関数の定義"
   ]
  },
  {
   "cell_type": "code",
   "execution_count": 3,
   "id": "d13da59f-746e-4820-9d7d-c7b8e2ade4c6",
   "metadata": {},
   "outputs": [],
   "source": [
    "# Machineの数\n",
    "machines_count = 1 + max(task[0] for job in jobs_data for task in job)\n",
    "all_machines = range(machines_count)\n",
    "\n",
    "# 全 Job 内の全 Task の合計時間\n",
    "horizon = sum(\n",
    "    task[1]\n",
    "    for job in jobs_data\n",
    "    for task in job\n",
    ")\n",
    "\n",
    "# モデルの作成\n",
    "model = cp_model.CpModel()"
   ]
  },
  {
   "cell_type": "code",
   "execution_count": 4,
   "id": "4dceae49-f56d-4ecf-acbf-78574b17e59c",
   "metadata": {},
   "outputs": [],
   "source": [
    "# Taskの種類\n",
    "task_type = collections.namedtuple('task_type', 'start end interval')\n",
    "\n",
    "# ジョブタスクの処理時間\n",
    "all_tasks = {}\n",
    "machine_to_intervals = collections.defaultdict(list)\n",
    "\n",
    "# 開始、終了、処理時間変数を作成\n",
    "for job_id, job in enumerate(jobs_data):\n",
    "    for task_id, task in enumerate(job):\n",
    "        machine = task[0]  # タスクを実行できるマシンの ID\n",
    "        duration = task[1]  # タスク実行の所要時間\n",
    "        suffix = '_%i_%i' % (job_id, task_id)\n",
    "        start_var = model.NewIntVar(0, horizon, 'start' + suffix)  # NewIntVar(最小値, 最大値, 変数名)\n",
    "        end_var = model.NewIntVar(0, horizon, 'end' + suffix)\n",
    "        interval_var = model.NewIntervalVar(\n",
    "            start_var, duration, end_var, 'interval' + suffix\n",
    "        )\n",
    "        all_tasks[job_id, task_id] = task_type(\n",
    "            start=start_var, end=end_var, interval=interval_var\n",
    "        )\n",
    "        machine_to_intervals[machine].append(interval_var)\n"
   ]
  },
  {
   "cell_type": "code",
   "execution_count": 5,
   "id": "24d771c1-3d54-492d-abb4-246e28cb1306",
   "metadata": {},
   "outputs": [],
   "source": [
    "# -------------------------------------------------------\n",
    "# Constraint\n",
    "# -------------------------------------------------------\n",
    "# 重複無の制約を追加\n",
    "for machine in all_machines:\n",
    "    # 各マシンにおいて行われるジョブの実行時間帯が重なってはならない\n",
    "    model.AddNoOverlap(machine_to_intervals[machine])\n",
    "\n",
    "# 実行順序の制約を追加\n",
    "for job_id, job in enumerate(jobs_data):\n",
    "    for task_id in range(len(job) - 1):\n",
    "        # 各ジョブにおける1つ1つのタスクの順番が守られていなければならない\n",
    "        model.Add(all_tasks[job_id, task_id + 1].start >= all_tasks[job_id, task_id].end)\n",
    "\n",
    "# -------------------------------------------------------\n",
    "# 目的関数\n",
    "# -------------------------------------------------------\n",
    "obj_var = model.NewIntVar(0, horizon, 'makespan')\n",
    "\n",
    "# makespan: 全てのジョブの全てのタスクの終了時間の内、一番遅いもの\n",
    "model.AddMaxEquality(obj_var, [\n",
    "    all_tasks[job_id, len(job) - 1].end\n",
    "    for job_id, job in enumerate(jobs_data)\n",
    "])\n",
    "\n",
    "# 最適化で、makespanをMinimize(最小に)することを目指す\n",
    "model.Minimize(obj_var)\n"
   ]
  },
  {
   "cell_type": "markdown",
   "id": "8ea9e142-cce6-451b-be5d-2f54cda60d4b",
   "metadata": {},
   "source": [
    "# ソルバーの実行"
   ]
  },
  {
   "cell_type": "code",
   "execution_count": 6,
   "id": "a1ccf645-e31f-4e72-9b3d-a1fae63d968f",
   "metadata": {},
   "outputs": [
    {
     "name": "stdout",
     "output_type": "stream",
     "text": [
      "\n",
      "Statistics\n",
      "  - conflicts: 24005\n",
      "  - branches : 27348\n",
      "  - wall time: 21.909737786s\n",
      "Optimal Schedule Length: 1222.0\n"
     ]
    }
   ],
   "source": [
    "solver = cp_model.CpSolver()\n",
    "status = solver.Solve(model)\n",
    "\n",
    "\n",
    "# Statistics.\n",
    "print(\"\\nStatistics\")\n",
    "print(f\"  - conflicts: {solver.NumConflicts()}\")\n",
    "print(f\"  - branches : {solver.NumBranches()}\")\n",
    "print(f\"  - wall time: {solver.WallTime()}s\")\n",
    "\n",
    "\n",
    "if status == cp_model.OPTIMAL or status == cp_model.FEASIBLE:\n",
    "    print(f'Optimal Schedule Length: {solver.ObjectiveValue()}')\n",
    "else:\n",
    "    print('No solution found.')\n"
   ]
  },
  {
   "cell_type": "markdown",
   "id": "e84a2e0d-b4db-4740-a5b3-54f66d6b872c",
   "metadata": {},
   "source": [
    "# 実行結果の整理"
   ]
  },
  {
   "cell_type": "code",
   "execution_count": 7,
   "id": "938f18da-fbad-4bd7-8a3f-82b1c852697e",
   "metadata": {},
   "outputs": [],
   "source": [
    "# 解取り回し用\n",
    "assigned_task_type = collections.namedtuple(\n",
    "    'assigned_task_type', 'start job machine_id task_id duration'\n",
    ")\n",
    "\n",
    "# Job毎に割当てられたTaskのリストを作成\n",
    "assigned_jobs = collections.defaultdict(list)  # 見つかった解を格納する\n",
    "for job_id, job in enumerate(jobs_data):\n",
    "    for task_id, task in enumerate(job):\n",
    "        machine_id = task[0]\n",
    "        start = solver.Value(all_tasks[job_id, task_id].start)\n",
    "        assigned_job = assigned_task_type(\n",
    "            start=start,\n",
    "            job=job_id,\n",
    "            machine_id=machine_id,\n",
    "            task_id=task_id,\n",
    "            duration=task[1]\n",
    "        )\n",
    "        assigned_jobs[job_id].append(assigned_job)\n",
    "    assigned_jobs[job_id] = sorted(assigned_jobs[job_id])\n",
    "\n",
    "# assigned_jobs"
   ]
  },
  {
   "cell_type": "markdown",
   "id": "38a6c3a7-7bb1-4515-b4c2-b36f1432f24e",
   "metadata": {},
   "source": [
    "# 結果の可視化"
   ]
  },
  {
   "cell_type": "code",
   "execution_count": 8,
   "id": "85db6205-574c-4b93-944f-527c53039d06",
   "metadata": {},
   "outputs": [
    {
     "data": {
      "text/plain": [
       "<matplotlib.legend.Legend at 0x7f25b69ec250>"
      ]
     },
     "execution_count": 8,
     "metadata": {},
     "output_type": "execute_result"
    },
    {
     "data": {
      "image/png": "[encoded data removed]",
      "text/plain": [
       "<Figure size 640x480 with 1 Axes>"
      ]
     },
     "metadata": {},
     "output_type": "display_data"
    }
   ],
   "source": [
    "fig, ax = plt.subplots()\n",
    "\n",
    "jobTaskIds: list[int] = list(range(0, 15))\n",
    "machineIds: list[int] = list(range(0, 15))\n",
    "\n",
    "# 縦軸の値\n",
    "machine_name = [\n",
    "    f\"Machine{k}\"\n",
    "    for k in machineIds\n",
    "]\n",
    "\n",
    "# 横軸の値\n",
    "start_time = [0] * len(jobTaskIds)\n",
    "process_time = [0] * len(jobTaskIds)\n",
    "\n",
    "# 15色のカラー\n",
    "colors = [\n",
    "    \"red\", \"blue\", \"skyblue\", \"gray\", \"purple\",\n",
    "    \"green\", \"cyan\", \"darkblue\", \"orange\", \"black\",\n",
    "    \"pink\", \"salmon\", \"mistyrose\", \"tomato\", \"greenyellow\"\n",
    "]\n",
    "\n",
    "\n",
    "for jobId, assigned_tasks in assigned_jobs.items():\n",
    "    color = colors[jobId]\n",
    "    for task in assigned_tasks:\n",
    "        start_time[task.machine_id - 1] = task.start\n",
    "        process_time[task.machine_id - 1] = task.duration\n",
    "\n",
    "        # 1回だけ legend 登録用の label を渡す\n",
    "        if task.task_id == 0:\n",
    "            ax.barh(machine_name, process_time, left = start_time, color=color, label=f\"job: {jobId}\")\n",
    "        else:\n",
    "            ax.barh(machine_name, process_time, left = start_time, color=color)\n",
    "        start_time[task.machine_id - 1] = 0\n",
    "        process_time[task.machine_id - 1] = 0\n",
    "\n",
    "plt.legend()\n"
   ]
  }
 ],
 "metadata": {
  "kernelspec": {
   "display_name": "Python 3 (ipykernel)",
   "language": "python",
   "name": "python3"
  },
  "language_info": {
   "codemirror_mode": {
    "name": "ipython",
    "version": 3
   },
   "file_extension": ".py",
   "mimetype": "text/x-python",
   "name": "python",
   "nbconvert_exporter": "python",
   "pygments_lexer": "ipython3",
   "version": "3.11.9"
  }
 },
 "nbformat": 4,
 "nbformat_minor": 5
}
