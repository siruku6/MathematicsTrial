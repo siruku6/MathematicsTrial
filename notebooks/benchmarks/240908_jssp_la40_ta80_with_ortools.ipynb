{
 "cells": [
  {
   "cell_type": "markdown",
   "id": "fd393bdf-86e4-428f-b6a3-efa23737982b",
   "metadata": {},
   "source": [
    "# Google OR-Tools で la40, ta80を解く\n",
    "\n",
    "## 参考\n",
    "\n",
    "- Google OR-Tools 公式 (`cp_model` について) : https://developers.google.com/optimization/reference/python/sat/python/cp_model#cp_model.CpModel\n"
   ]
  },
  {
   "cell_type": "code",
   "execution_count": 1,
   "id": "0ca72b56-9dc4-4fb0-a083-50720c5a6c80",
   "metadata": {},
   "outputs": [],
   "source": [
    "from time import time\n",
    "import random\n",
    "import collections\n",
    "\n",
    "import numpy as np\n",
    "import matplotlib.pyplot as plt\n",
    "from ortools.sat.python import cp_model\n",
    "from tqdm.notebook import tqdm\n",
    "\n",
    "from la40.loader import read_benchmark_task_data\n",
    "from utils.drawing_tool import create_colors\n"
   ]
  },
  {
   "cell_type": "markdown",
   "id": "3b43a6c2-0325-4c95-a15e-179dff1a79dc",
   "metadata": {},
   "source": [
    "# データ読み込み"
   ]
  },
  {
   "cell_type": "code",
   "execution_count": 2,
   "id": "9a00cf92-434b-477e-b770-69307e4eef2a",
   "metadata": {},
   "outputs": [],
   "source": [
    "# 1つのジョブの全タスクの実行マシンIDと実行時間をまとめたもの\n",
    "JobData = list[tuple[int, int]]\n",
    "# tuple[int, int]: (machine_id, processing_time)\n",
    "\n",
    "# ※ Job情報の見本\n",
    "# jobs_data = [  # task = (machine_id, processing_time).\n",
    "#     [(0, 3), (1, 2), (2, 2)],  # Job0\n",
    "#     [(0, 2), (2, 1), (1, 4)],  # Job1\n",
    "#     [(1, 4), (2, 3)],  # Job2\n",
    "#     [(1, 2), (0, 1), (2, 4)],  # Job3\n",
    "#     [(2, 1), (0, 2), (1, 1)],  # Job4\n",
    "# ]\n",
    "\n",
    "\n",
    "# la40\n",
    "# processing_time_per_job, machine_sequence_per_job = read_benchmark_task_data(benchmark_data_path='data/jssp/la40.txt')\n",
    "processing_time_per_job, machine_sequence_per_job = read_benchmark_task_data(benchmark_data_path='../data/jssp/ta80.txt')\n",
    "\n",
    "# Job情報整形\n",
    "# la40 から取得したデータを上記の形式に変換する\n",
    "jobs_data: list[JobData] = []\n",
    "for process_times_for_job, machine_seqs_for_job in zip(\n",
    "    processing_time_per_job, machine_sequence_per_job\n",
    "):\n",
    "    job_data: JobData = [\n",
    "        (int(machine_seq), int(process_time))\n",
    "        for process_time, machine_seq in zip(\n",
    "            process_times_for_job, machine_seqs_for_job\n",
    "        )\n",
    "    ]\n",
    "    jobs_data.append(job_data)\n",
    "\n",
    "# jobs_data"
   ]
  },
  {
   "cell_type": "markdown",
   "id": "3a934613-8d20-4d04-b252-8026684c297f",
   "metadata": {},
   "source": [
    "# ソルバーの初期化、決定変数・制約条件・目的関数の定義"
   ]
  },
  {
   "cell_type": "code",
   "execution_count": 3,
   "id": "d13da59f-746e-4820-9d7d-c7b8e2ade4c6",
   "metadata": {},
   "outputs": [],
   "source": [
    "# Machineの数\n",
    "machines_count = 1 + max(task[0] for job in jobs_data for task in job)\n",
    "all_machines = range(machines_count)\n",
    "\n",
    "# 全 Job 内の全 Task の合計時間\n",
    "horizon = sum(\n",
    "    task[1]\n",
    "    for job in jobs_data\n",
    "    for task in job\n",
    ")\n",
    "\n",
    "# モデルの作成\n",
    "model = cp_model.CpModel()"
   ]
  },
  {
   "cell_type": "code",
   "execution_count": 4,
   "id": "4dceae49-f56d-4ecf-acbf-78574b17e59c",
   "metadata": {},
   "outputs": [],
   "source": [
    "# Taskの種類\n",
    "task_type = collections.namedtuple('task_type', 'start end interval')\n",
    "\n",
    "# ジョブタスクの処理時間\n",
    "all_tasks = {}\n",
    "machine_to_intervals = collections.defaultdict(list)\n",
    "\n",
    "# 開始、終了、処理時間変数を作成\n",
    "for job_id, job in enumerate(jobs_data):\n",
    "    for task_id, task in enumerate(job):\n",
    "        machine = task[0]  # タスクを実行できるマシンの ID\n",
    "        duration = task[1]  # タスク実行の所要時間\n",
    "        suffix = '_%i_%i' % (job_id, task_id)\n",
    "        start_var = model.NewIntVar(0, horizon, 'start' + suffix)  # NewIntVar(最小値, 最大値, 変数名)\n",
    "        end_var = model.NewIntVar(0, horizon, 'end' + suffix)\n",
    "        interval_var = model.NewIntervalVar(\n",
    "            start_var, duration, end_var, 'interval' + suffix\n",
    "        )\n",
    "        all_tasks[job_id, task_id] = task_type(\n",
    "            start=start_var, end=end_var, interval=interval_var\n",
    "        )\n",
    "        machine_to_intervals[machine].append(interval_var)\n"
   ]
  },
  {
   "cell_type": "code",
   "execution_count": 5,
   "id": "24d771c1-3d54-492d-abb4-246e28cb1306",
   "metadata": {},
   "outputs": [],
   "source": [
    "# -------------------------------------------------------\n",
    "# Constraint\n",
    "# -------------------------------------------------------\n",
    "# 重複無の制約を追加\n",
    "for machine in all_machines:\n",
    "    # 各マシンにおいて行われるジョブの実行時間帯が重なってはならない\n",
    "    model.AddNoOverlap(machine_to_intervals[machine])\n",
    "\n",
    "# 実行順序の制約を追加\n",
    "for job_id, job in enumerate(jobs_data):\n",
    "    for task_id in range(len(job) - 1):\n",
    "        # 各ジョブにおける1つ1つのタスクの順番が守られていなければならない\n",
    "        model.Add(all_tasks[job_id, task_id + 1].start >= all_tasks[job_id, task_id].end)\n",
    "\n",
    "# -------------------------------------------------------\n",
    "# 目的関数\n",
    "# -------------------------------------------------------\n",
    "obj_var = model.NewIntVar(0, horizon, 'makespan')\n",
    "\n",
    "# makespan: 全てのジョブの全てのタスクの終了時間の内、一番遅いもの\n",
    "model.AddMaxEquality(obj_var, [\n",
    "    all_tasks[job_id, len(job) - 1].end\n",
    "    for job_id, job in enumerate(jobs_data)\n",
    "])\n",
    "\n",
    "# 最適化で、makespanをMinimize(最小に)することを目指す\n",
    "model.Minimize(obj_var)\n"
   ]
  },
  {
   "cell_type": "markdown",
   "id": "8ea9e142-cce6-451b-be5d-2f54cda60d4b",
   "metadata": {},
   "source": [
    "# 最適化実行"
   ]
  },
  {
   "cell_type": "code",
   "execution_count": 6,
   "id": "a1ccf645-e31f-4e72-9b3d-a1fae63d968f",
   "metadata": {
    "scrolled": true
   },
   "outputs": [
    {
     "data": {
      "application/vnd.jupyter.widget-view+json": {
       "model_id": "d0c1cb9cad9a482393b74861eb29fcf6",
       "version_major": 2,
       "version_minor": 0
      },
      "text/plain": [
       "Optimization:   0%|          | 0/10 [00:00<?, ?it/s]"
      ]
     },
     "metadata": {},
     "output_type": "display_data"
    },
    {
     "name": "stdout",
     "output_type": "stream",
     "text": [
      "\n",
      "Statistics\n",
      "  - conflicts: 14381\n",
      "  - branches : 139565\n",
      "  - wall time: 600.280045284s\n",
      "Optimal Schedule Length: 5443.0\n",
      "\n",
      "Statistics\n",
      "  - conflicts: 14211\n",
      "  - branches : 132564\n",
      "  - wall time: 600.309235006s\n",
      "Optimal Schedule Length: 5409.0\n",
      "\n",
      "Statistics\n",
      "  - conflicts: 13462\n",
      "  - branches : 119786\n",
      "  - wall time: 600.091035989s\n",
      "Optimal Schedule Length: 5427.0\n",
      "\n",
      "Statistics\n",
      "  - conflicts: 15815\n",
      "  - branches : 129576\n",
      "  - wall time: 600.099856185s\n",
      "Optimal Schedule Length: 5449.0\n",
      "\n",
      "Statistics\n",
      "  - conflicts: 15074\n",
      "  - branches : 115870\n",
      "  - wall time: 600.212662323s\n",
      "Optimal Schedule Length: 5441.0\n",
      "\n",
      "Statistics\n",
      "  - conflicts: 14996\n",
      "  - branches : 137130\n",
      "  - wall time: 600.105015864s\n",
      "Optimal Schedule Length: 5464.0\n",
      "\n",
      "Statistics\n",
      "  - conflicts: 14765\n",
      "  - branches : 114057\n",
      "  - wall time: 600.137791472s\n",
      "Optimal Schedule Length: 5435.0\n",
      "\n",
      "Statistics\n",
      "  - conflicts: 12045\n",
      "  - branches : 119637\n",
      "  - wall time: 600.1049273780001s\n",
      "Optimal Schedule Length: 5495.0\n",
      "\n",
      "Statistics\n",
      "  - conflicts: 13549\n",
      "  - branches : 124209\n",
      "  - wall time: 600.160005153s\n",
      "Optimal Schedule Length: 5445.0\n",
      "\n",
      "Statistics\n",
      "  - conflicts: 15677\n",
      "  - branches : 86546\n",
      "  - wall time: 600.1328630300001s\n",
      "Optimal Schedule Length: 5436.0\n"
     ]
    },
    {
     "data": {
      "text/plain": [
       "([600.2907619476318,\n",
       "  600.3181638717651,\n",
       "  600.098646402359,\n",
       "  600.1088953018188,\n",
       "  600.2264890670776,\n",
       "  600.115965127945,\n",
       "  600.1498382091522,\n",
       "  600.1146800518036,\n",
       "  600.1734337806702,\n",
       "  600.1453094482422],\n",
       " [5443.0,\n",
       "  5409.0,\n",
       "  5427.0,\n",
       "  5449.0,\n",
       "  5441.0,\n",
       "  5464.0,\n",
       "  5435.0,\n",
       "  5495.0,\n",
       "  5445.0,\n",
       "  5436.0])"
      ]
     },
     "execution_count": 6,
     "metadata": {},
     "output_type": "execute_result"
    }
   ],
   "source": [
    "def optimize(solver, model, timeLimit):\n",
    "    solver = cp_model.CpSolver()\n",
    "    solver.parameters.max_time_in_seconds = timeLimit\n",
    "\n",
    "    start = time()\n",
    "    status = solver.Solve(model)\n",
    "    exec_time = time() - start\n",
    "\n",
    "    # Statistics.\n",
    "    print(\"\\nStatistics\")\n",
    "    print(f\"  - conflicts: {solver.NumConflicts()}\")\n",
    "    print(f\"  - branches : {solver.NumBranches()}\")\n",
    "    print(f\"  - wall time: {solver.WallTime()}s\")\n",
    "\n",
    "    if status == cp_model.OPTIMAL or status == cp_model.FEASIBLE:\n",
    "        print(f'Optimal Schedule Length: {solver.ObjectiveValue()}')\n",
    "    else:\n",
    "        print('No solution found.')\n",
    "\n",
    "    return exec_time, solver.ObjectiveValue()\n",
    "\n",
    "\n",
    "timeLimit = 600  # seconds\n",
    "exec_time_hist: list = []\n",
    "makespan_hist: list[int] = []\n",
    "\n",
    "for i in tqdm(range(0, 10), desc=\"Optimization\"):\n",
    "    seed: int = i\n",
    "    random.seed(seed)\n",
    "    np.random.seed(seed)\n",
    "\n",
    "    solver = cp_model.CpSolver()\n",
    "    exec_time, makespan = optimize(solver, model, timeLimit)\n",
    "\n",
    "    exec_time_hist.append(exec_time)\n",
    "    makespan_hist.append(makespan)\n",
    "\n",
    "exec_time_hist, makespan_hist"
   ]
  },
  {
   "cell_type": "code",
   "execution_count": 7,
   "id": "0a61c3d4-899c-4d1d-9982-8b54ada8dbf9",
   "metadata": {},
   "outputs": [
    {
     "data": {
      "text/plain": [
       "5444.4"
      ]
     },
     "execution_count": 7,
     "metadata": {},
     "output_type": "execute_result"
    },
    {
     "name": "stdout",
     "output_type": "stream",
     "text": [
      "The history saving thread hit an unexpected error (OperationalError('attempt to write a readonly database')).History will not be written to the database.\n"
     ]
    }
   ],
   "source": [
    "np.mean(makespan_hist)"
   ]
  },
  {
   "cell_type": "code",
   "execution_count": 10,
   "id": "414c9f23-9be2-4589-9d59-3a38f67abda2",
   "metadata": {},
   "outputs": [
    {
     "data": {
      "text/plain": [
       "(21.666564102321345, 21.666564102321345)"
      ]
     },
     "execution_count": 10,
     "metadata": {},
     "output_type": "execute_result"
    }
   ],
   "source": [
    "np.sqrt(np.var(makespan_hist)), np.std(makespan_hist)"
   ]
  },
  {
   "cell_type": "markdown",
   "id": "d5d5eb72-c333-4da2-96e4-739fca760ab5",
   "metadata": {},
   "source": [
    "# 可視化のため、1回のみ実行\n"
   ]
  },
  {
   "cell_type": "code",
   "execution_count": 14,
   "id": "5713b374-210f-4aae-9ace-a60911c08dcd",
   "metadata": {},
   "outputs": [
    {
     "data": {
      "application/vnd.jupyter.widget-view+json": {
       "model_id": "5e80b643e4224e10849ebcbc29ae39a8",
       "version_major": 2,
       "version_minor": 0
      },
      "text/plain": [
       "Optimization:   0%|          | 0/1 [00:00<?, ?it/s]"
      ]
     },
     "metadata": {},
     "output_type": "display_data"
    },
    {
     "name": "stdout",
     "output_type": "stream",
     "text": [
      "\n",
      "Statistics\n",
      "  - conflicts: 15334\n",
      "  - branches : 126495\n",
      "  - wall time: 600.180363121s\n",
      "Optimal Schedule Length: 5433.0\n"
     ]
    },
    {
     "data": {
      "text/plain": [
       "([600.191534280777], [5433.0])"
      ]
     },
     "execution_count": 14,
     "metadata": {},
     "output_type": "execute_result"
    }
   ],
   "source": [
    "def optimize(solver, model, timeLimit):\n",
    "    # solver = cp_model.CpSolver()\n",
    "    solver.parameters.max_time_in_seconds = timeLimit\n",
    "\n",
    "    start = time()\n",
    "    status = solver.Solve(model)\n",
    "    exec_time = time() - start\n",
    "\n",
    "    # Statistics.\n",
    "    print(\"\\nStatistics\")\n",
    "    print(f\"  - conflicts: {solver.NumConflicts()}\")\n",
    "    print(f\"  - branches : {solver.NumBranches()}\")\n",
    "    print(f\"  - wall time: {solver.WallTime()}s\")\n",
    "\n",
    "    if status == cp_model.OPTIMAL or status == cp_model.FEASIBLE:\n",
    "        print(f'Optimal Schedule Length: {solver.ObjectiveValue()}')\n",
    "    else:\n",
    "        print('No solution found.')\n",
    "\n",
    "    return exec_time, solver.ObjectiveValue()\n",
    "\n",
    "\n",
    "timeLimit = 600  # seconds\n",
    "exec_time_hist: list = []\n",
    "makespan_hist: list[int] = []\n",
    "\n",
    "for i in tqdm(range(0, 1), desc=\"Optimization\"):\n",
    "    seed: int = i\n",
    "    random.seed(seed)\n",
    "    np.random.seed(seed)\n",
    "\n",
    "    solver = cp_model.CpSolver()\n",
    "    exec_time, makespan = optimize(solver, model, timeLimit)\n",
    "\n",
    "    exec_time_hist.append(exec_time)\n",
    "    makespan_hist.append(makespan)\n",
    "\n",
    "exec_time_hist, makespan_hist"
   ]
  },
  {
   "cell_type": "markdown",
   "id": "e84a2e0d-b4db-4740-a5b3-54f66d6b872c",
   "metadata": {},
   "source": [
    "# 実行結果の整理"
   ]
  },
  {
   "cell_type": "code",
   "execution_count": 16,
   "id": "938f18da-fbad-4bd7-8a3f-82b1c852697e",
   "metadata": {},
   "outputs": [],
   "source": [
    "# 解取り回し用\n",
    "assigned_task_type = collections.namedtuple(\n",
    "    'assigned_task_type', 'start job machine_id task_id duration'\n",
    ")\n",
    "\n",
    "# Job毎に割当てられたTaskのリストを作成\n",
    "assigned_jobs = collections.defaultdict(list)  # 見つかった解を格納する\n",
    "for job_id, job in enumerate(jobs_data):\n",
    "    for task_id, task in enumerate(job):\n",
    "        machine_id = task[0]\n",
    "        start = solver.Value(all_tasks[job_id, task_id].start)\n",
    "        assigned_job = assigned_task_type(\n",
    "            start=start,\n",
    "            job=job_id,\n",
    "            machine_id=machine_id,\n",
    "            task_id=task_id,\n",
    "            duration=task[1]\n",
    "        )\n",
    "        assigned_jobs[job_id].append(assigned_job)\n",
    "    assigned_jobs[job_id] = sorted(assigned_jobs[job_id])\n",
    "\n",
    "# assigned_jobs"
   ]
  },
  {
   "cell_type": "markdown",
   "id": "38a6c3a7-7bb1-4515-b4c2-b36f1432f24e",
   "metadata": {},
   "source": [
    "# 結果の可視化"
   ]
  },
  {
   "cell_type": "code",
   "execution_count": 29,
   "id": "85db6205-574c-4b93-944f-527c53039d06",
   "metadata": {},
   "outputs": [
    {
     "name": "stdout",
     "output_type": "stream",
     "text": [
      "100\n"
     ]
    },
    {
     "data": {
      "application/vnd.jupyter.widget-view+json": {
       "model_id": "4b96a4d7465d484894748201d49cc930",
       "version_major": 2,
       "version_minor": 0
      },
      "text/plain": [
       "  0%|          | 0/100 [00:00<?, ?it/s]"
      ]
     },
     "metadata": {},
     "output_type": "display_data"
    },
    {
     "data": {
      "image/png": "[encoded data removed]",
      "text/plain": [
       "<Figure size 640x480 with 1 Axes>"
      ]
     },
     "metadata": {},
     "output_type": "display_data"
    }
   ],
   "source": [
    "fig, ax = plt.subplots()\n",
    "\n",
    "jobTaskIds: list[int] = list(range(len(jobs_data)))\n",
    "machineIds: list[int] = list(range(len(jobs_data[0])))\n",
    "\n",
    "# 縦軸の値\n",
    "machine_name = [\n",
    "    f\"Machine{k}\"\n",
    "    for k in machineIds\n",
    "]\n",
    "\n",
    "# 横軸の値\n",
    "start_time = [0] * len(machineIds)\n",
    "process_time = [0] * len(machineIds)\n",
    "\n",
    "colors: list[str] = create_colors(len(jobTaskIds))\n",
    "print(len(colors))\n",
    "for jobId, assigned_tasks in tqdm(assigned_jobs.items(), total=len(assigned_jobs.keys())):\n",
    "    color = colors[:len(jobTaskIds)][jobId]\n",
    "    for task in assigned_tasks:\n",
    "        start_time[task.machine_id - 1] = task.start\n",
    "        process_time[task.machine_id - 1] = task.duration\n",
    "\n",
    "        # 1回だけ legend 登録用の label を渡す\n",
    "        if task.task_id == 0:\n",
    "            ax.barh(machine_name, process_time, left = start_time, color=color, label=f\"job: {jobId}\")\n",
    "        else:\n",
    "            ax.barh(machine_name, process_time, left = start_time, color=color)\n",
    "        start_time[task.machine_id - 1] = 0\n",
    "        process_time[task.machine_id - 1] = 0\n",
    "\n",
    "# plt.legend()\n"
   ]
  }
 ],
 "metadata": {
  "kernelspec": {
   "display_name": "Python 3 (ipykernel)",
   "language": "python",
   "name": "python3"
  },
  "language_info": {
   "codemirror_mode": {
    "name": "ipython",
    "version": 3
   },
   "file_extension": ".py",
   "mimetype": "text/x-python",
   "name": "python",
   "nbconvert_exporter": "python",
   "pygments_lexer": "ipython3",
   "version": "3.11.9"
  }
 },
 "nbformat": 4,
 "nbformat_minor": 5
}
