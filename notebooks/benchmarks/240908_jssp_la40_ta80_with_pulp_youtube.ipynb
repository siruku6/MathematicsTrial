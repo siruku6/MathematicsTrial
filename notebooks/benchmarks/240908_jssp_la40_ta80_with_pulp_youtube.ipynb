{
 "cells": [
  {
   "cell_type": "markdown",
   "id": "5872c534-5c7c-4e33-8e27-cfc53484a621",
   "metadata": {},
   "source": [
    "# コードベースは YouTube より\n",
    "\n",
    "https://www.youtube.com/watch?v=NN0A0Cjo2tQ\n"
   ]
  },
  {
   "cell_type": "code",
   "execution_count": 2,
   "id": "7171d20b-2c6e-4d82-9fee-94713bff37b5",
   "metadata": {},
   "outputs": [],
   "source": [
    "from time import time\n",
    "import random\n",
    "\n",
    "import matplotlib.pyplot as plt\n",
    "import numpy as np\n",
    "import pandas as pd\n",
    "from pulp import LpMinimize, LpProblem, LpVariable, PULP_CBC_CMD, CPLEX_PY, LpStatus, value, listSolvers\n",
    "from tqdm.notebook import tqdm\n",
    "\n",
    "from la40.loader import read_benchmark_task_data\n",
    "from utils.drawing_tool import create_colors\n"
   ]
  },
  {
   "cell_type": "code",
   "execution_count": 7,
   "id": "88ccb9d8-d058-4abc-b851-5adb2e652d10",
   "metadata": {
    "scrolled": true
   },
   "outputs": [],
   "source": [
    "# https://coin-or.github.io/pulp/guides/how_to_configure_solvers.html\n",
    "# listSolvers()\n"
   ]
  },
  {
   "cell_type": "markdown",
   "id": "cce951bc-36df-4e0e-92d4-3e6de40dab79",
   "metadata": {},
   "source": [
    "# データの読み込み"
   ]
  },
  {
   "cell_type": "code",
   "execution_count": 5,
   "id": "87feb781-3695-455b-93e2-9a79cbf536d1",
   "metadata": {},
   "outputs": [],
   "source": [
    "# processing_time_per_job, machine_sequence_per_job = read_benchmark_task_data('data/jssp/la40.txt')\n",
    "processing_time_per_job, machine_sequence_per_job = read_benchmark_task_data('../data/jssp/ta80.txt')\n",
    "\n",
    "processing_time_per_job = pd.DataFrame(processing_time_per_job).astype(int)\n",
    "machine_sequence_per_job = pd.DataFrame(machine_sequence_per_job).astype(int)\n",
    "\n",
    "# processing_times\n",
    "processing_times = processing_time_per_job.values.tolist()\n",
    "#　machine_sequences for tasks\n",
    "machines = machine_sequence_per_job.values.tolist()\n",
    "# machines"
   ]
  },
  {
   "cell_type": "markdown",
   "id": "13b9cb29-26e3-4006-8255-8ba0d00f34d0",
   "metadata": {},
   "source": [
    "# 制約条件や目的関数などの設定\n"
   ]
  },
  {
   "cell_type": "code",
   "execution_count": 7,
   "id": "5576eec1-b4cc-428d-a971-0d2b9f8dcfc0",
   "metadata": {},
   "outputs": [
    {
     "data": {
      "application/vnd.jupyter.widget-view+json": {
       "model_id": "20ae5f1d7eeb4eadae5be1b740e7c616",
       "version_major": 2,
       "version_minor": 0
      },
      "text/plain": [
       "Setting constraints:   0%|          | 0/100 [00:00<?, ?it/s]"
      ]
     },
     "metadata": {},
     "output_type": "display_data"
    }
   ],
   "source": [
    "# Job\n",
    "jobIds = range(0, len(processing_times))\n",
    "\n",
    "# Job 内の task\n",
    "jobTaskIds = range(0, len(processing_times[0]))\n",
    "\n",
    "M = 10000  # large number\n",
    "s = {}\n",
    "x = {}\n",
    "\n",
    "# model\n",
    "model = LpProblem(sense = LpMinimize)\n",
    "\n",
    "# 決定変数\n",
    "mkspan = LpVariable(\"mkspan\", lowBound=0, upBound=None, cat=\"Continuous\")\n",
    "\n",
    "for i in jobIds:\n",
    "    for k in jobTaskIds:\n",
    "        # 開始時刻\n",
    "        s[i, k] = LpVariable(\"s{},{}\".format(i,k), lowBound=0, upBound=None, cat=\"Continuous\")\n",
    "\n",
    "        # 作業 i,k が 作業 j,l よりも先に行われることを示す\n",
    "        for j in jobIds:\n",
    "            for l in jobTaskIds:\n",
    "                if (i != j) & (machines[i][k] == machines[j][l]):\n",
    "                    x[i, k, j, l] = LpVariable(\"x{},{},{},{}\".format(i,k,j,l), cat=\"Binary\")\n",
    "\n",
    "# 目的関数\n",
    "model += mkspan\n",
    "\n",
    "# Constraints: 制約条件\n",
    "for i in jobIds:\n",
    "    for k in jobTaskIds:\n",
    "        model += mkspan >= s[i,k] + processing_times[i][k]\n",
    "        model += s[i,k] >= 0\n",
    "\n",
    "    for k in range(1, len(jobTaskIds) - 1):\n",
    "        model += s[i, k + 1] >= s[i, k] + processing_times[i][k]\n",
    "\n",
    "for i in tqdm(jobIds, desc=\"Setting constraints\"):\n",
    "    for k in jobTaskIds:\n",
    "        for j in jobIds:\n",
    "            for l in jobTaskIds:\n",
    "                if (i != j) & (machines[i][k] == machines[j][l]):\n",
    "                    model += s[j, l] >= s[i, k] + processing_times[i][k] - M * (1 - x[i, k, j, l])\n",
    "                    model += s[i, k] >= s[j, l] + processing_times[j][l] - M * x[i, k, j, l]\n",
    "                    model += x[i, k, j, l] + x[j, l, i, k,] == 1\n"
   ]
  },
  {
   "cell_type": "markdown",
   "id": "aada018c-d084-45b5-8454-a250b157d06c",
   "metadata": {},
   "source": [
    "# 最適化実行"
   ]
  },
  {
   "cell_type": "code",
   "execution_count": null,
   "id": "dd892439-6962-479b-8b74-131567bd9d3b",
   "metadata": {
    "scrolled": true
   },
   "outputs": [],
   "source": [
    "def optimize(model, timeLimit):\n",
    "    start = time()\n",
    "    \n",
    "    # 実行\n",
    "    # https://yamakuramun.info/2020/09/27/227/\n",
    "    # https://qiita.com/nariaki3551/items/ea1117afb7f8ffbf7e90\n",
    "    solver = PULP_CBC_CMD(msg=1, threads=8, timeLimit=timeLimit)\n",
    "    # solver = PULP_CBC_CMD(msg=1, options=['maxsol 3'], threads=8, timeLimit=300)\n",
    "    # solver = CPLEX_PY(msg=1, threads=8, timeLimit=600)\n",
    "    \n",
    "    result = model.solve(solver)\n",
    "    \n",
    "    # 結果の出力\n",
    "    print(\"status\", LpStatus[result])\n",
    "    print(\"value\", value(model.objective))\n",
    "    \n",
    "    exec_time = time() - start\n",
    "\n",
    "    for i in jobIds:\n",
    "        for k in jobTaskIds:\n",
    "            print(\"Value[s]\", s[i, k], value(s[i, k]))\n",
    "    \n",
    "    for i in tqdm(jobIds):\n",
    "        for k in jobTaskIds:\n",
    "            for j in jobIds:\n",
    "                for l in jobTaskIds:\n",
    "                    if (i != j) & (machines[i][k] == machines[j][l]):\n",
    "                        print(\"Value[x]\", x[i, k, j, l], value(x[i, k, j, l]))\n",
    "\n",
    "    return exec_time, value(model.objective)\n",
    "\n",
    "\n",
    "timeLimit = 600  # seconds\n",
    "exec_time_hist: list = []\n",
    "makespan_hist: list[int] = []\n",
    "\n",
    "for i in tqdm(range(0, 10), desc=\"Optimization\"):\n",
    "    seed: int = i\n",
    "    random.seed(seed)\n",
    "    np.random.seed(seed)\n",
    "\n",
    "    exec_time, makespan = optimize(model, timeLimit)\n",
    "\n",
    "    exec_time_hist.append(exec_time)\n",
    "    makespan_hist.append(makespan)\n",
    "\n",
    "exec_time_hist, makespan_hist"
   ]
  },
  {
   "cell_type": "code",
   "execution_count": null,
   "id": "a07d0c8b-0a2d-4bd1-acc0-1329e02288ab",
   "metadata": {},
   "outputs": [],
   "source": [
    "np.mean(makespan_hist)"
   ]
  },
  {
   "cell_type": "code",
   "execution_count": null,
   "id": "3a7239d5-e702-4e4e-bb88-cdcf13bd46a3",
   "metadata": {},
   "outputs": [],
   "source": [
    "np.sqrt(np.var(makespan_hist)), np.std(makespan_hist)"
   ]
  },
  {
   "cell_type": "markdown",
   "id": "f7c70e85-1d4c-4e93-ad3c-967e59ecfdde",
   "metadata": {},
   "source": [
    "# 結果の可視化"
   ]
  },
  {
   "cell_type": "code",
   "execution_count": 12,
   "id": "3c49901d-ab6e-41a7-a47f-d265b8f9a2cc",
   "metadata": {},
   "outputs": [
    {
     "data": {
      "text/plain": [
       "<matplotlib.legend.Legend at 0x7f872fc6cc10>"
      ]
     },
     "execution_count": 12,
     "metadata": {},
     "output_type": "execute_result"
    },
    {
     "data": {
      "image/png": "[encoded data removed]",
      "text/plain": [
       "<Figure size 640x480 with 1 Axes>"
      ]
     },
     "metadata": {},
     "output_type": "display_data"
    }
   ],
   "source": [
    "fig, ax = plt.subplots()\n",
    "\n",
    "# 縦軸の値\n",
    "machine_name = [\n",
    "    f\"Machine{k}\"\n",
    "    for k in jobTaskIds\n",
    "]\n",
    "\n",
    "# 横軸の値\n",
    "start_time = [0] * len(jobTaskIds)\n",
    "process_time = [0] * len(jobTaskIds)\n",
    "# process_time = np.array(finish_time) - np.array(start_time)\n",
    "\n",
    "colors = [\n",
    "    \"red\", \"blue\", \"skyblue\", \"gray\", \"purple\",\n",
    "    \"green\", \"cyan\", \"darkblue\", \"orange\", \"black\",\n",
    "    \"pink\", \"salmon\", \"mistyrose\", \"tomato\", \"greenyellow\"\n",
    "]\n",
    "for i in jobIds:\n",
    "    color = colors[i]\n",
    "    for k in jobTaskIds:\n",
    "        start_time[machines[i][k] - 1] = value(s[i, k])\n",
    "        process_time[machines[i][k] - 1] = processing_times[i][k]\n",
    "\n",
    "        # 1回だけ legend 登録用の label を渡す\n",
    "        if k == 0:\n",
    "            ax.barh(machine_name, process_time, left = start_time, color=color, label=f\"job: {i}\")\n",
    "        else:\n",
    "            ax.barh(machine_name, process_time, left = start_time, color=color)\n",
    "        start_time[machines[i][k] - 1] = 0\n",
    "        process_time[machines[i][k] - 1] = 0\n",
    "\n",
    "plt.legend()"
   ]
  }
 ],
 "metadata": {
  "kernelspec": {
   "display_name": "Python 3 (ipykernel)",
   "language": "python",
   "name": "python3"
  },
  "language_info": {
   "codemirror_mode": {
    "name": "ipython",
    "version": 3
   },
   "file_extension": ".py",
   "mimetype": "text/x-python",
   "name": "python",
   "nbconvert_exporter": "python",
   "pygments_lexer": "ipython3",
   "version": "3.11.9"
  }
 },
 "nbformat": 4,
 "nbformat_minor": 5
}
