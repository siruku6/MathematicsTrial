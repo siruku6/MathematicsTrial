{
 "cells": [
  {
   "cell_type": "markdown",
   "id": "5a33680e-ecf9-42a8-82e0-0f049b248720",
   "metadata": {},
   "source": [
    "# solving job shop scheduling problem with GA\n",
    "\n",
    "- la40  \n",
    "http://jobshop.jjvh.nl/\n",
    "\n",
    "https://github.com/Eason0227/Job-shop-scheduling-problem/blob/main/GA%20for%20JSSP.ipynb\n"
   ]
  },
  {
   "cell_type": "code",
   "execution_count": 1,
   "id": "e854cd79-1753-4eb4-ac37-744d9a520908",
   "metadata": {},
   "outputs": [],
   "source": [
    "import pandas as pd\n",
    "import numpy as np\n",
    "import time\n",
    "from tqdm.notebook import tqdm\n",
    "import matplotlib.pyplot as plt\n",
    "\n",
    "# import plotly.plotly as py\n",
    "# # from chart_studio import plotly as py\n",
    "from plotly.offline import iplot\n",
    "\n",
    "import plotly.figure_factory as ff\n",
    "import datetime\n",
    "\n",
    "%matplotlib inline\n",
    "\n",
    "# 100 個の int 型要素を持つ配列\n",
    "Chromosome = list[int]\n"
   ]
  },
  {
   "cell_type": "code",
   "execution_count": 2,
   "id": "11359cc9-1fb4-4231-a62a-7fab0fc586f1",
   "metadata": {},
   "outputs": [
    {
     "name": "stdout",
     "output_type": "stream",
     "text": [
      "/working_dir/notebooks\n"
     ]
    }
   ],
   "source": [
    "!pwd"
   ]
  },
  {
   "cell_type": "markdown",
   "id": "a59c5ffc-6892-423f-a913-f55b2192b87f",
   "metadata": {},
   "source": [
    "# データ読み込み"
   ]
  },
  {
   "cell_type": "code",
   "execution_count": 2,
   "id": "32b1a883-2186-4658-aafe-84ecdcfcef2f",
   "metadata": {},
   "outputs": [],
   "source": [
    "processing_df= pd.read_csv(\"../data/jssp/Processing_time.csv\")\n",
    "sequence_df = pd.read_csv(\"../data/jssp/Machine_sequence.csv\")\n",
    "\n",
    "processing_df = processing_df.drop([\"Job\"],axis=1)\n",
    "sequence_df = sequence_df.drop([\"Job\"],axis=1)\n",
    "\n",
    "num_machine = processing_df.shape[0]  # number of machines\n",
    "num_job = processing_df.shape[1]  # number of jobs\n",
    "num_gene = num_machine * num_job  # number of genes in a chromosome\n",
    "\n",
    "# processing_times\n",
    "pt = [list(map(int, processing_df.iloc[i])) for i in range(num_job)]\n",
    "#　machine_sequences for tasks\n",
    "ms = [list(map(int, sequence_df.iloc[i])) for i in range(num_job)]\n"
   ]
  },
  {
   "cell_type": "code",
   "execution_count": 3,
   "id": "6878dd38-779a-4c57-a667-fff13012bfa3",
   "metadata": {},
   "outputs": [
    {
     "data": {
      "text/plain": [
       "[[82, 14, 15, 4, 95, 36, 32, 29, 18, 95],\n",
       " [88, 21, 83, 10, 78, 82, 22, 69, 94, 32],\n",
       " [87, 28, 95, 70, 12, 76, 55, 5, 4, 12],\n",
       " [30, 70, 65, 78, 4, 72, 26, 92, 84, 90],\n",
       " [54, 55, 29, 58, 76, 36, 1, 98, 21, 90],\n",
       " [44, 13, 36, 20, 28, 98, 44, 14, 12, 49],\n",
       " [46, 49, 45, 78, 34, 6, 94, 59, 69, 16],\n",
       " [11, 9, 71, 38, 81, 80, 47, 74, 25, 91],\n",
       " [6, 36, 85, 30, 99, 38, 11, 30, 13, 49],\n",
       " [59, 90, 82, 47, 21, 48, 46, 27, 86, 35]]"
      ]
     },
     "execution_count": 3,
     "metadata": {},
     "output_type": "execute_result"
    }
   ],
   "source": [
    "pt"
   ]
  },
  {
   "cell_type": "code",
   "execution_count": 9,
   "id": "de0bb31b-c8fe-4405-bebe-31e5a12b610d",
   "metadata": {},
   "outputs": [
    {
     "data": {
      "text/plain": [
       "array([4, 4, 8, 0, 9, 2, 3, 4, 7, 1, 7, 0, 4, 7, 2, 7, 0, 3, 7, 2, 3, 1,\n",
       "       6, 8, 6, 4, 8, 0, 4, 4, 0, 9, 1, 9, 9, 1, 7, 6, 7, 4, 3, 1, 3, 7,\n",
       "       7, 3, 1, 9, 5, 7, 3, 4, 0, 5, 6, 3, 3, 2, 2, 5, 8, 5, 6, 1, 8, 2,\n",
       "       8, 0, 8, 5, 5, 9, 9, 0, 9, 0, 8, 6, 1, 2, 5, 9, 8, 6, 5, 0, 2, 2,\n",
       "       2, 5, 3, 6, 5, 6, 9, 6, 1, 1, 4, 8])"
      ]
     },
     "execution_count": 9,
     "metadata": {},
     "output_type": "execute_result"
    }
   ],
   "source": [
    "tmp = np.random.permutation(num_gene) % num_job\n",
    "# pd.Series(tmp).value_counts()\n",
    "tmp"
   ]
  },
  {
   "cell_type": "code",
   "execution_count": 9,
   "id": "fb42cd0d-0750-43f8-8bdb-79c59789ddfa",
   "metadata": {},
   "outputs": [],
   "source": [
    "def inital_population(population_size: int):\n",
    "    \"\"\"\n",
    "    初期の1世代分の個体を生成する\n",
    "    \"\"\"\n",
    "    population_list: list = []\n",
    "    for i in range(population_size):\n",
    "        # generate a random permutation of 0 to num_job * num_mc - 1\n",
    "        ini_pop: list = list(np.random.permutation(num_gene) % num_job)\n",
    "\n",
    "        # convert to job number format, every job appears m(num_job) times\n",
    "        population_list.append(ini_pop)\n",
    "    return population_list\n",
    "\n",
    "\n",
    "def crossover(population_list: list, crossover_rate: float):\n",
    "    \"\"\"\n",
    "    2点交叉を行う\n",
    "    \"\"\"\n",
    "    parent_list: list = population_list.copy() # preserve the original parent chromosomes\n",
    "    offspring_list: list = population_list.copy()\n",
    "\n",
    "    # 產生一個組合去選擇用哪幾組父代染色體進行交配\n",
    "    # 組み合わせを生成して、交配に使用する親染色体のセットを選択します\n",
    "    parent_sequence = list(np.random.permutation(population_size))\n",
    "    for i in range(0, population_size, 2):\n",
    "        crossover_prob=np.random.rand()\n",
    "        if crossover_prob <= crossover_rate:\n",
    "            parent_1 = population_list[ parent_sequence[i] ][:]\n",
    "            parent_2 = population_list[ parent_sequence[i + 1] ][:]\n",
    "            child_1 = parent_1[:]\n",
    "            child_2 = parent_2[:]\n",
    "            # 產生2個不同的交配點，並由小到大排序\n",
    "            # 2つの異なる交点を生成し、小さいものから大きいものに並べ替えます。\n",
    "            crossover_point = list( np.random.choice(num_gene, 2, replace=False) )\n",
    "            crossover_point.sort()\n",
    "\n",
    "            # parent_2中間的基因移到parent_1中間，產生child1\n",
    "            # parent_2 の中央にある遺伝子がparent_1 の中央に移動され、child1 が生成されます。\n",
    "            child_1[crossover_point[0]:crossover_point[1]] = parent_2[crossover_point[0]:crossover_point[1]]\n",
    "            # parent_1中間的基因移到parent_2中間，產生child2\n",
    "            child_2[crossover_point[0]:crossover_point[1]] = parent_1[crossover_point[0]:crossover_point[1]]\n",
    "\n",
    "            offspring_list[parent_sequence[i]] = child_1[:]\n",
    "            offspring_list[parent_sequence[i + 1]] = child_2[:]\n",
    "    return parent_list, offspring_list\n",
    "\n",
    "\n",
    "# 染色体内の各アーティファクトの発生数は 10 ですが、上記の交配作用により、一部の染色体におけるアーティファクトの発生数は 10 未満または 10 を超え、\n",
    "# 実行不可能なスケジューリング ソリューションが形成されるため、ここで次のことを行う必要があります。\n",
    "# 実行不可能な染色体が修復作用を受けて実行可能なスケジュールになることに焦点を当てる\n",
    "def repairmet(offspring_list):\n",
    "    stop = True\n",
    "\n",
    "    # 不斷進行修復，直到每個job的出現次數等於machine數\n",
    "    # 各ジョブの発生回数がマシンの台数と同じになるまで修復を続ける。\n",
    "    while stop:\n",
    "        \n",
    "        for i in range(population_size):\n",
    "            unique_elements, counts = np.unique( offspring_list[i] , return_counts=True) #計算每個job的出現次數\n",
    "            if sum(counts!= num_machine ) != 0: # 有多餘job和缺少的job \n",
    "                less_job = np.argmin(counts) # 出現次數缺少的job\n",
    "                large_job = np.argmax(counts) # 出現次數多出的job\n",
    "                offspring_array = np.array( offspring_list[i] )\n",
    "                offspring_job_large_index = np.where( offspring_array == large_job)[0][0] #  出現次數多出的job的第一個出現位置\n",
    "                offspring_list[i][offspring_job_large_index] = less_job # 出現次數的多的job， 使用較少出現的job替代\n",
    "        counts_sum = 0\n",
    "        for j in range(population_size): # 檢查每隔chromosome是否出現異常的情況\n",
    "            unique_elements, counts = np.unique( offspring_list[j] , return_counts=True)\n",
    "            if sum(counts != num_machine) != 0 :\n",
    "                counts_sum += 1\n",
    "        if counts_sum == 0:\n",
    "            stop = False\n",
    "    return offspring_list\n",
    "\n",
    "\n",
    "def mutation(offspring_list,mutation_rate,num_mutation_jobs):\n",
    "    for i in range(population_size):\n",
    "        mutation_prob=np.random.rand()\n",
    "        if  mutation_prob <= mutation_rate:\n",
    "            mutation_position = list(np.random.choice(num_gene, num_mutation_jobs, replace=False)) # 選擇突變的位置\n",
    "            muta_list = []\n",
    "            for j in mutation_position:\n",
    "                muta_list.append(offspring_list[i][j]) # 要突變的基因list\n",
    "            muta_list.append(muta_list[0]) # 尾部加上第一個基因\n",
    "            muta_list.pop(0) # 將第一個基因刪除\n",
    "            count = 0\n",
    "            for k in mutation_position:\n",
    "                offspring_list[i][k] = muta_list[count] # 將用突變後的基因取代原本的\n",
    "                count += 1\n",
    "    return offspring_list\n",
    "\n",
    "\n",
    "def _calc_time4job(\n",
    "    target_chromosome: Chromosome, num_job: int, num_machine: int\n",
    ") -> dict[int, int]:\n",
    "    \"\"\"\n",
    "    対象個体の遺伝子をスケジュールにしたときに、実際にどのくらい時間がかかるかを計算する\n",
    "\n",
    "    len(target_chromosome) => num_job * num_machine\n",
    "    \"\"\"\n",
    "    j_keys: list[int] = [j for j in range(num_job)]\n",
    "    # job の key 番目のタスクが処理された回数をカウントする\n",
    "    key_count: dict[int, int] = {key: 0 for key in j_keys}\n",
    "\n",
    "    # 各 job にかかる時間を格納するための辞書\n",
    "    time4job: dict[int, int] = {key: 0 for key in j_keys}\n",
    "\n",
    "    m_keys: list[int] = [j + 1 for j in range(num_machine)]\n",
    "    time4machine: dict[int, int] = {key: 0 for key in m_keys}\n",
    "\n",
    "    # 1個体の染色体を一つずつ処理\n",
    "    for i in target_chromosome:\n",
    "        # 次に処理すべきタスクのID\n",
    "        task_no: int = key_count[i]\n",
    "\n",
    "        # 処理時間\n",
    "        gen_t: int = int(pt[i][task_no])\n",
    "        # ジョブにおける、機械の処理順\n",
    "        gen_m: int = int(ms[i][task_no])\n",
    "\n",
    "        # i番目のジョブ内のタスク実行にかかった時間合計\n",
    "        time4job[i] = time4job[i] + gen_t\n",
    "        # gen_m 番目の機械における処理時間合計\n",
    "        time4machine[gen_m] = time4machine[gen_m] + gen_t\n",
    "\n",
    "        # ジョブ毎にかかった時間、もしくは機械毎にかかった時間のうち、小さい方を、大きい方の値で上書きする\n",
    "        if time4machine[gen_m] < time4job[i]:\n",
    "            time4machine[gen_m] = time4job[i]\n",
    "        elif time4machine[gen_m] > time4job[i]:\n",
    "            time4job[i] = time4machine[gen_m]\n",
    "        \n",
    "        key_count[i] = key_count[i] + 1\n",
    "    return time4job\n",
    "\n",
    "\n",
    "def fitness_caculate(total_chromosome: list[Chromosome]):\n",
    "    \"\"\"\n",
    "    適応度の計算を行う\n",
    "\n",
    "    Partameters\n",
    "    ------\n",
    "    total_chromosome: list[Chromosome]\n",
    "        parent and offspring\n",
    "\n",
    "    Returns\n",
    "    ------\n",
    "    chrom_fit: list[int]\n",
    "        各染色体から計算された makespan の配列 (小さい方が良い)\n",
    "\n",
    "    chrom_fitness: list[float]\n",
    "        各染色体から計算された makespan の逆数の配列 (大きい方が良い)\n",
    "\n",
    "    total_fitness: int\n",
    "        各染色体から計算された makespan の逆数の合計 (大きい方が良い)\n",
    "    \"\"\"\n",
    "    chrom_fitness, chrom_fit = [], []\n",
    "    total_fitness: int = 0\n",
    "    for individual_id in range(population_size * 2):  # 親と子の2世代分ループするので 2倍\n",
    "        time4job: dict[int, int] = _calc_time4job(total_chromosome[individual_id], num_job, num_machine)\n",
    "\n",
    "        # 在job中需要的最多完工時間的，即為makespan\n",
    "        # 最も時間がかかる仕事は makespan である。\n",
    "        makespan = max(time4job.values())\n",
    "        # 因後續採用輪盤法時要最小化完工時間，因此每個chromosome所算出的適應值必須以倒數的方式記錄 \n",
    "        # 各染色体について計算された適応値は、その後ルーレットホイール法を使用する際の完了時間を最小にするために、逆順に記録されなければならない。\n",
    "        chrom_fitness.append(1 / makespan)\n",
    "\n",
    "        # 計算每個chromosome原本的總完工時間\n",
    "        # 各染色体の元完了時間の合計を計算する。\n",
    "        chrom_fit.append(makespan)\n",
    "        total_fitness = total_fitness + chrom_fitness[individual_id]\n",
    "\n",
    "    return chrom_fit, chrom_fitness, total_fitness\n",
    "\n",
    "\n",
    "def selection(chrom_fitness, total_fitness, total_chromosome, population_list):\n",
    "    \"\"\"\n",
    "    selection(roulette wheel approach)\n",
    "    \"\"\"\n",
    "    fitness_prob, fitness_cumulate_prob = [], []\n",
    "\n",
    "    for i in range(population_size*2):\n",
    "        # 計算每個chromosome的fitness，佔所有chromosome的比例\n",
    "        # 各染色体のフィットネスを全染色体に占める割合で計算する。\n",
    "        fitness_prob.append(chrom_fitness[i] / total_fitness)\n",
    "    for i in range(population_size * 2):\n",
    "        cumulative = 0\n",
    "        # 計算每個chromosome的fitness累績機率。\n",
    "        # 各染色体のフィットネス発生率を計算する。\n",
    "        for j in range(0, i + 1):\n",
    "            cumulative = cumulative + fitness_prob[j]\n",
    "        fitness_cumulate_prob.append(cumulative) \n",
    "\n",
    "    # 產生一組size為population大小的隨機數list\n",
    "    # 母集団の大きさを持つ乱数のリストを生成する。\n",
    "    selection_rand = [np.random.rand() for i in range(population_size)]\n",
    "\n",
    "    # 選出新的一組Population\n",
    "    # 新しい population を選択する\n",
    "    for i in range(population_size):\n",
    "        # 若第一組被選中時，將第一組chromosome加入\n",
    "        # 最初の組合せが選択されたら、最初の染色体を加える\n",
    "        if selection_rand[i] <= fitness_cumulate_prob[0]:\n",
    "            population_list[i] = total_chromosome[0].copy()\n",
    "        else:\n",
    "            for j in range(0, population_size * 2 - 1): \n",
    "                if selection_rand[i] > fitness_cumulate_prob[j] and selection_rand[i] <= fitness_cumulate_prob[j + 1]:\n",
    "                    population_list[i] = total_chromosome[j + 1].copy()\n",
    "                    break\n",
    "    return population_list\n",
    "\n",
    "\n",
    "def comparsion(chrom_fit, total_chromosome):\n",
    "    Tbest_current = 99999999999 # population中最好的染色體\n",
    "    for i in range(population_size*2):\n",
    "        if chrom_fit[i] < Tbest_current: # 找出population中最小的itness\n",
    "            Tbest_current = chrom_fit[i] \n",
    "            sequence_current = total_chromosome[i].copy() # 儲存population中有最小fitness的染色體\n",
    "    return Tbest_current, sequence_current"
   ]
  },
  {
   "cell_type": "code",
   "execution_count": 10,
   "id": "ff4bb79a-05cd-4795-8659-9b9a6cec2483",
   "metadata": {},
   "outputs": [],
   "source": [
    "# parameter\n",
    "population_size = 100\n",
    "num_iteration = 3000\n",
    "crossover_rate = 0.9\n",
    "mutation_rate = 0.1\n",
    "mutation_selection_rate = 0.1\n",
    "num_mutation_jobs = round(num_gene*mutation_selection_rate)\n",
    "\n",
    "\n",
    "Tbest = 999999999999999\n",
    "makespan_record = []\n",
    "start_time = time.time()\n",
    "# generate initial population\n",
    "population_list = inital_population(population_size = population_size)\n",
    "# population_list\n"
   ]
  },
  {
   "cell_type": "code",
   "execution_count": 11,
   "id": "ea3c9a09-6b82-4617-98a8-1cbf6d435d1d",
   "metadata": {},
   "outputs": [
    {
     "data": {
      "application/vnd.jupyter.widget-view+json": {
       "model_id": "018770e7d42a48a7bf66f983825605b8",
       "version_major": 2,
       "version_minor": 0
      },
      "text/plain": [
       "  0%|          | 0/3000 [00:00<?, ?it/s]"
      ]
     },
     "metadata": {},
     "output_type": "display_data"
    },
    {
     "name": "stdout",
     "output_type": "stream",
     "text": [
      "optimal solution [2, 5, 4, 1, 7, 6, 4, 5, 4, 9, 9, 9, 6, 7, 8, 9, 1, 2, 5, 1, 9, 3, 8, 0, 4, 3, 2, 4, 7, 3, 9, 4, 0, 0, 9, 8, 2, 2, 3, 5, 2, 0, 7, 3, 5, 9, 4, 2, 7, 6, 8, 1, 5, 6, 0, 9, 6, 8, 7, 6, 2, 7, 8, 9, 2, 1, 3, 8, 5, 1, 2, 6, 0, 8, 5, 0, 3, 4, 5, 3, 0, 8, 6, 7, 4, 1, 6, 3, 7, 0, 0, 8, 4, 1, 5, 6, 3, 1, 7, 1]\n",
      "optimal makespan: 972\n"
     ]
    },
    {
     "data": {
      "image/png": "[encoded data removed]",
      "text/plain": [
       "<Figure size 640x480 with 1 Axes>"
      ]
     },
     "metadata": {},
     "output_type": "display_data"
    },
    {
     "name": "stdout",
     "output_type": "stream",
     "text": [
      "CPU times: user 1min 49s, sys: 368 ms, total: 1min 49s\n",
      "Wall time: 1min 48s\n"
     ]
    }
   ],
   "source": [
    "%%time\n",
    "\n",
    "best_gene_history: list = []\n",
    "\n",
    "# Genetic_Algorithm \n",
    "for iter in tqdm(range(num_iteration)):\n",
    "    # generate offspring by crossover\n",
    "    parent_list, offspring_list = crossover(population_list=population_list, crossover_rate=crossover_rate)\n",
    "\n",
    "    # offspring repairment\n",
    "    offspring_list = repairmet(offspring_list)\n",
    "\n",
    "    # offspring mutation\n",
    "    offspring_list = mutation(offspring_list,mutation_rate = mutation_rate, num_mutation_jobs = num_mutation_jobs)\n",
    "\n",
    "    # all chromosome：parent and offspring\n",
    "    total_chromosome = parent_list.copy() + offspring_list.copy()\n",
    "\n",
    "    # calculate fitness for each chromosome\n",
    "    # chrom_fit, chrom_fitness, total_fitness, = fitness_caculate(total_chromosome)\n",
    "    chrom_fit, chrom_fitness, total_fitness = fitness_caculate(total_chromosome)\n",
    "\n",
    "    # select the new population\n",
    "    population_list = selection(chrom_fitness, total_fitness, total_chromosome, population_list)\n",
    "\n",
    "    # comparision \n",
    "    Tbest_current, sequence_current = comparsion(chrom_fit, total_chromosome)\n",
    "    # 將目前這代population中最好的染色體，與迭代過程中最好的比較\n",
    "    # 現在の世代の集団で最も優れた染色体を、反復プロセスで最も優れた染色体と比較します。\n",
    "    if Tbest_current <= Tbest:\n",
    "        Tbest = Tbest_current\n",
    "        sequence_best = sequence_current.copy()\n",
    "        best_gene_history.append(sequence_best)\n",
    "\n",
    "    makespan_record.append(Tbest)\n",
    "    \n",
    "\n",
    "\"\"\"----------result----------\"\"\"\n",
    "# Genetic_Algorithm()\n",
    "print(\"optimal solution\",sequence_best)\n",
    "print(\"optimal makespan:\",Tbest)\n",
    "\n",
    "\n",
    "plt.plot([i for i in range(len(makespan_record))],makespan_record,\"b\")\n",
    "plt.ylabel(\"makespan\", fontsize=15)\n",
    "plt.xlabel(\"iteraion\", fontsize=15)\n",
    "plt.show()\n"
   ]
  },
  {
   "cell_type": "code",
   "execution_count": 34,
   "id": "b5bf6ae0-1c64-4ea4-8c43-22603e1b8322",
   "metadata": {},
   "outputs": [
    {
     "data": {
      "text/plain": [
       "(100, 100, True)"
      ]
     },
     "execution_count": 34,
     "metadata": {},
     "output_type": "execute_result"
    }
   ],
   "source": [
    "len(sequence_best), len(best_gene_history[-1]), sequence_best == best_gene_history[-1]"
   ]
  },
  {
   "cell_type": "code",
   "execution_count": null,
   "id": "fc8e7c9d-e578-4537-91e6-1b371595fae3",
   "metadata": {},
   "outputs": [],
   "source": [
    "def prepare_gannt_data_from(\n",
    "    m_keys: list[int], j_keys: list[int], sequence_best: list[int]\n",
    ") -> dict:\n",
    "    key_count = {key: 0 for key in j_keys}\n",
    "    j_count = {key: 0 for key in j_keys}\n",
    "    m_count = {key: 0 for key in m_keys}\n",
    "    j_record = {}\n",
    "    \n",
    "    for i in sequence_best:\n",
    "        gen_t: int = int(pt[i][key_count[i]])\n",
    "        gen_m: int = int(ms[i][key_count[i]])\n",
    "        j_count[i] = j_count[i] + gen_t\n",
    "        m_count[gen_m] = m_count[gen_m] + gen_t\n",
    "        \n",
    "        if m_count[gen_m] < j_count[i]:\n",
    "            m_count[gen_m] = j_count[i]\n",
    "        elif m_count[gen_m] > j_count[i]:\n",
    "            j_count[i] = m_count[gen_m]\n",
    "    \n",
    "        # convert seconds to hours, minutes and seconds\n",
    "        start_time: str = str(datetime.timedelta(seconds=j_count[i] - pt[i][key_count[i]]))\n",
    "        end_time: str = str(datetime.timedelta(seconds=j_count[i]))\n",
    "            \n",
    "        j_record[(i, gen_m)] = [start_time, end_time]\n",
    "        \n",
    "        key_count[i] = key_count[i] + 1\n",
    "\n",
    "    return j_record\n",
    "\n",
    "\n",
    "def format_gannt_data(m_keys: list[int], j_keys: list[int], j_record):\n",
    "    frame_dicts = []\n",
    "    for m in m_keys:\n",
    "        for j in j_keys:\n",
    "            frame_dicts.append(dict(\n",
    "                Task=\"Machine %s\"%(m),\n",
    "                Start=\"2023-10-15 %s\"%(str(j_record[(j, m)][0])),\n",
    "                Finish=\"2023-10-15 %s\"%(str(j_record[(j, m)][1])),\n",
    "                Resource=\"Job %s\"%(j+1))\n",
    "            )\n",
    "            # df.append(dict(Task=\"Machine %s\"%(m), Start=\"2018-07-14 %s\"%(str(j_record[(j,m)][0])), Finish=\"2018-07-14 %s\"%(str(j_record[(j,m)][1])),Resource=\"Job %s\"%(j+1)))\n",
    "    return frame_dicts\n",
    "\n",
    "\n",
    "m_keys = [j + 1 for j in range(num_machine)]\n",
    "j_keys = [j for j in range(num_job)]\n",
    "j_record: dict = prepare_gannt_data_from(m_keys, j_keys, sequence_best)\n",
    "\n",
    "frame_dicts: list[dict] = format_gannt_data(m_keys, j_keys, j_record)\n",
    "fig = ff.create_gantt(\n",
    "    frame_dicts, index_col=\"Resource\",\n",
    "    show_colorbar=True, group_tasks=True, showgrid_x=True, title=\"Job shop Schedule\"\n",
    ")\n",
    "# iplot(fig, filename=\"GA_job_shop_scheduling\")\n",
    "fig"
   ]
  },
  {
   "cell_type": "code",
   "execution_count": 129,
   "id": "66f8ac39-6028-4e9a-86e2-b6581a15eb40",
   "metadata": {},
   "outputs": [],
   "source": [
    "# initial_gene = best_gene_history[0]"
   ]
  },
  {
   "cell_type": "markdown",
   "id": "bf9262c2-9957-45fb-a4a7-1a08c63294ab",
   "metadata": {},
   "source": [
    "# Animation"
   ]
  },
  {
   "cell_type": "code",
   "execution_count": 13,
   "id": "d8fb4948-86ee-4cb7-aa5c-fcabce0a210a",
   "metadata": {},
   "outputs": [
    {
     "data": {
      "application/vnd.jupyter.widget-view+json": {
       "model_id": "9cefd2e69a5c44a6a0545e51c180e6e0",
       "version_major": 2,
       "version_minor": 0
      },
      "text/plain": [
       "  0%|          | 0/35 [00:00<?, ?it/s]"
      ]
     },
     "metadata": {},
     "output_type": "display_data"
    }
   ],
   "source": [
    "import io\n",
    "import numpy as np\n",
    "import plotly\n",
    "from PIL import Image\n",
    "from parapara import play_anim\n",
    "\n",
    "\n",
    "def plotly_fig2array(fig: plotly.graph_objs.Figure, width: int, height: int):\n",
    "    # convert Plotly fig to an array\n",
    "    if (width is not None) and (height is not None):\n",
    "        fig_bytes = fig.to_image(format=\"png\", width=width, height=height)\n",
    "    else:\n",
    "        fig_bytes = fig.to_image(format=\"png\")\n",
    "    buf = io.BytesIO(fig_bytes)\n",
    "    img = Image.open(buf)\n",
    "    return np.asarray(img)\n",
    "\n",
    "\n",
    "numpy_frames = []\n",
    "best_gene_history.append(sequence_best)\n",
    "for gene in tqdm(best_gene_history):\n",
    "    j_record_: dict = prepare_gannt_data_from(m_keys, j_keys, gene)\n",
    "    frame_dicts_: list[dict] = format_gannt_data(m_keys, j_keys, j_record_)\n",
    "    fig_ = ff.create_gantt(\n",
    "        frame_dicts_, index_col=\"Resource\",\n",
    "        show_colorbar=True, group_tasks=True, showgrid_x=True, title=\"Job shop Schedule\"\n",
    "    )\n",
    "    numpy_array = plotly_fig2array(fig_, 1000, 500)\n",
    "    numpy_frames.append(numpy_array)\n",
    "\n"
   ]
  },
  {
   "cell_type": "code",
   "execution_count": null,
   "id": "2d290bde-a380-4294-8e94-1fcbdb330e40",
   "metadata": {},
   "outputs": [],
   "source": [
    "play_anim(numpy_frames)\n"
   ]
  }
 ],
 "metadata": {
  "kernelspec": {
   "display_name": "Python 3 (ipykernel)",
   "language": "python",
   "name": "python3"
  },
  "language_info": {
   "codemirror_mode": {
    "name": "ipython",
    "version": 3
   },
   "file_extension": ".py",
   "mimetype": "text/x-python",
   "name": "python",
   "nbconvert_exporter": "python",
   "pygments_lexer": "ipython3",
   "version": "3.11.9"
  }
 },
 "nbformat": 4,
 "nbformat_minor": 5
}
