{
 "cells": [
  {
   "cell_type": "code",
   "execution_count": 1,
   "id": "0ca72b56-9dc4-4fb0-a083-50720c5a6c80",
   "metadata": {},
   "outputs": [],
   "source": [
    "\"\"\"Minimal jobshop example.\"\"\"\n",
    "import collections\n",
    "from ortools.sat.python import cp_model\n"
   ]
  },
  {
   "cell_type": "code",
   "execution_count": 2,
   "id": "d13da59f-746e-4820-9d7d-c7b8e2ade4c6",
   "metadata": {},
   "outputs": [],
   "source": [
    "# Job情報\n",
    "jobs_data = [  # task = (machine_id, processing_time).\n",
    "    [(0, 3), (1, 2), (2, 2)],  # Job0\n",
    "    [(0, 2), (2, 1), (1, 4)],  # Job1\n",
    "    [(1, 4), (2, 3)],  # Job2\n",
    "    [(1, 2), (0, 1), (2, 4)],  # Job3\n",
    "    [(2, 1), (0, 2), (1, 1)],  # Job4\n",
    "]\n",
    "\n",
    "# Machineの数\n",
    "machines_count = 1 + max(task[0] for job in jobs_data for task in job)\n",
    "all_machines = range(machines_count)\n",
    "\n",
    "# Taskの合計時間\n",
    "horizon = sum(task[1] for job in jobs_data for task in job)\n",
    "\n",
    "# モデルの作成\n",
    "model = cp_model.CpModel()"
   ]
  },
  {
   "cell_type": "code",
   "execution_count": 3,
   "id": "4dceae49-f56d-4ecf-acbf-78574b17e59c",
   "metadata": {},
   "outputs": [],
   "source": [
    "# Taskの種類\n",
    "task_type = collections.namedtuple('task_type', 'start end interval')\n",
    "\n",
    "# 解取り回し用\n",
    "assigned_task_type = collections.namedtuple('assigned_task_type',\n",
    "                                            'start job index duration')\n",
    "\n",
    "# ジョブタスクの処理時間\n",
    "all_tasks = {}\n",
    "machine_to_intervals = collections.defaultdict(list)\n",
    "\n",
    "# 開始、終了、処理時間変数を作成\n",
    "for job_id, job in enumerate(jobs_data):\n",
    "    for task_id, task in enumerate(job):\n",
    "        machine = task[0]\n",
    "        duration = task[1]\n",
    "        suffix = '_%i_%i' % (job_id, task_id)\n",
    "        start_var = model.NewIntVar(0, horizon, 'start' + suffix)\n",
    "        end_var = model.NewIntVar(0, horizon, 'end' + suffix)\n",
    "        interval_var = model.NewIntervalVar(start_var, duration, end_var,\n",
    "                                            'interval' + suffix)\n",
    "        all_tasks[job_id, task_id] = task_type(start=start_var,\n",
    "                                               end=end_var,\n",
    "                                               interval=interval_var)\n",
    "        machine_to_intervals[machine].append(interval_var)\n"
   ]
  },
  {
   "cell_type": "code",
   "execution_count": 4,
   "id": "24d771c1-3d54-492d-abb4-246e28cb1306",
   "metadata": {},
   "outputs": [],
   "source": [
    "# 重複無の制約を追加\n",
    "for machine in all_machines:\n",
    "    model.AddNoOverlap(machine_to_intervals[machine])\n",
    "\n",
    "# 実行順序の制約を追加\n",
    "for job_id, job in enumerate(jobs_data):\n",
    "    for task_id in range(len(job) - 1):\n",
    "        model.Add(all_tasks[job_id, task_id +\n",
    "                            1].start >= all_tasks[job_id, task_id].end)"
   ]
  },
  {
   "cell_type": "code",
   "execution_count": 10,
   "id": "a1ccf645-e31f-4e72-9b3d-a1fae63d968f",
   "metadata": {},
   "outputs": [
    {
     "name": "stdout",
     "output_type": "stream",
     "text": [
      "\n",
      "Statistics\n",
      "  - conflicts: 1\n",
      "  - branches : 25\n",
      "  - wall time: 0.005227561s\n"
     ]
    }
   ],
   "source": [
    "# 目的関数\n",
    "obj_var = model.NewIntVar(0, horizon, 'makespan')\n",
    "model.AddMaxEquality(obj_var, [\n",
    "    all_tasks[job_id, len(job) - 1].end\n",
    "    for job_id, job in enumerate(jobs_data)\n",
    "])\n",
    "model.Minimize(obj_var)\n",
    "\n",
    "\n",
    "solver = cp_model.CpSolver()\n",
    "status = solver.Solve(model)\n",
    "\n",
    "\n",
    "# Statistics.\n",
    "print(\"\\nStatistics\")\n",
    "print(f\"  - conflicts: {solver.NumConflicts()}\")\n",
    "print(f\"  - branches : {solver.NumBranches()}\")\n",
    "print(f\"  - wall time: {solver.WallTime()}s\")"
   ]
  },
  {
   "cell_type": "code",
   "execution_count": 11,
   "id": "938f18da-fbad-4bd7-8a3f-82b1c852697e",
   "metadata": {},
   "outputs": [
    {
     "name": "stdout",
     "output_type": "stream",
     "text": [
      "Solution:\n",
      "Optimal Schedule Length: 13.0\n",
      "Machine 0: job_1_task_0   job_3_task_1   job_0_task_0   job_4_task_1   \n",
      "           [0,2]          [2,3]          [3,6]          [6,8]          \n",
      "Machine 1: job_3_task_0   job_2_task_0   job_0_task_1   job_4_task_2   job_1_task_2   \n",
      "           [0,2]          [2,6]          [6,8]          [8,9]          [9,13]         \n",
      "Machine 2: job_4_task_0   job_1_task_1   job_3_task_2   job_2_task_1   job_0_task_2   \n",
      "           [0,1]          [2,3]          [3,7]          [7,10]         [10,12]        \n",
      "\n"
     ]
    }
   ],
   "source": [
    "if status == cp_model.OPTIMAL or status == cp_model.FEASIBLE:\n",
    "    print('Solution:')\n",
    "    # Machine毎に割当てられたTaskのリストを作成\n",
    "    assigned_jobs = collections.defaultdict(list)\n",
    "    for job_id, job in enumerate(jobs_data):\n",
    "        for task_id, task in enumerate(job):\n",
    "            machine = task[0]\n",
    "            assigned_jobs[machine].append(\n",
    "                assigned_task_type(start=solver.Value(\n",
    "                    all_tasks[job_id, task_id].start),\n",
    "                                   job=job_id,\n",
    "                                   index=task_id,\n",
    "                                   duration=task[1]))\n",
    "\n",
    "    # Machine毎のOutputを作成\n",
    "    output = ''\n",
    "    for machine in all_machines:\n",
    "        # 開始時間でソート\n",
    "        assigned_jobs[machine].sort()\n",
    "        sol_line_tasks = 'Machine ' + str(machine) + ': '\n",
    "        sol_line = '           '\n",
    "\n",
    "        for assigned_task in assigned_jobs[machine]:\n",
    "            name = 'job_%i_task_%i' % (assigned_task.job,\n",
    "                                       assigned_task.index)\n",
    "            # スペース挿入\n",
    "            sol_line_tasks += '%-15s' % name\n",
    "\n",
    "            start = assigned_task.start\n",
    "            duration = assigned_task.duration\n",
    "            sol_tmp = '[%i,%i]' % (start, start + duration)\n",
    "            # スペース挿入\n",
    "            sol_line += '%-15s' % sol_tmp\n",
    "\n",
    "        sol_line += '\\n'\n",
    "        sol_line_tasks += '\\n'\n",
    "        output += sol_line_tasks\n",
    "        output += sol_line\n",
    "\n",
    "    print(f'Optimal Schedule Length: {solver.ObjectiveValue()}')\n",
    "    print(output)\n",
    "else:\n",
    "    print('No solution found.')"
   ]
  }
 ],
 "metadata": {
  "kernelspec": {
   "display_name": "Python 3 (ipykernel)",
   "language": "python",
   "name": "python3"
  },
  "language_info": {
   "codemirror_mode": {
    "name": "ipython",
    "version": 3
   },
   "file_extension": ".py",
   "mimetype": "text/x-python",
   "name": "python",
   "nbconvert_exporter": "python",
   "pygments_lexer": "ipython3",
   "version": "3.11.9"
  }
 },
 "nbformat": 4,
 "nbformat_minor": 5
}
